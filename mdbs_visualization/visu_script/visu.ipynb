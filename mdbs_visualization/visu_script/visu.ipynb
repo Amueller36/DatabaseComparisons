{
 "cells": [
  {
   "cell_type": "markdown",
   "metadata": {},
   "source": [
    "### Imports"
   ]
  },
  {
   "cell_type": "code",
   "metadata": {
    "ExecuteTime": {
     "end_time": "2025-06-23T11:53:27.931781Z",
     "start_time": "2025-06-23T11:53:27.778111Z"
    }
   },
   "source": [
    "import sys\n",
    "\n",
    "from matplotlib.pyplot import tick_params\n",
    "\n",
    "sys.path.append(r\"C:\\Users\\Sensei\\DataGripProjects\\DatabaseComparisons\\mdbs_visualization\")\n",
    "import pandas as pd\n",
    "import plotly.express as px\n",
    "import plotly.graph_objects as go\n",
    "from plotly.subplots import make_subplots\n",
    "import plotly.io as pio\n",
    "\n",
    "import seaborn as sns\n",
    "\n",
    "pal = sns.color_palette(\"deep\").as_hex()\n",
    "px.defaults.color_discrete_sequence = pal\n",
    "\n",
    "px.defaults.template = \"seaborn\""
   ],
   "outputs": [],
   "execution_count": 1
  },
  {
   "cell_type": "code",
   "metadata": {
    "ExecuteTime": {
     "end_time": "2025-06-23T11:53:27.944275Z",
     "start_time": "2025-06-23T11:53:27.940017Z"
    }
   },
   "source": [
    "from visu_script import parse_files as pf"
   ],
   "outputs": [],
   "execution_count": 2
  },
  {
   "cell_type": "markdown",
   "metadata": {},
   "source": [
    "### Parameters"
   ]
  },
  {
   "cell_type": "code",
   "metadata": {
    "ExecuteTime": {
     "end_time": "2025-06-23T11:53:27.950399Z",
     "start_time": "2025-06-23T11:53:27.947795Z"
    }
   },
   "source": [
    "FILES_PATH = r\"C:\\Users\\Sensei\\DataGripProjects\\DatabaseComparisons\\mdbs_visualization\\results_no_bulk_importing_with_container_restart\"\n",
    "FILES_PATH_UC7 = r\"C:\\Users\\Sensei\\Downloads\\MDS\\results\""
   ],
   "outputs": [],
   "execution_count": 3
  },
  {
   "cell_type": "code",
   "metadata": {
    "ExecuteTime": {
     "end_time": "2025-06-23T11:53:27.957471Z",
     "start_time": "2025-06-23T11:53:27.953409Z"
    }
   },
   "source": [
    "OUTPUT_PATH = r\"C:\\Users\\Sensei\\DataGripProjects\\DatabaseComparisons\\mdbs_visualization\\visu_script\\svgs\\\\\""
   ],
   "outputs": [],
   "execution_count": 4
  },
  {
   "cell_type": "markdown",
   "metadata": {},
   "source": [
    "### Code"
   ]
  },
  {
   "cell_type": "code",
   "metadata": {
    "ExecuteTime": {
     "end_time": "2025-06-23T11:53:28.335170Z",
     "start_time": "2025-06-23T11:53:28.294245Z"
    }
   },
   "source": [
    "case_db_run_instances = pf.get_usecase_instances(FILES_PATH)"
   ],
   "outputs": [],
   "execution_count": 5
  },
  {
   "cell_type": "code",
   "metadata": {
    "ExecuteTime": {
     "end_time": "2025-06-23T11:53:28.360752Z",
     "start_time": "2025-06-23T11:53:28.348891Z"
    }
   },
   "source": [
    "# Assume case_db_run_instances is already populated (as in your parsing code).\n",
    "records = []\n",
    "for run in case_db_run_instances:\n",
    "    records.append({\n",
    "        \"database\": run.database,\n",
    "        \"timestamp\": run.timestamp,                # datetime\n",
    "        \"usecase\": run.usecase,                   # integer (e.g. 1, 2, 3…)\n",
    "        \"usecase_full_name\": run.usecase_full_name,\n",
    "        \"execution_time_s\": run.execution_time,\n",
    "        \"execution_time_ms\": run.execution_time_ms,\n",
    "        \"avg_cpu_percent\": run.avg_cpu_percent,\n",
    "        \"peak_cpu_percent\": run.peak_cpu_percent,\n",
    "        \"avg_mem_mb\": run.avg_mem_mb,\n",
    "        \"peak_mem_mb\": run.peak_mem_mb\n",
    "    })\n",
    "\n",
    "df = pd.DataFrame(records)\n",
    "# If you want to sort or index by timestamp:\n",
    "df = df.sort_values(\"timestamp\").reset_index(drop=True)"
   ],
   "outputs": [],
   "execution_count": 6
  },
  {
   "cell_type": "markdown",
   "metadata": {},
   "source": [
    "### Plot1: Box‐Plot: Distribution of Execution Time by Database"
   ]
  },
  {
   "cell_type": "code",
   "metadata": {
    "ExecuteTime": {
     "end_time": "2025-06-23T11:53:32.752802Z",
     "start_time": "2025-06-23T11:53:28.373733Z"
    }
   },
   "source": [
    "fig = px.box(\n",
    "    df,\n",
    "    x=\"database\",\n",
    "    y=\"execution_time_s\",\n",
    "    color=\"database\",\n",
    "    points=\"all\", \n",
    "    title=\"Execution‐Time Distribution by Database across all usecases\"\n",
    ")\n",
    "fig.update_layout(\n",
    "    title={\n",
    "        'x': 0.5,\n",
    "        'xanchor': 'center'\n",
    "    },\n",
    "    xaxis_title=\"Database System\",\n",
    "    yaxis_title=\"Execution Time (seconds)\"\n",
    ")\n",
    "fig.write_image(f\"{OUTPUT_PATH}exec-time-by-database-avg.svg\")"
   ],
   "outputs": [],
   "execution_count": 7
  },
  {
   "cell_type": "markdown",
   "metadata": {},
   "source": [
    "### Plot2: Line‐Plot Over Time: How Execution Time Evolves"
   ]
  },
  {
   "cell_type": "code",
   "metadata": {
    "ExecuteTime": {
     "end_time": "2025-06-23T11:53:33.346197Z",
     "start_time": "2025-06-23T11:53:32.771333Z"
    }
   },
   "source": [
    "# Example: pick a single usecase (e.g. usecase 1). You can loop or facet later.\n",
    "\n",
    "desc = {\n",
    "    1 : \"Usecase 1 Filtering Query\",\n",
    "    2 : \"Usecase 2 Bulk Update\",\n",
    "    3 : \"Usecase 3 Schema Evolution\",\n",
    "    4 : \"Usecase 4 Analytical Query\",\n",
    "    5 : \"Usecase 5 Aggregation\",\n",
    "    6 : \"Usecase 6 Filtering Query\"\n",
    "}\n",
    "\n",
    "for uc, ucname in desc.items():\n",
    "    plot_title = f\"Average Execution Time for {ucname} Over Time\"\n",
    "    df_uc = df[df[\"usecase\"] == uc].copy()\n",
    "\n",
    "    # Group by date (or exact timestamp) & database\n",
    "    # If you want to aggregate per‐day rather than per‐timestamp, extract date:\n",
    "    df_uc[\"date_only\"] = df_uc[\"timestamp\"].dt.date\n",
    "\n",
    "    # Compute mean execution_time per database per day:\n",
    "    grouped = (\n",
    "        df_uc\n",
    "        .groupby([\"date_only\", \"database\"])\n",
    "        .execution_time_s\n",
    "        .mean()\n",
    "        .reset_index(name=\"mean_exec_time_s\")\n",
    "    )\n",
    "\n",
    "    fig = px.line(\n",
    "        grouped,\n",
    "        x=\"date_only\",\n",
    "        y=\"mean_exec_time_s\",\n",
    "        color=\"database\",\n",
    "        markers=True,\n",
    "        title=plot_title\n",
    "    )\n",
    "    fig.update_layout(\n",
    "        title={\n",
    "            'text': plot_title,\n",
    "            'x': 0.5,\n",
    "            'xanchor': 'center'\n",
    "        },\n",
    "        xaxis_title=\"Date\",\n",
    "        yaxis_title=\"Average Execution Time (s)\"\n",
    "    )\n",
    "\n",
    "    fig.update_layout(\n",
    "    yaxis=dict(rangemode='tozero')\n",
    ")\n",
    "    fig.write_image(f\"{OUTPUT_PATH}{ucname}.png\")\n",
    "    fig.show()"
   ],
   "outputs": [
    {
     "data": {
      "application/vnd.plotly.v1+json": {
       "data": [
        {
         "hovertemplate": "database=clickhouse<br>date_only=%{x}<br>mean_exec_time_s=%{y}<extra></extra>",
         "legendgroup": "clickhouse",
         "line": {
          "color": "#4c72b0",
          "dash": "solid"
         },
         "marker": {
          "symbol": "circle"
         },
         "mode": "lines+markers",
         "name": "clickhouse",
         "orientation": "v",
         "showlegend": true,
         "x": [
          "2025-06-12",
          "2025-06-13",
          "2025-06-14",
          "2025-06-15",
          "2025-06-16",
          "2025-06-17",
          "2025-06-18"
         ],
         "xaxis": "x",
         "y": {
          "dtype": "f8",
          "bdata": "GQRWDi3CEEBxPQrXo3AQQIjPsCtArhBAQacNdNoAEUAREREREdEQQPhT46WbZBFAPnlYqDXNEEA="
         },
         "yaxis": "y",
         "type": "scatter"
        },
        {
         "hovertemplate": "database=mongodb<br>date_only=%{x}<br>mean_exec_time_s=%{y}<extra></extra>",
         "legendgroup": "mongodb",
         "line": {
          "color": "#dd8452",
          "dash": "solid"
         },
         "marker": {
          "symbol": "circle"
         },
         "mode": "lines+markers",
         "name": "mongodb",
         "orientation": "v",
         "showlegend": true,
         "x": [
          "2025-06-12",
          "2025-06-13",
          "2025-06-14",
          "2025-06-15",
          "2025-06-16",
          "2025-06-17",
          "2025-06-18"
         ],
         "xaxis": "x",
         "y": {
          "dtype": "f8",
          "bdata": "fT81Xrq9NEAQWDm0yK40QC2yne+nzjNAUyrOPnw+NEBfcyFpSu0zQCD3mgtJgzNAPldbsb/MMkA="
         },
         "yaxis": "y",
         "type": "scatter"
        },
        {
         "hovertemplate": "database=postgres<br>date_only=%{x}<br>mean_exec_time_s=%{y}<extra></extra>",
         "legendgroup": "postgres",
         "line": {
          "color": "#55a868",
          "dash": "solid"
         },
         "marker": {
          "symbol": "circle"
         },
         "mode": "lines+markers",
         "name": "postgres",
         "orientation": "v",
         "showlegend": true,
         "x": [
          "2025-06-12",
          "2025-06-13",
          "2025-06-14",
          "2025-06-15",
          "2025-06-16",
          "2025-06-17",
          "2025-06-18"
         ],
         "xaxis": "x",
         "y": {
          "dtype": "f8",
          "bdata": "wvUoXI9SKED3mgtJU9ooQDSl4uzD1ydAB4GVQ4vsJ0B8hl0Bcs8nQMP1KFyP8iZAHqfoSC6/JkA="
         },
         "yaxis": "y",
         "type": "scatter"
        }
       ],
       "layout": {
        "template": {
         "data": {
          "barpolar": [
           {
            "marker": {
             "line": {
              "color": "rgb(234,234,242)",
              "width": 0.5
             },
             "pattern": {
              "fillmode": "overlay",
              "size": 10,
              "solidity": 0.2
             }
            },
            "type": "barpolar"
           }
          ],
          "bar": [
           {
            "error_x": {
             "color": "rgb(36,36,36)"
            },
            "error_y": {
             "color": "rgb(36,36,36)"
            },
            "marker": {
             "line": {
              "color": "rgb(234,234,242)",
              "width": 0.5
             },
             "pattern": {
              "fillmode": "overlay",
              "size": 10,
              "solidity": 0.2
             }
            },
            "type": "bar"
           }
          ],
          "carpet": [
           {
            "aaxis": {
             "endlinecolor": "rgb(36,36,36)",
             "gridcolor": "white",
             "linecolor": "white",
             "minorgridcolor": "white",
             "startlinecolor": "rgb(36,36,36)"
            },
            "baxis": {
             "endlinecolor": "rgb(36,36,36)",
             "gridcolor": "white",
             "linecolor": "white",
             "minorgridcolor": "white",
             "startlinecolor": "rgb(36,36,36)"
            },
            "type": "carpet"
           }
          ],
          "choropleth": [
           {
            "colorbar": {
             "outlinewidth": 0,
             "tickcolor": "rgb(36,36,36)",
             "ticklen": 8,
             "ticks": "outside",
             "tickwidth": 2
            },
            "type": "choropleth"
           }
          ],
          "contourcarpet": [
           {
            "colorbar": {
             "outlinewidth": 0,
             "tickcolor": "rgb(36,36,36)",
             "ticklen": 8,
             "ticks": "outside",
             "tickwidth": 2
            },
            "type": "contourcarpet"
           }
          ],
          "contour": [
           {
            "colorbar": {
             "outlinewidth": 0,
             "tickcolor": "rgb(36,36,36)",
             "ticklen": 8,
             "ticks": "outside",
             "tickwidth": 2
            },
            "colorscale": [
             [
              0.0,
              "rgb(2,4,25)"
             ],
             [
              0.06274509803921569,
              "rgb(24,15,41)"
             ],
             [
              0.12549019607843137,
              "rgb(47,23,57)"
             ],
             [
              0.18823529411764706,
              "rgb(71,28,72)"
             ],
             [
              0.25098039215686274,
              "rgb(97,30,82)"
             ],
             [
              0.3137254901960784,
              "rgb(123,30,89)"
             ],
             [
              0.3764705882352941,
              "rgb(150,27,91)"
             ],
             [
              0.4392156862745098,
              "rgb(177,22,88)"
             ],
             [
              0.5019607843137255,
              "rgb(203,26,79)"
             ],
             [
              0.5647058823529412,
              "rgb(223,47,67)"
             ],
             [
              0.6274509803921569,
              "rgb(236,76,61)"
             ],
             [
              0.6901960784313725,
              "rgb(242,107,73)"
             ],
             [
              0.7529411764705882,
              "rgb(244,135,95)"
             ],
             [
              0.8156862745098039,
              "rgb(245,162,122)"
             ],
             [
              0.8784313725490196,
              "rgb(246,188,153)"
             ],
             [
              0.9411764705882353,
              "rgb(247,212,187)"
             ],
             [
              1.0,
              "rgb(250,234,220)"
             ]
            ],
            "type": "contour"
           }
          ],
          "heatmap": [
           {
            "colorbar": {
             "outlinewidth": 0,
             "tickcolor": "rgb(36,36,36)",
             "ticklen": 8,
             "ticks": "outside",
             "tickwidth": 2
            },
            "colorscale": [
             [
              0.0,
              "rgb(2,4,25)"
             ],
             [
              0.06274509803921569,
              "rgb(24,15,41)"
             ],
             [
              0.12549019607843137,
              "rgb(47,23,57)"
             ],
             [
              0.18823529411764706,
              "rgb(71,28,72)"
             ],
             [
              0.25098039215686274,
              "rgb(97,30,82)"
             ],
             [
              0.3137254901960784,
              "rgb(123,30,89)"
             ],
             [
              0.3764705882352941,
              "rgb(150,27,91)"
             ],
             [
              0.4392156862745098,
              "rgb(177,22,88)"
             ],
             [
              0.5019607843137255,
              "rgb(203,26,79)"
             ],
             [
              0.5647058823529412,
              "rgb(223,47,67)"
             ],
             [
              0.6274509803921569,
              "rgb(236,76,61)"
             ],
             [
              0.6901960784313725,
              "rgb(242,107,73)"
             ],
             [
              0.7529411764705882,
              "rgb(244,135,95)"
             ],
             [
              0.8156862745098039,
              "rgb(245,162,122)"
             ],
             [
              0.8784313725490196,
              "rgb(246,188,153)"
             ],
             [
              0.9411764705882353,
              "rgb(247,212,187)"
             ],
             [
              1.0,
              "rgb(250,234,220)"
             ]
            ],
            "type": "heatmap"
           }
          ],
          "histogram2dcontour": [
           {
            "colorbar": {
             "outlinewidth": 0,
             "tickcolor": "rgb(36,36,36)",
             "ticklen": 8,
             "ticks": "outside",
             "tickwidth": 2
            },
            "colorscale": [
             [
              0.0,
              "rgb(2,4,25)"
             ],
             [
              0.06274509803921569,
              "rgb(24,15,41)"
             ],
             [
              0.12549019607843137,
              "rgb(47,23,57)"
             ],
             [
              0.18823529411764706,
              "rgb(71,28,72)"
             ],
             [
              0.25098039215686274,
              "rgb(97,30,82)"
             ],
             [
              0.3137254901960784,
              "rgb(123,30,89)"
             ],
             [
              0.3764705882352941,
              "rgb(150,27,91)"
             ],
             [
              0.4392156862745098,
              "rgb(177,22,88)"
             ],
             [
              0.5019607843137255,
              "rgb(203,26,79)"
             ],
             [
              0.5647058823529412,
              "rgb(223,47,67)"
             ],
             [
              0.6274509803921569,
              "rgb(236,76,61)"
             ],
             [
              0.6901960784313725,
              "rgb(242,107,73)"
             ],
             [
              0.7529411764705882,
              "rgb(244,135,95)"
             ],
             [
              0.8156862745098039,
              "rgb(245,162,122)"
             ],
             [
              0.8784313725490196,
              "rgb(246,188,153)"
             ],
             [
              0.9411764705882353,
              "rgb(247,212,187)"
             ],
             [
              1.0,
              "rgb(250,234,220)"
             ]
            ],
            "type": "histogram2dcontour"
           }
          ],
          "histogram2d": [
           {
            "colorbar": {
             "outlinewidth": 0,
             "tickcolor": "rgb(36,36,36)",
             "ticklen": 8,
             "ticks": "outside",
             "tickwidth": 2
            },
            "colorscale": [
             [
              0.0,
              "rgb(2,4,25)"
             ],
             [
              0.06274509803921569,
              "rgb(24,15,41)"
             ],
             [
              0.12549019607843137,
              "rgb(47,23,57)"
             ],
             [
              0.18823529411764706,
              "rgb(71,28,72)"
             ],
             [
              0.25098039215686274,
              "rgb(97,30,82)"
             ],
             [
              0.3137254901960784,
              "rgb(123,30,89)"
             ],
             [
              0.3764705882352941,
              "rgb(150,27,91)"
             ],
             [
              0.4392156862745098,
              "rgb(177,22,88)"
             ],
             [
              0.5019607843137255,
              "rgb(203,26,79)"
             ],
             [
              0.5647058823529412,
              "rgb(223,47,67)"
             ],
             [
              0.6274509803921569,
              "rgb(236,76,61)"
             ],
             [
              0.6901960784313725,
              "rgb(242,107,73)"
             ],
             [
              0.7529411764705882,
              "rgb(244,135,95)"
             ],
             [
              0.8156862745098039,
              "rgb(245,162,122)"
             ],
             [
              0.8784313725490196,
              "rgb(246,188,153)"
             ],
             [
              0.9411764705882353,
              "rgb(247,212,187)"
             ],
             [
              1.0,
              "rgb(250,234,220)"
             ]
            ],
            "type": "histogram2d"
           }
          ],
          "histogram": [
           {
            "marker": {
             "pattern": {
              "fillmode": "overlay",
              "size": 10,
              "solidity": 0.2
             }
            },
            "type": "histogram"
           }
          ],
          "mesh3d": [
           {
            "colorbar": {
             "outlinewidth": 0,
             "tickcolor": "rgb(36,36,36)",
             "ticklen": 8,
             "ticks": "outside",
             "tickwidth": 2
            },
            "type": "mesh3d"
           }
          ],
          "parcoords": [
           {
            "line": {
             "colorbar": {
              "outlinewidth": 0,
              "tickcolor": "rgb(36,36,36)",
              "ticklen": 8,
              "ticks": "outside",
              "tickwidth": 2
             }
            },
            "type": "parcoords"
           }
          ],
          "pie": [
           {
            "automargin": true,
            "type": "pie"
           }
          ],
          "scatter3d": [
           {
            "line": {
             "colorbar": {
              "outlinewidth": 0,
              "tickcolor": "rgb(36,36,36)",
              "ticklen": 8,
              "ticks": "outside",
              "tickwidth": 2
             }
            },
            "marker": {
             "colorbar": {
              "outlinewidth": 0,
              "tickcolor": "rgb(36,36,36)",
              "ticklen": 8,
              "ticks": "outside",
              "tickwidth": 2
             }
            },
            "type": "scatter3d"
           }
          ],
          "scattercarpet": [
           {
            "marker": {
             "colorbar": {
              "outlinewidth": 0,
              "tickcolor": "rgb(36,36,36)",
              "ticklen": 8,
              "ticks": "outside",
              "tickwidth": 2
             }
            },
            "type": "scattercarpet"
           }
          ],
          "scattergeo": [
           {
            "marker": {
             "colorbar": {
              "outlinewidth": 0,
              "tickcolor": "rgb(36,36,36)",
              "ticklen": 8,
              "ticks": "outside",
              "tickwidth": 2
             }
            },
            "type": "scattergeo"
           }
          ],
          "scattergl": [
           {
            "marker": {
             "colorbar": {
              "outlinewidth": 0,
              "tickcolor": "rgb(36,36,36)",
              "ticklen": 8,
              "ticks": "outside",
              "tickwidth": 2
             }
            },
            "type": "scattergl"
           }
          ],
          "scattermapbox": [
           {
            "marker": {
             "colorbar": {
              "outlinewidth": 0,
              "tickcolor": "rgb(36,36,36)",
              "ticklen": 8,
              "ticks": "outside",
              "tickwidth": 2
             }
            },
            "type": "scattermapbox"
           }
          ],
          "scattermap": [
           {
            "marker": {
             "colorbar": {
              "outlinewidth": 0,
              "tickcolor": "rgb(36,36,36)",
              "ticklen": 8,
              "ticks": "outside",
              "tickwidth": 2
             }
            },
            "type": "scattermap"
           }
          ],
          "scatterpolargl": [
           {
            "marker": {
             "colorbar": {
              "outlinewidth": 0,
              "tickcolor": "rgb(36,36,36)",
              "ticklen": 8,
              "ticks": "outside",
              "tickwidth": 2
             }
            },
            "type": "scatterpolargl"
           }
          ],
          "scatterpolar": [
           {
            "marker": {
             "colorbar": {
              "outlinewidth": 0,
              "tickcolor": "rgb(36,36,36)",
              "ticklen": 8,
              "ticks": "outside",
              "tickwidth": 2
             }
            },
            "type": "scatterpolar"
           }
          ],
          "scatter": [
           {
            "fillpattern": {
             "fillmode": "overlay",
             "size": 10,
             "solidity": 0.2
            },
            "type": "scatter"
           }
          ],
          "scatterternary": [
           {
            "marker": {
             "colorbar": {
              "outlinewidth": 0,
              "tickcolor": "rgb(36,36,36)",
              "ticklen": 8,
              "ticks": "outside",
              "tickwidth": 2
             }
            },
            "type": "scatterternary"
           }
          ],
          "surface": [
           {
            "colorbar": {
             "outlinewidth": 0,
             "tickcolor": "rgb(36,36,36)",
             "ticklen": 8,
             "ticks": "outside",
             "tickwidth": 2
            },
            "colorscale": [
             [
              0.0,
              "rgb(2,4,25)"
             ],
             [
              0.06274509803921569,
              "rgb(24,15,41)"
             ],
             [
              0.12549019607843137,
              "rgb(47,23,57)"
             ],
             [
              0.18823529411764706,
              "rgb(71,28,72)"
             ],
             [
              0.25098039215686274,
              "rgb(97,30,82)"
             ],
             [
              0.3137254901960784,
              "rgb(123,30,89)"
             ],
             [
              0.3764705882352941,
              "rgb(150,27,91)"
             ],
             [
              0.4392156862745098,
              "rgb(177,22,88)"
             ],
             [
              0.5019607843137255,
              "rgb(203,26,79)"
             ],
             [
              0.5647058823529412,
              "rgb(223,47,67)"
             ],
             [
              0.6274509803921569,
              "rgb(236,76,61)"
             ],
             [
              0.6901960784313725,
              "rgb(242,107,73)"
             ],
             [
              0.7529411764705882,
              "rgb(244,135,95)"
             ],
             [
              0.8156862745098039,
              "rgb(245,162,122)"
             ],
             [
              0.8784313725490196,
              "rgb(246,188,153)"
             ],
             [
              0.9411764705882353,
              "rgb(247,212,187)"
             ],
             [
              1.0,
              "rgb(250,234,220)"
             ]
            ],
            "type": "surface"
           }
          ],
          "table": [
           {
            "cells": {
             "fill": {
              "color": "rgb(231,231,240)"
             },
             "line": {
              "color": "white"
             }
            },
            "header": {
             "fill": {
              "color": "rgb(183,183,191)"
             },
             "line": {
              "color": "white"
             }
            },
            "type": "table"
           }
          ]
         },
         "layout": {
          "annotationdefaults": {
           "arrowcolor": "rgb(67,103,167)"
          },
          "autotypenumbers": "strict",
          "coloraxis": {
           "colorbar": {
            "outlinewidth": 0,
            "tickcolor": "rgb(36,36,36)",
            "ticklen": 8,
            "ticks": "outside",
            "tickwidth": 2
           }
          },
          "colorscale": {
           "sequential": [
            [
             0.0,
             "rgb(2,4,25)"
            ],
            [
             0.06274509803921569,
             "rgb(24,15,41)"
            ],
            [
             0.12549019607843137,
             "rgb(47,23,57)"
            ],
            [
             0.18823529411764706,
             "rgb(71,28,72)"
            ],
            [
             0.25098039215686274,
             "rgb(97,30,82)"
            ],
            [
             0.3137254901960784,
             "rgb(123,30,89)"
            ],
            [
             0.3764705882352941,
             "rgb(150,27,91)"
            ],
            [
             0.4392156862745098,
             "rgb(177,22,88)"
            ],
            [
             0.5019607843137255,
             "rgb(203,26,79)"
            ],
            [
             0.5647058823529412,
             "rgb(223,47,67)"
            ],
            [
             0.6274509803921569,
             "rgb(236,76,61)"
            ],
            [
             0.6901960784313725,
             "rgb(242,107,73)"
            ],
            [
             0.7529411764705882,
             "rgb(244,135,95)"
            ],
            [
             0.8156862745098039,
             "rgb(245,162,122)"
            ],
            [
             0.8784313725490196,
             "rgb(246,188,153)"
            ],
            [
             0.9411764705882353,
             "rgb(247,212,187)"
            ],
            [
             1.0,
             "rgb(250,234,220)"
            ]
           ],
           "sequentialminus": [
            [
             0.0,
             "rgb(2,4,25)"
            ],
            [
             0.06274509803921569,
             "rgb(24,15,41)"
            ],
            [
             0.12549019607843137,
             "rgb(47,23,57)"
            ],
            [
             0.18823529411764706,
             "rgb(71,28,72)"
            ],
            [
             0.25098039215686274,
             "rgb(97,30,82)"
            ],
            [
             0.3137254901960784,
             "rgb(123,30,89)"
            ],
            [
             0.3764705882352941,
             "rgb(150,27,91)"
            ],
            [
             0.4392156862745098,
             "rgb(177,22,88)"
            ],
            [
             0.5019607843137255,
             "rgb(203,26,79)"
            ],
            [
             0.5647058823529412,
             "rgb(223,47,67)"
            ],
            [
             0.6274509803921569,
             "rgb(236,76,61)"
            ],
            [
             0.6901960784313725,
             "rgb(242,107,73)"
            ],
            [
             0.7529411764705882,
             "rgb(244,135,95)"
            ],
            [
             0.8156862745098039,
             "rgb(245,162,122)"
            ],
            [
             0.8784313725490196,
             "rgb(246,188,153)"
            ],
            [
             0.9411764705882353,
             "rgb(247,212,187)"
            ],
            [
             1.0,
             "rgb(250,234,220)"
            ]
           ]
          },
          "colorway": [
           "rgb(76,114,176)",
           "rgb(221,132,82)",
           "rgb(85,168,104)",
           "rgb(196,78,82)",
           "rgb(129,114,179)",
           "rgb(147,120,96)",
           "rgb(218,139,195)",
           "rgb(140,140,140)",
           "rgb(204,185,116)",
           "rgb(100,181,205)"
          ],
          "font": {
           "color": "rgb(36,36,36)"
          },
          "geo": {
           "bgcolor": "white",
           "lakecolor": "white",
           "landcolor": "rgb(234,234,242)",
           "showlakes": true,
           "showland": true,
           "subunitcolor": "white"
          },
          "hoverlabel": {
           "align": "left"
          },
          "hovermode": "closest",
          "paper_bgcolor": "white",
          "plot_bgcolor": "rgb(234,234,242)",
          "polar": {
           "angularaxis": {
            "gridcolor": "white",
            "linecolor": "white",
            "showgrid": true,
            "ticks": ""
           },
           "bgcolor": "rgb(234,234,242)",
           "radialaxis": {
            "gridcolor": "white",
            "linecolor": "white",
            "showgrid": true,
            "ticks": ""
           }
          },
          "scene": {
           "xaxis": {
            "backgroundcolor": "rgb(234,234,242)",
            "gridcolor": "white",
            "gridwidth": 2,
            "linecolor": "white",
            "showbackground": true,
            "showgrid": true,
            "ticks": "",
            "zerolinecolor": "white"
           },
           "yaxis": {
            "backgroundcolor": "rgb(234,234,242)",
            "gridcolor": "white",
            "gridwidth": 2,
            "linecolor": "white",
            "showbackground": true,
            "showgrid": true,
            "ticks": "",
            "zerolinecolor": "white"
           },
           "zaxis": {
            "backgroundcolor": "rgb(234,234,242)",
            "gridcolor": "white",
            "gridwidth": 2,
            "linecolor": "white",
            "showbackground": true,
            "showgrid": true,
            "ticks": "",
            "zerolinecolor": "white"
           }
          },
          "shapedefaults": {
           "fillcolor": "rgb(67,103,167)",
           "line": {
            "width": 0
           },
           "opacity": 0.5
          },
          "ternary": {
           "aaxis": {
            "gridcolor": "white",
            "linecolor": "white",
            "showgrid": true,
            "ticks": ""
           },
           "baxis": {
            "gridcolor": "white",
            "linecolor": "white",
            "showgrid": true,
            "ticks": ""
           },
           "bgcolor": "rgb(234,234,242)",
           "caxis": {
            "gridcolor": "white",
            "linecolor": "white",
            "showgrid": true,
            "ticks": ""
           }
          },
          "xaxis": {
           "automargin": true,
           "gridcolor": "white",
           "linecolor": "white",
           "showgrid": true,
           "ticks": "",
           "title": {
            "standoff": 15
           },
           "zerolinecolor": "white"
          },
          "yaxis": {
           "automargin": true,
           "gridcolor": "white",
           "linecolor": "white",
           "showgrid": true,
           "ticks": "",
           "title": {
            "standoff": 15
           },
           "zerolinecolor": "white"
          }
         }
        },
        "xaxis": {
         "anchor": "y",
         "domain": [
          0.0,
          1.0
         ],
         "title": {
          "text": "Date"
         }
        },
        "yaxis": {
         "anchor": "x",
         "domain": [
          0.0,
          1.0
         ],
         "title": {
          "text": "Average Execution Time (s)"
         },
         "rangemode": "tozero"
        },
        "legend": {
         "title": {
          "text": "database"
         },
         "tracegroupgap": 0
        },
        "title": {
         "text": "Average Execution Time for Usecase 1 Filtering Query Over Time",
         "x": 0.5,
         "xanchor": "center"
        }
       },
       "config": {
        "plotlyServerURL": "https://plot.ly"
       }
      }
     },
     "metadata": {},
     "output_type": "display_data"
    },
    {
     "data": {
      "application/vnd.plotly.v1+json": {
       "data": [
        {
         "hovertemplate": "database=clickhouse<br>date_only=%{x}<br>mean_exec_time_s=%{y}<extra></extra>",
         "legendgroup": "clickhouse",
         "line": {
          "color": "#4c72b0",
          "dash": "solid"
         },
         "marker": {
          "symbol": "circle"
         },
         "mode": "lines+markers",
         "name": "clickhouse",
         "orientation": "v",
         "showlegend": true,
         "x": [
          "2025-06-12",
          "2025-06-13",
          "2025-06-14",
          "2025-06-15",
          "2025-06-16",
          "2025-06-17",
          "2025-06-18"
         ],
         "xaxis": "x",
         "y": {
          "dtype": "f8",
          "bdata": "0SLb+X5qwj8PLbKd76fCPxT1b4QyesM/k18s+cWSwz+cxCCwcmjBP8l2vp8aL8E/guLHmLuWwD8="
         },
         "yaxis": "y",
         "type": "scatter"
        },
        {
         "hovertemplate": "database=mongodb<br>date_only=%{x}<br>mean_exec_time_s=%{y}<extra></extra>",
         "legendgroup": "mongodb",
         "line": {
          "color": "#dd8452",
          "dash": "solid"
         },
         "marker": {
          "symbol": "circle"
         },
         "mode": "lines+markers",
         "name": "mongodb",
         "orientation": "v",
         "showlegend": true,
         "x": [
          "2025-06-12",
          "2025-06-13",
          "2025-06-14",
          "2025-06-15",
          "2025-06-16",
          "2025-06-17",
          "2025-06-18"
         ],
         "xaxis": "x",
         "y": {
          "dtype": "f8",
          "bdata": "DAIrhxbZsj9VnH34DLuyPzsmeDBP1K8/cfbhM+wKsD/EZ9gVIPeqP9S/Ecrobak/w9MrZRniqD8="
         },
         "yaxis": "y",
         "type": "scatter"
        },
        {
         "hovertemplate": "database=postgres<br>date_only=%{x}<br>mean_exec_time_s=%{y}<extra></extra>",
         "legendgroup": "postgres",
         "line": {
          "color": "#55a868",
          "dash": "solid"
         },
         "marker": {
          "symbol": "circle"
         },
         "mode": "lines+markers",
         "name": "postgres",
         "orientation": "v",
         "showlegend": true,
         "x": [
          "2025-06-12",
          "2025-06-13",
          "2025-06-14",
          "2025-06-15",
          "2025-06-16",
          "2025-06-17",
          "2025-06-18"
         ],
         "xaxis": "x",
         "y": {
          "dtype": "f8",
          "bdata": "Gi/dJAaBpT9nZmZmZmamP3e+nxov3aQ/xpJfLPnFoj830GkDnTagPy8kTak4+6A/mpmZmZmZmT8="
         },
         "yaxis": "y",
         "type": "scatter"
        }
       ],
       "layout": {
        "template": {
         "data": {
          "barpolar": [
           {
            "marker": {
             "line": {
              "color": "rgb(234,234,242)",
              "width": 0.5
             },
             "pattern": {
              "fillmode": "overlay",
              "size": 10,
              "solidity": 0.2
             }
            },
            "type": "barpolar"
           }
          ],
          "bar": [
           {
            "error_x": {
             "color": "rgb(36,36,36)"
            },
            "error_y": {
             "color": "rgb(36,36,36)"
            },
            "marker": {
             "line": {
              "color": "rgb(234,234,242)",
              "width": 0.5
             },
             "pattern": {
              "fillmode": "overlay",
              "size": 10,
              "solidity": 0.2
             }
            },
            "type": "bar"
           }
          ],
          "carpet": [
           {
            "aaxis": {
             "endlinecolor": "rgb(36,36,36)",
             "gridcolor": "white",
             "linecolor": "white",
             "minorgridcolor": "white",
             "startlinecolor": "rgb(36,36,36)"
            },
            "baxis": {
             "endlinecolor": "rgb(36,36,36)",
             "gridcolor": "white",
             "linecolor": "white",
             "minorgridcolor": "white",
             "startlinecolor": "rgb(36,36,36)"
            },
            "type": "carpet"
           }
          ],
          "choropleth": [
           {
            "colorbar": {
             "outlinewidth": 0,
             "tickcolor": "rgb(36,36,36)",
             "ticklen": 8,
             "ticks": "outside",
             "tickwidth": 2
            },
            "type": "choropleth"
           }
          ],
          "contourcarpet": [
           {
            "colorbar": {
             "outlinewidth": 0,
             "tickcolor": "rgb(36,36,36)",
             "ticklen": 8,
             "ticks": "outside",
             "tickwidth": 2
            },
            "type": "contourcarpet"
           }
          ],
          "contour": [
           {
            "colorbar": {
             "outlinewidth": 0,
             "tickcolor": "rgb(36,36,36)",
             "ticklen": 8,
             "ticks": "outside",
             "tickwidth": 2
            },
            "colorscale": [
             [
              0.0,
              "rgb(2,4,25)"
             ],
             [
              0.06274509803921569,
              "rgb(24,15,41)"
             ],
             [
              0.12549019607843137,
              "rgb(47,23,57)"
             ],
             [
              0.18823529411764706,
              "rgb(71,28,72)"
             ],
             [
              0.25098039215686274,
              "rgb(97,30,82)"
             ],
             [
              0.3137254901960784,
              "rgb(123,30,89)"
             ],
             [
              0.3764705882352941,
              "rgb(150,27,91)"
             ],
             [
              0.4392156862745098,
              "rgb(177,22,88)"
             ],
             [
              0.5019607843137255,
              "rgb(203,26,79)"
             ],
             [
              0.5647058823529412,
              "rgb(223,47,67)"
             ],
             [
              0.6274509803921569,
              "rgb(236,76,61)"
             ],
             [
              0.6901960784313725,
              "rgb(242,107,73)"
             ],
             [
              0.7529411764705882,
              "rgb(244,135,95)"
             ],
             [
              0.8156862745098039,
              "rgb(245,162,122)"
             ],
             [
              0.8784313725490196,
              "rgb(246,188,153)"
             ],
             [
              0.9411764705882353,
              "rgb(247,212,187)"
             ],
             [
              1.0,
              "rgb(250,234,220)"
             ]
            ],
            "type": "contour"
           }
          ],
          "heatmap": [
           {
            "colorbar": {
             "outlinewidth": 0,
             "tickcolor": "rgb(36,36,36)",
             "ticklen": 8,
             "ticks": "outside",
             "tickwidth": 2
            },
            "colorscale": [
             [
              0.0,
              "rgb(2,4,25)"
             ],
             [
              0.06274509803921569,
              "rgb(24,15,41)"
             ],
             [
              0.12549019607843137,
              "rgb(47,23,57)"
             ],
             [
              0.18823529411764706,
              "rgb(71,28,72)"
             ],
             [
              0.25098039215686274,
              "rgb(97,30,82)"
             ],
             [
              0.3137254901960784,
              "rgb(123,30,89)"
             ],
             [
              0.3764705882352941,
              "rgb(150,27,91)"
             ],
             [
              0.4392156862745098,
              "rgb(177,22,88)"
             ],
             [
              0.5019607843137255,
              "rgb(203,26,79)"
             ],
             [
              0.5647058823529412,
              "rgb(223,47,67)"
             ],
             [
              0.6274509803921569,
              "rgb(236,76,61)"
             ],
             [
              0.6901960784313725,
              "rgb(242,107,73)"
             ],
             [
              0.7529411764705882,
              "rgb(244,135,95)"
             ],
             [
              0.8156862745098039,
              "rgb(245,162,122)"
             ],
             [
              0.8784313725490196,
              "rgb(246,188,153)"
             ],
             [
              0.9411764705882353,
              "rgb(247,212,187)"
             ],
             [
              1.0,
              "rgb(250,234,220)"
             ]
            ],
            "type": "heatmap"
           }
          ],
          "histogram2dcontour": [
           {
            "colorbar": {
             "outlinewidth": 0,
             "tickcolor": "rgb(36,36,36)",
             "ticklen": 8,
             "ticks": "outside",
             "tickwidth": 2
            },
            "colorscale": [
             [
              0.0,
              "rgb(2,4,25)"
             ],
             [
              0.06274509803921569,
              "rgb(24,15,41)"
             ],
             [
              0.12549019607843137,
              "rgb(47,23,57)"
             ],
             [
              0.18823529411764706,
              "rgb(71,28,72)"
             ],
             [
              0.25098039215686274,
              "rgb(97,30,82)"
             ],
             [
              0.3137254901960784,
              "rgb(123,30,89)"
             ],
             [
              0.3764705882352941,
              "rgb(150,27,91)"
             ],
             [
              0.4392156862745098,
              "rgb(177,22,88)"
             ],
             [
              0.5019607843137255,
              "rgb(203,26,79)"
             ],
             [
              0.5647058823529412,
              "rgb(223,47,67)"
             ],
             [
              0.6274509803921569,
              "rgb(236,76,61)"
             ],
             [
              0.6901960784313725,
              "rgb(242,107,73)"
             ],
             [
              0.7529411764705882,
              "rgb(244,135,95)"
             ],
             [
              0.8156862745098039,
              "rgb(245,162,122)"
             ],
             [
              0.8784313725490196,
              "rgb(246,188,153)"
             ],
             [
              0.9411764705882353,
              "rgb(247,212,187)"
             ],
             [
              1.0,
              "rgb(250,234,220)"
             ]
            ],
            "type": "histogram2dcontour"
           }
          ],
          "histogram2d": [
           {
            "colorbar": {
             "outlinewidth": 0,
             "tickcolor": "rgb(36,36,36)",
             "ticklen": 8,
             "ticks": "outside",
             "tickwidth": 2
            },
            "colorscale": [
             [
              0.0,
              "rgb(2,4,25)"
             ],
             [
              0.06274509803921569,
              "rgb(24,15,41)"
             ],
             [
              0.12549019607843137,
              "rgb(47,23,57)"
             ],
             [
              0.18823529411764706,
              "rgb(71,28,72)"
             ],
             [
              0.25098039215686274,
              "rgb(97,30,82)"
             ],
             [
              0.3137254901960784,
              "rgb(123,30,89)"
             ],
             [
              0.3764705882352941,
              "rgb(150,27,91)"
             ],
             [
              0.4392156862745098,
              "rgb(177,22,88)"
             ],
             [
              0.5019607843137255,
              "rgb(203,26,79)"
             ],
             [
              0.5647058823529412,
              "rgb(223,47,67)"
             ],
             [
              0.6274509803921569,
              "rgb(236,76,61)"
             ],
             [
              0.6901960784313725,
              "rgb(242,107,73)"
             ],
             [
              0.7529411764705882,
              "rgb(244,135,95)"
             ],
             [
              0.8156862745098039,
              "rgb(245,162,122)"
             ],
             [
              0.8784313725490196,
              "rgb(246,188,153)"
             ],
             [
              0.9411764705882353,
              "rgb(247,212,187)"
             ],
             [
              1.0,
              "rgb(250,234,220)"
             ]
            ],
            "type": "histogram2d"
           }
          ],
          "histogram": [
           {
            "marker": {
             "pattern": {
              "fillmode": "overlay",
              "size": 10,
              "solidity": 0.2
             }
            },
            "type": "histogram"
           }
          ],
          "mesh3d": [
           {
            "colorbar": {
             "outlinewidth": 0,
             "tickcolor": "rgb(36,36,36)",
             "ticklen": 8,
             "ticks": "outside",
             "tickwidth": 2
            },
            "type": "mesh3d"
           }
          ],
          "parcoords": [
           {
            "line": {
             "colorbar": {
              "outlinewidth": 0,
              "tickcolor": "rgb(36,36,36)",
              "ticklen": 8,
              "ticks": "outside",
              "tickwidth": 2
             }
            },
            "type": "parcoords"
           }
          ],
          "pie": [
           {
            "automargin": true,
            "type": "pie"
           }
          ],
          "scatter3d": [
           {
            "line": {
             "colorbar": {
              "outlinewidth": 0,
              "tickcolor": "rgb(36,36,36)",
              "ticklen": 8,
              "ticks": "outside",
              "tickwidth": 2
             }
            },
            "marker": {
             "colorbar": {
              "outlinewidth": 0,
              "tickcolor": "rgb(36,36,36)",
              "ticklen": 8,
              "ticks": "outside",
              "tickwidth": 2
             }
            },
            "type": "scatter3d"
           }
          ],
          "scattercarpet": [
           {
            "marker": {
             "colorbar": {
              "outlinewidth": 0,
              "tickcolor": "rgb(36,36,36)",
              "ticklen": 8,
              "ticks": "outside",
              "tickwidth": 2
             }
            },
            "type": "scattercarpet"
           }
          ],
          "scattergeo": [
           {
            "marker": {
             "colorbar": {
              "outlinewidth": 0,
              "tickcolor": "rgb(36,36,36)",
              "ticklen": 8,
              "ticks": "outside",
              "tickwidth": 2
             }
            },
            "type": "scattergeo"
           }
          ],
          "scattergl": [
           {
            "marker": {
             "colorbar": {
              "outlinewidth": 0,
              "tickcolor": "rgb(36,36,36)",
              "ticklen": 8,
              "ticks": "outside",
              "tickwidth": 2
             }
            },
            "type": "scattergl"
           }
          ],
          "scattermapbox": [
           {
            "marker": {
             "colorbar": {
              "outlinewidth": 0,
              "tickcolor": "rgb(36,36,36)",
              "ticklen": 8,
              "ticks": "outside",
              "tickwidth": 2
             }
            },
            "type": "scattermapbox"
           }
          ],
          "scattermap": [
           {
            "marker": {
             "colorbar": {
              "outlinewidth": 0,
              "tickcolor": "rgb(36,36,36)",
              "ticklen": 8,
              "ticks": "outside",
              "tickwidth": 2
             }
            },
            "type": "scattermap"
           }
          ],
          "scatterpolargl": [
           {
            "marker": {
             "colorbar": {
              "outlinewidth": 0,
              "tickcolor": "rgb(36,36,36)",
              "ticklen": 8,
              "ticks": "outside",
              "tickwidth": 2
             }
            },
            "type": "scatterpolargl"
           }
          ],
          "scatterpolar": [
           {
            "marker": {
             "colorbar": {
              "outlinewidth": 0,
              "tickcolor": "rgb(36,36,36)",
              "ticklen": 8,
              "ticks": "outside",
              "tickwidth": 2
             }
            },
            "type": "scatterpolar"
           }
          ],
          "scatter": [
           {
            "fillpattern": {
             "fillmode": "overlay",
             "size": 10,
             "solidity": 0.2
            },
            "type": "scatter"
           }
          ],
          "scatterternary": [
           {
            "marker": {
             "colorbar": {
              "outlinewidth": 0,
              "tickcolor": "rgb(36,36,36)",
              "ticklen": 8,
              "ticks": "outside",
              "tickwidth": 2
             }
            },
            "type": "scatterternary"
           }
          ],
          "surface": [
           {
            "colorbar": {
             "outlinewidth": 0,
             "tickcolor": "rgb(36,36,36)",
             "ticklen": 8,
             "ticks": "outside",
             "tickwidth": 2
            },
            "colorscale": [
             [
              0.0,
              "rgb(2,4,25)"
             ],
             [
              0.06274509803921569,
              "rgb(24,15,41)"
             ],
             [
              0.12549019607843137,
              "rgb(47,23,57)"
             ],
             [
              0.18823529411764706,
              "rgb(71,28,72)"
             ],
             [
              0.25098039215686274,
              "rgb(97,30,82)"
             ],
             [
              0.3137254901960784,
              "rgb(123,30,89)"
             ],
             [
              0.3764705882352941,
              "rgb(150,27,91)"
             ],
             [
              0.4392156862745098,
              "rgb(177,22,88)"
             ],
             [
              0.5019607843137255,
              "rgb(203,26,79)"
             ],
             [
              0.5647058823529412,
              "rgb(223,47,67)"
             ],
             [
              0.6274509803921569,
              "rgb(236,76,61)"
             ],
             [
              0.6901960784313725,
              "rgb(242,107,73)"
             ],
             [
              0.7529411764705882,
              "rgb(244,135,95)"
             ],
             [
              0.8156862745098039,
              "rgb(245,162,122)"
             ],
             [
              0.8784313725490196,
              "rgb(246,188,153)"
             ],
             [
              0.9411764705882353,
              "rgb(247,212,187)"
             ],
             [
              1.0,
              "rgb(250,234,220)"
             ]
            ],
            "type": "surface"
           }
          ],
          "table": [
           {
            "cells": {
             "fill": {
              "color": "rgb(231,231,240)"
             },
             "line": {
              "color": "white"
             }
            },
            "header": {
             "fill": {
              "color": "rgb(183,183,191)"
             },
             "line": {
              "color": "white"
             }
            },
            "type": "table"
           }
          ]
         },
         "layout": {
          "annotationdefaults": {
           "arrowcolor": "rgb(67,103,167)"
          },
          "autotypenumbers": "strict",
          "coloraxis": {
           "colorbar": {
            "outlinewidth": 0,
            "tickcolor": "rgb(36,36,36)",
            "ticklen": 8,
            "ticks": "outside",
            "tickwidth": 2
           }
          },
          "colorscale": {
           "sequential": [
            [
             0.0,
             "rgb(2,4,25)"
            ],
            [
             0.06274509803921569,
             "rgb(24,15,41)"
            ],
            [
             0.12549019607843137,
             "rgb(47,23,57)"
            ],
            [
             0.18823529411764706,
             "rgb(71,28,72)"
            ],
            [
             0.25098039215686274,
             "rgb(97,30,82)"
            ],
            [
             0.3137254901960784,
             "rgb(123,30,89)"
            ],
            [
             0.3764705882352941,
             "rgb(150,27,91)"
            ],
            [
             0.4392156862745098,
             "rgb(177,22,88)"
            ],
            [
             0.5019607843137255,
             "rgb(203,26,79)"
            ],
            [
             0.5647058823529412,
             "rgb(223,47,67)"
            ],
            [
             0.6274509803921569,
             "rgb(236,76,61)"
            ],
            [
             0.6901960784313725,
             "rgb(242,107,73)"
            ],
            [
             0.7529411764705882,
             "rgb(244,135,95)"
            ],
            [
             0.8156862745098039,
             "rgb(245,162,122)"
            ],
            [
             0.8784313725490196,
             "rgb(246,188,153)"
            ],
            [
             0.9411764705882353,
             "rgb(247,212,187)"
            ],
            [
             1.0,
             "rgb(250,234,220)"
            ]
           ],
           "sequentialminus": [
            [
             0.0,
             "rgb(2,4,25)"
            ],
            [
             0.06274509803921569,
             "rgb(24,15,41)"
            ],
            [
             0.12549019607843137,
             "rgb(47,23,57)"
            ],
            [
             0.18823529411764706,
             "rgb(71,28,72)"
            ],
            [
             0.25098039215686274,
             "rgb(97,30,82)"
            ],
            [
             0.3137254901960784,
             "rgb(123,30,89)"
            ],
            [
             0.3764705882352941,
             "rgb(150,27,91)"
            ],
            [
             0.4392156862745098,
             "rgb(177,22,88)"
            ],
            [
             0.5019607843137255,
             "rgb(203,26,79)"
            ],
            [
             0.5647058823529412,
             "rgb(223,47,67)"
            ],
            [
             0.6274509803921569,
             "rgb(236,76,61)"
            ],
            [
             0.6901960784313725,
             "rgb(242,107,73)"
            ],
            [
             0.7529411764705882,
             "rgb(244,135,95)"
            ],
            [
             0.8156862745098039,
             "rgb(245,162,122)"
            ],
            [
             0.8784313725490196,
             "rgb(246,188,153)"
            ],
            [
             0.9411764705882353,
             "rgb(247,212,187)"
            ],
            [
             1.0,
             "rgb(250,234,220)"
            ]
           ]
          },
          "colorway": [
           "rgb(76,114,176)",
           "rgb(221,132,82)",
           "rgb(85,168,104)",
           "rgb(196,78,82)",
           "rgb(129,114,179)",
           "rgb(147,120,96)",
           "rgb(218,139,195)",
           "rgb(140,140,140)",
           "rgb(204,185,116)",
           "rgb(100,181,205)"
          ],
          "font": {
           "color": "rgb(36,36,36)"
          },
          "geo": {
           "bgcolor": "white",
           "lakecolor": "white",
           "landcolor": "rgb(234,234,242)",
           "showlakes": true,
           "showland": true,
           "subunitcolor": "white"
          },
          "hoverlabel": {
           "align": "left"
          },
          "hovermode": "closest",
          "paper_bgcolor": "white",
          "plot_bgcolor": "rgb(234,234,242)",
          "polar": {
           "angularaxis": {
            "gridcolor": "white",
            "linecolor": "white",
            "showgrid": true,
            "ticks": ""
           },
           "bgcolor": "rgb(234,234,242)",
           "radialaxis": {
            "gridcolor": "white",
            "linecolor": "white",
            "showgrid": true,
            "ticks": ""
           }
          },
          "scene": {
           "xaxis": {
            "backgroundcolor": "rgb(234,234,242)",
            "gridcolor": "white",
            "gridwidth": 2,
            "linecolor": "white",
            "showbackground": true,
            "showgrid": true,
            "ticks": "",
            "zerolinecolor": "white"
           },
           "yaxis": {
            "backgroundcolor": "rgb(234,234,242)",
            "gridcolor": "white",
            "gridwidth": 2,
            "linecolor": "white",
            "showbackground": true,
            "showgrid": true,
            "ticks": "",
            "zerolinecolor": "white"
           },
           "zaxis": {
            "backgroundcolor": "rgb(234,234,242)",
            "gridcolor": "white",
            "gridwidth": 2,
            "linecolor": "white",
            "showbackground": true,
            "showgrid": true,
            "ticks": "",
            "zerolinecolor": "white"
           }
          },
          "shapedefaults": {
           "fillcolor": "rgb(67,103,167)",
           "line": {
            "width": 0
           },
           "opacity": 0.5
          },
          "ternary": {
           "aaxis": {
            "gridcolor": "white",
            "linecolor": "white",
            "showgrid": true,
            "ticks": ""
           },
           "baxis": {
            "gridcolor": "white",
            "linecolor": "white",
            "showgrid": true,
            "ticks": ""
           },
           "bgcolor": "rgb(234,234,242)",
           "caxis": {
            "gridcolor": "white",
            "linecolor": "white",
            "showgrid": true,
            "ticks": ""
           }
          },
          "xaxis": {
           "automargin": true,
           "gridcolor": "white",
           "linecolor": "white",
           "showgrid": true,
           "ticks": "",
           "title": {
            "standoff": 15
           },
           "zerolinecolor": "white"
          },
          "yaxis": {
           "automargin": true,
           "gridcolor": "white",
           "linecolor": "white",
           "showgrid": true,
           "ticks": "",
           "title": {
            "standoff": 15
           },
           "zerolinecolor": "white"
          }
         }
        },
        "xaxis": {
         "anchor": "y",
         "domain": [
          0.0,
          1.0
         ],
         "title": {
          "text": "Date"
         }
        },
        "yaxis": {
         "anchor": "x",
         "domain": [
          0.0,
          1.0
         ],
         "title": {
          "text": "Average Execution Time (s)"
         },
         "rangemode": "tozero"
        },
        "legend": {
         "title": {
          "text": "database"
         },
         "tracegroupgap": 0
        },
        "title": {
         "text": "Average Execution Time for Usecase 2 Bulk Update Over Time",
         "x": 0.5,
         "xanchor": "center"
        }
       },
       "config": {
        "plotlyServerURL": "https://plot.ly"
       }
      }
     },
     "metadata": {},
     "output_type": "display_data"
    },
    {
     "data": {
      "application/vnd.plotly.v1+json": {
       "data": [
        {
         "hovertemplate": "database=clickhouse<br>date_only=%{x}<br>mean_exec_time_s=%{y}<extra></extra>",
         "legendgroup": "clickhouse",
         "line": {
          "color": "#4c72b0",
          "dash": "solid"
         },
         "marker": {
          "symbol": "circle"
         },
         "mode": "lines+markers",
         "name": "clickhouse",
         "orientation": "v",
         "showlegend": true,
         "x": [
          "2025-06-12",
          "2025-06-13",
          "2025-06-14",
          "2025-06-15",
          "2025-06-16",
          "2025-06-17",
          "2025-06-18"
         ],
         "xaxis": "x",
         "y": {
          "dtype": "f8",
          "bdata": "001iEFg5sD94ME/UvxGyP11ImlJx9rE/eaL+jVBGrz+h0wY6baCzPyD3mgtJU7I/HjhnRGlvsD8="
         },
         "yaxis": "y",
         "type": "scatter"
        },
        {
         "hovertemplate": "database=mongodb<br>date_only=%{x}<br>mean_exec_time_s=%{y}<extra></extra>",
         "legendgroup": "mongodb",
         "line": {
          "color": "#dd8452",
          "dash": "solid"
         },
         "marker": {
          "symbol": "circle"
         },
         "mode": "lines+markers",
         "name": "mongodb",
         "orientation": "v",
         "showlegend": true,
         "x": [
          "2025-06-12",
          "2025-06-13",
          "2025-06-14",
          "2025-06-15",
          "2025-06-16",
          "2025-06-17",
          "2025-06-18"
         ],
         "xaxis": "x",
         "y": {
          "dtype": "f8",
          "bdata": "jpduEoNcNkBNqTj78KE2QODBPFH/fjVA84slv1jiNUD8Yskvlqw1QCSU0duyXjVATKYKRiX1NEA="
         },
         "yaxis": "y",
         "type": "scatter"
        },
        {
         "hovertemplate": "database=postgres<br>date_only=%{x}<br>mean_exec_time_s=%{y}<extra></extra>",
         "legendgroup": "postgres",
         "line": {
          "color": "#55a868",
          "dash": "solid"
         },
         "marker": {
          "symbol": "circle"
         },
         "mode": "lines+markers",
         "name": "postgres",
         "orientation": "v",
         "showlegend": true,
         "x": [
          "2025-06-12",
          "2025-06-13",
          "2025-06-14",
          "2025-06-15",
          "2025-06-16",
          "2025-06-17",
          "2025-06-18"
         ],
         "xaxis": "x",
         "y": {
          "dtype": "f8",
          "bdata": "okW28/1kPEDkF0t+saQ9QJzEILByuDxAUEZvy1qdPUBVVVVVVc09QP3UeOkmYT1AoKut2F/WPEA="
         },
         "yaxis": "y",
         "type": "scatter"
        }
       ],
       "layout": {
        "template": {
         "data": {
          "barpolar": [
           {
            "marker": {
             "line": {
              "color": "rgb(234,234,242)",
              "width": 0.5
             },
             "pattern": {
              "fillmode": "overlay",
              "size": 10,
              "solidity": 0.2
             }
            },
            "type": "barpolar"
           }
          ],
          "bar": [
           {
            "error_x": {
             "color": "rgb(36,36,36)"
            },
            "error_y": {
             "color": "rgb(36,36,36)"
            },
            "marker": {
             "line": {
              "color": "rgb(234,234,242)",
              "width": 0.5
             },
             "pattern": {
              "fillmode": "overlay",
              "size": 10,
              "solidity": 0.2
             }
            },
            "type": "bar"
           }
          ],
          "carpet": [
           {
            "aaxis": {
             "endlinecolor": "rgb(36,36,36)",
             "gridcolor": "white",
             "linecolor": "white",
             "minorgridcolor": "white",
             "startlinecolor": "rgb(36,36,36)"
            },
            "baxis": {
             "endlinecolor": "rgb(36,36,36)",
             "gridcolor": "white",
             "linecolor": "white",
             "minorgridcolor": "white",
             "startlinecolor": "rgb(36,36,36)"
            },
            "type": "carpet"
           }
          ],
          "choropleth": [
           {
            "colorbar": {
             "outlinewidth": 0,
             "tickcolor": "rgb(36,36,36)",
             "ticklen": 8,
             "ticks": "outside",
             "tickwidth": 2
            },
            "type": "choropleth"
           }
          ],
          "contourcarpet": [
           {
            "colorbar": {
             "outlinewidth": 0,
             "tickcolor": "rgb(36,36,36)",
             "ticklen": 8,
             "ticks": "outside",
             "tickwidth": 2
            },
            "type": "contourcarpet"
           }
          ],
          "contour": [
           {
            "colorbar": {
             "outlinewidth": 0,
             "tickcolor": "rgb(36,36,36)",
             "ticklen": 8,
             "ticks": "outside",
             "tickwidth": 2
            },
            "colorscale": [
             [
              0.0,
              "rgb(2,4,25)"
             ],
             [
              0.06274509803921569,
              "rgb(24,15,41)"
             ],
             [
              0.12549019607843137,
              "rgb(47,23,57)"
             ],
             [
              0.18823529411764706,
              "rgb(71,28,72)"
             ],
             [
              0.25098039215686274,
              "rgb(97,30,82)"
             ],
             [
              0.3137254901960784,
              "rgb(123,30,89)"
             ],
             [
              0.3764705882352941,
              "rgb(150,27,91)"
             ],
             [
              0.4392156862745098,
              "rgb(177,22,88)"
             ],
             [
              0.5019607843137255,
              "rgb(203,26,79)"
             ],
             [
              0.5647058823529412,
              "rgb(223,47,67)"
             ],
             [
              0.6274509803921569,
              "rgb(236,76,61)"
             ],
             [
              0.6901960784313725,
              "rgb(242,107,73)"
             ],
             [
              0.7529411764705882,
              "rgb(244,135,95)"
             ],
             [
              0.8156862745098039,
              "rgb(245,162,122)"
             ],
             [
              0.8784313725490196,
              "rgb(246,188,153)"
             ],
             [
              0.9411764705882353,
              "rgb(247,212,187)"
             ],
             [
              1.0,
              "rgb(250,234,220)"
             ]
            ],
            "type": "contour"
           }
          ],
          "heatmap": [
           {
            "colorbar": {
             "outlinewidth": 0,
             "tickcolor": "rgb(36,36,36)",
             "ticklen": 8,
             "ticks": "outside",
             "tickwidth": 2
            },
            "colorscale": [
             [
              0.0,
              "rgb(2,4,25)"
             ],
             [
              0.06274509803921569,
              "rgb(24,15,41)"
             ],
             [
              0.12549019607843137,
              "rgb(47,23,57)"
             ],
             [
              0.18823529411764706,
              "rgb(71,28,72)"
             ],
             [
              0.25098039215686274,
              "rgb(97,30,82)"
             ],
             [
              0.3137254901960784,
              "rgb(123,30,89)"
             ],
             [
              0.3764705882352941,
              "rgb(150,27,91)"
             ],
             [
              0.4392156862745098,
              "rgb(177,22,88)"
             ],
             [
              0.5019607843137255,
              "rgb(203,26,79)"
             ],
             [
              0.5647058823529412,
              "rgb(223,47,67)"
             ],
             [
              0.6274509803921569,
              "rgb(236,76,61)"
             ],
             [
              0.6901960784313725,
              "rgb(242,107,73)"
             ],
             [
              0.7529411764705882,
              "rgb(244,135,95)"
             ],
             [
              0.8156862745098039,
              "rgb(245,162,122)"
             ],
             [
              0.8784313725490196,
              "rgb(246,188,153)"
             ],
             [
              0.9411764705882353,
              "rgb(247,212,187)"
             ],
             [
              1.0,
              "rgb(250,234,220)"
             ]
            ],
            "type": "heatmap"
           }
          ],
          "histogram2dcontour": [
           {
            "colorbar": {
             "outlinewidth": 0,
             "tickcolor": "rgb(36,36,36)",
             "ticklen": 8,
             "ticks": "outside",
             "tickwidth": 2
            },
            "colorscale": [
             [
              0.0,
              "rgb(2,4,25)"
             ],
             [
              0.06274509803921569,
              "rgb(24,15,41)"
             ],
             [
              0.12549019607843137,
              "rgb(47,23,57)"
             ],
             [
              0.18823529411764706,
              "rgb(71,28,72)"
             ],
             [
              0.25098039215686274,
              "rgb(97,30,82)"
             ],
             [
              0.3137254901960784,
              "rgb(123,30,89)"
             ],
             [
              0.3764705882352941,
              "rgb(150,27,91)"
             ],
             [
              0.4392156862745098,
              "rgb(177,22,88)"
             ],
             [
              0.5019607843137255,
              "rgb(203,26,79)"
             ],
             [
              0.5647058823529412,
              "rgb(223,47,67)"
             ],
             [
              0.6274509803921569,
              "rgb(236,76,61)"
             ],
             [
              0.6901960784313725,
              "rgb(242,107,73)"
             ],
             [
              0.7529411764705882,
              "rgb(244,135,95)"
             ],
             [
              0.8156862745098039,
              "rgb(245,162,122)"
             ],
             [
              0.8784313725490196,
              "rgb(246,188,153)"
             ],
             [
              0.9411764705882353,
              "rgb(247,212,187)"
             ],
             [
              1.0,
              "rgb(250,234,220)"
             ]
            ],
            "type": "histogram2dcontour"
           }
          ],
          "histogram2d": [
           {
            "colorbar": {
             "outlinewidth": 0,
             "tickcolor": "rgb(36,36,36)",
             "ticklen": 8,
             "ticks": "outside",
             "tickwidth": 2
            },
            "colorscale": [
             [
              0.0,
              "rgb(2,4,25)"
             ],
             [
              0.06274509803921569,
              "rgb(24,15,41)"
             ],
             [
              0.12549019607843137,
              "rgb(47,23,57)"
             ],
             [
              0.18823529411764706,
              "rgb(71,28,72)"
             ],
             [
              0.25098039215686274,
              "rgb(97,30,82)"
             ],
             [
              0.3137254901960784,
              "rgb(123,30,89)"
             ],
             [
              0.3764705882352941,
              "rgb(150,27,91)"
             ],
             [
              0.4392156862745098,
              "rgb(177,22,88)"
             ],
             [
              0.5019607843137255,
              "rgb(203,26,79)"
             ],
             [
              0.5647058823529412,
              "rgb(223,47,67)"
             ],
             [
              0.6274509803921569,
              "rgb(236,76,61)"
             ],
             [
              0.6901960784313725,
              "rgb(242,107,73)"
             ],
             [
              0.7529411764705882,
              "rgb(244,135,95)"
             ],
             [
              0.8156862745098039,
              "rgb(245,162,122)"
             ],
             [
              0.8784313725490196,
              "rgb(246,188,153)"
             ],
             [
              0.9411764705882353,
              "rgb(247,212,187)"
             ],
             [
              1.0,
              "rgb(250,234,220)"
             ]
            ],
            "type": "histogram2d"
           }
          ],
          "histogram": [
           {
            "marker": {
             "pattern": {
              "fillmode": "overlay",
              "size": 10,
              "solidity": 0.2
             }
            },
            "type": "histogram"
           }
          ],
          "mesh3d": [
           {
            "colorbar": {
             "outlinewidth": 0,
             "tickcolor": "rgb(36,36,36)",
             "ticklen": 8,
             "ticks": "outside",
             "tickwidth": 2
            },
            "type": "mesh3d"
           }
          ],
          "parcoords": [
           {
            "line": {
             "colorbar": {
              "outlinewidth": 0,
              "tickcolor": "rgb(36,36,36)",
              "ticklen": 8,
              "ticks": "outside",
              "tickwidth": 2
             }
            },
            "type": "parcoords"
           }
          ],
          "pie": [
           {
            "automargin": true,
            "type": "pie"
           }
          ],
          "scatter3d": [
           {
            "line": {
             "colorbar": {
              "outlinewidth": 0,
              "tickcolor": "rgb(36,36,36)",
              "ticklen": 8,
              "ticks": "outside",
              "tickwidth": 2
             }
            },
            "marker": {
             "colorbar": {
              "outlinewidth": 0,
              "tickcolor": "rgb(36,36,36)",
              "ticklen": 8,
              "ticks": "outside",
              "tickwidth": 2
             }
            },
            "type": "scatter3d"
           }
          ],
          "scattercarpet": [
           {
            "marker": {
             "colorbar": {
              "outlinewidth": 0,
              "tickcolor": "rgb(36,36,36)",
              "ticklen": 8,
              "ticks": "outside",
              "tickwidth": 2
             }
            },
            "type": "scattercarpet"
           }
          ],
          "scattergeo": [
           {
            "marker": {
             "colorbar": {
              "outlinewidth": 0,
              "tickcolor": "rgb(36,36,36)",
              "ticklen": 8,
              "ticks": "outside",
              "tickwidth": 2
             }
            },
            "type": "scattergeo"
           }
          ],
          "scattergl": [
           {
            "marker": {
             "colorbar": {
              "outlinewidth": 0,
              "tickcolor": "rgb(36,36,36)",
              "ticklen": 8,
              "ticks": "outside",
              "tickwidth": 2
             }
            },
            "type": "scattergl"
           }
          ],
          "scattermapbox": [
           {
            "marker": {
             "colorbar": {
              "outlinewidth": 0,
              "tickcolor": "rgb(36,36,36)",
              "ticklen": 8,
              "ticks": "outside",
              "tickwidth": 2
             }
            },
            "type": "scattermapbox"
           }
          ],
          "scattermap": [
           {
            "marker": {
             "colorbar": {
              "outlinewidth": 0,
              "tickcolor": "rgb(36,36,36)",
              "ticklen": 8,
              "ticks": "outside",
              "tickwidth": 2
             }
            },
            "type": "scattermap"
           }
          ],
          "scatterpolargl": [
           {
            "marker": {
             "colorbar": {
              "outlinewidth": 0,
              "tickcolor": "rgb(36,36,36)",
              "ticklen": 8,
              "ticks": "outside",
              "tickwidth": 2
             }
            },
            "type": "scatterpolargl"
           }
          ],
          "scatterpolar": [
           {
            "marker": {
             "colorbar": {
              "outlinewidth": 0,
              "tickcolor": "rgb(36,36,36)",
              "ticklen": 8,
              "ticks": "outside",
              "tickwidth": 2
             }
            },
            "type": "scatterpolar"
           }
          ],
          "scatter": [
           {
            "fillpattern": {
             "fillmode": "overlay",
             "size": 10,
             "solidity": 0.2
            },
            "type": "scatter"
           }
          ],
          "scatterternary": [
           {
            "marker": {
             "colorbar": {
              "outlinewidth": 0,
              "tickcolor": "rgb(36,36,36)",
              "ticklen": 8,
              "ticks": "outside",
              "tickwidth": 2
             }
            },
            "type": "scatterternary"
           }
          ],
          "surface": [
           {
            "colorbar": {
             "outlinewidth": 0,
             "tickcolor": "rgb(36,36,36)",
             "ticklen": 8,
             "ticks": "outside",
             "tickwidth": 2
            },
            "colorscale": [
             [
              0.0,
              "rgb(2,4,25)"
             ],
             [
              0.06274509803921569,
              "rgb(24,15,41)"
             ],
             [
              0.12549019607843137,
              "rgb(47,23,57)"
             ],
             [
              0.18823529411764706,
              "rgb(71,28,72)"
             ],
             [
              0.25098039215686274,
              "rgb(97,30,82)"
             ],
             [
              0.3137254901960784,
              "rgb(123,30,89)"
             ],
             [
              0.3764705882352941,
              "rgb(150,27,91)"
             ],
             [
              0.4392156862745098,
              "rgb(177,22,88)"
             ],
             [
              0.5019607843137255,
              "rgb(203,26,79)"
             ],
             [
              0.5647058823529412,
              "rgb(223,47,67)"
             ],
             [
              0.6274509803921569,
              "rgb(236,76,61)"
             ],
             [
              0.6901960784313725,
              "rgb(242,107,73)"
             ],
             [
              0.7529411764705882,
              "rgb(244,135,95)"
             ],
             [
              0.8156862745098039,
              "rgb(245,162,122)"
             ],
             [
              0.8784313725490196,
              "rgb(246,188,153)"
             ],
             [
              0.9411764705882353,
              "rgb(247,212,187)"
             ],
             [
              1.0,
              "rgb(250,234,220)"
             ]
            ],
            "type": "surface"
           }
          ],
          "table": [
           {
            "cells": {
             "fill": {
              "color": "rgb(231,231,240)"
             },
             "line": {
              "color": "white"
             }
            },
            "header": {
             "fill": {
              "color": "rgb(183,183,191)"
             },
             "line": {
              "color": "white"
             }
            },
            "type": "table"
           }
          ]
         },
         "layout": {
          "annotationdefaults": {
           "arrowcolor": "rgb(67,103,167)"
          },
          "autotypenumbers": "strict",
          "coloraxis": {
           "colorbar": {
            "outlinewidth": 0,
            "tickcolor": "rgb(36,36,36)",
            "ticklen": 8,
            "ticks": "outside",
            "tickwidth": 2
           }
          },
          "colorscale": {
           "sequential": [
            [
             0.0,
             "rgb(2,4,25)"
            ],
            [
             0.06274509803921569,
             "rgb(24,15,41)"
            ],
            [
             0.12549019607843137,
             "rgb(47,23,57)"
            ],
            [
             0.18823529411764706,
             "rgb(71,28,72)"
            ],
            [
             0.25098039215686274,
             "rgb(97,30,82)"
            ],
            [
             0.3137254901960784,
             "rgb(123,30,89)"
            ],
            [
             0.3764705882352941,
             "rgb(150,27,91)"
            ],
            [
             0.4392156862745098,
             "rgb(177,22,88)"
            ],
            [
             0.5019607843137255,
             "rgb(203,26,79)"
            ],
            [
             0.5647058823529412,
             "rgb(223,47,67)"
            ],
            [
             0.6274509803921569,
             "rgb(236,76,61)"
            ],
            [
             0.6901960784313725,
             "rgb(242,107,73)"
            ],
            [
             0.7529411764705882,
             "rgb(244,135,95)"
            ],
            [
             0.8156862745098039,
             "rgb(245,162,122)"
            ],
            [
             0.8784313725490196,
             "rgb(246,188,153)"
            ],
            [
             0.9411764705882353,
             "rgb(247,212,187)"
            ],
            [
             1.0,
             "rgb(250,234,220)"
            ]
           ],
           "sequentialminus": [
            [
             0.0,
             "rgb(2,4,25)"
            ],
            [
             0.06274509803921569,
             "rgb(24,15,41)"
            ],
            [
             0.12549019607843137,
             "rgb(47,23,57)"
            ],
            [
             0.18823529411764706,
             "rgb(71,28,72)"
            ],
            [
             0.25098039215686274,
             "rgb(97,30,82)"
            ],
            [
             0.3137254901960784,
             "rgb(123,30,89)"
            ],
            [
             0.3764705882352941,
             "rgb(150,27,91)"
            ],
            [
             0.4392156862745098,
             "rgb(177,22,88)"
            ],
            [
             0.5019607843137255,
             "rgb(203,26,79)"
            ],
            [
             0.5647058823529412,
             "rgb(223,47,67)"
            ],
            [
             0.6274509803921569,
             "rgb(236,76,61)"
            ],
            [
             0.6901960784313725,
             "rgb(242,107,73)"
            ],
            [
             0.7529411764705882,
             "rgb(244,135,95)"
            ],
            [
             0.8156862745098039,
             "rgb(245,162,122)"
            ],
            [
             0.8784313725490196,
             "rgb(246,188,153)"
            ],
            [
             0.9411764705882353,
             "rgb(247,212,187)"
            ],
            [
             1.0,
             "rgb(250,234,220)"
            ]
           ]
          },
          "colorway": [
           "rgb(76,114,176)",
           "rgb(221,132,82)",
           "rgb(85,168,104)",
           "rgb(196,78,82)",
           "rgb(129,114,179)",
           "rgb(147,120,96)",
           "rgb(218,139,195)",
           "rgb(140,140,140)",
           "rgb(204,185,116)",
           "rgb(100,181,205)"
          ],
          "font": {
           "color": "rgb(36,36,36)"
          },
          "geo": {
           "bgcolor": "white",
           "lakecolor": "white",
           "landcolor": "rgb(234,234,242)",
           "showlakes": true,
           "showland": true,
           "subunitcolor": "white"
          },
          "hoverlabel": {
           "align": "left"
          },
          "hovermode": "closest",
          "paper_bgcolor": "white",
          "plot_bgcolor": "rgb(234,234,242)",
          "polar": {
           "angularaxis": {
            "gridcolor": "white",
            "linecolor": "white",
            "showgrid": true,
            "ticks": ""
           },
           "bgcolor": "rgb(234,234,242)",
           "radialaxis": {
            "gridcolor": "white",
            "linecolor": "white",
            "showgrid": true,
            "ticks": ""
           }
          },
          "scene": {
           "xaxis": {
            "backgroundcolor": "rgb(234,234,242)",
            "gridcolor": "white",
            "gridwidth": 2,
            "linecolor": "white",
            "showbackground": true,
            "showgrid": true,
            "ticks": "",
            "zerolinecolor": "white"
           },
           "yaxis": {
            "backgroundcolor": "rgb(234,234,242)",
            "gridcolor": "white",
            "gridwidth": 2,
            "linecolor": "white",
            "showbackground": true,
            "showgrid": true,
            "ticks": "",
            "zerolinecolor": "white"
           },
           "zaxis": {
            "backgroundcolor": "rgb(234,234,242)",
            "gridcolor": "white",
            "gridwidth": 2,
            "linecolor": "white",
            "showbackground": true,
            "showgrid": true,
            "ticks": "",
            "zerolinecolor": "white"
           }
          },
          "shapedefaults": {
           "fillcolor": "rgb(67,103,167)",
           "line": {
            "width": 0
           },
           "opacity": 0.5
          },
          "ternary": {
           "aaxis": {
            "gridcolor": "white",
            "linecolor": "white",
            "showgrid": true,
            "ticks": ""
           },
           "baxis": {
            "gridcolor": "white",
            "linecolor": "white",
            "showgrid": true,
            "ticks": ""
           },
           "bgcolor": "rgb(234,234,242)",
           "caxis": {
            "gridcolor": "white",
            "linecolor": "white",
            "showgrid": true,
            "ticks": ""
           }
          },
          "xaxis": {
           "automargin": true,
           "gridcolor": "white",
           "linecolor": "white",
           "showgrid": true,
           "ticks": "",
           "title": {
            "standoff": 15
           },
           "zerolinecolor": "white"
          },
          "yaxis": {
           "automargin": true,
           "gridcolor": "white",
           "linecolor": "white",
           "showgrid": true,
           "ticks": "",
           "title": {
            "standoff": 15
           },
           "zerolinecolor": "white"
          }
         }
        },
        "xaxis": {
         "anchor": "y",
         "domain": [
          0.0,
          1.0
         ],
         "title": {
          "text": "Date"
         }
        },
        "yaxis": {
         "anchor": "x",
         "domain": [
          0.0,
          1.0
         ],
         "title": {
          "text": "Average Execution Time (s)"
         },
         "rangemode": "tozero"
        },
        "legend": {
         "title": {
          "text": "database"
         },
         "tracegroupgap": 0
        },
        "title": {
         "text": "Average Execution Time for Usecase 3 Schema Evolution Over Time",
         "x": 0.5,
         "xanchor": "center"
        }
       },
       "config": {
        "plotlyServerURL": "https://plot.ly"
       }
      }
     },
     "metadata": {},
     "output_type": "display_data"
    },
    {
     "data": {
      "application/vnd.plotly.v1+json": {
       "data": [
        {
         "hovertemplate": "database=clickhouse<br>date_only=%{x}<br>mean_exec_time_s=%{y}<extra></extra>",
         "legendgroup": "clickhouse",
         "line": {
          "color": "#4c72b0",
          "dash": "solid"
         },
         "marker": {
          "symbol": "circle"
         },
         "mode": "lines+markers",
         "name": "clickhouse",
         "orientation": "v",
         "showlegend": true,
         "x": [
          "2025-06-12",
          "2025-06-13",
          "2025-06-14",
          "2025-06-15",
          "2025-06-16",
          "2025-06-17",
          "2025-06-18"
         ],
         "xaxis": "x",
         "y": {
          "dtype": "f8",
          "bdata": "oBov3SQGqT+hRbbz/dSoP/UoXI/C9ag//dR46SYxqD8D5F5zIWmqP9Ei2/l+aqw/8fRKWYY4pj8="
         },
         "yaxis": "y",
         "type": "scatter"
        },
        {
         "hovertemplate": "database=mongodb<br>date_only=%{x}<br>mean_exec_time_s=%{y}<extra></extra>",
         "legendgroup": "mongodb",
         "line": {
          "color": "#dd8452",
          "dash": "solid"
         },
         "marker": {
          "symbol": "circle"
         },
         "mode": "lines+markers",
         "name": "mongodb",
         "orientation": "v",
         "showlegend": true,
         "x": [
          "2025-06-12",
          "2025-06-13",
          "2025-06-14",
          "2025-06-15",
          "2025-06-16",
          "2025-06-17",
          "2025-06-18"
         ],
         "xaxis": "x",
         "y": {
          "dtype": "f8",
          "bdata": "g8DKoUW2tz8ZvS1rdUy4PwisHFpkO7c/WDm0yHa+tz9NqTj78Bm2P/eaC0lTKrY/x7q4jQbwtj8="
         },
         "yaxis": "y",
         "type": "scatter"
        },
        {
         "hovertemplate": "database=postgres<br>date_only=%{x}<br>mean_exec_time_s=%{y}<extra></extra>",
         "legendgroup": "postgres",
         "line": {
          "color": "#55a868",
          "dash": "solid"
         },
         "marker": {
          "symbol": "circle"
         },
         "mode": "lines+markers",
         "name": "postgres",
         "orientation": "v",
         "showlegend": true,
         "x": [
          "2025-06-12",
          "2025-06-13",
          "2025-06-14",
          "2025-06-15",
          "2025-06-16",
          "2025-06-17",
          "2025-06-18"
         ],
         "xaxis": "x",
         "y": {
          "dtype": "f8",
          "bdata": "j8L1KFyPuj+1gU4b6LS5P9gVIPeaC7k/X3MhaUrFuT+ZmZmZmZm5PxVnHz7Drrg/SgwCK4cWuT8="
         },
         "yaxis": "y",
         "type": "scatter"
        }
       ],
       "layout": {
        "template": {
         "data": {
          "barpolar": [
           {
            "marker": {
             "line": {
              "color": "rgb(234,234,242)",
              "width": 0.5
             },
             "pattern": {
              "fillmode": "overlay",
              "size": 10,
              "solidity": 0.2
             }
            },
            "type": "barpolar"
           }
          ],
          "bar": [
           {
            "error_x": {
             "color": "rgb(36,36,36)"
            },
            "error_y": {
             "color": "rgb(36,36,36)"
            },
            "marker": {
             "line": {
              "color": "rgb(234,234,242)",
              "width": 0.5
             },
             "pattern": {
              "fillmode": "overlay",
              "size": 10,
              "solidity": 0.2
             }
            },
            "type": "bar"
           }
          ],
          "carpet": [
           {
            "aaxis": {
             "endlinecolor": "rgb(36,36,36)",
             "gridcolor": "white",
             "linecolor": "white",
             "minorgridcolor": "white",
             "startlinecolor": "rgb(36,36,36)"
            },
            "baxis": {
             "endlinecolor": "rgb(36,36,36)",
             "gridcolor": "white",
             "linecolor": "white",
             "minorgridcolor": "white",
             "startlinecolor": "rgb(36,36,36)"
            },
            "type": "carpet"
           }
          ],
          "choropleth": [
           {
            "colorbar": {
             "outlinewidth": 0,
             "tickcolor": "rgb(36,36,36)",
             "ticklen": 8,
             "ticks": "outside",
             "tickwidth": 2
            },
            "type": "choropleth"
           }
          ],
          "contourcarpet": [
           {
            "colorbar": {
             "outlinewidth": 0,
             "tickcolor": "rgb(36,36,36)",
             "ticklen": 8,
             "ticks": "outside",
             "tickwidth": 2
            },
            "type": "contourcarpet"
           }
          ],
          "contour": [
           {
            "colorbar": {
             "outlinewidth": 0,
             "tickcolor": "rgb(36,36,36)",
             "ticklen": 8,
             "ticks": "outside",
             "tickwidth": 2
            },
            "colorscale": [
             [
              0.0,
              "rgb(2,4,25)"
             ],
             [
              0.06274509803921569,
              "rgb(24,15,41)"
             ],
             [
              0.12549019607843137,
              "rgb(47,23,57)"
             ],
             [
              0.18823529411764706,
              "rgb(71,28,72)"
             ],
             [
              0.25098039215686274,
              "rgb(97,30,82)"
             ],
             [
              0.3137254901960784,
              "rgb(123,30,89)"
             ],
             [
              0.3764705882352941,
              "rgb(150,27,91)"
             ],
             [
              0.4392156862745098,
              "rgb(177,22,88)"
             ],
             [
              0.5019607843137255,
              "rgb(203,26,79)"
             ],
             [
              0.5647058823529412,
              "rgb(223,47,67)"
             ],
             [
              0.6274509803921569,
              "rgb(236,76,61)"
             ],
             [
              0.6901960784313725,
              "rgb(242,107,73)"
             ],
             [
              0.7529411764705882,
              "rgb(244,135,95)"
             ],
             [
              0.8156862745098039,
              "rgb(245,162,122)"
             ],
             [
              0.8784313725490196,
              "rgb(246,188,153)"
             ],
             [
              0.9411764705882353,
              "rgb(247,212,187)"
             ],
             [
              1.0,
              "rgb(250,234,220)"
             ]
            ],
            "type": "contour"
           }
          ],
          "heatmap": [
           {
            "colorbar": {
             "outlinewidth": 0,
             "tickcolor": "rgb(36,36,36)",
             "ticklen": 8,
             "ticks": "outside",
             "tickwidth": 2
            },
            "colorscale": [
             [
              0.0,
              "rgb(2,4,25)"
             ],
             [
              0.06274509803921569,
              "rgb(24,15,41)"
             ],
             [
              0.12549019607843137,
              "rgb(47,23,57)"
             ],
             [
              0.18823529411764706,
              "rgb(71,28,72)"
             ],
             [
              0.25098039215686274,
              "rgb(97,30,82)"
             ],
             [
              0.3137254901960784,
              "rgb(123,30,89)"
             ],
             [
              0.3764705882352941,
              "rgb(150,27,91)"
             ],
             [
              0.4392156862745098,
              "rgb(177,22,88)"
             ],
             [
              0.5019607843137255,
              "rgb(203,26,79)"
             ],
             [
              0.5647058823529412,
              "rgb(223,47,67)"
             ],
             [
              0.6274509803921569,
              "rgb(236,76,61)"
             ],
             [
              0.6901960784313725,
              "rgb(242,107,73)"
             ],
             [
              0.7529411764705882,
              "rgb(244,135,95)"
             ],
             [
              0.8156862745098039,
              "rgb(245,162,122)"
             ],
             [
              0.8784313725490196,
              "rgb(246,188,153)"
             ],
             [
              0.9411764705882353,
              "rgb(247,212,187)"
             ],
             [
              1.0,
              "rgb(250,234,220)"
             ]
            ],
            "type": "heatmap"
           }
          ],
          "histogram2dcontour": [
           {
            "colorbar": {
             "outlinewidth": 0,
             "tickcolor": "rgb(36,36,36)",
             "ticklen": 8,
             "ticks": "outside",
             "tickwidth": 2
            },
            "colorscale": [
             [
              0.0,
              "rgb(2,4,25)"
             ],
             [
              0.06274509803921569,
              "rgb(24,15,41)"
             ],
             [
              0.12549019607843137,
              "rgb(47,23,57)"
             ],
             [
              0.18823529411764706,
              "rgb(71,28,72)"
             ],
             [
              0.25098039215686274,
              "rgb(97,30,82)"
             ],
             [
              0.3137254901960784,
              "rgb(123,30,89)"
             ],
             [
              0.3764705882352941,
              "rgb(150,27,91)"
             ],
             [
              0.4392156862745098,
              "rgb(177,22,88)"
             ],
             [
              0.5019607843137255,
              "rgb(203,26,79)"
             ],
             [
              0.5647058823529412,
              "rgb(223,47,67)"
             ],
             [
              0.6274509803921569,
              "rgb(236,76,61)"
             ],
             [
              0.6901960784313725,
              "rgb(242,107,73)"
             ],
             [
              0.7529411764705882,
              "rgb(244,135,95)"
             ],
             [
              0.8156862745098039,
              "rgb(245,162,122)"
             ],
             [
              0.8784313725490196,
              "rgb(246,188,153)"
             ],
             [
              0.9411764705882353,
              "rgb(247,212,187)"
             ],
             [
              1.0,
              "rgb(250,234,220)"
             ]
            ],
            "type": "histogram2dcontour"
           }
          ],
          "histogram2d": [
           {
            "colorbar": {
             "outlinewidth": 0,
             "tickcolor": "rgb(36,36,36)",
             "ticklen": 8,
             "ticks": "outside",
             "tickwidth": 2
            },
            "colorscale": [
             [
              0.0,
              "rgb(2,4,25)"
             ],
             [
              0.06274509803921569,
              "rgb(24,15,41)"
             ],
             [
              0.12549019607843137,
              "rgb(47,23,57)"
             ],
             [
              0.18823529411764706,
              "rgb(71,28,72)"
             ],
             [
              0.25098039215686274,
              "rgb(97,30,82)"
             ],
             [
              0.3137254901960784,
              "rgb(123,30,89)"
             ],
             [
              0.3764705882352941,
              "rgb(150,27,91)"
             ],
             [
              0.4392156862745098,
              "rgb(177,22,88)"
             ],
             [
              0.5019607843137255,
              "rgb(203,26,79)"
             ],
             [
              0.5647058823529412,
              "rgb(223,47,67)"
             ],
             [
              0.6274509803921569,
              "rgb(236,76,61)"
             ],
             [
              0.6901960784313725,
              "rgb(242,107,73)"
             ],
             [
              0.7529411764705882,
              "rgb(244,135,95)"
             ],
             [
              0.8156862745098039,
              "rgb(245,162,122)"
             ],
             [
              0.8784313725490196,
              "rgb(246,188,153)"
             ],
             [
              0.9411764705882353,
              "rgb(247,212,187)"
             ],
             [
              1.0,
              "rgb(250,234,220)"
             ]
            ],
            "type": "histogram2d"
           }
          ],
          "histogram": [
           {
            "marker": {
             "pattern": {
              "fillmode": "overlay",
              "size": 10,
              "solidity": 0.2
             }
            },
            "type": "histogram"
           }
          ],
          "mesh3d": [
           {
            "colorbar": {
             "outlinewidth": 0,
             "tickcolor": "rgb(36,36,36)",
             "ticklen": 8,
             "ticks": "outside",
             "tickwidth": 2
            },
            "type": "mesh3d"
           }
          ],
          "parcoords": [
           {
            "line": {
             "colorbar": {
              "outlinewidth": 0,
              "tickcolor": "rgb(36,36,36)",
              "ticklen": 8,
              "ticks": "outside",
              "tickwidth": 2
             }
            },
            "type": "parcoords"
           }
          ],
          "pie": [
           {
            "automargin": true,
            "type": "pie"
           }
          ],
          "scatter3d": [
           {
            "line": {
             "colorbar": {
              "outlinewidth": 0,
              "tickcolor": "rgb(36,36,36)",
              "ticklen": 8,
              "ticks": "outside",
              "tickwidth": 2
             }
            },
            "marker": {
             "colorbar": {
              "outlinewidth": 0,
              "tickcolor": "rgb(36,36,36)",
              "ticklen": 8,
              "ticks": "outside",
              "tickwidth": 2
             }
            },
            "type": "scatter3d"
           }
          ],
          "scattercarpet": [
           {
            "marker": {
             "colorbar": {
              "outlinewidth": 0,
              "tickcolor": "rgb(36,36,36)",
              "ticklen": 8,
              "ticks": "outside",
              "tickwidth": 2
             }
            },
            "type": "scattercarpet"
           }
          ],
          "scattergeo": [
           {
            "marker": {
             "colorbar": {
              "outlinewidth": 0,
              "tickcolor": "rgb(36,36,36)",
              "ticklen": 8,
              "ticks": "outside",
              "tickwidth": 2
             }
            },
            "type": "scattergeo"
           }
          ],
          "scattergl": [
           {
            "marker": {
             "colorbar": {
              "outlinewidth": 0,
              "tickcolor": "rgb(36,36,36)",
              "ticklen": 8,
              "ticks": "outside",
              "tickwidth": 2
             }
            },
            "type": "scattergl"
           }
          ],
          "scattermapbox": [
           {
            "marker": {
             "colorbar": {
              "outlinewidth": 0,
              "tickcolor": "rgb(36,36,36)",
              "ticklen": 8,
              "ticks": "outside",
              "tickwidth": 2
             }
            },
            "type": "scattermapbox"
           }
          ],
          "scattermap": [
           {
            "marker": {
             "colorbar": {
              "outlinewidth": 0,
              "tickcolor": "rgb(36,36,36)",
              "ticklen": 8,
              "ticks": "outside",
              "tickwidth": 2
             }
            },
            "type": "scattermap"
           }
          ],
          "scatterpolargl": [
           {
            "marker": {
             "colorbar": {
              "outlinewidth": 0,
              "tickcolor": "rgb(36,36,36)",
              "ticklen": 8,
              "ticks": "outside",
              "tickwidth": 2
             }
            },
            "type": "scatterpolargl"
           }
          ],
          "scatterpolar": [
           {
            "marker": {
             "colorbar": {
              "outlinewidth": 0,
              "tickcolor": "rgb(36,36,36)",
              "ticklen": 8,
              "ticks": "outside",
              "tickwidth": 2
             }
            },
            "type": "scatterpolar"
           }
          ],
          "scatter": [
           {
            "fillpattern": {
             "fillmode": "overlay",
             "size": 10,
             "solidity": 0.2
            },
            "type": "scatter"
           }
          ],
          "scatterternary": [
           {
            "marker": {
             "colorbar": {
              "outlinewidth": 0,
              "tickcolor": "rgb(36,36,36)",
              "ticklen": 8,
              "ticks": "outside",
              "tickwidth": 2
             }
            },
            "type": "scatterternary"
           }
          ],
          "surface": [
           {
            "colorbar": {
             "outlinewidth": 0,
             "tickcolor": "rgb(36,36,36)",
             "ticklen": 8,
             "ticks": "outside",
             "tickwidth": 2
            },
            "colorscale": [
             [
              0.0,
              "rgb(2,4,25)"
             ],
             [
              0.06274509803921569,
              "rgb(24,15,41)"
             ],
             [
              0.12549019607843137,
              "rgb(47,23,57)"
             ],
             [
              0.18823529411764706,
              "rgb(71,28,72)"
             ],
             [
              0.25098039215686274,
              "rgb(97,30,82)"
             ],
             [
              0.3137254901960784,
              "rgb(123,30,89)"
             ],
             [
              0.3764705882352941,
              "rgb(150,27,91)"
             ],
             [
              0.4392156862745098,
              "rgb(177,22,88)"
             ],
             [
              0.5019607843137255,
              "rgb(203,26,79)"
             ],
             [
              0.5647058823529412,
              "rgb(223,47,67)"
             ],
             [
              0.6274509803921569,
              "rgb(236,76,61)"
             ],
             [
              0.6901960784313725,
              "rgb(242,107,73)"
             ],
             [
              0.7529411764705882,
              "rgb(244,135,95)"
             ],
             [
              0.8156862745098039,
              "rgb(245,162,122)"
             ],
             [
              0.8784313725490196,
              "rgb(246,188,153)"
             ],
             [
              0.9411764705882353,
              "rgb(247,212,187)"
             ],
             [
              1.0,
              "rgb(250,234,220)"
             ]
            ],
            "type": "surface"
           }
          ],
          "table": [
           {
            "cells": {
             "fill": {
              "color": "rgb(231,231,240)"
             },
             "line": {
              "color": "white"
             }
            },
            "header": {
             "fill": {
              "color": "rgb(183,183,191)"
             },
             "line": {
              "color": "white"
             }
            },
            "type": "table"
           }
          ]
         },
         "layout": {
          "annotationdefaults": {
           "arrowcolor": "rgb(67,103,167)"
          },
          "autotypenumbers": "strict",
          "coloraxis": {
           "colorbar": {
            "outlinewidth": 0,
            "tickcolor": "rgb(36,36,36)",
            "ticklen": 8,
            "ticks": "outside",
            "tickwidth": 2
           }
          },
          "colorscale": {
           "sequential": [
            [
             0.0,
             "rgb(2,4,25)"
            ],
            [
             0.06274509803921569,
             "rgb(24,15,41)"
            ],
            [
             0.12549019607843137,
             "rgb(47,23,57)"
            ],
            [
             0.18823529411764706,
             "rgb(71,28,72)"
            ],
            [
             0.25098039215686274,
             "rgb(97,30,82)"
            ],
            [
             0.3137254901960784,
             "rgb(123,30,89)"
            ],
            [
             0.3764705882352941,
             "rgb(150,27,91)"
            ],
            [
             0.4392156862745098,
             "rgb(177,22,88)"
            ],
            [
             0.5019607843137255,
             "rgb(203,26,79)"
            ],
            [
             0.5647058823529412,
             "rgb(223,47,67)"
            ],
            [
             0.6274509803921569,
             "rgb(236,76,61)"
            ],
            [
             0.6901960784313725,
             "rgb(242,107,73)"
            ],
            [
             0.7529411764705882,
             "rgb(244,135,95)"
            ],
            [
             0.8156862745098039,
             "rgb(245,162,122)"
            ],
            [
             0.8784313725490196,
             "rgb(246,188,153)"
            ],
            [
             0.9411764705882353,
             "rgb(247,212,187)"
            ],
            [
             1.0,
             "rgb(250,234,220)"
            ]
           ],
           "sequentialminus": [
            [
             0.0,
             "rgb(2,4,25)"
            ],
            [
             0.06274509803921569,
             "rgb(24,15,41)"
            ],
            [
             0.12549019607843137,
             "rgb(47,23,57)"
            ],
            [
             0.18823529411764706,
             "rgb(71,28,72)"
            ],
            [
             0.25098039215686274,
             "rgb(97,30,82)"
            ],
            [
             0.3137254901960784,
             "rgb(123,30,89)"
            ],
            [
             0.3764705882352941,
             "rgb(150,27,91)"
            ],
            [
             0.4392156862745098,
             "rgb(177,22,88)"
            ],
            [
             0.5019607843137255,
             "rgb(203,26,79)"
            ],
            [
             0.5647058823529412,
             "rgb(223,47,67)"
            ],
            [
             0.6274509803921569,
             "rgb(236,76,61)"
            ],
            [
             0.6901960784313725,
             "rgb(242,107,73)"
            ],
            [
             0.7529411764705882,
             "rgb(244,135,95)"
            ],
            [
             0.8156862745098039,
             "rgb(245,162,122)"
            ],
            [
             0.8784313725490196,
             "rgb(246,188,153)"
            ],
            [
             0.9411764705882353,
             "rgb(247,212,187)"
            ],
            [
             1.0,
             "rgb(250,234,220)"
            ]
           ]
          },
          "colorway": [
           "rgb(76,114,176)",
           "rgb(221,132,82)",
           "rgb(85,168,104)",
           "rgb(196,78,82)",
           "rgb(129,114,179)",
           "rgb(147,120,96)",
           "rgb(218,139,195)",
           "rgb(140,140,140)",
           "rgb(204,185,116)",
           "rgb(100,181,205)"
          ],
          "font": {
           "color": "rgb(36,36,36)"
          },
          "geo": {
           "bgcolor": "white",
           "lakecolor": "white",
           "landcolor": "rgb(234,234,242)",
           "showlakes": true,
           "showland": true,
           "subunitcolor": "white"
          },
          "hoverlabel": {
           "align": "left"
          },
          "hovermode": "closest",
          "paper_bgcolor": "white",
          "plot_bgcolor": "rgb(234,234,242)",
          "polar": {
           "angularaxis": {
            "gridcolor": "white",
            "linecolor": "white",
            "showgrid": true,
            "ticks": ""
           },
           "bgcolor": "rgb(234,234,242)",
           "radialaxis": {
            "gridcolor": "white",
            "linecolor": "white",
            "showgrid": true,
            "ticks": ""
           }
          },
          "scene": {
           "xaxis": {
            "backgroundcolor": "rgb(234,234,242)",
            "gridcolor": "white",
            "gridwidth": 2,
            "linecolor": "white",
            "showbackground": true,
            "showgrid": true,
            "ticks": "",
            "zerolinecolor": "white"
           },
           "yaxis": {
            "backgroundcolor": "rgb(234,234,242)",
            "gridcolor": "white",
            "gridwidth": 2,
            "linecolor": "white",
            "showbackground": true,
            "showgrid": true,
            "ticks": "",
            "zerolinecolor": "white"
           },
           "zaxis": {
            "backgroundcolor": "rgb(234,234,242)",
            "gridcolor": "white",
            "gridwidth": 2,
            "linecolor": "white",
            "showbackground": true,
            "showgrid": true,
            "ticks": "",
            "zerolinecolor": "white"
           }
          },
          "shapedefaults": {
           "fillcolor": "rgb(67,103,167)",
           "line": {
            "width": 0
           },
           "opacity": 0.5
          },
          "ternary": {
           "aaxis": {
            "gridcolor": "white",
            "linecolor": "white",
            "showgrid": true,
            "ticks": ""
           },
           "baxis": {
            "gridcolor": "white",
            "linecolor": "white",
            "showgrid": true,
            "ticks": ""
           },
           "bgcolor": "rgb(234,234,242)",
           "caxis": {
            "gridcolor": "white",
            "linecolor": "white",
            "showgrid": true,
            "ticks": ""
           }
          },
          "xaxis": {
           "automargin": true,
           "gridcolor": "white",
           "linecolor": "white",
           "showgrid": true,
           "ticks": "",
           "title": {
            "standoff": 15
           },
           "zerolinecolor": "white"
          },
          "yaxis": {
           "automargin": true,
           "gridcolor": "white",
           "linecolor": "white",
           "showgrid": true,
           "ticks": "",
           "title": {
            "standoff": 15
           },
           "zerolinecolor": "white"
          }
         }
        },
        "xaxis": {
         "anchor": "y",
         "domain": [
          0.0,
          1.0
         ],
         "title": {
          "text": "Date"
         }
        },
        "yaxis": {
         "anchor": "x",
         "domain": [
          0.0,
          1.0
         ],
         "title": {
          "text": "Average Execution Time (s)"
         },
         "rangemode": "tozero"
        },
        "legend": {
         "title": {
          "text": "database"
         },
         "tracegroupgap": 0
        },
        "title": {
         "text": "Average Execution Time for Usecase 4 Analytical Query Over Time",
         "x": 0.5,
         "xanchor": "center"
        }
       },
       "config": {
        "plotlyServerURL": "https://plot.ly"
       }
      }
     },
     "metadata": {},
     "output_type": "display_data"
    },
    {
     "data": {
      "application/vnd.plotly.v1+json": {
       "data": [
        {
         "hovertemplate": "database=clickhouse<br>date_only=%{x}<br>mean_exec_time_s=%{y}<extra></extra>",
         "legendgroup": "clickhouse",
         "line": {
          "color": "#4c72b0",
          "dash": "solid"
         },
         "marker": {
          "symbol": "circle"
         },
         "mode": "lines+markers",
         "name": "clickhouse",
         "orientation": "v",
         "showlegend": true,
         "x": [
          "2025-06-12",
          "2025-06-13",
          "2025-06-14",
          "2025-06-15",
          "2025-06-16",
          "2025-06-17",
          "2025-06-18"
         ],
         "xaxis": "x",
         "y": {
          "dtype": "f8",
          "bdata": "O99PjZdutj/tw2fYFSC3P2zn+6nx0rU/i/o3Qhm9tT9cj8L1KFy3PwfzRP0bobQ/bqMBvAUStD8="
         },
         "yaxis": "y",
         "type": "scatter"
        },
        {
         "hovertemplate": "database=mongodb<br>date_only=%{x}<br>mean_exec_time_s=%{y}<extra></extra>",
         "legendgroup": "mongodb",
         "line": {
          "color": "#dd8452",
          "dash": "solid"
         },
         "marker": {
          "symbol": "circle"
         },
         "mode": "lines+markers",
         "name": "mongodb",
         "orientation": "v",
         "showlegend": true,
         "x": [
          "2025-06-12",
          "2025-06-13",
          "2025-06-14",
          "2025-06-15",
          "2025-06-16",
          "2025-06-17",
          "2025-06-18"
         ],
         "xaxis": "x",
         "y": {
          "dtype": "f8",
          "bdata": "XI/C9SisKEDYFSD3mjspQNEi2/l+CihA8KfGSzeJKECYbhKDwMonQPs3Qhm9vSdAlUOLbOd7J0A="
         },
         "yaxis": "y",
         "type": "scatter"
        },
        {
         "hovertemplate": "database=postgres<br>date_only=%{x}<br>mean_exec_time_s=%{y}<extra></extra>",
         "legendgroup": "postgres",
         "line": {
          "color": "#55a868",
          "dash": "solid"
         },
         "marker": {
          "symbol": "circle"
         },
         "mode": "lines+markers",
         "name": "postgres",
         "orientation": "v",
         "showlegend": true,
         "x": [
          "2025-06-12",
          "2025-06-13",
          "2025-06-14",
          "2025-06-15",
          "2025-06-16",
          "2025-06-17",
          "2025-06-18"
         ],
         "xaxis": "x",
         "y": {
          "dtype": "f8",
          "bdata": "AiuHFtmuBECX/GLJL9YFQEt+seQXCwVAOm2g0wZ6BEC7SQwCK8cEQP0boYze1gNAnu+nxks3A0A="
         },
         "yaxis": "y",
         "type": "scatter"
        }
       ],
       "layout": {
        "template": {
         "data": {
          "barpolar": [
           {
            "marker": {
             "line": {
              "color": "rgb(234,234,242)",
              "width": 0.5
             },
             "pattern": {
              "fillmode": "overlay",
              "size": 10,
              "solidity": 0.2
             }
            },
            "type": "barpolar"
           }
          ],
          "bar": [
           {
            "error_x": {
             "color": "rgb(36,36,36)"
            },
            "error_y": {
             "color": "rgb(36,36,36)"
            },
            "marker": {
             "line": {
              "color": "rgb(234,234,242)",
              "width": 0.5
             },
             "pattern": {
              "fillmode": "overlay",
              "size": 10,
              "solidity": 0.2
             }
            },
            "type": "bar"
           }
          ],
          "carpet": [
           {
            "aaxis": {
             "endlinecolor": "rgb(36,36,36)",
             "gridcolor": "white",
             "linecolor": "white",
             "minorgridcolor": "white",
             "startlinecolor": "rgb(36,36,36)"
            },
            "baxis": {
             "endlinecolor": "rgb(36,36,36)",
             "gridcolor": "white",
             "linecolor": "white",
             "minorgridcolor": "white",
             "startlinecolor": "rgb(36,36,36)"
            },
            "type": "carpet"
           }
          ],
          "choropleth": [
           {
            "colorbar": {
             "outlinewidth": 0,
             "tickcolor": "rgb(36,36,36)",
             "ticklen": 8,
             "ticks": "outside",
             "tickwidth": 2
            },
            "type": "choropleth"
           }
          ],
          "contourcarpet": [
           {
            "colorbar": {
             "outlinewidth": 0,
             "tickcolor": "rgb(36,36,36)",
             "ticklen": 8,
             "ticks": "outside",
             "tickwidth": 2
            },
            "type": "contourcarpet"
           }
          ],
          "contour": [
           {
            "colorbar": {
             "outlinewidth": 0,
             "tickcolor": "rgb(36,36,36)",
             "ticklen": 8,
             "ticks": "outside",
             "tickwidth": 2
            },
            "colorscale": [
             [
              0.0,
              "rgb(2,4,25)"
             ],
             [
              0.06274509803921569,
              "rgb(24,15,41)"
             ],
             [
              0.12549019607843137,
              "rgb(47,23,57)"
             ],
             [
              0.18823529411764706,
              "rgb(71,28,72)"
             ],
             [
              0.25098039215686274,
              "rgb(97,30,82)"
             ],
             [
              0.3137254901960784,
              "rgb(123,30,89)"
             ],
             [
              0.3764705882352941,
              "rgb(150,27,91)"
             ],
             [
              0.4392156862745098,
              "rgb(177,22,88)"
             ],
             [
              0.5019607843137255,
              "rgb(203,26,79)"
             ],
             [
              0.5647058823529412,
              "rgb(223,47,67)"
             ],
             [
              0.6274509803921569,
              "rgb(236,76,61)"
             ],
             [
              0.6901960784313725,
              "rgb(242,107,73)"
             ],
             [
              0.7529411764705882,
              "rgb(244,135,95)"
             ],
             [
              0.8156862745098039,
              "rgb(245,162,122)"
             ],
             [
              0.8784313725490196,
              "rgb(246,188,153)"
             ],
             [
              0.9411764705882353,
              "rgb(247,212,187)"
             ],
             [
              1.0,
              "rgb(250,234,220)"
             ]
            ],
            "type": "contour"
           }
          ],
          "heatmap": [
           {
            "colorbar": {
             "outlinewidth": 0,
             "tickcolor": "rgb(36,36,36)",
             "ticklen": 8,
             "ticks": "outside",
             "tickwidth": 2
            },
            "colorscale": [
             [
              0.0,
              "rgb(2,4,25)"
             ],
             [
              0.06274509803921569,
              "rgb(24,15,41)"
             ],
             [
              0.12549019607843137,
              "rgb(47,23,57)"
             ],
             [
              0.18823529411764706,
              "rgb(71,28,72)"
             ],
             [
              0.25098039215686274,
              "rgb(97,30,82)"
             ],
             [
              0.3137254901960784,
              "rgb(123,30,89)"
             ],
             [
              0.3764705882352941,
              "rgb(150,27,91)"
             ],
             [
              0.4392156862745098,
              "rgb(177,22,88)"
             ],
             [
              0.5019607843137255,
              "rgb(203,26,79)"
             ],
             [
              0.5647058823529412,
              "rgb(223,47,67)"
             ],
             [
              0.6274509803921569,
              "rgb(236,76,61)"
             ],
             [
              0.6901960784313725,
              "rgb(242,107,73)"
             ],
             [
              0.7529411764705882,
              "rgb(244,135,95)"
             ],
             [
              0.8156862745098039,
              "rgb(245,162,122)"
             ],
             [
              0.8784313725490196,
              "rgb(246,188,153)"
             ],
             [
              0.9411764705882353,
              "rgb(247,212,187)"
             ],
             [
              1.0,
              "rgb(250,234,220)"
             ]
            ],
            "type": "heatmap"
           }
          ],
          "histogram2dcontour": [
           {
            "colorbar": {
             "outlinewidth": 0,
             "tickcolor": "rgb(36,36,36)",
             "ticklen": 8,
             "ticks": "outside",
             "tickwidth": 2
            },
            "colorscale": [
             [
              0.0,
              "rgb(2,4,25)"
             ],
             [
              0.06274509803921569,
              "rgb(24,15,41)"
             ],
             [
              0.12549019607843137,
              "rgb(47,23,57)"
             ],
             [
              0.18823529411764706,
              "rgb(71,28,72)"
             ],
             [
              0.25098039215686274,
              "rgb(97,30,82)"
             ],
             [
              0.3137254901960784,
              "rgb(123,30,89)"
             ],
             [
              0.3764705882352941,
              "rgb(150,27,91)"
             ],
             [
              0.4392156862745098,
              "rgb(177,22,88)"
             ],
             [
              0.5019607843137255,
              "rgb(203,26,79)"
             ],
             [
              0.5647058823529412,
              "rgb(223,47,67)"
             ],
             [
              0.6274509803921569,
              "rgb(236,76,61)"
             ],
             [
              0.6901960784313725,
              "rgb(242,107,73)"
             ],
             [
              0.7529411764705882,
              "rgb(244,135,95)"
             ],
             [
              0.8156862745098039,
              "rgb(245,162,122)"
             ],
             [
              0.8784313725490196,
              "rgb(246,188,153)"
             ],
             [
              0.9411764705882353,
              "rgb(247,212,187)"
             ],
             [
              1.0,
              "rgb(250,234,220)"
             ]
            ],
            "type": "histogram2dcontour"
           }
          ],
          "histogram2d": [
           {
            "colorbar": {
             "outlinewidth": 0,
             "tickcolor": "rgb(36,36,36)",
             "ticklen": 8,
             "ticks": "outside",
             "tickwidth": 2
            },
            "colorscale": [
             [
              0.0,
              "rgb(2,4,25)"
             ],
             [
              0.06274509803921569,
              "rgb(24,15,41)"
             ],
             [
              0.12549019607843137,
              "rgb(47,23,57)"
             ],
             [
              0.18823529411764706,
              "rgb(71,28,72)"
             ],
             [
              0.25098039215686274,
              "rgb(97,30,82)"
             ],
             [
              0.3137254901960784,
              "rgb(123,30,89)"
             ],
             [
              0.3764705882352941,
              "rgb(150,27,91)"
             ],
             [
              0.4392156862745098,
              "rgb(177,22,88)"
             ],
             [
              0.5019607843137255,
              "rgb(203,26,79)"
             ],
             [
              0.5647058823529412,
              "rgb(223,47,67)"
             ],
             [
              0.6274509803921569,
              "rgb(236,76,61)"
             ],
             [
              0.6901960784313725,
              "rgb(242,107,73)"
             ],
             [
              0.7529411764705882,
              "rgb(244,135,95)"
             ],
             [
              0.8156862745098039,
              "rgb(245,162,122)"
             ],
             [
              0.8784313725490196,
              "rgb(246,188,153)"
             ],
             [
              0.9411764705882353,
              "rgb(247,212,187)"
             ],
             [
              1.0,
              "rgb(250,234,220)"
             ]
            ],
            "type": "histogram2d"
           }
          ],
          "histogram": [
           {
            "marker": {
             "pattern": {
              "fillmode": "overlay",
              "size": 10,
              "solidity": 0.2
             }
            },
            "type": "histogram"
           }
          ],
          "mesh3d": [
           {
            "colorbar": {
             "outlinewidth": 0,
             "tickcolor": "rgb(36,36,36)",
             "ticklen": 8,
             "ticks": "outside",
             "tickwidth": 2
            },
            "type": "mesh3d"
           }
          ],
          "parcoords": [
           {
            "line": {
             "colorbar": {
              "outlinewidth": 0,
              "tickcolor": "rgb(36,36,36)",
              "ticklen": 8,
              "ticks": "outside",
              "tickwidth": 2
             }
            },
            "type": "parcoords"
           }
          ],
          "pie": [
           {
            "automargin": true,
            "type": "pie"
           }
          ],
          "scatter3d": [
           {
            "line": {
             "colorbar": {
              "outlinewidth": 0,
              "tickcolor": "rgb(36,36,36)",
              "ticklen": 8,
              "ticks": "outside",
              "tickwidth": 2
             }
            },
            "marker": {
             "colorbar": {
              "outlinewidth": 0,
              "tickcolor": "rgb(36,36,36)",
              "ticklen": 8,
              "ticks": "outside",
              "tickwidth": 2
             }
            },
            "type": "scatter3d"
           }
          ],
          "scattercarpet": [
           {
            "marker": {
             "colorbar": {
              "outlinewidth": 0,
              "tickcolor": "rgb(36,36,36)",
              "ticklen": 8,
              "ticks": "outside",
              "tickwidth": 2
             }
            },
            "type": "scattercarpet"
           }
          ],
          "scattergeo": [
           {
            "marker": {
             "colorbar": {
              "outlinewidth": 0,
              "tickcolor": "rgb(36,36,36)",
              "ticklen": 8,
              "ticks": "outside",
              "tickwidth": 2
             }
            },
            "type": "scattergeo"
           }
          ],
          "scattergl": [
           {
            "marker": {
             "colorbar": {
              "outlinewidth": 0,
              "tickcolor": "rgb(36,36,36)",
              "ticklen": 8,
              "ticks": "outside",
              "tickwidth": 2
             }
            },
            "type": "scattergl"
           }
          ],
          "scattermapbox": [
           {
            "marker": {
             "colorbar": {
              "outlinewidth": 0,
              "tickcolor": "rgb(36,36,36)",
              "ticklen": 8,
              "ticks": "outside",
              "tickwidth": 2
             }
            },
            "type": "scattermapbox"
           }
          ],
          "scattermap": [
           {
            "marker": {
             "colorbar": {
              "outlinewidth": 0,
              "tickcolor": "rgb(36,36,36)",
              "ticklen": 8,
              "ticks": "outside",
              "tickwidth": 2
             }
            },
            "type": "scattermap"
           }
          ],
          "scatterpolargl": [
           {
            "marker": {
             "colorbar": {
              "outlinewidth": 0,
              "tickcolor": "rgb(36,36,36)",
              "ticklen": 8,
              "ticks": "outside",
              "tickwidth": 2
             }
            },
            "type": "scatterpolargl"
           }
          ],
          "scatterpolar": [
           {
            "marker": {
             "colorbar": {
              "outlinewidth": 0,
              "tickcolor": "rgb(36,36,36)",
              "ticklen": 8,
              "ticks": "outside",
              "tickwidth": 2
             }
            },
            "type": "scatterpolar"
           }
          ],
          "scatter": [
           {
            "fillpattern": {
             "fillmode": "overlay",
             "size": 10,
             "solidity": 0.2
            },
            "type": "scatter"
           }
          ],
          "scatterternary": [
           {
            "marker": {
             "colorbar": {
              "outlinewidth": 0,
              "tickcolor": "rgb(36,36,36)",
              "ticklen": 8,
              "ticks": "outside",
              "tickwidth": 2
             }
            },
            "type": "scatterternary"
           }
          ],
          "surface": [
           {
            "colorbar": {
             "outlinewidth": 0,
             "tickcolor": "rgb(36,36,36)",
             "ticklen": 8,
             "ticks": "outside",
             "tickwidth": 2
            },
            "colorscale": [
             [
              0.0,
              "rgb(2,4,25)"
             ],
             [
              0.06274509803921569,
              "rgb(24,15,41)"
             ],
             [
              0.12549019607843137,
              "rgb(47,23,57)"
             ],
             [
              0.18823529411764706,
              "rgb(71,28,72)"
             ],
             [
              0.25098039215686274,
              "rgb(97,30,82)"
             ],
             [
              0.3137254901960784,
              "rgb(123,30,89)"
             ],
             [
              0.3764705882352941,
              "rgb(150,27,91)"
             ],
             [
              0.4392156862745098,
              "rgb(177,22,88)"
             ],
             [
              0.5019607843137255,
              "rgb(203,26,79)"
             ],
             [
              0.5647058823529412,
              "rgb(223,47,67)"
             ],
             [
              0.6274509803921569,
              "rgb(236,76,61)"
             ],
             [
              0.6901960784313725,
              "rgb(242,107,73)"
             ],
             [
              0.7529411764705882,
              "rgb(244,135,95)"
             ],
             [
              0.8156862745098039,
              "rgb(245,162,122)"
             ],
             [
              0.8784313725490196,
              "rgb(246,188,153)"
             ],
             [
              0.9411764705882353,
              "rgb(247,212,187)"
             ],
             [
              1.0,
              "rgb(250,234,220)"
             ]
            ],
            "type": "surface"
           }
          ],
          "table": [
           {
            "cells": {
             "fill": {
              "color": "rgb(231,231,240)"
             },
             "line": {
              "color": "white"
             }
            },
            "header": {
             "fill": {
              "color": "rgb(183,183,191)"
             },
             "line": {
              "color": "white"
             }
            },
            "type": "table"
           }
          ]
         },
         "layout": {
          "annotationdefaults": {
           "arrowcolor": "rgb(67,103,167)"
          },
          "autotypenumbers": "strict",
          "coloraxis": {
           "colorbar": {
            "outlinewidth": 0,
            "tickcolor": "rgb(36,36,36)",
            "ticklen": 8,
            "ticks": "outside",
            "tickwidth": 2
           }
          },
          "colorscale": {
           "sequential": [
            [
             0.0,
             "rgb(2,4,25)"
            ],
            [
             0.06274509803921569,
             "rgb(24,15,41)"
            ],
            [
             0.12549019607843137,
             "rgb(47,23,57)"
            ],
            [
             0.18823529411764706,
             "rgb(71,28,72)"
            ],
            [
             0.25098039215686274,
             "rgb(97,30,82)"
            ],
            [
             0.3137254901960784,
             "rgb(123,30,89)"
            ],
            [
             0.3764705882352941,
             "rgb(150,27,91)"
            ],
            [
             0.4392156862745098,
             "rgb(177,22,88)"
            ],
            [
             0.5019607843137255,
             "rgb(203,26,79)"
            ],
            [
             0.5647058823529412,
             "rgb(223,47,67)"
            ],
            [
             0.6274509803921569,
             "rgb(236,76,61)"
            ],
            [
             0.6901960784313725,
             "rgb(242,107,73)"
            ],
            [
             0.7529411764705882,
             "rgb(244,135,95)"
            ],
            [
             0.8156862745098039,
             "rgb(245,162,122)"
            ],
            [
             0.8784313725490196,
             "rgb(246,188,153)"
            ],
            [
             0.9411764705882353,
             "rgb(247,212,187)"
            ],
            [
             1.0,
             "rgb(250,234,220)"
            ]
           ],
           "sequentialminus": [
            [
             0.0,
             "rgb(2,4,25)"
            ],
            [
             0.06274509803921569,
             "rgb(24,15,41)"
            ],
            [
             0.12549019607843137,
             "rgb(47,23,57)"
            ],
            [
             0.18823529411764706,
             "rgb(71,28,72)"
            ],
            [
             0.25098039215686274,
             "rgb(97,30,82)"
            ],
            [
             0.3137254901960784,
             "rgb(123,30,89)"
            ],
            [
             0.3764705882352941,
             "rgb(150,27,91)"
            ],
            [
             0.4392156862745098,
             "rgb(177,22,88)"
            ],
            [
             0.5019607843137255,
             "rgb(203,26,79)"
            ],
            [
             0.5647058823529412,
             "rgb(223,47,67)"
            ],
            [
             0.6274509803921569,
             "rgb(236,76,61)"
            ],
            [
             0.6901960784313725,
             "rgb(242,107,73)"
            ],
            [
             0.7529411764705882,
             "rgb(244,135,95)"
            ],
            [
             0.8156862745098039,
             "rgb(245,162,122)"
            ],
            [
             0.8784313725490196,
             "rgb(246,188,153)"
            ],
            [
             0.9411764705882353,
             "rgb(247,212,187)"
            ],
            [
             1.0,
             "rgb(250,234,220)"
            ]
           ]
          },
          "colorway": [
           "rgb(76,114,176)",
           "rgb(221,132,82)",
           "rgb(85,168,104)",
           "rgb(196,78,82)",
           "rgb(129,114,179)",
           "rgb(147,120,96)",
           "rgb(218,139,195)",
           "rgb(140,140,140)",
           "rgb(204,185,116)",
           "rgb(100,181,205)"
          ],
          "font": {
           "color": "rgb(36,36,36)"
          },
          "geo": {
           "bgcolor": "white",
           "lakecolor": "white",
           "landcolor": "rgb(234,234,242)",
           "showlakes": true,
           "showland": true,
           "subunitcolor": "white"
          },
          "hoverlabel": {
           "align": "left"
          },
          "hovermode": "closest",
          "paper_bgcolor": "white",
          "plot_bgcolor": "rgb(234,234,242)",
          "polar": {
           "angularaxis": {
            "gridcolor": "white",
            "linecolor": "white",
            "showgrid": true,
            "ticks": ""
           },
           "bgcolor": "rgb(234,234,242)",
           "radialaxis": {
            "gridcolor": "white",
            "linecolor": "white",
            "showgrid": true,
            "ticks": ""
           }
          },
          "scene": {
           "xaxis": {
            "backgroundcolor": "rgb(234,234,242)",
            "gridcolor": "white",
            "gridwidth": 2,
            "linecolor": "white",
            "showbackground": true,
            "showgrid": true,
            "ticks": "",
            "zerolinecolor": "white"
           },
           "yaxis": {
            "backgroundcolor": "rgb(234,234,242)",
            "gridcolor": "white",
            "gridwidth": 2,
            "linecolor": "white",
            "showbackground": true,
            "showgrid": true,
            "ticks": "",
            "zerolinecolor": "white"
           },
           "zaxis": {
            "backgroundcolor": "rgb(234,234,242)",
            "gridcolor": "white",
            "gridwidth": 2,
            "linecolor": "white",
            "showbackground": true,
            "showgrid": true,
            "ticks": "",
            "zerolinecolor": "white"
           }
          },
          "shapedefaults": {
           "fillcolor": "rgb(67,103,167)",
           "line": {
            "width": 0
           },
           "opacity": 0.5
          },
          "ternary": {
           "aaxis": {
            "gridcolor": "white",
            "linecolor": "white",
            "showgrid": true,
            "ticks": ""
           },
           "baxis": {
            "gridcolor": "white",
            "linecolor": "white",
            "showgrid": true,
            "ticks": ""
           },
           "bgcolor": "rgb(234,234,242)",
           "caxis": {
            "gridcolor": "white",
            "linecolor": "white",
            "showgrid": true,
            "ticks": ""
           }
          },
          "xaxis": {
           "automargin": true,
           "gridcolor": "white",
           "linecolor": "white",
           "showgrid": true,
           "ticks": "",
           "title": {
            "standoff": 15
           },
           "zerolinecolor": "white"
          },
          "yaxis": {
           "automargin": true,
           "gridcolor": "white",
           "linecolor": "white",
           "showgrid": true,
           "ticks": "",
           "title": {
            "standoff": 15
           },
           "zerolinecolor": "white"
          }
         }
        },
        "xaxis": {
         "anchor": "y",
         "domain": [
          0.0,
          1.0
         ],
         "title": {
          "text": "Date"
         }
        },
        "yaxis": {
         "anchor": "x",
         "domain": [
          0.0,
          1.0
         ],
         "title": {
          "text": "Average Execution Time (s)"
         },
         "rangemode": "tozero"
        },
        "legend": {
         "title": {
          "text": "database"
         },
         "tracegroupgap": 0
        },
        "title": {
         "text": "Average Execution Time for Usecase 5 Aggregation Over Time",
         "x": 0.5,
         "xanchor": "center"
        }
       },
       "config": {
        "plotlyServerURL": "https://plot.ly"
       }
      }
     },
     "metadata": {},
     "output_type": "display_data"
    },
    {
     "data": {
      "application/vnd.plotly.v1+json": {
       "data": [
        {
         "hovertemplate": "database=clickhouse<br>date_only=%{x}<br>mean_exec_time_s=%{y}<extra></extra>",
         "legendgroup": "clickhouse",
         "line": {
          "color": "#4c72b0",
          "dash": "solid"
         },
         "marker": {
          "symbol": "circle"
         },
         "mode": "lines+markers",
         "name": "clickhouse",
         "orientation": "v",
         "showlegend": true,
         "x": [
          "2025-06-12",
          "2025-06-13",
          "2025-06-14",
          "2025-06-15",
          "2025-06-16",
          "2025-06-17",
          "2025-06-18"
         ],
         "xaxis": "x",
         "y": {
          "dtype": "f8",
          "bdata": "Rrbz/dT4CkADnTbQaUMLQEGnDXTaQApAME/UvxHKCkAYkqZUnH0KQHUFyL3mwglA097gC5OpCUA="
         },
         "yaxis": "y",
         "type": "scatter"
        },
        {
         "hovertemplate": "database=mongodb<br>date_only=%{x}<br>mean_exec_time_s=%{y}<extra></extra>",
         "legendgroup": "mongodb",
         "line": {
          "color": "#dd8452",
          "dash": "solid"
         },
         "marker": {
          "symbol": "circle"
         },
         "mode": "lines+markers",
         "name": "mongodb",
         "orientation": "v",
         "showlegend": true,
         "x": [
          "2025-06-12",
          "2025-06-13",
          "2025-06-14",
          "2025-06-15",
          "2025-06-16",
          "2025-06-17",
          "2025-06-18"
         ],
         "xaxis": "x",
         "y": {
          "dtype": "f8",
          "bdata": "lkOLbOerFEDRItv5fuoVQAkezBP1zxRAnMQgsHLIFEA730+Nly4VQNBpA502MBRA0m9fB84ZFEA="
         },
         "yaxis": "y",
         "type": "scatter"
        },
        {
         "hovertemplate": "database=postgres<br>date_only=%{x}<br>mean_exec_time_s=%{y}<extra></extra>",
         "legendgroup": "postgres",
         "line": {
          "color": "#55a868",
          "dash": "solid"
         },
         "marker": {
          "symbol": "circle"
         },
         "mode": "lines+markers",
         "name": "postgres",
         "orientation": "v",
         "showlegend": true,
         "x": [
          "2025-06-12",
          "2025-06-13",
          "2025-06-14",
          "2025-06-15",
          "2025-06-16",
          "2025-06-17",
          "2025-06-18"
         ],
         "xaxis": "x",
         "y": {
          "dtype": "f8",
          "bdata": "TDeJQWDlEEDGkl8s+SUSQORecyFpyhBATDeJQWBlEUCnVJx9+CwRQCtA7jUXshBA+u3rwDkjEEA="
         },
         "yaxis": "y",
         "type": "scatter"
        }
       ],
       "layout": {
        "template": {
         "data": {
          "barpolar": [
           {
            "marker": {
             "line": {
              "color": "rgb(234,234,242)",
              "width": 0.5
             },
             "pattern": {
              "fillmode": "overlay",
              "size": 10,
              "solidity": 0.2
             }
            },
            "type": "barpolar"
           }
          ],
          "bar": [
           {
            "error_x": {
             "color": "rgb(36,36,36)"
            },
            "error_y": {
             "color": "rgb(36,36,36)"
            },
            "marker": {
             "line": {
              "color": "rgb(234,234,242)",
              "width": 0.5
             },
             "pattern": {
              "fillmode": "overlay",
              "size": 10,
              "solidity": 0.2
             }
            },
            "type": "bar"
           }
          ],
          "carpet": [
           {
            "aaxis": {
             "endlinecolor": "rgb(36,36,36)",
             "gridcolor": "white",
             "linecolor": "white",
             "minorgridcolor": "white",
             "startlinecolor": "rgb(36,36,36)"
            },
            "baxis": {
             "endlinecolor": "rgb(36,36,36)",
             "gridcolor": "white",
             "linecolor": "white",
             "minorgridcolor": "white",
             "startlinecolor": "rgb(36,36,36)"
            },
            "type": "carpet"
           }
          ],
          "choropleth": [
           {
            "colorbar": {
             "outlinewidth": 0,
             "tickcolor": "rgb(36,36,36)",
             "ticklen": 8,
             "ticks": "outside",
             "tickwidth": 2
            },
            "type": "choropleth"
           }
          ],
          "contourcarpet": [
           {
            "colorbar": {
             "outlinewidth": 0,
             "tickcolor": "rgb(36,36,36)",
             "ticklen": 8,
             "ticks": "outside",
             "tickwidth": 2
            },
            "type": "contourcarpet"
           }
          ],
          "contour": [
           {
            "colorbar": {
             "outlinewidth": 0,
             "tickcolor": "rgb(36,36,36)",
             "ticklen": 8,
             "ticks": "outside",
             "tickwidth": 2
            },
            "colorscale": [
             [
              0.0,
              "rgb(2,4,25)"
             ],
             [
              0.06274509803921569,
              "rgb(24,15,41)"
             ],
             [
              0.12549019607843137,
              "rgb(47,23,57)"
             ],
             [
              0.18823529411764706,
              "rgb(71,28,72)"
             ],
             [
              0.25098039215686274,
              "rgb(97,30,82)"
             ],
             [
              0.3137254901960784,
              "rgb(123,30,89)"
             ],
             [
              0.3764705882352941,
              "rgb(150,27,91)"
             ],
             [
              0.4392156862745098,
              "rgb(177,22,88)"
             ],
             [
              0.5019607843137255,
              "rgb(203,26,79)"
             ],
             [
              0.5647058823529412,
              "rgb(223,47,67)"
             ],
             [
              0.6274509803921569,
              "rgb(236,76,61)"
             ],
             [
              0.6901960784313725,
              "rgb(242,107,73)"
             ],
             [
              0.7529411764705882,
              "rgb(244,135,95)"
             ],
             [
              0.8156862745098039,
              "rgb(245,162,122)"
             ],
             [
              0.8784313725490196,
              "rgb(246,188,153)"
             ],
             [
              0.9411764705882353,
              "rgb(247,212,187)"
             ],
             [
              1.0,
              "rgb(250,234,220)"
             ]
            ],
            "type": "contour"
           }
          ],
          "heatmap": [
           {
            "colorbar": {
             "outlinewidth": 0,
             "tickcolor": "rgb(36,36,36)",
             "ticklen": 8,
             "ticks": "outside",
             "tickwidth": 2
            },
            "colorscale": [
             [
              0.0,
              "rgb(2,4,25)"
             ],
             [
              0.06274509803921569,
              "rgb(24,15,41)"
             ],
             [
              0.12549019607843137,
              "rgb(47,23,57)"
             ],
             [
              0.18823529411764706,
              "rgb(71,28,72)"
             ],
             [
              0.25098039215686274,
              "rgb(97,30,82)"
             ],
             [
              0.3137254901960784,
              "rgb(123,30,89)"
             ],
             [
              0.3764705882352941,
              "rgb(150,27,91)"
             ],
             [
              0.4392156862745098,
              "rgb(177,22,88)"
             ],
             [
              0.5019607843137255,
              "rgb(203,26,79)"
             ],
             [
              0.5647058823529412,
              "rgb(223,47,67)"
             ],
             [
              0.6274509803921569,
              "rgb(236,76,61)"
             ],
             [
              0.6901960784313725,
              "rgb(242,107,73)"
             ],
             [
              0.7529411764705882,
              "rgb(244,135,95)"
             ],
             [
              0.8156862745098039,
              "rgb(245,162,122)"
             ],
             [
              0.8784313725490196,
              "rgb(246,188,153)"
             ],
             [
              0.9411764705882353,
              "rgb(247,212,187)"
             ],
             [
              1.0,
              "rgb(250,234,220)"
             ]
            ],
            "type": "heatmap"
           }
          ],
          "histogram2dcontour": [
           {
            "colorbar": {
             "outlinewidth": 0,
             "tickcolor": "rgb(36,36,36)",
             "ticklen": 8,
             "ticks": "outside",
             "tickwidth": 2
            },
            "colorscale": [
             [
              0.0,
              "rgb(2,4,25)"
             ],
             [
              0.06274509803921569,
              "rgb(24,15,41)"
             ],
             [
              0.12549019607843137,
              "rgb(47,23,57)"
             ],
             [
              0.18823529411764706,
              "rgb(71,28,72)"
             ],
             [
              0.25098039215686274,
              "rgb(97,30,82)"
             ],
             [
              0.3137254901960784,
              "rgb(123,30,89)"
             ],
             [
              0.3764705882352941,
              "rgb(150,27,91)"
             ],
             [
              0.4392156862745098,
              "rgb(177,22,88)"
             ],
             [
              0.5019607843137255,
              "rgb(203,26,79)"
             ],
             [
              0.5647058823529412,
              "rgb(223,47,67)"
             ],
             [
              0.6274509803921569,
              "rgb(236,76,61)"
             ],
             [
              0.6901960784313725,
              "rgb(242,107,73)"
             ],
             [
              0.7529411764705882,
              "rgb(244,135,95)"
             ],
             [
              0.8156862745098039,
              "rgb(245,162,122)"
             ],
             [
              0.8784313725490196,
              "rgb(246,188,153)"
             ],
             [
              0.9411764705882353,
              "rgb(247,212,187)"
             ],
             [
              1.0,
              "rgb(250,234,220)"
             ]
            ],
            "type": "histogram2dcontour"
           }
          ],
          "histogram2d": [
           {
            "colorbar": {
             "outlinewidth": 0,
             "tickcolor": "rgb(36,36,36)",
             "ticklen": 8,
             "ticks": "outside",
             "tickwidth": 2
            },
            "colorscale": [
             [
              0.0,
              "rgb(2,4,25)"
             ],
             [
              0.06274509803921569,
              "rgb(24,15,41)"
             ],
             [
              0.12549019607843137,
              "rgb(47,23,57)"
             ],
             [
              0.18823529411764706,
              "rgb(71,28,72)"
             ],
             [
              0.25098039215686274,
              "rgb(97,30,82)"
             ],
             [
              0.3137254901960784,
              "rgb(123,30,89)"
             ],
             [
              0.3764705882352941,
              "rgb(150,27,91)"
             ],
             [
              0.4392156862745098,
              "rgb(177,22,88)"
             ],
             [
              0.5019607843137255,
              "rgb(203,26,79)"
             ],
             [
              0.5647058823529412,
              "rgb(223,47,67)"
             ],
             [
              0.6274509803921569,
              "rgb(236,76,61)"
             ],
             [
              0.6901960784313725,
              "rgb(242,107,73)"
             ],
             [
              0.7529411764705882,
              "rgb(244,135,95)"
             ],
             [
              0.8156862745098039,
              "rgb(245,162,122)"
             ],
             [
              0.8784313725490196,
              "rgb(246,188,153)"
             ],
             [
              0.9411764705882353,
              "rgb(247,212,187)"
             ],
             [
              1.0,
              "rgb(250,234,220)"
             ]
            ],
            "type": "histogram2d"
           }
          ],
          "histogram": [
           {
            "marker": {
             "pattern": {
              "fillmode": "overlay",
              "size": 10,
              "solidity": 0.2
             }
            },
            "type": "histogram"
           }
          ],
          "mesh3d": [
           {
            "colorbar": {
             "outlinewidth": 0,
             "tickcolor": "rgb(36,36,36)",
             "ticklen": 8,
             "ticks": "outside",
             "tickwidth": 2
            },
            "type": "mesh3d"
           }
          ],
          "parcoords": [
           {
            "line": {
             "colorbar": {
              "outlinewidth": 0,
              "tickcolor": "rgb(36,36,36)",
              "ticklen": 8,
              "ticks": "outside",
              "tickwidth": 2
             }
            },
            "type": "parcoords"
           }
          ],
          "pie": [
           {
            "automargin": true,
            "type": "pie"
           }
          ],
          "scatter3d": [
           {
            "line": {
             "colorbar": {
              "outlinewidth": 0,
              "tickcolor": "rgb(36,36,36)",
              "ticklen": 8,
              "ticks": "outside",
              "tickwidth": 2
             }
            },
            "marker": {
             "colorbar": {
              "outlinewidth": 0,
              "tickcolor": "rgb(36,36,36)",
              "ticklen": 8,
              "ticks": "outside",
              "tickwidth": 2
             }
            },
            "type": "scatter3d"
           }
          ],
          "scattercarpet": [
           {
            "marker": {
             "colorbar": {
              "outlinewidth": 0,
              "tickcolor": "rgb(36,36,36)",
              "ticklen": 8,
              "ticks": "outside",
              "tickwidth": 2
             }
            },
            "type": "scattercarpet"
           }
          ],
          "scattergeo": [
           {
            "marker": {
             "colorbar": {
              "outlinewidth": 0,
              "tickcolor": "rgb(36,36,36)",
              "ticklen": 8,
              "ticks": "outside",
              "tickwidth": 2
             }
            },
            "type": "scattergeo"
           }
          ],
          "scattergl": [
           {
            "marker": {
             "colorbar": {
              "outlinewidth": 0,
              "tickcolor": "rgb(36,36,36)",
              "ticklen": 8,
              "ticks": "outside",
              "tickwidth": 2
             }
            },
            "type": "scattergl"
           }
          ],
          "scattermapbox": [
           {
            "marker": {
             "colorbar": {
              "outlinewidth": 0,
              "tickcolor": "rgb(36,36,36)",
              "ticklen": 8,
              "ticks": "outside",
              "tickwidth": 2
             }
            },
            "type": "scattermapbox"
           }
          ],
          "scattermap": [
           {
            "marker": {
             "colorbar": {
              "outlinewidth": 0,
              "tickcolor": "rgb(36,36,36)",
              "ticklen": 8,
              "ticks": "outside",
              "tickwidth": 2
             }
            },
            "type": "scattermap"
           }
          ],
          "scatterpolargl": [
           {
            "marker": {
             "colorbar": {
              "outlinewidth": 0,
              "tickcolor": "rgb(36,36,36)",
              "ticklen": 8,
              "ticks": "outside",
              "tickwidth": 2
             }
            },
            "type": "scatterpolargl"
           }
          ],
          "scatterpolar": [
           {
            "marker": {
             "colorbar": {
              "outlinewidth": 0,
              "tickcolor": "rgb(36,36,36)",
              "ticklen": 8,
              "ticks": "outside",
              "tickwidth": 2
             }
            },
            "type": "scatterpolar"
           }
          ],
          "scatter": [
           {
            "fillpattern": {
             "fillmode": "overlay",
             "size": 10,
             "solidity": 0.2
            },
            "type": "scatter"
           }
          ],
          "scatterternary": [
           {
            "marker": {
             "colorbar": {
              "outlinewidth": 0,
              "tickcolor": "rgb(36,36,36)",
              "ticklen": 8,
              "ticks": "outside",
              "tickwidth": 2
             }
            },
            "type": "scatterternary"
           }
          ],
          "surface": [
           {
            "colorbar": {
             "outlinewidth": 0,
             "tickcolor": "rgb(36,36,36)",
             "ticklen": 8,
             "ticks": "outside",
             "tickwidth": 2
            },
            "colorscale": [
             [
              0.0,
              "rgb(2,4,25)"
             ],
             [
              0.06274509803921569,
              "rgb(24,15,41)"
             ],
             [
              0.12549019607843137,
              "rgb(47,23,57)"
             ],
             [
              0.18823529411764706,
              "rgb(71,28,72)"
             ],
             [
              0.25098039215686274,
              "rgb(97,30,82)"
             ],
             [
              0.3137254901960784,
              "rgb(123,30,89)"
             ],
             [
              0.3764705882352941,
              "rgb(150,27,91)"
             ],
             [
              0.4392156862745098,
              "rgb(177,22,88)"
             ],
             [
              0.5019607843137255,
              "rgb(203,26,79)"
             ],
             [
              0.5647058823529412,
              "rgb(223,47,67)"
             ],
             [
              0.6274509803921569,
              "rgb(236,76,61)"
             ],
             [
              0.6901960784313725,
              "rgb(242,107,73)"
             ],
             [
              0.7529411764705882,
              "rgb(244,135,95)"
             ],
             [
              0.8156862745098039,
              "rgb(245,162,122)"
             ],
             [
              0.8784313725490196,
              "rgb(246,188,153)"
             ],
             [
              0.9411764705882353,
              "rgb(247,212,187)"
             ],
             [
              1.0,
              "rgb(250,234,220)"
             ]
            ],
            "type": "surface"
           }
          ],
          "table": [
           {
            "cells": {
             "fill": {
              "color": "rgb(231,231,240)"
             },
             "line": {
              "color": "white"
             }
            },
            "header": {
             "fill": {
              "color": "rgb(183,183,191)"
             },
             "line": {
              "color": "white"
             }
            },
            "type": "table"
           }
          ]
         },
         "layout": {
          "annotationdefaults": {
           "arrowcolor": "rgb(67,103,167)"
          },
          "autotypenumbers": "strict",
          "coloraxis": {
           "colorbar": {
            "outlinewidth": 0,
            "tickcolor": "rgb(36,36,36)",
            "ticklen": 8,
            "ticks": "outside",
            "tickwidth": 2
           }
          },
          "colorscale": {
           "sequential": [
            [
             0.0,
             "rgb(2,4,25)"
            ],
            [
             0.06274509803921569,
             "rgb(24,15,41)"
            ],
            [
             0.12549019607843137,
             "rgb(47,23,57)"
            ],
            [
             0.18823529411764706,
             "rgb(71,28,72)"
            ],
            [
             0.25098039215686274,
             "rgb(97,30,82)"
            ],
            [
             0.3137254901960784,
             "rgb(123,30,89)"
            ],
            [
             0.3764705882352941,
             "rgb(150,27,91)"
            ],
            [
             0.4392156862745098,
             "rgb(177,22,88)"
            ],
            [
             0.5019607843137255,
             "rgb(203,26,79)"
            ],
            [
             0.5647058823529412,
             "rgb(223,47,67)"
            ],
            [
             0.6274509803921569,
             "rgb(236,76,61)"
            ],
            [
             0.6901960784313725,
             "rgb(242,107,73)"
            ],
            [
             0.7529411764705882,
             "rgb(244,135,95)"
            ],
            [
             0.8156862745098039,
             "rgb(245,162,122)"
            ],
            [
             0.8784313725490196,
             "rgb(246,188,153)"
            ],
            [
             0.9411764705882353,
             "rgb(247,212,187)"
            ],
            [
             1.0,
             "rgb(250,234,220)"
            ]
           ],
           "sequentialminus": [
            [
             0.0,
             "rgb(2,4,25)"
            ],
            [
             0.06274509803921569,
             "rgb(24,15,41)"
            ],
            [
             0.12549019607843137,
             "rgb(47,23,57)"
            ],
            [
             0.18823529411764706,
             "rgb(71,28,72)"
            ],
            [
             0.25098039215686274,
             "rgb(97,30,82)"
            ],
            [
             0.3137254901960784,
             "rgb(123,30,89)"
            ],
            [
             0.3764705882352941,
             "rgb(150,27,91)"
            ],
            [
             0.4392156862745098,
             "rgb(177,22,88)"
            ],
            [
             0.5019607843137255,
             "rgb(203,26,79)"
            ],
            [
             0.5647058823529412,
             "rgb(223,47,67)"
            ],
            [
             0.6274509803921569,
             "rgb(236,76,61)"
            ],
            [
             0.6901960784313725,
             "rgb(242,107,73)"
            ],
            [
             0.7529411764705882,
             "rgb(244,135,95)"
            ],
            [
             0.8156862745098039,
             "rgb(245,162,122)"
            ],
            [
             0.8784313725490196,
             "rgb(246,188,153)"
            ],
            [
             0.9411764705882353,
             "rgb(247,212,187)"
            ],
            [
             1.0,
             "rgb(250,234,220)"
            ]
           ]
          },
          "colorway": [
           "rgb(76,114,176)",
           "rgb(221,132,82)",
           "rgb(85,168,104)",
           "rgb(196,78,82)",
           "rgb(129,114,179)",
           "rgb(147,120,96)",
           "rgb(218,139,195)",
           "rgb(140,140,140)",
           "rgb(204,185,116)",
           "rgb(100,181,205)"
          ],
          "font": {
           "color": "rgb(36,36,36)"
          },
          "geo": {
           "bgcolor": "white",
           "lakecolor": "white",
           "landcolor": "rgb(234,234,242)",
           "showlakes": true,
           "showland": true,
           "subunitcolor": "white"
          },
          "hoverlabel": {
           "align": "left"
          },
          "hovermode": "closest",
          "paper_bgcolor": "white",
          "plot_bgcolor": "rgb(234,234,242)",
          "polar": {
           "angularaxis": {
            "gridcolor": "white",
            "linecolor": "white",
            "showgrid": true,
            "ticks": ""
           },
           "bgcolor": "rgb(234,234,242)",
           "radialaxis": {
            "gridcolor": "white",
            "linecolor": "white",
            "showgrid": true,
            "ticks": ""
           }
          },
          "scene": {
           "xaxis": {
            "backgroundcolor": "rgb(234,234,242)",
            "gridcolor": "white",
            "gridwidth": 2,
            "linecolor": "white",
            "showbackground": true,
            "showgrid": true,
            "ticks": "",
            "zerolinecolor": "white"
           },
           "yaxis": {
            "backgroundcolor": "rgb(234,234,242)",
            "gridcolor": "white",
            "gridwidth": 2,
            "linecolor": "white",
            "showbackground": true,
            "showgrid": true,
            "ticks": "",
            "zerolinecolor": "white"
           },
           "zaxis": {
            "backgroundcolor": "rgb(234,234,242)",
            "gridcolor": "white",
            "gridwidth": 2,
            "linecolor": "white",
            "showbackground": true,
            "showgrid": true,
            "ticks": "",
            "zerolinecolor": "white"
           }
          },
          "shapedefaults": {
           "fillcolor": "rgb(67,103,167)",
           "line": {
            "width": 0
           },
           "opacity": 0.5
          },
          "ternary": {
           "aaxis": {
            "gridcolor": "white",
            "linecolor": "white",
            "showgrid": true,
            "ticks": ""
           },
           "baxis": {
            "gridcolor": "white",
            "linecolor": "white",
            "showgrid": true,
            "ticks": ""
           },
           "bgcolor": "rgb(234,234,242)",
           "caxis": {
            "gridcolor": "white",
            "linecolor": "white",
            "showgrid": true,
            "ticks": ""
           }
          },
          "xaxis": {
           "automargin": true,
           "gridcolor": "white",
           "linecolor": "white",
           "showgrid": true,
           "ticks": "",
           "title": {
            "standoff": 15
           },
           "zerolinecolor": "white"
          },
          "yaxis": {
           "automargin": true,
           "gridcolor": "white",
           "linecolor": "white",
           "showgrid": true,
           "ticks": "",
           "title": {
            "standoff": 15
           },
           "zerolinecolor": "white"
          }
         }
        },
        "xaxis": {
         "anchor": "y",
         "domain": [
          0.0,
          1.0
         ],
         "title": {
          "text": "Date"
         }
        },
        "yaxis": {
         "anchor": "x",
         "domain": [
          0.0,
          1.0
         ],
         "title": {
          "text": "Average Execution Time (s)"
         },
         "rangemode": "tozero"
        },
        "legend": {
         "title": {
          "text": "database"
         },
         "tracegroupgap": 0
        },
        "title": {
         "text": "Average Execution Time for Usecase 6 Filtering Query Over Time",
         "x": 0.5,
         "xanchor": "center"
        }
       },
       "config": {
        "plotlyServerURL": "https://plot.ly"
       }
      }
     },
     "metadata": {},
     "output_type": "display_data"
    }
   ],
   "execution_count": 8
  },
  {
   "metadata": {},
   "cell_type": "markdown",
   "source": "### Plot2: Line‐Plot Over Time: How Execution Time Evolves Usecase 7"
  },
  {
   "metadata": {
    "ExecuteTime": {
     "end_time": "2025-06-23T11:53:34.256754Z",
     "start_time": "2025-06-23T11:53:33.366793Z"
    }
   },
   "cell_type": "code",
   "source": [
    "# Example: pick a single usecase (e.g. usecase 1). You can loop or facet later.\n",
    "\n",
    "desc = {\n",
    "    7 : \"Usecase 7 Bulk Import\"\n",
    "}\n",
    "\n",
    "\n",
    "case_db_run_instances = pf.get_usecase_instances(FILES_PATH_UC7)\n",
    "\n",
    "# Assume case_db_run_instances is already populated (as in your parsing code).\n",
    "records = []\n",
    "for run in case_db_run_instances:\n",
    "    records.append({\n",
    "        \"database\": run.database,\n",
    "        \"timestamp\": run.timestamp,                # datetime\n",
    "        \"usecase\": run.usecase,                   # integer (e.g. 1, 2, 3…)\n",
    "        \"usecase_full_name\": run.usecase_full_name,\n",
    "        \"execution_time_s\": run.execution_time,\n",
    "        \"execution_time_ms\": run.execution_time_ms,\n",
    "        \"avg_cpu_percent\": run.avg_cpu_percent,\n",
    "        \"peak_cpu_percent\": run.peak_cpu_percent,\n",
    "        \"avg_mem_mb\": run.avg_mem_mb,\n",
    "        \"peak_mem_mb\": run.peak_mem_mb\n",
    "    })\n",
    "\n",
    "df = pd.DataFrame(records)\n",
    "# If you want to sort or index by timestamp:\n",
    "df = df.sort_values(\"timestamp\").reset_index(drop=True)\n",
    "\n",
    "for uc, ucname in desc.items():\n",
    "    plot_title = f\"Average Execution Time for {ucname} Over Time\"\n",
    "    df_uc = df[df[\"usecase\"] == uc].copy()\n",
    "\n",
    "    # Group by date (or exact timestamp) & database\n",
    "    # If you want to aggregate per‐day rather than per‐timestamp, extract date:\n",
    "    df_uc[\"date_only\"] = df_uc[\"timestamp\"].dt.date\n",
    "\n",
    "    # Compute mean execution_time per database per day:\n",
    "    grouped = (\n",
    "        df_uc\n",
    "        .groupby([\"date_only\", \"database\"])\n",
    "        .execution_time_s\n",
    "        .mean()\n",
    "        .reset_index(name=\"mean_exec_time_s\")\n",
    "    )\n",
    "\n",
    "    fig = px.line(\n",
    "        grouped,\n",
    "        x=\"date_only\",\n",
    "        y=\"mean_exec_time_s\",\n",
    "        color=\"database\",\n",
    "        markers=True,\n",
    "        title=plot_title\n",
    "    )\n",
    "    fig.update_layout(\n",
    "        title={\n",
    "            'text': plot_title,\n",
    "            'x': 0.5,\n",
    "            'xanchor': 'center'\n",
    "        },\n",
    "        xaxis_title=\"Date\",\n",
    "        yaxis_title=\"Average Execution Time (s)\"\n",
    "    )\n",
    "\n",
    "    fig.update_layout(\n",
    "    yaxis=dict(rangemode='tozero')\n",
    ")\n",
    "    fig.write_image(f\"{OUTPUT_PATH}{ucname}.png\")\n",
    "    fig.show()"
   ],
   "outputs": [
    {
     "data": {
      "application/vnd.plotly.v1+json": {
       "data": [
        {
         "hovertemplate": "database=clickhouse<br>date_only=%{x}<br>mean_exec_time_s=%{y}<extra></extra>",
         "legendgroup": "clickhouse",
         "line": {
          "color": "#4c72b0",
          "dash": "solid"
         },
         "marker": {
          "symbol": "circle"
         },
         "mode": "lines+markers",
         "name": "clickhouse",
         "orientation": "v",
         "showlegend": true,
         "x": [
          "2025-06-05",
          "2025-06-06",
          "2025-06-07",
          "2025-06-08",
          "2025-06-09",
          "2025-06-10",
          "2025-06-11"
         ],
         "xaxis": "x",
         "y": {
          "dtype": "f8",
          "bdata": "nu+nxkv3OUAcoYzelsU6QPl+arx0UzpA2YfPsCtgPECEeaL+jTg8QKh/I5TRQztAVp+rrdj/O0A="
         },
         "yaxis": "y",
         "type": "scatter"
        },
        {
         "hovertemplate": "database=mongodb<br>date_only=%{x}<br>mean_exec_time_s=%{y}<extra></extra>",
         "legendgroup": "mongodb",
         "line": {
          "color": "#dd8452",
          "dash": "solid"
         },
         "marker": {
          "symbol": "circle"
         },
         "mode": "lines+markers",
         "name": "mongodb",
         "orientation": "v",
         "showlegend": true,
         "x": [
          "2025-06-05",
          "2025-06-06",
          "2025-06-07",
          "2025-06-08",
          "2025-06-09",
          "2025-06-10",
          "2025-06-11"
         ],
         "xaxis": "x",
         "y": {
          "dtype": "f8",
          "bdata": "d76fGi+9WUAMSVMqzkRbQARWDi2yKVpAWDm0yHZaXEA5+/AZdp1cQJ9hV4DcB1tAOGdEaW+gW0A="
         },
         "yaxis": "y",
         "type": "scatter"
        },
        {
         "hovertemplate": "database=postgres<br>date_only=%{x}<br>mean_exec_time_s=%{y}<extra></extra>",
         "legendgroup": "postgres",
         "line": {
          "color": "#55a868",
          "dash": "solid"
         },
         "marker": {
          "symbol": "circle"
         },
         "mode": "lines+markers",
         "name": "postgres",
         "orientation": "v",
         "showlegend": true,
         "x": [
          "2025-06-05",
          "2025-06-06",
          "2025-06-07",
          "2025-06-08",
          "2025-06-09",
          "2025-06-10",
          "2025-06-11"
         ],
         "xaxis": "x",
         "y": {
          "dtype": "f8",
          "bdata": "PQrXo3BZgUAvJE2peP6BQPHSTWJQoYFAl/xiya++gkBkO99PjXSCQLTIdr4fD4JABvAWSFAqg0A="
         },
         "yaxis": "y",
         "type": "scatter"
        }
       ],
       "layout": {
        "template": {
         "data": {
          "barpolar": [
           {
            "marker": {
             "line": {
              "color": "rgb(234,234,242)",
              "width": 0.5
             },
             "pattern": {
              "fillmode": "overlay",
              "size": 10,
              "solidity": 0.2
             }
            },
            "type": "barpolar"
           }
          ],
          "bar": [
           {
            "error_x": {
             "color": "rgb(36,36,36)"
            },
            "error_y": {
             "color": "rgb(36,36,36)"
            },
            "marker": {
             "line": {
              "color": "rgb(234,234,242)",
              "width": 0.5
             },
             "pattern": {
              "fillmode": "overlay",
              "size": 10,
              "solidity": 0.2
             }
            },
            "type": "bar"
           }
          ],
          "carpet": [
           {
            "aaxis": {
             "endlinecolor": "rgb(36,36,36)",
             "gridcolor": "white",
             "linecolor": "white",
             "minorgridcolor": "white",
             "startlinecolor": "rgb(36,36,36)"
            },
            "baxis": {
             "endlinecolor": "rgb(36,36,36)",
             "gridcolor": "white",
             "linecolor": "white",
             "minorgridcolor": "white",
             "startlinecolor": "rgb(36,36,36)"
            },
            "type": "carpet"
           }
          ],
          "choropleth": [
           {
            "colorbar": {
             "outlinewidth": 0,
             "tickcolor": "rgb(36,36,36)",
             "ticklen": 8,
             "ticks": "outside",
             "tickwidth": 2
            },
            "type": "choropleth"
           }
          ],
          "contourcarpet": [
           {
            "colorbar": {
             "outlinewidth": 0,
             "tickcolor": "rgb(36,36,36)",
             "ticklen": 8,
             "ticks": "outside",
             "tickwidth": 2
            },
            "type": "contourcarpet"
           }
          ],
          "contour": [
           {
            "colorbar": {
             "outlinewidth": 0,
             "tickcolor": "rgb(36,36,36)",
             "ticklen": 8,
             "ticks": "outside",
             "tickwidth": 2
            },
            "colorscale": [
             [
              0.0,
              "rgb(2,4,25)"
             ],
             [
              0.06274509803921569,
              "rgb(24,15,41)"
             ],
             [
              0.12549019607843137,
              "rgb(47,23,57)"
             ],
             [
              0.18823529411764706,
              "rgb(71,28,72)"
             ],
             [
              0.25098039215686274,
              "rgb(97,30,82)"
             ],
             [
              0.3137254901960784,
              "rgb(123,30,89)"
             ],
             [
              0.3764705882352941,
              "rgb(150,27,91)"
             ],
             [
              0.4392156862745098,
              "rgb(177,22,88)"
             ],
             [
              0.5019607843137255,
              "rgb(203,26,79)"
             ],
             [
              0.5647058823529412,
              "rgb(223,47,67)"
             ],
             [
              0.6274509803921569,
              "rgb(236,76,61)"
             ],
             [
              0.6901960784313725,
              "rgb(242,107,73)"
             ],
             [
              0.7529411764705882,
              "rgb(244,135,95)"
             ],
             [
              0.8156862745098039,
              "rgb(245,162,122)"
             ],
             [
              0.8784313725490196,
              "rgb(246,188,153)"
             ],
             [
              0.9411764705882353,
              "rgb(247,212,187)"
             ],
             [
              1.0,
              "rgb(250,234,220)"
             ]
            ],
            "type": "contour"
           }
          ],
          "heatmap": [
           {
            "colorbar": {
             "outlinewidth": 0,
             "tickcolor": "rgb(36,36,36)",
             "ticklen": 8,
             "ticks": "outside",
             "tickwidth": 2
            },
            "colorscale": [
             [
              0.0,
              "rgb(2,4,25)"
             ],
             [
              0.06274509803921569,
              "rgb(24,15,41)"
             ],
             [
              0.12549019607843137,
              "rgb(47,23,57)"
             ],
             [
              0.18823529411764706,
              "rgb(71,28,72)"
             ],
             [
              0.25098039215686274,
              "rgb(97,30,82)"
             ],
             [
              0.3137254901960784,
              "rgb(123,30,89)"
             ],
             [
              0.3764705882352941,
              "rgb(150,27,91)"
             ],
             [
              0.4392156862745098,
              "rgb(177,22,88)"
             ],
             [
              0.5019607843137255,
              "rgb(203,26,79)"
             ],
             [
              0.5647058823529412,
              "rgb(223,47,67)"
             ],
             [
              0.6274509803921569,
              "rgb(236,76,61)"
             ],
             [
              0.6901960784313725,
              "rgb(242,107,73)"
             ],
             [
              0.7529411764705882,
              "rgb(244,135,95)"
             ],
             [
              0.8156862745098039,
              "rgb(245,162,122)"
             ],
             [
              0.8784313725490196,
              "rgb(246,188,153)"
             ],
             [
              0.9411764705882353,
              "rgb(247,212,187)"
             ],
             [
              1.0,
              "rgb(250,234,220)"
             ]
            ],
            "type": "heatmap"
           }
          ],
          "histogram2dcontour": [
           {
            "colorbar": {
             "outlinewidth": 0,
             "tickcolor": "rgb(36,36,36)",
             "ticklen": 8,
             "ticks": "outside",
             "tickwidth": 2
            },
            "colorscale": [
             [
              0.0,
              "rgb(2,4,25)"
             ],
             [
              0.06274509803921569,
              "rgb(24,15,41)"
             ],
             [
              0.12549019607843137,
              "rgb(47,23,57)"
             ],
             [
              0.18823529411764706,
              "rgb(71,28,72)"
             ],
             [
              0.25098039215686274,
              "rgb(97,30,82)"
             ],
             [
              0.3137254901960784,
              "rgb(123,30,89)"
             ],
             [
              0.3764705882352941,
              "rgb(150,27,91)"
             ],
             [
              0.4392156862745098,
              "rgb(177,22,88)"
             ],
             [
              0.5019607843137255,
              "rgb(203,26,79)"
             ],
             [
              0.5647058823529412,
              "rgb(223,47,67)"
             ],
             [
              0.6274509803921569,
              "rgb(236,76,61)"
             ],
             [
              0.6901960784313725,
              "rgb(242,107,73)"
             ],
             [
              0.7529411764705882,
              "rgb(244,135,95)"
             ],
             [
              0.8156862745098039,
              "rgb(245,162,122)"
             ],
             [
              0.8784313725490196,
              "rgb(246,188,153)"
             ],
             [
              0.9411764705882353,
              "rgb(247,212,187)"
             ],
             [
              1.0,
              "rgb(250,234,220)"
             ]
            ],
            "type": "histogram2dcontour"
           }
          ],
          "histogram2d": [
           {
            "colorbar": {
             "outlinewidth": 0,
             "tickcolor": "rgb(36,36,36)",
             "ticklen": 8,
             "ticks": "outside",
             "tickwidth": 2
            },
            "colorscale": [
             [
              0.0,
              "rgb(2,4,25)"
             ],
             [
              0.06274509803921569,
              "rgb(24,15,41)"
             ],
             [
              0.12549019607843137,
              "rgb(47,23,57)"
             ],
             [
              0.18823529411764706,
              "rgb(71,28,72)"
             ],
             [
              0.25098039215686274,
              "rgb(97,30,82)"
             ],
             [
              0.3137254901960784,
              "rgb(123,30,89)"
             ],
             [
              0.3764705882352941,
              "rgb(150,27,91)"
             ],
             [
              0.4392156862745098,
              "rgb(177,22,88)"
             ],
             [
              0.5019607843137255,
              "rgb(203,26,79)"
             ],
             [
              0.5647058823529412,
              "rgb(223,47,67)"
             ],
             [
              0.6274509803921569,
              "rgb(236,76,61)"
             ],
             [
              0.6901960784313725,
              "rgb(242,107,73)"
             ],
             [
              0.7529411764705882,
              "rgb(244,135,95)"
             ],
             [
              0.8156862745098039,
              "rgb(245,162,122)"
             ],
             [
              0.8784313725490196,
              "rgb(246,188,153)"
             ],
             [
              0.9411764705882353,
              "rgb(247,212,187)"
             ],
             [
              1.0,
              "rgb(250,234,220)"
             ]
            ],
            "type": "histogram2d"
           }
          ],
          "histogram": [
           {
            "marker": {
             "pattern": {
              "fillmode": "overlay",
              "size": 10,
              "solidity": 0.2
             }
            },
            "type": "histogram"
           }
          ],
          "mesh3d": [
           {
            "colorbar": {
             "outlinewidth": 0,
             "tickcolor": "rgb(36,36,36)",
             "ticklen": 8,
             "ticks": "outside",
             "tickwidth": 2
            },
            "type": "mesh3d"
           }
          ],
          "parcoords": [
           {
            "line": {
             "colorbar": {
              "outlinewidth": 0,
              "tickcolor": "rgb(36,36,36)",
              "ticklen": 8,
              "ticks": "outside",
              "tickwidth": 2
             }
            },
            "type": "parcoords"
           }
          ],
          "pie": [
           {
            "automargin": true,
            "type": "pie"
           }
          ],
          "scatter3d": [
           {
            "line": {
             "colorbar": {
              "outlinewidth": 0,
              "tickcolor": "rgb(36,36,36)",
              "ticklen": 8,
              "ticks": "outside",
              "tickwidth": 2
             }
            },
            "marker": {
             "colorbar": {
              "outlinewidth": 0,
              "tickcolor": "rgb(36,36,36)",
              "ticklen": 8,
              "ticks": "outside",
              "tickwidth": 2
             }
            },
            "type": "scatter3d"
           }
          ],
          "scattercarpet": [
           {
            "marker": {
             "colorbar": {
              "outlinewidth": 0,
              "tickcolor": "rgb(36,36,36)",
              "ticklen": 8,
              "ticks": "outside",
              "tickwidth": 2
             }
            },
            "type": "scattercarpet"
           }
          ],
          "scattergeo": [
           {
            "marker": {
             "colorbar": {
              "outlinewidth": 0,
              "tickcolor": "rgb(36,36,36)",
              "ticklen": 8,
              "ticks": "outside",
              "tickwidth": 2
             }
            },
            "type": "scattergeo"
           }
          ],
          "scattergl": [
           {
            "marker": {
             "colorbar": {
              "outlinewidth": 0,
              "tickcolor": "rgb(36,36,36)",
              "ticklen": 8,
              "ticks": "outside",
              "tickwidth": 2
             }
            },
            "type": "scattergl"
           }
          ],
          "scattermapbox": [
           {
            "marker": {
             "colorbar": {
              "outlinewidth": 0,
              "tickcolor": "rgb(36,36,36)",
              "ticklen": 8,
              "ticks": "outside",
              "tickwidth": 2
             }
            },
            "type": "scattermapbox"
           }
          ],
          "scattermap": [
           {
            "marker": {
             "colorbar": {
              "outlinewidth": 0,
              "tickcolor": "rgb(36,36,36)",
              "ticklen": 8,
              "ticks": "outside",
              "tickwidth": 2
             }
            },
            "type": "scattermap"
           }
          ],
          "scatterpolargl": [
           {
            "marker": {
             "colorbar": {
              "outlinewidth": 0,
              "tickcolor": "rgb(36,36,36)",
              "ticklen": 8,
              "ticks": "outside",
              "tickwidth": 2
             }
            },
            "type": "scatterpolargl"
           }
          ],
          "scatterpolar": [
           {
            "marker": {
             "colorbar": {
              "outlinewidth": 0,
              "tickcolor": "rgb(36,36,36)",
              "ticklen": 8,
              "ticks": "outside",
              "tickwidth": 2
             }
            },
            "type": "scatterpolar"
           }
          ],
          "scatter": [
           {
            "fillpattern": {
             "fillmode": "overlay",
             "size": 10,
             "solidity": 0.2
            },
            "type": "scatter"
           }
          ],
          "scatterternary": [
           {
            "marker": {
             "colorbar": {
              "outlinewidth": 0,
              "tickcolor": "rgb(36,36,36)",
              "ticklen": 8,
              "ticks": "outside",
              "tickwidth": 2
             }
            },
            "type": "scatterternary"
           }
          ],
          "surface": [
           {
            "colorbar": {
             "outlinewidth": 0,
             "tickcolor": "rgb(36,36,36)",
             "ticklen": 8,
             "ticks": "outside",
             "tickwidth": 2
            },
            "colorscale": [
             [
              0.0,
              "rgb(2,4,25)"
             ],
             [
              0.06274509803921569,
              "rgb(24,15,41)"
             ],
             [
              0.12549019607843137,
              "rgb(47,23,57)"
             ],
             [
              0.18823529411764706,
              "rgb(71,28,72)"
             ],
             [
              0.25098039215686274,
              "rgb(97,30,82)"
             ],
             [
              0.3137254901960784,
              "rgb(123,30,89)"
             ],
             [
              0.3764705882352941,
              "rgb(150,27,91)"
             ],
             [
              0.4392156862745098,
              "rgb(177,22,88)"
             ],
             [
              0.5019607843137255,
              "rgb(203,26,79)"
             ],
             [
              0.5647058823529412,
              "rgb(223,47,67)"
             ],
             [
              0.6274509803921569,
              "rgb(236,76,61)"
             ],
             [
              0.6901960784313725,
              "rgb(242,107,73)"
             ],
             [
              0.7529411764705882,
              "rgb(244,135,95)"
             ],
             [
              0.8156862745098039,
              "rgb(245,162,122)"
             ],
             [
              0.8784313725490196,
              "rgb(246,188,153)"
             ],
             [
              0.9411764705882353,
              "rgb(247,212,187)"
             ],
             [
              1.0,
              "rgb(250,234,220)"
             ]
            ],
            "type": "surface"
           }
          ],
          "table": [
           {
            "cells": {
             "fill": {
              "color": "rgb(231,231,240)"
             },
             "line": {
              "color": "white"
             }
            },
            "header": {
             "fill": {
              "color": "rgb(183,183,191)"
             },
             "line": {
              "color": "white"
             }
            },
            "type": "table"
           }
          ]
         },
         "layout": {
          "annotationdefaults": {
           "arrowcolor": "rgb(67,103,167)"
          },
          "autotypenumbers": "strict",
          "coloraxis": {
           "colorbar": {
            "outlinewidth": 0,
            "tickcolor": "rgb(36,36,36)",
            "ticklen": 8,
            "ticks": "outside",
            "tickwidth": 2
           }
          },
          "colorscale": {
           "sequential": [
            [
             0.0,
             "rgb(2,4,25)"
            ],
            [
             0.06274509803921569,
             "rgb(24,15,41)"
            ],
            [
             0.12549019607843137,
             "rgb(47,23,57)"
            ],
            [
             0.18823529411764706,
             "rgb(71,28,72)"
            ],
            [
             0.25098039215686274,
             "rgb(97,30,82)"
            ],
            [
             0.3137254901960784,
             "rgb(123,30,89)"
            ],
            [
             0.3764705882352941,
             "rgb(150,27,91)"
            ],
            [
             0.4392156862745098,
             "rgb(177,22,88)"
            ],
            [
             0.5019607843137255,
             "rgb(203,26,79)"
            ],
            [
             0.5647058823529412,
             "rgb(223,47,67)"
            ],
            [
             0.6274509803921569,
             "rgb(236,76,61)"
            ],
            [
             0.6901960784313725,
             "rgb(242,107,73)"
            ],
            [
             0.7529411764705882,
             "rgb(244,135,95)"
            ],
            [
             0.8156862745098039,
             "rgb(245,162,122)"
            ],
            [
             0.8784313725490196,
             "rgb(246,188,153)"
            ],
            [
             0.9411764705882353,
             "rgb(247,212,187)"
            ],
            [
             1.0,
             "rgb(250,234,220)"
            ]
           ],
           "sequentialminus": [
            [
             0.0,
             "rgb(2,4,25)"
            ],
            [
             0.06274509803921569,
             "rgb(24,15,41)"
            ],
            [
             0.12549019607843137,
             "rgb(47,23,57)"
            ],
            [
             0.18823529411764706,
             "rgb(71,28,72)"
            ],
            [
             0.25098039215686274,
             "rgb(97,30,82)"
            ],
            [
             0.3137254901960784,
             "rgb(123,30,89)"
            ],
            [
             0.3764705882352941,
             "rgb(150,27,91)"
            ],
            [
             0.4392156862745098,
             "rgb(177,22,88)"
            ],
            [
             0.5019607843137255,
             "rgb(203,26,79)"
            ],
            [
             0.5647058823529412,
             "rgb(223,47,67)"
            ],
            [
             0.6274509803921569,
             "rgb(236,76,61)"
            ],
            [
             0.6901960784313725,
             "rgb(242,107,73)"
            ],
            [
             0.7529411764705882,
             "rgb(244,135,95)"
            ],
            [
             0.8156862745098039,
             "rgb(245,162,122)"
            ],
            [
             0.8784313725490196,
             "rgb(246,188,153)"
            ],
            [
             0.9411764705882353,
             "rgb(247,212,187)"
            ],
            [
             1.0,
             "rgb(250,234,220)"
            ]
           ]
          },
          "colorway": [
           "rgb(76,114,176)",
           "rgb(221,132,82)",
           "rgb(85,168,104)",
           "rgb(196,78,82)",
           "rgb(129,114,179)",
           "rgb(147,120,96)",
           "rgb(218,139,195)",
           "rgb(140,140,140)",
           "rgb(204,185,116)",
           "rgb(100,181,205)"
          ],
          "font": {
           "color": "rgb(36,36,36)"
          },
          "geo": {
           "bgcolor": "white",
           "lakecolor": "white",
           "landcolor": "rgb(234,234,242)",
           "showlakes": true,
           "showland": true,
           "subunitcolor": "white"
          },
          "hoverlabel": {
           "align": "left"
          },
          "hovermode": "closest",
          "paper_bgcolor": "white",
          "plot_bgcolor": "rgb(234,234,242)",
          "polar": {
           "angularaxis": {
            "gridcolor": "white",
            "linecolor": "white",
            "showgrid": true,
            "ticks": ""
           },
           "bgcolor": "rgb(234,234,242)",
           "radialaxis": {
            "gridcolor": "white",
            "linecolor": "white",
            "showgrid": true,
            "ticks": ""
           }
          },
          "scene": {
           "xaxis": {
            "backgroundcolor": "rgb(234,234,242)",
            "gridcolor": "white",
            "gridwidth": 2,
            "linecolor": "white",
            "showbackground": true,
            "showgrid": true,
            "ticks": "",
            "zerolinecolor": "white"
           },
           "yaxis": {
            "backgroundcolor": "rgb(234,234,242)",
            "gridcolor": "white",
            "gridwidth": 2,
            "linecolor": "white",
            "showbackground": true,
            "showgrid": true,
            "ticks": "",
            "zerolinecolor": "white"
           },
           "zaxis": {
            "backgroundcolor": "rgb(234,234,242)",
            "gridcolor": "white",
            "gridwidth": 2,
            "linecolor": "white",
            "showbackground": true,
            "showgrid": true,
            "ticks": "",
            "zerolinecolor": "white"
           }
          },
          "shapedefaults": {
           "fillcolor": "rgb(67,103,167)",
           "line": {
            "width": 0
           },
           "opacity": 0.5
          },
          "ternary": {
           "aaxis": {
            "gridcolor": "white",
            "linecolor": "white",
            "showgrid": true,
            "ticks": ""
           },
           "baxis": {
            "gridcolor": "white",
            "linecolor": "white",
            "showgrid": true,
            "ticks": ""
           },
           "bgcolor": "rgb(234,234,242)",
           "caxis": {
            "gridcolor": "white",
            "linecolor": "white",
            "showgrid": true,
            "ticks": ""
           }
          },
          "xaxis": {
           "automargin": true,
           "gridcolor": "white",
           "linecolor": "white",
           "showgrid": true,
           "ticks": "",
           "title": {
            "standoff": 15
           },
           "zerolinecolor": "white"
          },
          "yaxis": {
           "automargin": true,
           "gridcolor": "white",
           "linecolor": "white",
           "showgrid": true,
           "ticks": "",
           "title": {
            "standoff": 15
           },
           "zerolinecolor": "white"
          }
         }
        },
        "xaxis": {
         "anchor": "y",
         "domain": [
          0.0,
          1.0
         ],
         "title": {
          "text": "Date"
         }
        },
        "yaxis": {
         "anchor": "x",
         "domain": [
          0.0,
          1.0
         ],
         "title": {
          "text": "Average Execution Time (s)"
         },
         "rangemode": "tozero"
        },
        "legend": {
         "title": {
          "text": "database"
         },
         "tracegroupgap": 0
        },
        "title": {
         "text": "Average Execution Time for Usecase 7 Bulk Import Over Time",
         "x": 0.5,
         "xanchor": "center"
        }
       },
       "config": {
        "plotlyServerURL": "https://plot.ly"
       }
      }
     },
     "metadata": {},
     "output_type": "display_data"
    }
   ],
   "execution_count": 9
  },
  {
   "cell_type": "code",
   "metadata": {
    "ExecuteTime": {
     "end_time": "2025-06-23T11:53:34.681643Z",
     "start_time": "2025-06-23T11:53:34.270989Z"
    }
   },
   "source": [
    "import pandas as pd\n",
    "import plotly.express as px\n",
    "from pandas.api.types import CategoricalDtype\n",
    "\n",
    "case_db_run_instances = pf.get_usecase_instances(FILES_PATH)\n",
    "\n",
    "# build DataFrame\n",
    "records = []\n",
    "for run in case_db_run_instances:\n",
    "    records.append({\n",
    "        \"database\": run.database,\n",
    "        \"timestamp\": run.timestamp,\n",
    "        \"usecase_full_name\": run.usecase_full_name,\n",
    "        \"execution_time_s\": run.execution_time,\n",
    "    })\n",
    "df = pd.DataFrame(records).sort_values(\"timestamp\").reset_index(drop=True)\n",
    "\n",
    "# compute mean\n",
    "agg_exec = (\n",
    "    df\n",
    "    .groupby([\"usecase_full_name\", \"database\"])\n",
    "    .execution_time_s\n",
    "    .mean()\n",
    "    .reset_index(name=\"mean_execution_time_s\")\n",
    ")\n",
    "\n",
    "# rename to \"Usecase N …\"\n",
    "renames = {\n",
    "    \"add solar panels\":             \"uc 3:<br>Schema Evolution\",\n",
    "    \"average price per city\":       \"uc 5:<br>Aggregation\",\n",
    "    \"filter by bedrooms and size\":  \"uc 1:<br>Filtering Query<br> Bedrooms and Size\",\n",
    "    \"filter properties\":            \"uc 6:<br>Filtering Query Properties\",\n",
    "    \"price analysis\":               \"uc 4:<br>Analytical Query\",\n",
    "    \"update prices\":                \"uc 2:<br>Bulk Update\",\n",
    "}\n",
    "agg_exec[\"usecase_full_name\"] = agg_exec[\"usecase_full_name\"].map(renames)\n",
    "\n",
    "# define exact x-axis order\n",
    "order = [\n",
    "    \"uc 1:<br>Filtering Query<br> Bedrooms and Size\",\n",
    "    \"uc 2:<br>Bulk Update\",\n",
    "    \"uc 3:<br>Schema Evolution\",\n",
    "    \"uc 4:<br>Analytical Query\",\n",
    "    \"uc 5:<br>Aggregation\",\n",
    "    \"uc 6:<br>Filtering Query Properties\",\n",
    "]\n",
    "\n",
    "# *** Option A: make it an ordered categorical (not strictly necessary if you use category_orders) ***\n",
    "cat_type = CategoricalDtype(categories=order, ordered=True)\n",
    "agg_exec[\"usecase_full_name\"] = agg_exec[\"usecase_full_name\"].astype(cat_type)\n",
    "\n",
    "# plot with explicit category_orders\n",
    "fig = px.bar(\n",
    "    agg_exec,\n",
    "    x=\"usecase_full_name\",\n",
    "    y=\"mean_execution_time_s\",\n",
    "    color=\"database\",\n",
    "    barmode=\"group\",\n",
    "    category_orders={\"usecase_full_name\": order},\n",
    "    title=\"Average Execution Time per Usecase by Database\"\n",
    ")\n",
    "\n",
    "# enforce it again by telling the x-axis to use our array order\n",
    "fig.update_xaxes(\n",
    "    categoryorder=\"array\",\n",
    "    categoryarray=order,\n",
    "    tickangle=0, # Explicitly set tick angle to 0\n",
    "    tickfont=dict(size=16),\n",
    "    title_text=\"Usecases\",\n",
    "    title_font=dict(size=24),\n",
    ")\n",
    "\n",
    "# y-axis tweaks\n",
    "fig.update_yaxes(\n",
    "    type=\"log\",\n",
    "    title_text=\"Avg. Execution Time (s) (log scale)\",\n",
    "    tickvals=[0.01, 0.1, 1, 10, 100],\n",
    "    ticktext=[\"0.01\", \"0.1\", \"1\", \"10\", \"100\"],\n",
    "    dtick=1,\n",
    "    tickfont=dict(size=16),\n",
    "    title_font=dict(size=24),\n",
    "    exponentformat=\"power\",\n",
    "    showexponent=\"all\",\n",
    "    rangemode=\"tozero\"\n",
    ")\n",
    "\n",
    "fig.update_layout(\n",
    "    title={\"text\": \"Average Execution Time per Usecase (1-6) by Database\", \"x\":0.45, \"xanchor\":\"center\", \"font\" : {\"size\": 32}},\n",
    "    margin=dict(t=60, b=100), # Increased bottom margin to accommodate multi-line labels\n",
    "    legend=dict(\n",
    "        traceorder=\"grouped\",\n",
    "        title=dict(\n",
    "            text=\"Legend\",\n",
    "            font=dict(size=24)\n",
    "        ),\n",
    "        grouptitlefont=dict(\n",
    "            size=16\n",
    "        ),\n",
    "        font=dict(\n",
    "            size=20\n",
    "        )\n",
    "    ),\n",
    ")\n",
    "\n",
    "fig.write_image(f\"{OUTPUT_PATH}Average-Execution-Time-Per-Usecase.png\", width=1350, height=750, scale=2)\n",
    "fig.show()\n"
   ],
   "outputs": [
    {
     "data": {
      "application/vnd.plotly.v1+json": {
       "data": [
        {
         "alignmentgroup": "True",
         "hovertemplate": "database=clickhouse<br>usecase_full_name=%{x}<br>mean_execution_time_s=%{y}<extra></extra>",
         "legendgroup": "clickhouse",
         "marker": {
          "color": "#4c72b0",
          "pattern": {
           "shape": ""
          }
         },
         "name": "clickhouse",
         "offsetgroup": "clickhouse",
         "orientation": "v",
         "showlegend": true,
         "textposition": "auto",
         "x": [
          "uc 3:<br>Schema Evolution",
          "uc 5:<br>Aggregation",
          "uc 1:<br>Filtering Query<br> Bedrooms and Size",
          "uc 6:<br>Filtering Query Properties",
          "uc 4:<br>Analytical Query",
          "uc 2:<br>Bulk Update"
         ],
         "xaxis": "x",
         "y": {
          "dtype": "f8",
          "bdata": "DpUTTs2isT++GPYMyga2PyTWQ/b+gApANadYiLTZEEDmEdqnTXCpP/NDQs6oU8I/"
         },
         "yaxis": "y",
         "type": "bar"
        },
        {
         "alignmentgroup": "True",
         "hovertemplate": "database=mongodb<br>usecase_full_name=%{x}<br>mean_execution_time_s=%{y}<extra></extra>",
         "legendgroup": "mongodb",
         "marker": {
          "color": "#dd8452",
          "pattern": {
           "shape": ""
          }
         },
         "name": "mongodb",
         "offsetgroup": "mongodb",
         "orientation": "v",
         "showlegend": true,
         "textposition": "auto",
         "x": [
          "uc 3:<br>Schema Evolution",
          "uc 5:<br>Aggregation",
          "uc 1:<br>Filtering Query<br> Bedrooms and Size",
          "uc 6:<br>Filtering Query Properties",
          "uc 4:<br>Analytical Query",
          "uc 2:<br>Bulk Update"
         ],
         "xaxis": "x",
         "y": {
          "dtype": "f8",
          "bdata": "dNZUcCzQNUARLl7nVUIoQNncQJgJ4hRAHzxNExAHNEA1DIlPqSm3P6WVYk7eHK8/"
         },
         "yaxis": "y",
         "type": "bar"
        },
        {
         "alignmentgroup": "True",
         "hovertemplate": "database=postgres<br>usecase_full_name=%{x}<br>mean_execution_time_s=%{y}<extra></extra>",
         "legendgroup": "postgres",
         "marker": {
          "color": "#55a868",
          "pattern": {
           "shape": ""
          }
         },
         "name": "postgres",
         "offsetgroup": "postgres",
         "orientation": "v",
         "showlegend": true,
         "textposition": "auto",
         "x": [
          "uc 3:<br>Schema Evolution",
          "uc 5:<br>Aggregation",
          "uc 1:<br>Filtering Query<br> Bedrooms and Size",
          "uc 6:<br>Filtering Query Properties",
          "uc 4:<br>Analytical Query",
          "uc 2:<br>Bulk Update"
         ],
         "xaxis": "x",
         "y": {
          "dtype": "f8",
          "bdata": "IDxNExBHPUChjlQypqwEQOPdv9W5IBFA1uasqeDYJ0CpRYnnR3m5PyCANclM46I/"
         },
         "yaxis": "y",
         "type": "bar"
        }
       ],
       "layout": {
        "template": {
         "data": {
          "barpolar": [
           {
            "marker": {
             "line": {
              "color": "rgb(234,234,242)",
              "width": 0.5
             },
             "pattern": {
              "fillmode": "overlay",
              "size": 10,
              "solidity": 0.2
             }
            },
            "type": "barpolar"
           }
          ],
          "bar": [
           {
            "error_x": {
             "color": "rgb(36,36,36)"
            },
            "error_y": {
             "color": "rgb(36,36,36)"
            },
            "marker": {
             "line": {
              "color": "rgb(234,234,242)",
              "width": 0.5
             },
             "pattern": {
              "fillmode": "overlay",
              "size": 10,
              "solidity": 0.2
             }
            },
            "type": "bar"
           }
          ],
          "carpet": [
           {
            "aaxis": {
             "endlinecolor": "rgb(36,36,36)",
             "gridcolor": "white",
             "linecolor": "white",
             "minorgridcolor": "white",
             "startlinecolor": "rgb(36,36,36)"
            },
            "baxis": {
             "endlinecolor": "rgb(36,36,36)",
             "gridcolor": "white",
             "linecolor": "white",
             "minorgridcolor": "white",
             "startlinecolor": "rgb(36,36,36)"
            },
            "type": "carpet"
           }
          ],
          "choropleth": [
           {
            "colorbar": {
             "outlinewidth": 0,
             "tickcolor": "rgb(36,36,36)",
             "ticklen": 8,
             "ticks": "outside",
             "tickwidth": 2
            },
            "type": "choropleth"
           }
          ],
          "contourcarpet": [
           {
            "colorbar": {
             "outlinewidth": 0,
             "tickcolor": "rgb(36,36,36)",
             "ticklen": 8,
             "ticks": "outside",
             "tickwidth": 2
            },
            "type": "contourcarpet"
           }
          ],
          "contour": [
           {
            "colorbar": {
             "outlinewidth": 0,
             "tickcolor": "rgb(36,36,36)",
             "ticklen": 8,
             "ticks": "outside",
             "tickwidth": 2
            },
            "colorscale": [
             [
              0.0,
              "rgb(2,4,25)"
             ],
             [
              0.06274509803921569,
              "rgb(24,15,41)"
             ],
             [
              0.12549019607843137,
              "rgb(47,23,57)"
             ],
             [
              0.18823529411764706,
              "rgb(71,28,72)"
             ],
             [
              0.25098039215686274,
              "rgb(97,30,82)"
             ],
             [
              0.3137254901960784,
              "rgb(123,30,89)"
             ],
             [
              0.3764705882352941,
              "rgb(150,27,91)"
             ],
             [
              0.4392156862745098,
              "rgb(177,22,88)"
             ],
             [
              0.5019607843137255,
              "rgb(203,26,79)"
             ],
             [
              0.5647058823529412,
              "rgb(223,47,67)"
             ],
             [
              0.6274509803921569,
              "rgb(236,76,61)"
             ],
             [
              0.6901960784313725,
              "rgb(242,107,73)"
             ],
             [
              0.7529411764705882,
              "rgb(244,135,95)"
             ],
             [
              0.8156862745098039,
              "rgb(245,162,122)"
             ],
             [
              0.8784313725490196,
              "rgb(246,188,153)"
             ],
             [
              0.9411764705882353,
              "rgb(247,212,187)"
             ],
             [
              1.0,
              "rgb(250,234,220)"
             ]
            ],
            "type": "contour"
           }
          ],
          "heatmap": [
           {
            "colorbar": {
             "outlinewidth": 0,
             "tickcolor": "rgb(36,36,36)",
             "ticklen": 8,
             "ticks": "outside",
             "tickwidth": 2
            },
            "colorscale": [
             [
              0.0,
              "rgb(2,4,25)"
             ],
             [
              0.06274509803921569,
              "rgb(24,15,41)"
             ],
             [
              0.12549019607843137,
              "rgb(47,23,57)"
             ],
             [
              0.18823529411764706,
              "rgb(71,28,72)"
             ],
             [
              0.25098039215686274,
              "rgb(97,30,82)"
             ],
             [
              0.3137254901960784,
              "rgb(123,30,89)"
             ],
             [
              0.3764705882352941,
              "rgb(150,27,91)"
             ],
             [
              0.4392156862745098,
              "rgb(177,22,88)"
             ],
             [
              0.5019607843137255,
              "rgb(203,26,79)"
             ],
             [
              0.5647058823529412,
              "rgb(223,47,67)"
             ],
             [
              0.6274509803921569,
              "rgb(236,76,61)"
             ],
             [
              0.6901960784313725,
              "rgb(242,107,73)"
             ],
             [
              0.7529411764705882,
              "rgb(244,135,95)"
             ],
             [
              0.8156862745098039,
              "rgb(245,162,122)"
             ],
             [
              0.8784313725490196,
              "rgb(246,188,153)"
             ],
             [
              0.9411764705882353,
              "rgb(247,212,187)"
             ],
             [
              1.0,
              "rgb(250,234,220)"
             ]
            ],
            "type": "heatmap"
           }
          ],
          "histogram2dcontour": [
           {
            "colorbar": {
             "outlinewidth": 0,
             "tickcolor": "rgb(36,36,36)",
             "ticklen": 8,
             "ticks": "outside",
             "tickwidth": 2
            },
            "colorscale": [
             [
              0.0,
              "rgb(2,4,25)"
             ],
             [
              0.06274509803921569,
              "rgb(24,15,41)"
             ],
             [
              0.12549019607843137,
              "rgb(47,23,57)"
             ],
             [
              0.18823529411764706,
              "rgb(71,28,72)"
             ],
             [
              0.25098039215686274,
              "rgb(97,30,82)"
             ],
             [
              0.3137254901960784,
              "rgb(123,30,89)"
             ],
             [
              0.3764705882352941,
              "rgb(150,27,91)"
             ],
             [
              0.4392156862745098,
              "rgb(177,22,88)"
             ],
             [
              0.5019607843137255,
              "rgb(203,26,79)"
             ],
             [
              0.5647058823529412,
              "rgb(223,47,67)"
             ],
             [
              0.6274509803921569,
              "rgb(236,76,61)"
             ],
             [
              0.6901960784313725,
              "rgb(242,107,73)"
             ],
             [
              0.7529411764705882,
              "rgb(244,135,95)"
             ],
             [
              0.8156862745098039,
              "rgb(245,162,122)"
             ],
             [
              0.8784313725490196,
              "rgb(246,188,153)"
             ],
             [
              0.9411764705882353,
              "rgb(247,212,187)"
             ],
             [
              1.0,
              "rgb(250,234,220)"
             ]
            ],
            "type": "histogram2dcontour"
           }
          ],
          "histogram2d": [
           {
            "colorbar": {
             "outlinewidth": 0,
             "tickcolor": "rgb(36,36,36)",
             "ticklen": 8,
             "ticks": "outside",
             "tickwidth": 2
            },
            "colorscale": [
             [
              0.0,
              "rgb(2,4,25)"
             ],
             [
              0.06274509803921569,
              "rgb(24,15,41)"
             ],
             [
              0.12549019607843137,
              "rgb(47,23,57)"
             ],
             [
              0.18823529411764706,
              "rgb(71,28,72)"
             ],
             [
              0.25098039215686274,
              "rgb(97,30,82)"
             ],
             [
              0.3137254901960784,
              "rgb(123,30,89)"
             ],
             [
              0.3764705882352941,
              "rgb(150,27,91)"
             ],
             [
              0.4392156862745098,
              "rgb(177,22,88)"
             ],
             [
              0.5019607843137255,
              "rgb(203,26,79)"
             ],
             [
              0.5647058823529412,
              "rgb(223,47,67)"
             ],
             [
              0.6274509803921569,
              "rgb(236,76,61)"
             ],
             [
              0.6901960784313725,
              "rgb(242,107,73)"
             ],
             [
              0.7529411764705882,
              "rgb(244,135,95)"
             ],
             [
              0.8156862745098039,
              "rgb(245,162,122)"
             ],
             [
              0.8784313725490196,
              "rgb(246,188,153)"
             ],
             [
              0.9411764705882353,
              "rgb(247,212,187)"
             ],
             [
              1.0,
              "rgb(250,234,220)"
             ]
            ],
            "type": "histogram2d"
           }
          ],
          "histogram": [
           {
            "marker": {
             "pattern": {
              "fillmode": "overlay",
              "size": 10,
              "solidity": 0.2
             }
            },
            "type": "histogram"
           }
          ],
          "mesh3d": [
           {
            "colorbar": {
             "outlinewidth": 0,
             "tickcolor": "rgb(36,36,36)",
             "ticklen": 8,
             "ticks": "outside",
             "tickwidth": 2
            },
            "type": "mesh3d"
           }
          ],
          "parcoords": [
           {
            "line": {
             "colorbar": {
              "outlinewidth": 0,
              "tickcolor": "rgb(36,36,36)",
              "ticklen": 8,
              "ticks": "outside",
              "tickwidth": 2
             }
            },
            "type": "parcoords"
           }
          ],
          "pie": [
           {
            "automargin": true,
            "type": "pie"
           }
          ],
          "scatter3d": [
           {
            "line": {
             "colorbar": {
              "outlinewidth": 0,
              "tickcolor": "rgb(36,36,36)",
              "ticklen": 8,
              "ticks": "outside",
              "tickwidth": 2
             }
            },
            "marker": {
             "colorbar": {
              "outlinewidth": 0,
              "tickcolor": "rgb(36,36,36)",
              "ticklen": 8,
              "ticks": "outside",
              "tickwidth": 2
             }
            },
            "type": "scatter3d"
           }
          ],
          "scattercarpet": [
           {
            "marker": {
             "colorbar": {
              "outlinewidth": 0,
              "tickcolor": "rgb(36,36,36)",
              "ticklen": 8,
              "ticks": "outside",
              "tickwidth": 2
             }
            },
            "type": "scattercarpet"
           }
          ],
          "scattergeo": [
           {
            "marker": {
             "colorbar": {
              "outlinewidth": 0,
              "tickcolor": "rgb(36,36,36)",
              "ticklen": 8,
              "ticks": "outside",
              "tickwidth": 2
             }
            },
            "type": "scattergeo"
           }
          ],
          "scattergl": [
           {
            "marker": {
             "colorbar": {
              "outlinewidth": 0,
              "tickcolor": "rgb(36,36,36)",
              "ticklen": 8,
              "ticks": "outside",
              "tickwidth": 2
             }
            },
            "type": "scattergl"
           }
          ],
          "scattermapbox": [
           {
            "marker": {
             "colorbar": {
              "outlinewidth": 0,
              "tickcolor": "rgb(36,36,36)",
              "ticklen": 8,
              "ticks": "outside",
              "tickwidth": 2
             }
            },
            "type": "scattermapbox"
           }
          ],
          "scattermap": [
           {
            "marker": {
             "colorbar": {
              "outlinewidth": 0,
              "tickcolor": "rgb(36,36,36)",
              "ticklen": 8,
              "ticks": "outside",
              "tickwidth": 2
             }
            },
            "type": "scattermap"
           }
          ],
          "scatterpolargl": [
           {
            "marker": {
             "colorbar": {
              "outlinewidth": 0,
              "tickcolor": "rgb(36,36,36)",
              "ticklen": 8,
              "ticks": "outside",
              "tickwidth": 2
             }
            },
            "type": "scatterpolargl"
           }
          ],
          "scatterpolar": [
           {
            "marker": {
             "colorbar": {
              "outlinewidth": 0,
              "tickcolor": "rgb(36,36,36)",
              "ticklen": 8,
              "ticks": "outside",
              "tickwidth": 2
             }
            },
            "type": "scatterpolar"
           }
          ],
          "scatter": [
           {
            "fillpattern": {
             "fillmode": "overlay",
             "size": 10,
             "solidity": 0.2
            },
            "type": "scatter"
           }
          ],
          "scatterternary": [
           {
            "marker": {
             "colorbar": {
              "outlinewidth": 0,
              "tickcolor": "rgb(36,36,36)",
              "ticklen": 8,
              "ticks": "outside",
              "tickwidth": 2
             }
            },
            "type": "scatterternary"
           }
          ],
          "surface": [
           {
            "colorbar": {
             "outlinewidth": 0,
             "tickcolor": "rgb(36,36,36)",
             "ticklen": 8,
             "ticks": "outside",
             "tickwidth": 2
            },
            "colorscale": [
             [
              0.0,
              "rgb(2,4,25)"
             ],
             [
              0.06274509803921569,
              "rgb(24,15,41)"
             ],
             [
              0.12549019607843137,
              "rgb(47,23,57)"
             ],
             [
              0.18823529411764706,
              "rgb(71,28,72)"
             ],
             [
              0.25098039215686274,
              "rgb(97,30,82)"
             ],
             [
              0.3137254901960784,
              "rgb(123,30,89)"
             ],
             [
              0.3764705882352941,
              "rgb(150,27,91)"
             ],
             [
              0.4392156862745098,
              "rgb(177,22,88)"
             ],
             [
              0.5019607843137255,
              "rgb(203,26,79)"
             ],
             [
              0.5647058823529412,
              "rgb(223,47,67)"
             ],
             [
              0.6274509803921569,
              "rgb(236,76,61)"
             ],
             [
              0.6901960784313725,
              "rgb(242,107,73)"
             ],
             [
              0.7529411764705882,
              "rgb(244,135,95)"
             ],
             [
              0.8156862745098039,
              "rgb(245,162,122)"
             ],
             [
              0.8784313725490196,
              "rgb(246,188,153)"
             ],
             [
              0.9411764705882353,
              "rgb(247,212,187)"
             ],
             [
              1.0,
              "rgb(250,234,220)"
             ]
            ],
            "type": "surface"
           }
          ],
          "table": [
           {
            "cells": {
             "fill": {
              "color": "rgb(231,231,240)"
             },
             "line": {
              "color": "white"
             }
            },
            "header": {
             "fill": {
              "color": "rgb(183,183,191)"
             },
             "line": {
              "color": "white"
             }
            },
            "type": "table"
           }
          ]
         },
         "layout": {
          "annotationdefaults": {
           "arrowcolor": "rgb(67,103,167)"
          },
          "autotypenumbers": "strict",
          "coloraxis": {
           "colorbar": {
            "outlinewidth": 0,
            "tickcolor": "rgb(36,36,36)",
            "ticklen": 8,
            "ticks": "outside",
            "tickwidth": 2
           }
          },
          "colorscale": {
           "sequential": [
            [
             0.0,
             "rgb(2,4,25)"
            ],
            [
             0.06274509803921569,
             "rgb(24,15,41)"
            ],
            [
             0.12549019607843137,
             "rgb(47,23,57)"
            ],
            [
             0.18823529411764706,
             "rgb(71,28,72)"
            ],
            [
             0.25098039215686274,
             "rgb(97,30,82)"
            ],
            [
             0.3137254901960784,
             "rgb(123,30,89)"
            ],
            [
             0.3764705882352941,
             "rgb(150,27,91)"
            ],
            [
             0.4392156862745098,
             "rgb(177,22,88)"
            ],
            [
             0.5019607843137255,
             "rgb(203,26,79)"
            ],
            [
             0.5647058823529412,
             "rgb(223,47,67)"
            ],
            [
             0.6274509803921569,
             "rgb(236,76,61)"
            ],
            [
             0.6901960784313725,
             "rgb(242,107,73)"
            ],
            [
             0.7529411764705882,
             "rgb(244,135,95)"
            ],
            [
             0.8156862745098039,
             "rgb(245,162,122)"
            ],
            [
             0.8784313725490196,
             "rgb(246,188,153)"
            ],
            [
             0.9411764705882353,
             "rgb(247,212,187)"
            ],
            [
             1.0,
             "rgb(250,234,220)"
            ]
           ],
           "sequentialminus": [
            [
             0.0,
             "rgb(2,4,25)"
            ],
            [
             0.06274509803921569,
             "rgb(24,15,41)"
            ],
            [
             0.12549019607843137,
             "rgb(47,23,57)"
            ],
            [
             0.18823529411764706,
             "rgb(71,28,72)"
            ],
            [
             0.25098039215686274,
             "rgb(97,30,82)"
            ],
            [
             0.3137254901960784,
             "rgb(123,30,89)"
            ],
            [
             0.3764705882352941,
             "rgb(150,27,91)"
            ],
            [
             0.4392156862745098,
             "rgb(177,22,88)"
            ],
            [
             0.5019607843137255,
             "rgb(203,26,79)"
            ],
            [
             0.5647058823529412,
             "rgb(223,47,67)"
            ],
            [
             0.6274509803921569,
             "rgb(236,76,61)"
            ],
            [
             0.6901960784313725,
             "rgb(242,107,73)"
            ],
            [
             0.7529411764705882,
             "rgb(244,135,95)"
            ],
            [
             0.8156862745098039,
             "rgb(245,162,122)"
            ],
            [
             0.8784313725490196,
             "rgb(246,188,153)"
            ],
            [
             0.9411764705882353,
             "rgb(247,212,187)"
            ],
            [
             1.0,
             "rgb(250,234,220)"
            ]
           ]
          },
          "colorway": [
           "rgb(76,114,176)",
           "rgb(221,132,82)",
           "rgb(85,168,104)",
           "rgb(196,78,82)",
           "rgb(129,114,179)",
           "rgb(147,120,96)",
           "rgb(218,139,195)",
           "rgb(140,140,140)",
           "rgb(204,185,116)",
           "rgb(100,181,205)"
          ],
          "font": {
           "color": "rgb(36,36,36)"
          },
          "geo": {
           "bgcolor": "white",
           "lakecolor": "white",
           "landcolor": "rgb(234,234,242)",
           "showlakes": true,
           "showland": true,
           "subunitcolor": "white"
          },
          "hoverlabel": {
           "align": "left"
          },
          "hovermode": "closest",
          "paper_bgcolor": "white",
          "plot_bgcolor": "rgb(234,234,242)",
          "polar": {
           "angularaxis": {
            "gridcolor": "white",
            "linecolor": "white",
            "showgrid": true,
            "ticks": ""
           },
           "bgcolor": "rgb(234,234,242)",
           "radialaxis": {
            "gridcolor": "white",
            "linecolor": "white",
            "showgrid": true,
            "ticks": ""
           }
          },
          "scene": {
           "xaxis": {
            "backgroundcolor": "rgb(234,234,242)",
            "gridcolor": "white",
            "gridwidth": 2,
            "linecolor": "white",
            "showbackground": true,
            "showgrid": true,
            "ticks": "",
            "zerolinecolor": "white"
           },
           "yaxis": {
            "backgroundcolor": "rgb(234,234,242)",
            "gridcolor": "white",
            "gridwidth": 2,
            "linecolor": "white",
            "showbackground": true,
            "showgrid": true,
            "ticks": "",
            "zerolinecolor": "white"
           },
           "zaxis": {
            "backgroundcolor": "rgb(234,234,242)",
            "gridcolor": "white",
            "gridwidth": 2,
            "linecolor": "white",
            "showbackground": true,
            "showgrid": true,
            "ticks": "",
            "zerolinecolor": "white"
           }
          },
          "shapedefaults": {
           "fillcolor": "rgb(67,103,167)",
           "line": {
            "width": 0
           },
           "opacity": 0.5
          },
          "ternary": {
           "aaxis": {
            "gridcolor": "white",
            "linecolor": "white",
            "showgrid": true,
            "ticks": ""
           },
           "baxis": {
            "gridcolor": "white",
            "linecolor": "white",
            "showgrid": true,
            "ticks": ""
           },
           "bgcolor": "rgb(234,234,242)",
           "caxis": {
            "gridcolor": "white",
            "linecolor": "white",
            "showgrid": true,
            "ticks": ""
           }
          },
          "xaxis": {
           "automargin": true,
           "gridcolor": "white",
           "linecolor": "white",
           "showgrid": true,
           "ticks": "",
           "title": {
            "standoff": 15
           },
           "zerolinecolor": "white"
          },
          "yaxis": {
           "automargin": true,
           "gridcolor": "white",
           "linecolor": "white",
           "showgrid": true,
           "ticks": "",
           "title": {
            "standoff": 15
           },
           "zerolinecolor": "white"
          }
         }
        },
        "xaxis": {
         "anchor": "y",
         "domain": [
          0.0,
          1.0
         ],
         "title": {
          "text": "Usecases",
          "font": {
           "size": 24
          }
         },
         "categoryorder": "array",
         "categoryarray": [
          "uc 1:<br>Filtering Query<br> Bedrooms and Size",
          "uc 2:<br>Bulk Update",
          "uc 3:<br>Schema Evolution",
          "uc 4:<br>Analytical Query",
          "uc 5:<br>Aggregation",
          "uc 6:<br>Filtering Query Properties"
         ],
         "tickfont": {
          "size": 16
         },
         "tickangle": 0
        },
        "yaxis": {
         "anchor": "x",
         "domain": [
          0.0,
          1.0
         ],
         "title": {
          "text": "Avg. Execution Time (s) (log scale)",
          "font": {
           "size": 24
          }
         },
         "tickfont": {
          "size": 16
         },
         "type": "log",
         "tickvals": [
          0.01,
          0.1,
          1,
          10,
          100
         ],
         "ticktext": [
          "0.01",
          "0.1",
          "1",
          "10",
          "100"
         ],
         "dtick": 1,
         "exponentformat": "power",
         "showexponent": "all",
         "rangemode": "tozero"
        },
        "legend": {
         "title": {
          "text": "Legend",
          "font": {
           "size": 24
          }
         },
         "tracegroupgap": 0,
         "grouptitlefont": {
          "size": 16
         },
         "font": {
          "size": 20
         },
         "traceorder": "grouped"
        },
        "title": {
         "text": "Average Execution Time per Usecase (1-6) by Database",
         "font": {
          "size": 32
         },
         "x": 0.45,
         "xanchor": "center"
        },
        "barmode": "group",
        "margin": {
         "t": 60,
         "b": 100
        }
       },
       "config": {
        "plotlyServerURL": "https://plot.ly"
       }
      }
     },
     "metadata": {},
     "output_type": "display_data"
    }
   ],
   "execution_count": 10
  },
  {
   "cell_type": "markdown",
   "metadata": {},
   "source": [
    "### Plot5: Box‐Plot of Peak CPU Usage by Database"
   ]
  },
  {
   "metadata": {
    "ExecuteTime": {
     "end_time": "2025-06-23T11:53:34.705223Z",
     "start_time": "2025-06-23T11:53:34.697667Z"
    }
   },
   "cell_type": "code",
   "source": [
    "from pandas.api.types import CategoricalDtype\n",
    "\n",
    "# Assume case_db_run_instances is already populated (as in your parsing code).\n",
    "records = []\n",
    "for run in case_db_run_instances:\n",
    "    records.append({\n",
    "        \"database\": run.database,\n",
    "        \"timestamp\": run.timestamp,                # datetime\n",
    "        \"usecase\": run.usecase,                   # integer (e.g. 1, 2, 3…)\n",
    "        \"usecase_full_name\": run.usecase_full_name,\n",
    "        \"execution_time_s\": run.execution_time,\n",
    "        \"execution_time_ms\": run.execution_time_ms,\n",
    "        \"avg_cpu_percent\": run.avg_cpu_percent,\n",
    "        \"peak_cpu_percent\": run.peak_cpu_percent,\n",
    "        \"avg_mem_mb\": run.avg_mem_mb,\n",
    "        \"peak_mem_mb\": run.peak_mem_mb\n",
    "    })\n",
    "\n",
    "df = pd.DataFrame(records)\n",
    "# If you want to sort or index by timestamp:\n",
    "df = df.sort_values(\"timestamp\").reset_index(drop=True)\n",
    "\n",
    "# rename to \"Usecase N …\"\n",
    "renames = {\n",
    "    \"add solar panels\":             \"Schema Evolution\",\n",
    "    \"average price per city\":       \"Aggregation\",\n",
    "    \"filter by bedrooms and size\":  \"Filtering Query Bedrooms and Size\",\n",
    "    \"filter properties\":            \"Filtering Query Properties\",\n",
    "    \"price analysis\":               \"Analytical Query\",\n",
    "    \"update prices\":                \"Bulk Update\",\n",
    "}\n",
    "df[\"usecase_full_name\"] = df[\"usecase_full_name\"].map(renames)\n",
    "\n",
    "# define exact x-axis order\n",
    "order = [\n",
    "    \"Filtering Query Bedrooms and Size\",\n",
    "    \"Bulk Update\",\n",
    "    \"Schema Evolution\",\n",
    "    \"Analytical Query\",\n",
    "    \"Aggregation\",\n",
    "    \"Filtering Query Properties\",\n",
    "]\n",
    "\n",
    "# *** Option A: make it an ordered categorical (not strictly necessary if you use category_orders) ***\n",
    "cat_type = CategoricalDtype(categories=order, ordered=True)\n",
    "df[\"usecase_full_name\"] = df[\"usecase_full_name\"].astype(cat_type)\n",
    "\n",
    "\n",
    "\n"
   ],
   "outputs": [],
   "execution_count": 11
  },
  {
   "cell_type": "code",
   "metadata": {
    "ExecuteTime": {
     "end_time": "2025-06-23T11:53:35.047850Z",
     "start_time": "2025-06-23T11:53:34.729565Z"
    }
   },
   "source": [
    "\n",
    "\n",
    "\n",
    "# === DATA PREPARATION FOR PLOTTING ===\n",
    "\n",
    "# 1. Create a sorted dataframe of unique usecases to define the plot order and names\n",
    "uc_meta = df[['usecase', 'usecase_full_name']].drop_duplicates().sort_values('usecase').reset_index(drop=True)\n",
    "\n",
    "# 2. Create the shortened names for the legend\n",
    "uc_meta['short_name'] = \"uc\" + uc_meta['usecase'].astype(str) + \": \" + uc_meta['usecase_full_name'].astype(str)\n",
    "\n",
    "# 3. Create a list of the ordered full names to drive the plotting loop\n",
    "ordered_uc_full_names = uc_meta['usecase_full_name'].tolist()\n",
    "short_name_map = pd.Series(uc_meta.short_name.values, index=uc_meta.usecase_full_name).to_dict()\n",
    "\n",
    "fig = go.Figure()\n",
    "db_names = df['database'].unique()\n",
    "db_colors = px.colors.qualitative.Vivid\n",
    "uc_colors = px.colors.qualitative.D3\n",
    "db_color_map = {name: db_colors[i % len(db_colors)] for i, name in enumerate(db_names)}\n",
    "uc_color_map = {name: uc_colors[i % len(uc_colors)] for i, name in enumerate(ordered_uc_full_names)}\n",
    "\n",
    "# --- Spacing definition ---\n",
    "BOX_WIDTH = 0.3\n",
    "BOX_START_X_REL = -0.45\n",
    "STRIPS_START_X_REL = BOX_START_X_REL + BOX_WIDTH + 0.05\n",
    "STRIPS_END_X_REL = 0.45\n",
    "STRIPS_TOTAL_WIDTH = STRIPS_END_X_REL - STRIPS_START_X_REL\n",
    "STRIP_SPACING = STRIPS_TOTAL_WIDTH / len(ordered_uc_full_names) if ordered_uc_full_names else 0\n",
    "\n",
    "# --- Add Traces ---\n",
    "# This is the section adapted for 'peak_cpu_percent'\n",
    "for i, db_name in enumerate(db_names):\n",
    "    df_db = df[df['database'] == db_name]\n",
    "    # Box plot now uses 'peak_cpu_percent'\n",
    "    fig.add_trace(go.Box(\n",
    "        y=df_db['peak_cpu_percent'], x0=i + BOX_START_X_REL + (BOX_WIDTH / 2), name=db_name,\n",
    "        marker_color=db_color_map[db_name], width=BOX_WIDTH, boxpoints=False, showlegend=True,\n",
    "        legendgroup=\"1-databases\", legendgrouptitle_text=\"Databases\"\n",
    "    ))\n",
    "    for j, uc_full_name in enumerate(ordered_uc_full_names):\n",
    "        df_uc = df_db[df_db['usecase_full_name'] == uc_full_name]\n",
    "        if df_uc.empty: continue\n",
    "        strip_x_pos = i + STRIPS_START_X_REL + (j * STRIP_SPACING) + (STRIP_SPACING / 2)\n",
    "        # Scatter plot (strips) now uses 'peak_cpu_percent'\n",
    "        fig.add_trace(go.Scatter(\n",
    "            x=[strip_x_pos] * len(df_uc), y=df_uc['peak_cpu_percent'], mode='markers',\n",
    "            name=short_name_map[uc_full_name],\n",
    "            marker_color=uc_color_map[uc_full_name], showlegend=(i == 0),\n",
    "            legendgroup=\"2-usecases\", legendgrouptitle_text=\"Usecases\"\n",
    "        ))\n",
    "\n",
    "# --- Finalize Layout with Larger Fonts ---\n",
    "# Layout titles and labels are updated for the new metric\n",
    "fig.update_layout(\n",
    "    title=dict(\n",
    "        text=\"Peak CPU Usage: Boxplot and Usecase Strips by Database\",\n",
    "        x=0.45,\n",
    "        font=dict(size=32)\n",
    "    ),\n",
    "    xaxis=dict(\n",
    "        title=dict(text=\"Database\", font=dict(size=24)),\n",
    "        tickmode='array',\n",
    "        tickvals=list(range(len(db_names))),\n",
    "        ticktext=db_names,\n",
    "        tickfont=dict(size=20),\n",
    "    ),\n",
    "    yaxis=dict(\n",
    "        title=dict(text=\"Peak CPU Percent (%)\", font=dict(size=24)),\n",
    "        tickfont=dict(size=20),\n",
    "    ),\n",
    "    legend=dict(\n",
    "        traceorder=\"grouped\",\n",
    "        title=dict(\n",
    "            text=\"Legend\",\n",
    "            font=dict(size=24)\n",
    "        ),\n",
    "        grouptitlefont=dict(\n",
    "            size=16\n",
    "        ),\n",
    "        font=dict(\n",
    "            size=16\n",
    "        )\n",
    "    ),\n",
    "    boxmode='overlay',\n",
    "    template='seaborn',\n",
    ")\n",
    "\n",
    "fig.write_image(f\"{OUTPUT_PATH}Average-Peak-CPU-Usage-Per-Usecase.png\", width=1350, height=750, scale=2)\n",
    "fig.show()"
   ],
   "outputs": [
    {
     "data": {
      "application/vnd.plotly.v1+json": {
       "data": [
        {
         "boxpoints": false,
         "legendgroup": "1-databases",
         "legendgrouptitle": {
          "text": "Databases"
         },
         "marker": {
          "color": "rgb(229, 134, 6)"
         },
         "name": "clickhouse",
         "showlegend": true,
         "width": 0.3,
         "x0": -0.30000000000000004,
         "y": {
          "dtype": "f8",
          "bdata": "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"
         },
         "type": "box"
        },
        {
         "legendgroup": "2-usecases",
         "legendgrouptitle": {
          "text": "Usecases"
         },
         "marker": {
          "color": "#1F77B4"
         },
         "mode": "markers",
         "name": "uc1: Filtering Query Properties",
         "showlegend": true,
         "x": [
          -0.05416666666666668,
          -0.05416666666666668,
          -0.05416666666666668,
          -0.05416666666666668,
          -0.05416666666666668,
          -0.05416666666666668,
          -0.05416666666666668,
          -0.05416666666666668,
          -0.05416666666666668,
          -0.05416666666666668,
          -0.05416666666666668,
          -0.05416666666666668,
          -0.05416666666666668,
          -0.05416666666666668,
          -0.05416666666666668,
          -0.05416666666666668,
          -0.05416666666666668,
          -0.05416666666666668,
          -0.05416666666666668,
          -0.05416666666666668,
          -0.05416666666666668,
          -0.05416666666666668,
          -0.05416666666666668,
          -0.05416666666666668,
          -0.05416666666666668,
          -0.05416666666666668,
          -0.05416666666666668,
          -0.05416666666666668,
          -0.05416666666666668,
          -0.05416666666666668,
          -0.05416666666666668,
          -0.05416666666666668,
          -0.05416666666666668,
          -0.05416666666666668,
          -0.05416666666666668,
          -0.05416666666666668,
          -0.05416666666666668,
          -0.05416666666666668,
          -0.05416666666666668,
          -0.05416666666666668,
          -0.05416666666666668,
          -0.05416666666666668,
          -0.05416666666666668,
          -0.05416666666666668,
          -0.05416666666666668,
          -0.05416666666666668,
          -0.05416666666666668,
          -0.05416666666666668,
          -0.05416666666666668,
          -0.05416666666666668,
          -0.05416666666666668,
          -0.05416666666666668,
          -0.05416666666666668,
          -0.05416666666666668,
          -0.05416666666666668,
          -0.05416666666666668,
          -0.05416666666666668,
          -0.05416666666666668,
          -0.05416666666666668,
          -0.05416666666666668,
          -0.05416666666666668,
          -0.05416666666666668,
          -0.05416666666666668,
          -0.05416666666666668,
          -0.05416666666666668,
          -0.05416666666666668,
          -0.05416666666666668,
          -0.05416666666666668,
          -0.05416666666666668,
          -0.05416666666666668,
          -0.05416666666666668,
          -0.05416666666666668,
          -0.05416666666666668
         ],
         "y": {
          "dtype": "f8",
          "bdata": "rkfhehS+WkDD9Shcj9JdQJqZmZmZCVxA4XoUrkdBXEA9CtejcM1fQLgehetR2F1APQrXo3CNXEA9CtejcH1dQGZmZmZmLmBAUrgehetxW0BmZmZmZrZeQLgehetRiFtAMzMzMzODW0D2KFyPwlVbQM3MzMzMHFtAuB6F61GYYkDNzMzMzExcQNejcD0Kd1pAZmZmZmb2WEBI4XoUrrdYQK5H4XoUrlpAw/UoXI+CWkDD9Shcj0JYQJqZmZmZuVlAuB6F61EYXEDXo3A9CqddQPYoXI/CJVpAMzMzMzODW0C4HoXrURhcQLgehetRiF9AhetRuB6lWUBSuB6F67FYQOxRuB6F21hAcT0K16PAWUDNzMzMzFxdQFK4HoXrwWBAj8L1KFxPXECamZmZmTlaQArXo3A94mJAKVyPwvV4YECamZmZmXlbQGZmZmZmDmBA16NwPQqnWkAAAAAAAOBYQNejcD0Kd1pA7FG4HoUrXEDsUbgehetZQI/C9Shcj1lAXI/C9SgcYEDD9Shcj7JaQJqZmZmZKVxAw/UoXI+CW0Bcj8L1KNxbQFK4HoXrsVpAhetRuB7VX0BmZmZmZqZcQOF6FK5HyWJAKVyPwvWYW0A9CtejcD1eQClcj8L12FxArkfhehTuYECkcD0K15NcQD0K16NwHVZA7FG4HoX7WkAAAAAAAEBYQHE9Ctej4FhA16NwPQoHXEBcj8L1KMxXQHE9CtejwFhASOF6FK5nWkAK16NwPRpdQFK4HoXrYVtArkfhehSmYEA="
         },
         "type": "scatter"
        },
        {
         "legendgroup": "2-usecases",
         "legendgrouptitle": {
          "text": "Usecases"
         },
         "marker": {
          "color": "#FF7F0E"
         },
         "mode": "markers",
         "name": "uc2: Bulk Update",
         "showlegend": true,
         "x": [
          0.03749999999999999,
          0.03749999999999999,
          0.03749999999999999,
          0.03749999999999999,
          0.03749999999999999,
          0.03749999999999999,
          0.03749999999999999,
          0.03749999999999999,
          0.03749999999999999,
          0.03749999999999999,
          0.03749999999999999,
          0.03749999999999999,
          0.03749999999999999,
          0.03749999999999999,
          0.03749999999999999,
          0.03749999999999999,
          0.03749999999999999,
          0.03749999999999999,
          0.03749999999999999,
          0.03749999999999999,
          0.03749999999999999,
          0.03749999999999999,
          0.03749999999999999,
          0.03749999999999999,
          0.03749999999999999,
          0.03749999999999999,
          0.03749999999999999,
          0.03749999999999999,
          0.03749999999999999,
          0.03749999999999999,
          0.03749999999999999,
          0.03749999999999999,
          0.03749999999999999,
          0.03749999999999999,
          0.03749999999999999,
          0.03749999999999999,
          0.03749999999999999,
          0.03749999999999999,
          0.03749999999999999,
          0.03749999999999999,
          0.03749999999999999,
          0.03749999999999999,
          0.03749999999999999,
          0.03749999999999999,
          0.03749999999999999,
          0.03749999999999999,
          0.03749999999999999,
          0.03749999999999999,
          0.03749999999999999,
          0.03749999999999999,
          0.03749999999999999,
          0.03749999999999999,
          0.03749999999999999,
          0.03749999999999999,
          0.03749999999999999,
          0.03749999999999999,
          0.03749999999999999,
          0.03749999999999999,
          0.03749999999999999,
          0.03749999999999999,
          0.03749999999999999,
          0.03749999999999999,
          0.03749999999999999,
          0.03749999999999999,
          0.03749999999999999,
          0.03749999999999999,
          0.03749999999999999,
          0.03749999999999999,
          0.03749999999999999,
          0.03749999999999999,
          0.03749999999999999,
          0.03749999999999999,
          0.03749999999999999
         ],
         "y": {
          "dtype": "f8",
          "bdata": "cT0K16OwN0D2KFyPwvU2QMP1KFyPwglA9ihcj8L1O0AUrkfhetQ3QKRwPQrXow5AmpmZmZmZC0A9CtejcH05QEjhehSuRz1AMzMzMzOzPkA9CtejcH04QFK4HoXrUQRA9ihcj8L1EED2KFyPwnU4QBSuR+F6FApA4XoUrkfhL0Bcj8L1KFwJQAAAAAAAAAxAAAAAAAAADEA9CtejcD0GQFK4HoXrkTlAZmZmZmbmNUApXI/C9SgMQAAAAAAAAD1AzczMzMwMPkCPwvUoXI8IQHsUrkfheh9AXI/C9ShcDUD2KFyPwjU7QPYoXI/CdTpAzczMzMzMNkBI4XoUrkcJQArXo3A9yjhA4XoUrkdhIkCPwvUoXE85QArXo3A9Ci1A4XoUrkdhPkA9CtejcL06QArXo3A9ijdAXI/C9SjcL0CamZmZmRk4QK5H4XoULjlArkfhehRuN0AUrkfhehQIQK5H4XoULiZAzczMzMzMOUAfhetRuN42QClcj8L1KDlAH4XrUbheOEDsUbgehesNQAAAAAAAgDpAXI/C9SjcJUApXI/C9eg8QAAAAAAAABBAmpmZmZmZC0ApXI/C9Sg4QM3MzMzMjDdAzczMzMzMQUDD9Shcj2JQQEjhehSuRxpAKVyPwvVoO0CF61G4HoUJQBSuR+F6FBZAKVyPwvUoCEBmZmZmZmYKQPYoXI/CNThAXI/C9SjcL0Bcj8L1KFwFQClcj8L1KA5AuB6F61F4MEAfhetRuF45QArXo3A9ChpAj8L1KFzPOEA="
         },
         "type": "scatter"
        },
        {
         "legendgroup": "2-usecases",
         "legendgrouptitle": {
          "text": "Usecases"
         },
         "marker": {
          "color": "#2CA02C"
         },
         "mode": "markers",
         "name": "uc3: Schema Evolution",
         "showlegend": true,
         "x": [
          0.12916666666666665,
          0.12916666666666665,
          0.12916666666666665,
          0.12916666666666665,
          0.12916666666666665,
          0.12916666666666665,
          0.12916666666666665,
          0.12916666666666665,
          0.12916666666666665,
          0.12916666666666665,
          0.12916666666666665,
          0.12916666666666665,
          0.12916666666666665,
          0.12916666666666665,
          0.12916666666666665,
          0.12916666666666665,
          0.12916666666666665,
          0.12916666666666665,
          0.12916666666666665,
          0.12916666666666665,
          0.12916666666666665,
          0.12916666666666665,
          0.12916666666666665,
          0.12916666666666665,
          0.12916666666666665,
          0.12916666666666665,
          0.12916666666666665,
          0.12916666666666665,
          0.12916666666666665,
          0.12916666666666665,
          0.12916666666666665,
          0.12916666666666665,
          0.12916666666666665,
          0.12916666666666665,
          0.12916666666666665,
          0.12916666666666665,
          0.12916666666666665,
          0.12916666666666665,
          0.12916666666666665,
          0.12916666666666665,
          0.12916666666666665,
          0.12916666666666665,
          0.12916666666666665,
          0.12916666666666665,
          0.12916666666666665,
          0.12916666666666665,
          0.12916666666666665,
          0.12916666666666665,
          0.12916666666666665,
          0.12916666666666665,
          0.12916666666666665,
          0.12916666666666665,
          0.12916666666666665,
          0.12916666666666665,
          0.12916666666666665,
          0.12916666666666665,
          0.12916666666666665,
          0.12916666666666665,
          0.12916666666666665,
          0.12916666666666665,
          0.12916666666666665,
          0.12916666666666665,
          0.12916666666666665,
          0.12916666666666665,
          0.12916666666666665,
          0.12916666666666665,
          0.12916666666666665,
          0.12916666666666665,
          0.12916666666666665,
          0.12916666666666665,
          0.12916666666666665,
          0.12916666666666665,
          0.12916666666666665
         ],
         "y": {
          "dtype": "f8",
          "bdata": "16NwPQrXDUDhehSuR+ESQI/C9ShcDzhA16NwPQrXCUDhehSuR+EKQMP1KFyPwgdAexSuR+E6NkBmZmZmZqY0QPYoXI/CNUJAKVyPwvUoEkD2KFyPwjU0QFyPwvUoPENAUrgehetRDkAK16NwPQonQHE9CtejsDJAAAAAAABAOkAzMzMzMzMpQBSuR+F69ENA7FG4HoXrDUDhehSuR+EIQI/C9ShcjwpAXI/C9ShcLkCkcD0K12NCQJqZmZmZ2T1AH4XrUbieJEDD9ShcjwI0QClcj8L1KBFAH4XrUbg+QED2KFyPwvUOQHsUrkfheg5AhetRuB6FC0Bcj8L1KFwJQMP1KFyPwh1AH4XrUbjeN0BSuB6F61EZQM3MzMzMzBJAexSuR+F6DkAK16NwPQozQHsUrkfhWkNAFK5H4XoUEEApXI/C9ShAQOxRuB6F6xFAmpmZmZmZOkDXo3A9CtdFQEjhehSuB0FA4XoUrkfhDkDD9ShcjwI7QNejcD0KVytAKVyPwvWIQECamZmZmTlCQM3MzMzMzBFA4XoUrkfhEkDhehSuR+EQQB+F61G4niRA16NwPQrXH0AUrkfhehQTQIXrUbgehQ9A16NwPQrXDUBI4XoUrkcpQFK4HoXrUQ5AUrgehetREECPwvUoXE8wQIXrUbgexTZA7FG4HoWrQ0A9CtejcH02QHE9CtejcAlA16NwPQpXNkCuR+F6FE5IQB+F61G4/k1AXI/C9SjcLUCamZmZmdkxQI/C9ShcD0FAKVyPwvVoNEA="
         },
         "type": "scatter"
        },
        {
         "legendgroup": "2-usecases",
         "legendgrouptitle": {
          "text": "Usecases"
         },
         "marker": {
          "color": "#D62728"
         },
         "mode": "markers",
         "name": "uc4: Analytical Query",
         "showlegend": true,
         "x": [
          0.22083333333333333,
          0.22083333333333333,
          0.22083333333333333,
          0.22083333333333333,
          0.22083333333333333,
          0.22083333333333333,
          0.22083333333333333,
          0.22083333333333333,
          0.22083333333333333,
          0.22083333333333333,
          0.22083333333333333,
          0.22083333333333333,
          0.22083333333333333,
          0.22083333333333333,
          0.22083333333333333,
          0.22083333333333333,
          0.22083333333333333,
          0.22083333333333333,
          0.22083333333333333,
          0.22083333333333333,
          0.22083333333333333,
          0.22083333333333333,
          0.22083333333333333,
          0.22083333333333333,
          0.22083333333333333,
          0.22083333333333333,
          0.22083333333333333,
          0.22083333333333333,
          0.22083333333333333,
          0.22083333333333333,
          0.22083333333333333,
          0.22083333333333333,
          0.22083333333333333,
          0.22083333333333333,
          0.22083333333333333,
          0.22083333333333333,
          0.22083333333333333,
          0.22083333333333333,
          0.22083333333333333,
          0.22083333333333333,
          0.22083333333333333,
          0.22083333333333333,
          0.22083333333333333,
          0.22083333333333333,
          0.22083333333333333,
          0.22083333333333333,
          0.22083333333333333,
          0.22083333333333333,
          0.22083333333333333,
          0.22083333333333333,
          0.22083333333333333,
          0.22083333333333333,
          0.22083333333333333,
          0.22083333333333333,
          0.22083333333333333,
          0.22083333333333333,
          0.22083333333333333,
          0.22083333333333333,
          0.22083333333333333,
          0.22083333333333333,
          0.22083333333333333,
          0.22083333333333333,
          0.22083333333333333,
          0.22083333333333333,
          0.22083333333333333,
          0.22083333333333333,
          0.22083333333333333,
          0.22083333333333333,
          0.22083333333333333,
          0.22083333333333333,
          0.22083333333333333,
          0.22083333333333333,
          0.22083333333333333
         ],
         "y": {
          "dtype": "f8",
          "bdata": "rkfhehROQUDNzMzMzMwvQAAAAAAAADFAMzMzMzPzSEBcj8L1KNw4QD0K16NwPQ5A7FG4HoXrDUAUrkfhehQMQJqZmZmZeUZA7FG4HoVrN0DD9ShcjwIzQB+F61G4ni9AexSuR+E6MkBmZmZmZmYQQHE9CtejcDVAKVyPwvUoEkD2KFyPwvUIQGZmZmZmJjRAhetRuB6FGEAAAAAAAAAcQBSuR+F6lDBAZmZmZmZmDEAK16NwPQoLQHsUrkfhegxApHA9CtejDkAzMzMzMzMJQHE9CtejcBhAzczMzMzMI0BI4XoUrscoQJqZmZmZmStAmpmZmZkZOEBxPQrXo3AJQLgehetRuC9AcT0K16OQREDXo3A9CtcLQB+F61G4HhFAFK5H4XoULEAfhetRuB4xQIXrUbgehQ1ASOF6FK5HEkAUrkfhelQyQOF6FK5H4Q5AUrgehetRL0B7FK5H4XoKQLgehetRuA5AUrgeheuRNkDXo3A9Cpc0QClcj8L1KCdAH4XrUbieJUAK16NwPQoPQClcj8L1KA5ApHA9CtejDkCamZmZmZkVQMP1KFyPwglAXI/C9ShcC0AAAAAAAIAlQHsUrkfheg5A9ihcj8L1DEBSuB6F61EOQJqZmZmZmQ1AMzMzMzMzEUB7FK5H4XoMQKRwPQrXoxRAUrgehetRCEDXo3A9CtcFQJqZmZmZGSZAAAAAAAAAAkDNzMzMzMwEQNejcD0K1y9AMzMzMzMzDUAAAAAAAAAKQNejcD0KFzNAFK5H4XoUKkA="
         },
         "type": "scatter"
        },
        {
         "legendgroup": "2-usecases",
         "legendgrouptitle": {
          "text": "Usecases"
         },
         "marker": {
          "color": "#9467BD"
         },
         "mode": "markers",
         "name": "uc5: Aggregation",
         "showlegend": true,
         "x": [
          0.3125,
          0.3125,
          0.3125,
          0.3125,
          0.3125,
          0.3125,
          0.3125,
          0.3125,
          0.3125,
          0.3125,
          0.3125,
          0.3125,
          0.3125,
          0.3125,
          0.3125,
          0.3125,
          0.3125,
          0.3125,
          0.3125,
          0.3125,
          0.3125,
          0.3125,
          0.3125,
          0.3125,
          0.3125,
          0.3125,
          0.3125,
          0.3125,
          0.3125,
          0.3125,
          0.3125,
          0.3125,
          0.3125,
          0.3125,
          0.3125,
          0.3125,
          0.3125,
          0.3125,
          0.3125,
          0.3125,
          0.3125,
          0.3125,
          0.3125,
          0.3125,
          0.3125,
          0.3125,
          0.3125,
          0.3125,
          0.3125,
          0.3125,
          0.3125,
          0.3125,
          0.3125,
          0.3125,
          0.3125,
          0.3125,
          0.3125,
          0.3125,
          0.3125,
          0.3125,
          0.3125,
          0.3125,
          0.3125,
          0.3125,
          0.3125,
          0.3125,
          0.3125,
          0.3125,
          0.3125,
          0.3125,
          0.3125,
          0.3125,
          0.3125
         ],
         "y": {
          "dtype": "f8",
          "bdata": "7FG4HoXrEUAfhetRuB4NQOF6FK5H4QpAAAAAAAAAE0BxPQrXo3AJQEjhehSuRxJA9ihcj8L1DkApXI/C9SgQQEjhehSuRxBAuB6F61G4E0BI4XoUrkcRQLgehetRuAxA4XoUrkfhDkBmZmZmZmYKQB+F61G4HhJAMzMzMzMzE0B7FK5H4XoKQAAAAAAAAApAw/UoXI/CCUAzMzMzMzMLQGZmZmZmZgxAAAAAAAAAEECuR+F6FK4QQIXrUbgehRNAzczMzMyMPEDXo3A9CtcPQHE9CtejcAlAZmZmZmZmEEAUrkfhehQKQDMzMzMzMwtAXI/C9ShcTkBcj8L1KFwLQHsUrkfhegpAAAAAAAAAEEBSuB6F61EQQM3MzMzMzBBAcT0K16NwEUDXo3A9CtcSQEjhehSuRxBArkfhehSuFECF61G4HoUNQDMzMzMzg1pA7FG4HoXrD0BmZmZmZmYQQGZmZmZmZg5AcT0K16NwC0AzMzMzMzMPQM3MzMzMzBBA4XoUrkfhE0C4HoXrUbgMQDMzMzMzMwtAcT0K16NwEUCF61G4HoUSQFyPwvUoXAlArkfhehSuC0AAAAAAAAAOQNejcD0K1w1A16NwPQrXEkC4HoXrUbgOQHE9CtejcAdAj8L1KFyPCkBSuB6F61ERQFyPwvUoXAtACtejcD0KC0DXo3A9CtcHQEjhehSuRw1Aw/UoXI/CC0CamZmZmZkPQNejcD0K1w1AzczMzMzMDEBI4XoUrkcQQJqZmZmZmQtArkfhehSuD0A="
         },
         "type": "scatter"
        },
        {
         "legendgroup": "2-usecases",
         "legendgrouptitle": {
          "text": "Usecases"
         },
         "marker": {
          "color": "#8C564B"
         },
         "mode": "markers",
         "name": "uc6: Filtering Query Bedrooms and Size",
         "showlegend": true,
         "x": [
          0.4041666666666667,
          0.4041666666666667,
          0.4041666666666667,
          0.4041666666666667,
          0.4041666666666667,
          0.4041666666666667,
          0.4041666666666667,
          0.4041666666666667,
          0.4041666666666667,
          0.4041666666666667,
          0.4041666666666667,
          0.4041666666666667,
          0.4041666666666667,
          0.4041666666666667,
          0.4041666666666667,
          0.4041666666666667,
          0.4041666666666667,
          0.4041666666666667,
          0.4041666666666667,
          0.4041666666666667,
          0.4041666666666667,
          0.4041666666666667,
          0.4041666666666667,
          0.4041666666666667,
          0.4041666666666667,
          0.4041666666666667,
          0.4041666666666667,
          0.4041666666666667,
          0.4041666666666667,
          0.4041666666666667,
          0.4041666666666667,
          0.4041666666666667,
          0.4041666666666667,
          0.4041666666666667,
          0.4041666666666667,
          0.4041666666666667,
          0.4041666666666667,
          0.4041666666666667,
          0.4041666666666667,
          0.4041666666666667,
          0.4041666666666667,
          0.4041666666666667,
          0.4041666666666667,
          0.4041666666666667,
          0.4041666666666667,
          0.4041666666666667,
          0.4041666666666667,
          0.4041666666666667,
          0.4041666666666667,
          0.4041666666666667,
          0.4041666666666667,
          0.4041666666666667,
          0.4041666666666667,
          0.4041666666666667,
          0.4041666666666667,
          0.4041666666666667,
          0.4041666666666667,
          0.4041666666666667,
          0.4041666666666667,
          0.4041666666666667,
          0.4041666666666667,
          0.4041666666666667,
          0.4041666666666667,
          0.4041666666666667,
          0.4041666666666667,
          0.4041666666666667,
          0.4041666666666667,
          0.4041666666666667,
          0.4041666666666667,
          0.4041666666666667,
          0.4041666666666667,
          0.4041666666666667,
          0.4041666666666667
         ],
         "y": {
          "dtype": "f8",
          "bdata": "FK5H4XoUJECkcD0K1yMsQBSuR+F6FBtA4XoUrkfhDEDD9Shcj8ISQDMzMzMzMwtAzczMzMzMEUCkcD0K16MKQD0K16NwvSVAw/UoXI8iWkDNzMzMzMwOQJqZmZmZmQ1AcT0K16NwE0CuR+F6FK4LQJqZmZmZmRFAMzMzMzMzFUApXI/C9SgWQOxRuB6F6wdAuB6F61G4DkDNzMzMzMwEQArXo3A9CgdAUrgehetRCkBxPQrXo3AQQJqZmZmZmQ9AH4XrUbgeEkAAAAAAAAAKQLgehetRuARArkfhehSuC0A9CtejcD0QQOF6FK5H4QhAuB6F61G4DEC4HoXrUbgQQMP1KFyPwhBAZmZmZmZmDEDNzMzMzMwRQNejcD0K1xBAmpmZmZmZMkBcj8L1KFwLQOxRuB6F6w1ArkfhehSuCUAzMzMzMzMNQK5H4XoUrhJAPQrXo3A9DkAzMzMzMzMLQK5H4XoUrgtAH4XrUbgeC0AK16NwPQoJQFyPwvUoXBBAZmZmZmZmEECF61G4HoULQM3MzMzMzBFAZmZmZmZmDEBSuB6F61EOQFK4HoXrUQpAKVyPwvUoEUAAAAAAAAAOQJqZmZmZGSZAmpmZmZkZMUB7FK5H4fozQB+F61G4HglAhetRuB6FC0CF61G4HoUHQB+F61G4HgtAmpmZmZmZCUAfhetRuB4JQAAAAAAAAAhAAAAAAAAABkCuR+F6FK4NQFyPwvUoXAdAmpmZmZmZC0CF61G4HoUPQHsUrkfheghAMzMzMzMzDUA="
         },
         "type": "scatter"
        },
        {
         "boxpoints": false,
         "legendgroup": "1-databases",
         "legendgrouptitle": {
          "text": "Databases"
         },
         "marker": {
          "color": "rgb(93, 105, 177)"
         },
         "name": "mongodb",
         "showlegend": true,
         "width": 0.3,
         "x0": 0.7000000000000001,
         "y": {
          "dtype": "f8",
          "bdata": "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"
         },
         "type": "box"
        },
        {
         "legendgroup": "2-usecases",
         "legendgrouptitle": {
          "text": "Usecases"
         },
         "marker": {
          "color": "#1F77B4"
         },
         "mode": "markers",
         "name": "uc1: Filtering Query Properties",
         "showlegend": false,
         "x": [
          0.9458333333333333,
          0.9458333333333333,
          0.9458333333333333,
          0.9458333333333333,
          0.9458333333333333,
          0.9458333333333333,
          0.9458333333333333,
          0.9458333333333333,
          0.9458333333333333,
          0.9458333333333333,
          0.9458333333333333,
          0.9458333333333333,
          0.9458333333333333,
          0.9458333333333333,
          0.9458333333333333,
          0.9458333333333333,
          0.9458333333333333,
          0.9458333333333333,
          0.9458333333333333,
          0.9458333333333333,
          0.9458333333333333,
          0.9458333333333333,
          0.9458333333333333,
          0.9458333333333333,
          0.9458333333333333,
          0.9458333333333333,
          0.9458333333333333,
          0.9458333333333333,
          0.9458333333333333,
          0.9458333333333333,
          0.9458333333333333,
          0.9458333333333333,
          0.9458333333333333,
          0.9458333333333333,
          0.9458333333333333,
          0.9458333333333333,
          0.9458333333333333,
          0.9458333333333333,
          0.9458333333333333,
          0.9458333333333333,
          0.9458333333333333,
          0.9458333333333333,
          0.9458333333333333,
          0.9458333333333333,
          0.9458333333333333,
          0.9458333333333333,
          0.9458333333333333,
          0.9458333333333333,
          0.9458333333333333,
          0.9458333333333333,
          0.9458333333333333,
          0.9458333333333333,
          0.9458333333333333,
          0.9458333333333333,
          0.9458333333333333,
          0.9458333333333333,
          0.9458333333333333,
          0.9458333333333333,
          0.9458333333333333,
          0.9458333333333333,
          0.9458333333333333,
          0.9458333333333333,
          0.9458333333333333,
          0.9458333333333333,
          0.9458333333333333,
          0.9458333333333333,
          0.9458333333333333,
          0.9458333333333333,
          0.9458333333333333,
          0.9458333333333333,
          0.9458333333333333,
          0.9458333333333333,
          0.9458333333333333
         ],
         "y": {
          "dtype": "f8",
          "bdata": "KVyPwvVYWEB7FK5H4UpYQNejcD0K11hAzczMzMyMWEDD9Shcj+JYQMP1KFyP8ldAuB6F61EIWUCuR+F6FH5YQD0K16NwHVlAKVyPwvUYXUDNzMzMzNxYQDMzMzMzY1hA7FG4HoUbWEDD9Shcj3JYQJqZmZmZCVlAKVyPwvXIWEDsUbgehZtYQDMzMzMzc1hAj8L1KFx/WEBI4XoUridYQAAAAAAA4FhArkfhehReWEDNzMzMzIxYQHsUrkfh+lhA7FG4HoVbWEA9CtejcL1YQIXrUbgehVhAmpmZmZnpWUDNzMzMzOxXQBSuR+F6FFhAXI/C9Sh8WECkcD0K14NYQHsUrkfhCllAzczMzMy8WECkcD0K1zNZQOF6FK5HUVhAuB6F61FIWUCkcD0K1zNYQI/C9Shcn1hAKVyPwvUoWECF61G4HmVYQJqZmZmZSVhAAAAAAADwV0DD9Shcj3JYQFyPwvUorFhAMzMzMzOjWEBxPQrXo6BYQAAAAAAA4FhAAAAAAAAgWEA9CtejcJ1YQDMzMzMz01hAFK5H4XqEWEAK16NwPUpdQJqZmZmZ+VdAUrgeheuxWEBSuB6F64FYQFK4HoXrkVhAH4XrUbjOV0DsUbgehbtYQB+F61G4HlhA16NwPQr3WED2KFyPwhVZQClcj8L1SFhA9ihcj8J1WEDNzMzMzKxYQDMzMzMzU1hAexSuR+FaWECkcD0K1+NYQPYoXI/CRVhAw/UoXI9iWECkcD0K17NYQOxRuB6F61hAj8L1KFwfWEA="
         },
         "type": "scatter"
        },
        {
         "legendgroup": "2-usecases",
         "legendgrouptitle": {
          "text": "Usecases"
         },
         "marker": {
          "color": "#FF7F0E"
         },
         "mode": "markers",
         "name": "uc2: Bulk Update",
         "showlegend": false,
         "x": [
          1.0375,
          1.0375,
          1.0375,
          1.0375,
          1.0375,
          1.0375,
          1.0375,
          1.0375,
          1.0375,
          1.0375,
          1.0375,
          1.0375,
          1.0375,
          1.0375,
          1.0375,
          1.0375,
          1.0375,
          1.0375,
          1.0375,
          1.0375,
          1.0375,
          1.0375,
          1.0375,
          1.0375,
          1.0375,
          1.0375,
          1.0375,
          1.0375,
          1.0375,
          1.0375,
          1.0375,
          1.0375,
          1.0375,
          1.0375,
          1.0375,
          1.0375,
          1.0375,
          1.0375,
          1.0375,
          1.0375,
          1.0375,
          1.0375,
          1.0375,
          1.0375,
          1.0375,
          1.0375,
          1.0375,
          1.0375,
          1.0375,
          1.0375,
          1.0375,
          1.0375,
          1.0375,
          1.0375,
          1.0375,
          1.0375,
          1.0375,
          1.0375,
          1.0375,
          1.0375,
          1.0375,
          1.0375,
          1.0375,
          1.0375,
          1.0375,
          1.0375,
          1.0375,
          1.0375,
          1.0375,
          1.0375,
          1.0375,
          1.0375,
          1.0375
         ],
         "y": {
          "dtype": "f8",
          "bdata": "H4XrUbge5T89CtejcD0UQM3MzMzMzBBAMzMzMzMzDUBxPQrXo3AVQOxRuB6F6xRAAAAAAAAA6D9xPQrXo3AWQFK4HoXrUQxAmpmZmZmZG0CF61G4HoXjP65H4XoUruc/hetRuB6FFED2KFyPwvXgP4XrUbgeheM/uB6F61G4FECPwvUoXI/6P8P1KFyPwvE/PQrXo3A94j/sUbgehevhPx+F61G4Hg9ASOF6FK5H8T+F61G4HoUPQK5H4XoUru8/zczMzMzMFUBSuB6F61EQQClcj8L1KOQ/MzMzMzMz4z+4HoXrUbgQQOF6FK5H4eo/MzMzMzMz4z9I4XoUrkfhP4/C9ShcjxFAhetRuB6F4z89CtejcD3yP65H4XoUrgtAzczMzMzM5D9xPQrXo3ATQClcj8L1KOQ/7FG4HoXrD0CPwvUoXI/iP4/C9ShcjxdAXI/C9ShcDUDsUbgehevhP0jhehSuR+E/cT0K16NwFECkcD0K16PoP0jhehSuR/E/mpmZmZmZFUAfhetRuB7xP9ejcD0K1+M/7FG4HoXr8T/2KFyPwvUOQEjhehSuR+E/7FG4HoXr4T+uR+F6FK4PQHsUrkfheuQ/j8L1KFyPDEBxPQrXo3DlP65H4XoUrgtAZmZmZmZm5j8UrkfhehQQQFK4HoXrUeA/MzMzMzMz4z8zMzMzMzPjPwAAAAAAAAhAPQrXo3A9CkCF61G4HoXjPwAAAAAAAOA/H4XrUbgeB0CamZmZmZnhP0jhehSuR+E/j8L1KFyP4j8="
         },
         "type": "scatter"
        },
        {
         "legendgroup": "2-usecases",
         "legendgrouptitle": {
          "text": "Usecases"
         },
         "marker": {
          "color": "#2CA02C"
         },
         "mode": "markers",
         "name": "uc3: Schema Evolution",
         "showlegend": false,
         "x": [
          1.1291666666666669,
          1.1291666666666669,
          1.1291666666666669,
          1.1291666666666669,
          1.1291666666666669,
          1.1291666666666669,
          1.1291666666666669,
          1.1291666666666669,
          1.1291666666666669,
          1.1291666666666669,
          1.1291666666666669,
          1.1291666666666669,
          1.1291666666666669,
          1.1291666666666669,
          1.1291666666666669,
          1.1291666666666669,
          1.1291666666666669,
          1.1291666666666669,
          1.1291666666666669,
          1.1291666666666669,
          1.1291666666666669,
          1.1291666666666669,
          1.1291666666666669,
          1.1291666666666669,
          1.1291666666666669,
          1.1291666666666669,
          1.1291666666666669,
          1.1291666666666669,
          1.1291666666666669,
          1.1291666666666669,
          1.1291666666666669,
          1.1291666666666669,
          1.1291666666666669,
          1.1291666666666669,
          1.1291666666666669,
          1.1291666666666669,
          1.1291666666666669,
          1.1291666666666669,
          1.1291666666666669,
          1.1291666666666669,
          1.1291666666666669,
          1.1291666666666669,
          1.1291666666666669,
          1.1291666666666669,
          1.1291666666666669,
          1.1291666666666669,
          1.1291666666666669,
          1.1291666666666669,
          1.1291666666666669,
          1.1291666666666669,
          1.1291666666666669,
          1.1291666666666669,
          1.1291666666666669,
          1.1291666666666669,
          1.1291666666666669,
          1.1291666666666669,
          1.1291666666666669,
          1.1291666666666669,
          1.1291666666666669,
          1.1291666666666669,
          1.1291666666666669,
          1.1291666666666669,
          1.1291666666666669,
          1.1291666666666669,
          1.1291666666666669,
          1.1291666666666669,
          1.1291666666666669,
          1.1291666666666669,
          1.1291666666666669,
          1.1291666666666669,
          1.1291666666666669,
          1.1291666666666669,
          1.1291666666666669
         ],
         "y": {
          "dtype": "f8",
          "bdata": "UrgehesBXEBcj8L1KMxcQFK4HoXrwVxAZmZmZmaWXUCF61G4HnVcQBSuR+F6RFxAZmZmZmamXECF61G4HoVcQClcj8L1iF1AcT0K16NgXEAK16NwPRpbQClcj8L1iFxACtejcD2KW0CuR+F6FF5bQPYoXI/CNV1AuB6F61F4XUDD9Shcj9JcQPYoXI/ChVtASOF6FK5XXEBcj8L1KMxcQD0K16Nw/VpACtejcD2qXEAzMzMzM0NcQEjhehSux1pAPQrXo3AdXED2KFyPwtVaQMP1KFyPYlxAMzMzMzMzW0BI4XoUrudcQPYoXI/C9VtAhetRuB6VXEDD9Shcj8JcQArXo3A9SlxAj8L1KFxvXEAzMzMzM5NcQFyPwvUojFxASOF6FK5nXEAfhetRuC5dQJqZmZmZKVxAZmZmZmamXECPwvUoXG9cQIXrUbge5VxAUrgeheuxXEAUrkfhenRbQKRwPQrXs1pAAAAAAADQXECkcD0K18NcQD0K16NwbVxAmpmZmZlpXECF61G4HuVcQFyPwvUo3FtAAAAAAABwXEBmZmZmZrZbQJqZmZmZeVxAw/UoXI9iXEA9CtejcE1cQHE9CtejgFxAKVyPwvXIXEAUrkfheoRcQHsUrkfheltAuB6F61FoXEB7FK5H4SpcQEjhehSuF1xAcT0K16MQXECamZmZmVldQLgehetR+FtAAAAAAABgXEDD9Shcj2JbQAAAAAAAUFtAexSuR+EqW0BmZmZmZkZbQGZmZmZmNlxA9ihcj8KFXEA="
         },
         "type": "scatter"
        },
        {
         "legendgroup": "2-usecases",
         "legendgrouptitle": {
          "text": "Usecases"
         },
         "marker": {
          "color": "#D62728"
         },
         "mode": "markers",
         "name": "uc4: Analytical Query",
         "showlegend": false,
         "x": [
          1.2208333333333334,
          1.2208333333333334,
          1.2208333333333334,
          1.2208333333333334,
          1.2208333333333334,
          1.2208333333333334,
          1.2208333333333334,
          1.2208333333333334,
          1.2208333333333334,
          1.2208333333333334,
          1.2208333333333334,
          1.2208333333333334,
          1.2208333333333334,
          1.2208333333333334,
          1.2208333333333334,
          1.2208333333333334,
          1.2208333333333334,
          1.2208333333333334,
          1.2208333333333334,
          1.2208333333333334,
          1.2208333333333334,
          1.2208333333333334,
          1.2208333333333334,
          1.2208333333333334,
          1.2208333333333334,
          1.2208333333333334,
          1.2208333333333334,
          1.2208333333333334,
          1.2208333333333334,
          1.2208333333333334,
          1.2208333333333334,
          1.2208333333333334,
          1.2208333333333334,
          1.2208333333333334,
          1.2208333333333334,
          1.2208333333333334,
          1.2208333333333334,
          1.2208333333333334,
          1.2208333333333334,
          1.2208333333333334,
          1.2208333333333334,
          1.2208333333333334,
          1.2208333333333334,
          1.2208333333333334,
          1.2208333333333334,
          1.2208333333333334,
          1.2208333333333334,
          1.2208333333333334,
          1.2208333333333334,
          1.2208333333333334,
          1.2208333333333334,
          1.2208333333333334,
          1.2208333333333334,
          1.2208333333333334,
          1.2208333333333334,
          1.2208333333333334,
          1.2208333333333334,
          1.2208333333333334,
          1.2208333333333334,
          1.2208333333333334,
          1.2208333333333334,
          1.2208333333333334,
          1.2208333333333334,
          1.2208333333333334,
          1.2208333333333334,
          1.2208333333333334,
          1.2208333333333334,
          1.2208333333333334,
          1.2208333333333334,
          1.2208333333333334,
          1.2208333333333334,
          1.2208333333333334,
          1.2208333333333334
         ],
         "y": {
          "dtype": "f8",
          "bdata": "ZmZmZmZm5j89CtejcD3iP0jhehSuR+E/w/UoXI/C5T8zMzMzMzPjP1yPwvUoXOc/zczMzMzM5D8fhetRuB7lP/YoXI/C9fQ/UrgehetR6D+kcD0K16PoP9ejcD0K1+M/4XoUrkfh4j/hehSuR+HiP1yPwvUoXOc/hetRuB6F4z+F61G4HoXjP+xRuB6F6+E/UrgehetRCkBSuB6F61HgP2ZmZmZmZuY/exSuR+F65D89CtejcD3yP4/C9Shcj+I/16NwPQrXEEAK16NwPQrzP+xRuB6F6+E/MzMzMzMz4z/hehSuR+HiP4XrUbgeheM/cT0K16NwGEBI4XoUrkfhP/YoXI/C9eA/hetRuB6F4z8UrkfhehTmP3sUrkfheuQ/UrgehevRLkDNzMzMzMzkPylcj8L1KOQ/16NwPQrX4z8fhetRuB7lPylcj8L1KOQ/SOF6FK5H9T8fhetRuB7lPwAAAAAAAPQ/exSuR+F69D8UrkfhehTmPzMzMzMzM+M/MzMzMzMz4z/hehSuR+HiP+F6FK5H4eI/hetRuB6F4z8fhetRuB7lP5qZmZmZmeE/exSuR+F65D+F61G4HoXjP+xRuB6F6+E/j8L1KFyP6j89CtejcD3iP83MzMzMzOQ/ZmZmZmZm5j8fhetRuB7lP5qZmZmZmeE/zczMzMzM5D8fhetRuB7lP7gehetRuN4/UrgehetR4D/hehSuR+HiP0jhehSuR+E/uB6F61G4DkBcj8L1KFzfP0jhehSuR+E/j8L1KFyP4j8="
         },
         "type": "scatter"
        },
        {
         "legendgroup": "2-usecases",
         "legendgrouptitle": {
          "text": "Usecases"
         },
         "marker": {
          "color": "#9467BD"
         },
         "mode": "markers",
         "name": "uc5: Aggregation",
         "showlegend": false,
         "x": [
          1.3125,
          1.3125,
          1.3125,
          1.3125,
          1.3125,
          1.3125,
          1.3125,
          1.3125,
          1.3125,
          1.3125,
          1.3125,
          1.3125,
          1.3125,
          1.3125,
          1.3125,
          1.3125,
          1.3125,
          1.3125,
          1.3125,
          1.3125,
          1.3125,
          1.3125,
          1.3125,
          1.3125,
          1.3125,
          1.3125,
          1.3125,
          1.3125,
          1.3125,
          1.3125,
          1.3125,
          1.3125,
          1.3125,
          1.3125,
          1.3125,
          1.3125,
          1.3125,
          1.3125,
          1.3125,
          1.3125,
          1.3125,
          1.3125,
          1.3125,
          1.3125,
          1.3125,
          1.3125,
          1.3125,
          1.3125,
          1.3125,
          1.3125,
          1.3125,
          1.3125,
          1.3125,
          1.3125,
          1.3125,
          1.3125,
          1.3125,
          1.3125,
          1.3125,
          1.3125,
          1.3125,
          1.3125,
          1.3125,
          1.3125,
          1.3125,
          1.3125,
          1.3125,
          1.3125,
          1.3125,
          1.3125,
          1.3125,
          1.3125,
          1.3125
         ],
         "y": {
          "dtype": "f8",
          "bdata": "MzMzMzOTWUD2KFyPwrVZQNejcD0Kl1lA4XoUrkexWUA9CtejcL1ZQAAAAAAA4FlAzczMzMycWUAK16NwPYpZQEjhehSu11lAj8L1KFy/WUCuR+F6FM5ZQLgehetRiFlAZmZmZmaWWUCF61G4HpVZQFK4HoXroVlA7FG4HoWLWUCkcD0K13NZQOF6FK5H0VlAZmZmZmaGWUAzMzMzM3NZQI/C9Shcf1lAcT0K16OgWUBSuB6F6xFaQOF6FK5HkVlAMzMzMzPDWUCkcD0K15NZQNejcD0Kx1lArkfhehSeWUD2KFyPwqVZQHE9CtejkFlAexSuR+G6WUCkcD0K17NZQClcj8L1iFlAmpmZmZmZWUDhehSuR+FZQArXo3A9ellAzczMzMy8WUDhehSuR5FZQJqZmZmZmVlAAAAAAADQWUBI4XoUrmdZQNejcD0Kp1lA9ihcj8LVWUBmZmZmZqZZQAAAAAAAoFlAcT0K16OgWUDD9Shcj9JZQClcj8L1eFlAcT0K16OgWUDsUbgehbtZQFK4HoXroVlArkfhehSuWUApXI/C9ZhZQPYoXI/ClVlAFK5H4XqkWUDD9Shcj6JZQEjhehSux1lAZmZmZmbmWUDXo3A9CrdZQEjhehSup1lAZmZmZmZmWUCuR+F6FJ5ZQMP1KFyPkllA7FG4HoV7WUApXI/C9dhZQBSuR+F6hFlA4XoUrkeBWUDNzMzMzJxZQFyPwvUo7FlAH4XrUbh+WUB7FK5H4ZpZQFK4HoXrkVlAcT0K16OAWUA="
         },
         "type": "scatter"
        },
        {
         "legendgroup": "2-usecases",
         "legendgrouptitle": {
          "text": "Usecases"
         },
         "marker": {
          "color": "#8C564B"
         },
         "mode": "markers",
         "name": "uc6: Filtering Query Bedrooms and Size",
         "showlegend": false,
         "x": [
          1.4041666666666668,
          1.4041666666666668,
          1.4041666666666668,
          1.4041666666666668,
          1.4041666666666668,
          1.4041666666666668,
          1.4041666666666668,
          1.4041666666666668,
          1.4041666666666668,
          1.4041666666666668,
          1.4041666666666668,
          1.4041666666666668,
          1.4041666666666668,
          1.4041666666666668,
          1.4041666666666668,
          1.4041666666666668,
          1.4041666666666668,
          1.4041666666666668,
          1.4041666666666668,
          1.4041666666666668,
          1.4041666666666668,
          1.4041666666666668,
          1.4041666666666668,
          1.4041666666666668,
          1.4041666666666668,
          1.4041666666666668,
          1.4041666666666668,
          1.4041666666666668,
          1.4041666666666668,
          1.4041666666666668,
          1.4041666666666668,
          1.4041666666666668,
          1.4041666666666668,
          1.4041666666666668,
          1.4041666666666668,
          1.4041666666666668,
          1.4041666666666668,
          1.4041666666666668,
          1.4041666666666668,
          1.4041666666666668,
          1.4041666666666668,
          1.4041666666666668,
          1.4041666666666668,
          1.4041666666666668,
          1.4041666666666668,
          1.4041666666666668,
          1.4041666666666668,
          1.4041666666666668,
          1.4041666666666668,
          1.4041666666666668,
          1.4041666666666668,
          1.4041666666666668,
          1.4041666666666668,
          1.4041666666666668,
          1.4041666666666668,
          1.4041666666666668,
          1.4041666666666668,
          1.4041666666666668,
          1.4041666666666668,
          1.4041666666666668,
          1.4041666666666668,
          1.4041666666666668,
          1.4041666666666668,
          1.4041666666666668,
          1.4041666666666668,
          1.4041666666666668,
          1.4041666666666668,
          1.4041666666666668,
          1.4041666666666668,
          1.4041666666666668,
          1.4041666666666668,
          1.4041666666666668,
          1.4041666666666668
         ],
         "y": {
          "dtype": "f8",
          "bdata": "ZmZmZmZmPEDsUbgehWsyQFK4HoXr0ThAAAAAAACAOkBxPQrXo3BAQLgehetR+D5ACtejcD2qQkBI4XoUrsc7QFK4HoXr0TZArkfhehTuSkBmZmZmZgZAQJqZmZmZWThAUrgehesRPkD2KFyPwrUyQOF6FK5HYThA9ihcj8JVSkCuR+F6FO48QGZmZmZmJjVAhetRuB5FM0A9CtejcL0uQEjhehSuxzBAXI/C9SicP0DhehSuRwFHQPYoXI/CtTNAw/UoXI+CO0DsUbgehUtAQNejcD0K1zNAAAAAAABAOkC4HoXrUbg1QM3MzMzMjDpAmpmZmZnZNkApXI/C9agwQNejcD0KFzFAj8L1KFyPO0CuR+F6FK5CQFK4HoXrkTNAw/UoXI9CO0CuR+F6FI5IQI/C9Shcj0JA9ihcj8LVQEDhehSuR6E2QFK4HoXr0UdAH4XrUbjeMkBxPQrXo3A2QK5H4XoU7jNAXI/C9SicMUCPwvUoXI9AQDMzMzMzsztAuB6F61FYQkAUrkfhehQ+QClcj8L1aDhAMzMzMzMTQ0ApXI/C9WhLQB+F61G4HjVAw/UoXI/CQkA9CtejcL01QI/C9ShcTz9AzczMzMysQ0BmZmZmZqZCQOF6FK5HQUxA7FG4HoXrP0AzMzMzM9NBQMP1KFyPgjVA7FG4HoWrMUDsUbgehWszQJqZmZmZOUJAH4XrUbheRUCamZmZmZkzQOxRuB6F6zNA4XoUrkehPEApXI/C9ag1QArXo3A9ijJAMzMzMzOTQEA="
         },
         "type": "scatter"
        },
        {
         "boxpoints": false,
         "legendgroup": "1-databases",
         "legendgrouptitle": {
          "text": "Databases"
         },
         "marker": {
          "color": "rgb(82, 188, 163)"
         },
         "name": "postgres",
         "showlegend": true,
         "width": 0.3,
         "x0": 1.7,
         "y": {
          "dtype": "f8",
          "bdata": "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"
         },
         "type": "box"
        },
        {
         "legendgroup": "2-usecases",
         "legendgrouptitle": {
          "text": "Usecases"
         },
         "marker": {
          "color": "#1F77B4"
         },
         "mode": "markers",
         "name": "uc1: Filtering Query Properties",
         "showlegend": false,
         "x": [
          1.9458333333333333,
          1.9458333333333333,
          1.9458333333333333,
          1.9458333333333333,
          1.9458333333333333,
          1.9458333333333333,
          1.9458333333333333,
          1.9458333333333333,
          1.9458333333333333,
          1.9458333333333333,
          1.9458333333333333,
          1.9458333333333333,
          1.9458333333333333,
          1.9458333333333333,
          1.9458333333333333,
          1.9458333333333333,
          1.9458333333333333,
          1.9458333333333333,
          1.9458333333333333,
          1.9458333333333333,
          1.9458333333333333,
          1.9458333333333333,
          1.9458333333333333,
          1.9458333333333333,
          1.9458333333333333,
          1.9458333333333333,
          1.9458333333333333,
          1.9458333333333333,
          1.9458333333333333,
          1.9458333333333333,
          1.9458333333333333,
          1.9458333333333333,
          1.9458333333333333,
          1.9458333333333333,
          1.9458333333333333,
          1.9458333333333333,
          1.9458333333333333,
          1.9458333333333333,
          1.9458333333333333,
          1.9458333333333333,
          1.9458333333333333,
          1.9458333333333333,
          1.9458333333333333,
          1.9458333333333333,
          1.9458333333333333,
          1.9458333333333333,
          1.9458333333333333,
          1.9458333333333333,
          1.9458333333333333,
          1.9458333333333333,
          1.9458333333333333,
          1.9458333333333333,
          1.9458333333333333,
          1.9458333333333333,
          1.9458333333333333,
          1.9458333333333333,
          1.9458333333333333,
          1.9458333333333333,
          1.9458333333333333,
          1.9458333333333333,
          1.9458333333333333,
          1.9458333333333333,
          1.9458333333333333,
          1.9458333333333333,
          1.9458333333333333,
          1.9458333333333333,
          1.9458333333333333,
          1.9458333333333333,
          1.9458333333333333,
          1.9458333333333333,
          1.9458333333333333,
          1.9458333333333333,
          1.9458333333333333
         ],
         "y": {
          "dtype": "f8",
          "bdata": "7FG4HoUnckCamZmZmc1yQM3MzMzM3HFAuB6F61HgckBxPQrXo3xxQClcj8L1IHNAFK5H4Xq8ckDhehSuRwVzQGZmZmZmXnNAH4XrUbhKc0BxPQrXo3RyQFK4HoXrCXNACtejcD1WckCPwvUoXMtxQArXo3A98nJA9ihcj8LtckA9CtejcOlyQGZmZmZmTnJAzczMzMzMckCPwvUoXN9wQArXo3A98nJACtejcD2mckC4HoXrUUhyQPYoXI/CrXFAhetRuB4RckDXo3A9Cs9xQPYoXI/CoXJA16NwPQpHckAAAAAAAKByQKRwPQrXy3JArkfhehSuckDD9Shcj7JxQMP1KFyPVnJAj8L1KFwLc0AfhetRuM5xQHsUrkfhDnNASOF6FK5fckCuR+F6FLpyQHsUrkfhynJAzczMzMwMckB7FK5H4a5wQHsUrkfhinJACtejcD2mckBmZmZmZnpyQI/C9Shcj3JAAAAAAACwckDsUbgehXdxQLgehetRzHFAAAAAAADYckBSuB6F681xQK5H4XoUxnJAmpmZmZn5ckBmZmZmZiJzQK5H4XoUOnJAPQrXo3A9cUBcj8L1KBRzQClcj8L1GHJArkfhehROckA9CtejcKFyQEjhehSue3FA4XoUrkd5ckAK16NwPYpyQKRwPQrXS3JAcT0K16NcckApXI/C9exxQHE9Ctej9HFAhetRuB4RckB7FK5H4S5yQKRwPQrXW3FAhetRuB6xckDNzMzMzFhyQOxRuB6Fk3FAmpmZmZl9ckA="
         },
         "type": "scatter"
        },
        {
         "legendgroup": "2-usecases",
         "legendgrouptitle": {
          "text": "Usecases"
         },
         "marker": {
          "color": "#FF7F0E"
         },
         "mode": "markers",
         "name": "uc2: Bulk Update",
         "showlegend": false,
         "x": [
          2.0375,
          2.0375,
          2.0375,
          2.0375,
          2.0375,
          2.0375,
          2.0375,
          2.0375,
          2.0375,
          2.0375,
          2.0375,
          2.0375,
          2.0375,
          2.0375,
          2.0375,
          2.0375,
          2.0375,
          2.0375,
          2.0375,
          2.0375,
          2.0375,
          2.0375,
          2.0375,
          2.0375,
          2.0375,
          2.0375,
          2.0375,
          2.0375,
          2.0375,
          2.0375,
          2.0375,
          2.0375,
          2.0375,
          2.0375,
          2.0375,
          2.0375,
          2.0375,
          2.0375,
          2.0375,
          2.0375,
          2.0375,
          2.0375,
          2.0375,
          2.0375,
          2.0375,
          2.0375,
          2.0375,
          2.0375,
          2.0375,
          2.0375,
          2.0375,
          2.0375,
          2.0375,
          2.0375,
          2.0375,
          2.0375,
          2.0375,
          2.0375,
          2.0375,
          2.0375,
          2.0375,
          2.0375,
          2.0375,
          2.0375,
          2.0375,
          2.0375,
          2.0375,
          2.0375,
          2.0375,
          2.0375,
          2.0375,
          2.0375,
          2.0375
         ],
         "y": {
          "dtype": "f8",
          "bdata": "4XoUrkfhyj97FK5H4XqEPwAAAAAAAAAAexSuR+F6lD97FK5H4XqEPwAAAAAAAAAAexSuR+F6hD8AAAAAAAAAAHsUrkfheoQ/exSuR+F6hD8fhetRuB7xP/YoXI/C9eg/exSuR+F6hD8AAAAAAAAAAHsUrkfheoQ/AAAAAAAAAAAAAAAAAAAAAAAAAAAAAOA/AAAAAAAAAAAAAAAAAAAAAAAAAAAAAAAAexSuR+F6lD8AAAAAAAAAAHsUrkfhepQ/AAAAAAAAAAB7FK5H4XqEP3sUrkfheoQ/AAAAAAAAAAB7FK5H4XqEP65H4XoUruc/AAAAAAAAAAAAAAAAAAAAAAAAAAAAAAAAPQrXo3A92j9cj8L1KFzfP3sUrkfheuQ/exSuR+F6hD97FK5H4XqEP3sUrkfheoQ/AAAAAAAAAAAAAAAAAAAAAAAAAAAAAAAAAAAAAAAAAAAAAAAAAAAAAAAAAAAAAAAAAAAAAAAAAAAAAAAAAAAAAIXrUbgehds/uB6F61G47j+kcD0K16PgP8P1KFyPwuU/exSuR+F6hD8AAAAAAAAAAHE9CtejcN0/AAAAAAAAAAAAAAAAAAAAAHsUrkfheoQ/j8L1KFyP6j8AAAAAAAAAAHsUrkfheoQ/ZmZmZmZm1j97FK5H4XqUPwAAAAAAAAAAexSuR+F6hD89CtejcD3aPwAAAAAAAAAAAAAAAAAA0D8AAAAAAAAAAAAAAAAAAAAAAAAAAAAAAAAAAAAAAAAAAAAAAAAAAAAAexSuR+F6hD8="
         },
         "type": "scatter"
        },
        {
         "legendgroup": "2-usecases",
         "legendgrouptitle": {
          "text": "Usecases"
         },
         "marker": {
          "color": "#2CA02C"
         },
         "mode": "markers",
         "name": "uc3: Schema Evolution",
         "showlegend": false,
         "x": [
          2.1291666666666664,
          2.1291666666666664,
          2.1291666666666664,
          2.1291666666666664,
          2.1291666666666664,
          2.1291666666666664,
          2.1291666666666664,
          2.1291666666666664,
          2.1291666666666664,
          2.1291666666666664,
          2.1291666666666664,
          2.1291666666666664,
          2.1291666666666664,
          2.1291666666666664,
          2.1291666666666664,
          2.1291666666666664,
          2.1291666666666664,
          2.1291666666666664,
          2.1291666666666664,
          2.1291666666666664,
          2.1291666666666664,
          2.1291666666666664,
          2.1291666666666664,
          2.1291666666666664,
          2.1291666666666664,
          2.1291666666666664,
          2.1291666666666664,
          2.1291666666666664,
          2.1291666666666664,
          2.1291666666666664,
          2.1291666666666664,
          2.1291666666666664,
          2.1291666666666664,
          2.1291666666666664,
          2.1291666666666664,
          2.1291666666666664,
          2.1291666666666664,
          2.1291666666666664,
          2.1291666666666664,
          2.1291666666666664,
          2.1291666666666664,
          2.1291666666666664,
          2.1291666666666664,
          2.1291666666666664,
          2.1291666666666664,
          2.1291666666666664,
          2.1291666666666664,
          2.1291666666666664,
          2.1291666666666664,
          2.1291666666666664,
          2.1291666666666664,
          2.1291666666666664,
          2.1291666666666664,
          2.1291666666666664,
          2.1291666666666664,
          2.1291666666666664,
          2.1291666666666664,
          2.1291666666666664,
          2.1291666666666664,
          2.1291666666666664,
          2.1291666666666664,
          2.1291666666666664,
          2.1291666666666664,
          2.1291666666666664,
          2.1291666666666664,
          2.1291666666666664,
          2.1291666666666664,
          2.1291666666666664,
          2.1291666666666664,
          2.1291666666666664,
          2.1291666666666664,
          2.1291666666666664,
          2.1291666666666664
         ],
         "y": {
          "dtype": "f8",
          "bdata": "cT0K16PwWEBSuB6F6zFaQOxRuB6FG1xA16NwPQqnWUBSuB6F64FZQLgehetR2FpA9ihcj8IFW0DXo3A9CjdZQLgehetROFlAcT0K16PwWEApXI/C9UhZQHE9Ctej0FtApHA9CtdbYECkcD0K14NZQHE9CtejwFlA16NwPQoHXEBmZmZmZqZZQGZmZmZmJllAAAAAAABgWUApXI/C9chgQNejcD0Kz2BAuB6F61GoWEB7FK5H4epZQAAAAAAAwFhAPQrXo3BtWEA9CtejcN1XQClcj8L12GFAH4XrUbj+WEBSuB6F6ylgQHsUrkfhCllArkfhehSeWUA9CtejcO1eQOF6FK5HcVhAhetRuB41YkAzMzMzM1NZQEjhehSup1lAexSuR+FKXEDhehSuR+FhQLgehetRaGFAw/UoXI8SYUCkcD0K10NZQNejcD0Kv2JA16NwPQpHWUApXI/C9RhcQJqZmZmZWVlA9ihcj8JNYUCPwvUoXE9ZQHsUrkfhGmNAMzMzMzOTYUCkcD0K1yNiQLgehetRyFlAhetRuB6FXUAUrkfhepRZQOF6FK5HqWFAj8L1KFwfWUA9CtejcL1ZQPYoXI/C1VpAH4XrUbhmYECF61G4Hv1gQArXo3A96lVAPQrXo3CdWEAzMzMzM8NaQK5H4XoUzllASOF6FK5HWEC4HoXrUchhQK5H4XoUpmBAUrgehesxWUBI4XoUrrdiQBSuR+F6JGNAPQrXo3DNYkBmZmZmZsZXQBSuR+F6dFhAw/UoXI+iWUA="
         },
         "type": "scatter"
        },
        {
         "legendgroup": "2-usecases",
         "legendgrouptitle": {
          "text": "Usecases"
         },
         "marker": {
          "color": "#D62728"
         },
         "mode": "markers",
         "name": "uc4: Analytical Query",
         "showlegend": false,
         "x": [
          2.220833333333333,
          2.220833333333333,
          2.220833333333333,
          2.220833333333333,
          2.220833333333333,
          2.220833333333333,
          2.220833333333333,
          2.220833333333333,
          2.220833333333333,
          2.220833333333333,
          2.220833333333333,
          2.220833333333333,
          2.220833333333333,
          2.220833333333333,
          2.220833333333333,
          2.220833333333333,
          2.220833333333333,
          2.220833333333333,
          2.220833333333333,
          2.220833333333333,
          2.220833333333333,
          2.220833333333333,
          2.220833333333333,
          2.220833333333333,
          2.220833333333333,
          2.220833333333333,
          2.220833333333333,
          2.220833333333333,
          2.220833333333333,
          2.220833333333333,
          2.220833333333333,
          2.220833333333333,
          2.220833333333333,
          2.220833333333333,
          2.220833333333333,
          2.220833333333333,
          2.220833333333333,
          2.220833333333333,
          2.220833333333333,
          2.220833333333333,
          2.220833333333333,
          2.220833333333333,
          2.220833333333333,
          2.220833333333333,
          2.220833333333333,
          2.220833333333333,
          2.220833333333333,
          2.220833333333333,
          2.220833333333333,
          2.220833333333333,
          2.220833333333333,
          2.220833333333333,
          2.220833333333333,
          2.220833333333333,
          2.220833333333333,
          2.220833333333333,
          2.220833333333333,
          2.220833333333333,
          2.220833333333333,
          2.220833333333333,
          2.220833333333333,
          2.220833333333333,
          2.220833333333333,
          2.220833333333333,
          2.220833333333333,
          2.220833333333333,
          2.220833333333333,
          2.220833333333333,
          2.220833333333333,
          2.220833333333333,
          2.220833333333333,
          2.220833333333333,
          2.220833333333333
         ],
         "y": {
          "dtype": "f8",
          "bdata": "mpmZmZmZBUDsUbgehevpPylcj8L1KOQ/7FG4HoXr6T+amZmZmZm5P+xRuB6F6+k/9ihcj8L16D8AAAAAAADoP+F6FK5H4eo/cT0K16Nw7T/D9Shcj8IpQPYoXI/C9eg/rkfhehSu5z9SuB6F61HoP83MzMzMzPA/w/UoXI/C5T8AAAAAAADoP83MzMzMzOQ/UrgehetR6D9xPQrXo3DlPx+F61G4HuU/j8L1KFyP6j9I4XoUrkfpPz0K16NwPeo/FK5H4XoU5j+amZmZmZm5Px+F61G4HuU/CtejcD0K5z+amZmZmZnpP6RwPQrXo/A/CtejcD0K5z8AAAAAAADoP65H4XoUruc/XI/C9Shc5z8AAAAAAADoP6RwPQrXo+g/SOF6FK5H6T8K16NwPQrnP6RwPQrXo+g/j8L1KFyP6j8fhetRuB7lP4XrUbgehes/AAAAAAAA6D/2KFyPwvXoP65H4XoUruc/SOF6FK5H6T+amZmZmZnhP4/C9Shcj/Y/SOF6FK5H8T+uR+F6FK73P83MzMzMzPA/j8L1KFyP6j97FK5H4Xq0P3E9CtejcOU/CtejcD0K5z+4HoXrUbjmP+xRuB6F6+E/rkfhehSu5z8fhetRuB7lPylcj8L1KCVAPQrXo3A96j/2KFyPwvXoP/YoXI/C9eg/XI/C9ShcKUB7FK5H4XrkP4XrUbgeheM/w/UoXI/C5T8UrkfhehTmP1yPwvUoXOc/XI/C9Shc5z+PwvUoXI/qP65H4XoUruc/PQrXo3A9K0A="
         },
         "type": "scatter"
        },
        {
         "legendgroup": "2-usecases",
         "legendgrouptitle": {
          "text": "Usecases"
         },
         "marker": {
          "color": "#9467BD"
         },
         "mode": "markers",
         "name": "uc5: Aggregation",
         "showlegend": false,
         "x": [
          2.3125,
          2.3125,
          2.3125,
          2.3125,
          2.3125,
          2.3125,
          2.3125,
          2.3125,
          2.3125,
          2.3125,
          2.3125,
          2.3125,
          2.3125,
          2.3125,
          2.3125,
          2.3125,
          2.3125,
          2.3125,
          2.3125,
          2.3125,
          2.3125,
          2.3125,
          2.3125,
          2.3125,
          2.3125,
          2.3125,
          2.3125,
          2.3125,
          2.3125,
          2.3125,
          2.3125,
          2.3125,
          2.3125,
          2.3125,
          2.3125,
          2.3125,
          2.3125,
          2.3125,
          2.3125,
          2.3125,
          2.3125,
          2.3125,
          2.3125,
          2.3125,
          2.3125,
          2.3125,
          2.3125,
          2.3125,
          2.3125,
          2.3125,
          2.3125,
          2.3125,
          2.3125,
          2.3125,
          2.3125,
          2.3125,
          2.3125,
          2.3125,
          2.3125,
          2.3125,
          2.3125,
          2.3125,
          2.3125,
          2.3125,
          2.3125,
          2.3125,
          2.3125,
          2.3125,
          2.3125,
          2.3125,
          2.3125,
          2.3125,
          2.3125
         ],
         "y": {
          "dtype": "f8",
          "bdata": "exSuR+FSbECamZmZmcFyQJqZmZmZUXJAKVyPwvV0ckCuR+F6FFpyQFK4HoXruXFAKVyPwvWwckDXo3A9Ck9wQI/C9ShcZ3JACtejcD2icEDNzMzMzBxxQGZmZmZm9m9AFK5H4XpEckBI4XoUrvdxQM3MzMzMJG5AhetRuB6NcED2KFyPwgFyQEjhehSu13FAZmZmZmaOckCkcD0K119xQOF6FK5HKXJA9ihcj8LlbkBxPQrXozBxQGZmZmZmHnFAzczMzMzgcEAAAAAAAEBxQI/C9Shc13JAhetRuB55ckD2KFyPwnFyQArXo3A9XnFAMzMzMzNfckDNzMzMzExxQClcj8L1JHJArkfhehS2b0BI4XoUrkdxQOxRuB6FN3JA7FG4HoWncUCkcD0K10tyQIXrUbgeQXJAhetRuB4dckDD9Shcj4JyQFK4HoXr6XBAPQrXo3ClckDhehSuR0VyQMP1KFyPxnJA9ihcj8KRckApXI/C9dBuQHE9CtejqHFAw/UoXI+ucUDhehSuR3lxQD0K16NwNXJA9ihcj8J9bEAzMzMzM6tyQBSuR+F62HJAcT0K16NUckDD9Shcj4pwQFK4HoXrqXJAPQrXo3AVckAfhetRuGZyQBSuR+F6lGxA9ihcj8LFckDNzMzMzKxyQGZmZmZmTnJAMzMzMzOnckApXI/C9ThxQB+F61G4MnJAFK5H4XoQckAfhetRuNpyQJqZmZmZNXJA7FG4HoXbcUCamZmZmTlyQLgehetRiHJA4XoUrketckA="
         },
         "type": "scatter"
        },
        {
         "legendgroup": "2-usecases",
         "legendgrouptitle": {
          "text": "Usecases"
         },
         "marker": {
          "color": "#8C564B"
         },
         "mode": "markers",
         "name": "uc6: Filtering Query Bedrooms and Size",
         "showlegend": false,
         "x": [
          2.404166666666667,
          2.404166666666667,
          2.404166666666667,
          2.404166666666667,
          2.404166666666667,
          2.404166666666667,
          2.404166666666667,
          2.404166666666667,
          2.404166666666667,
          2.404166666666667,
          2.404166666666667,
          2.404166666666667,
          2.404166666666667,
          2.404166666666667,
          2.404166666666667,
          2.404166666666667,
          2.404166666666667,
          2.404166666666667,
          2.404166666666667,
          2.404166666666667,
          2.404166666666667,
          2.404166666666667,
          2.404166666666667,
          2.404166666666667,
          2.404166666666667,
          2.404166666666667,
          2.404166666666667,
          2.404166666666667,
          2.404166666666667,
          2.404166666666667,
          2.404166666666667,
          2.404166666666667,
          2.404166666666667,
          2.404166666666667,
          2.404166666666667,
          2.404166666666667,
          2.404166666666667,
          2.404166666666667,
          2.404166666666667,
          2.404166666666667,
          2.404166666666667,
          2.404166666666667,
          2.404166666666667,
          2.404166666666667,
          2.404166666666667,
          2.404166666666667,
          2.404166666666667,
          2.404166666666667,
          2.404166666666667,
          2.404166666666667,
          2.404166666666667,
          2.404166666666667,
          2.404166666666667,
          2.404166666666667,
          2.404166666666667,
          2.404166666666667,
          2.404166666666667,
          2.404166666666667,
          2.404166666666667,
          2.404166666666667,
          2.404166666666667,
          2.404166666666667,
          2.404166666666667,
          2.404166666666667,
          2.404166666666667,
          2.404166666666667,
          2.404166666666667,
          2.404166666666667,
          2.404166666666667,
          2.404166666666667,
          2.404166666666667,
          2.404166666666667,
          2.404166666666667
         ],
         "y": {
          "dtype": "f8",
          "bdata": "H4XrUbimbkCamZmZmZloQOxRuB6F02dAcT0K16OMcUBSuB6F6/1xQAAAAAAARHBAuB6F61FYcUDsUbgeheNtQFyPwvUozHBAj8L1KFyvbkDsUbgehQdyQFyPwvUo6HFAAAAAAACIbkCPwvUoXK9vQAAAAAAAnHBAhetRuB5FY0AUrkfheoxtQPYoXI/CbWxASOF6FK7HbED2KFyPwiVvQMP1KFyP4m9A9ihcj8KVbUC4HoXrUZhxQM3MzMzM7G9A16NwPQq3a0CPwvUoXPduQFK4HoXrBXBApHA9CteHcUA9CtejcIVuQKRwPQrXR3BA9ihcj8IJcEDhehSuR/VwQK5H4XoUDm5AAAAAAABwbEDXo3A9Ct9xQBSuR+F6YHFAKVyPwvVQZ0AK16NwPSJxQHE9CtejIGtAhetRuB5xcEDXo3A9CpdqQD0K16NwPXFAZmZmZmbycEBI4XoUrmtwQDMzMzMzT3FAMzMzMzMXcECuR+F6FHJxQHE9CtejsHBAMzMzMzO/cEB7FK5H4V5yQIXrUbgeLW9APQrXo3BRcEDD9Shcj7pwQM3MzMzMmHFArkfhehS+b0AUrkfheiRpQD0K16NwbWxA4XoUrkdBcEBcj8L1KNxrQB+F61G4pmRAFK5H4XqEcUCkcD0K11NvQClcj8L1iGZAMzMzMzNXcEDXo3A9Co9vQJqZmZmZIWpAFK5H4XpUZEDXo3A9CqdwQOF6FK5HIWtAH4XrUbiecEAK16NwPaJrQI/C9Shcn29AmpmZmZkFcUA="
         },
         "type": "scatter"
        }
       ],
       "layout": {
        "template": {
         "data": {
          "barpolar": [
           {
            "marker": {
             "line": {
              "color": "rgb(234,234,242)",
              "width": 0.5
             },
             "pattern": {
              "fillmode": "overlay",
              "size": 10,
              "solidity": 0.2
             }
            },
            "type": "barpolar"
           }
          ],
          "bar": [
           {
            "error_x": {
             "color": "rgb(36,36,36)"
            },
            "error_y": {
             "color": "rgb(36,36,36)"
            },
            "marker": {
             "line": {
              "color": "rgb(234,234,242)",
              "width": 0.5
             },
             "pattern": {
              "fillmode": "overlay",
              "size": 10,
              "solidity": 0.2
             }
            },
            "type": "bar"
           }
          ],
          "carpet": [
           {
            "aaxis": {
             "endlinecolor": "rgb(36,36,36)",
             "gridcolor": "white",
             "linecolor": "white",
             "minorgridcolor": "white",
             "startlinecolor": "rgb(36,36,36)"
            },
            "baxis": {
             "endlinecolor": "rgb(36,36,36)",
             "gridcolor": "white",
             "linecolor": "white",
             "minorgridcolor": "white",
             "startlinecolor": "rgb(36,36,36)"
            },
            "type": "carpet"
           }
          ],
          "choropleth": [
           {
            "colorbar": {
             "outlinewidth": 0,
             "tickcolor": "rgb(36,36,36)",
             "ticklen": 8,
             "ticks": "outside",
             "tickwidth": 2
            },
            "type": "choropleth"
           }
          ],
          "contourcarpet": [
           {
            "colorbar": {
             "outlinewidth": 0,
             "tickcolor": "rgb(36,36,36)",
             "ticklen": 8,
             "ticks": "outside",
             "tickwidth": 2
            },
            "type": "contourcarpet"
           }
          ],
          "contour": [
           {
            "colorbar": {
             "outlinewidth": 0,
             "tickcolor": "rgb(36,36,36)",
             "ticklen": 8,
             "ticks": "outside",
             "tickwidth": 2
            },
            "colorscale": [
             [
              0.0,
              "rgb(2,4,25)"
             ],
             [
              0.06274509803921569,
              "rgb(24,15,41)"
             ],
             [
              0.12549019607843137,
              "rgb(47,23,57)"
             ],
             [
              0.18823529411764706,
              "rgb(71,28,72)"
             ],
             [
              0.25098039215686274,
              "rgb(97,30,82)"
             ],
             [
              0.3137254901960784,
              "rgb(123,30,89)"
             ],
             [
              0.3764705882352941,
              "rgb(150,27,91)"
             ],
             [
              0.4392156862745098,
              "rgb(177,22,88)"
             ],
             [
              0.5019607843137255,
              "rgb(203,26,79)"
             ],
             [
              0.5647058823529412,
              "rgb(223,47,67)"
             ],
             [
              0.6274509803921569,
              "rgb(236,76,61)"
             ],
             [
              0.6901960784313725,
              "rgb(242,107,73)"
             ],
             [
              0.7529411764705882,
              "rgb(244,135,95)"
             ],
             [
              0.8156862745098039,
              "rgb(245,162,122)"
             ],
             [
              0.8784313725490196,
              "rgb(246,188,153)"
             ],
             [
              0.9411764705882353,
              "rgb(247,212,187)"
             ],
             [
              1.0,
              "rgb(250,234,220)"
             ]
            ],
            "type": "contour"
           }
          ],
          "heatmap": [
           {
            "colorbar": {
             "outlinewidth": 0,
             "tickcolor": "rgb(36,36,36)",
             "ticklen": 8,
             "ticks": "outside",
             "tickwidth": 2
            },
            "colorscale": [
             [
              0.0,
              "rgb(2,4,25)"
             ],
             [
              0.06274509803921569,
              "rgb(24,15,41)"
             ],
             [
              0.12549019607843137,
              "rgb(47,23,57)"
             ],
             [
              0.18823529411764706,
              "rgb(71,28,72)"
             ],
             [
              0.25098039215686274,
              "rgb(97,30,82)"
             ],
             [
              0.3137254901960784,
              "rgb(123,30,89)"
             ],
             [
              0.3764705882352941,
              "rgb(150,27,91)"
             ],
             [
              0.4392156862745098,
              "rgb(177,22,88)"
             ],
             [
              0.5019607843137255,
              "rgb(203,26,79)"
             ],
             [
              0.5647058823529412,
              "rgb(223,47,67)"
             ],
             [
              0.6274509803921569,
              "rgb(236,76,61)"
             ],
             [
              0.6901960784313725,
              "rgb(242,107,73)"
             ],
             [
              0.7529411764705882,
              "rgb(244,135,95)"
             ],
             [
              0.8156862745098039,
              "rgb(245,162,122)"
             ],
             [
              0.8784313725490196,
              "rgb(246,188,153)"
             ],
             [
              0.9411764705882353,
              "rgb(247,212,187)"
             ],
             [
              1.0,
              "rgb(250,234,220)"
             ]
            ],
            "type": "heatmap"
           }
          ],
          "histogram2dcontour": [
           {
            "colorbar": {
             "outlinewidth": 0,
             "tickcolor": "rgb(36,36,36)",
             "ticklen": 8,
             "ticks": "outside",
             "tickwidth": 2
            },
            "colorscale": [
             [
              0.0,
              "rgb(2,4,25)"
             ],
             [
              0.06274509803921569,
              "rgb(24,15,41)"
             ],
             [
              0.12549019607843137,
              "rgb(47,23,57)"
             ],
             [
              0.18823529411764706,
              "rgb(71,28,72)"
             ],
             [
              0.25098039215686274,
              "rgb(97,30,82)"
             ],
             [
              0.3137254901960784,
              "rgb(123,30,89)"
             ],
             [
              0.3764705882352941,
              "rgb(150,27,91)"
             ],
             [
              0.4392156862745098,
              "rgb(177,22,88)"
             ],
             [
              0.5019607843137255,
              "rgb(203,26,79)"
             ],
             [
              0.5647058823529412,
              "rgb(223,47,67)"
             ],
             [
              0.6274509803921569,
              "rgb(236,76,61)"
             ],
             [
              0.6901960784313725,
              "rgb(242,107,73)"
             ],
             [
              0.7529411764705882,
              "rgb(244,135,95)"
             ],
             [
              0.8156862745098039,
              "rgb(245,162,122)"
             ],
             [
              0.8784313725490196,
              "rgb(246,188,153)"
             ],
             [
              0.9411764705882353,
              "rgb(247,212,187)"
             ],
             [
              1.0,
              "rgb(250,234,220)"
             ]
            ],
            "type": "histogram2dcontour"
           }
          ],
          "histogram2d": [
           {
            "colorbar": {
             "outlinewidth": 0,
             "tickcolor": "rgb(36,36,36)",
             "ticklen": 8,
             "ticks": "outside",
             "tickwidth": 2
            },
            "colorscale": [
             [
              0.0,
              "rgb(2,4,25)"
             ],
             [
              0.06274509803921569,
              "rgb(24,15,41)"
             ],
             [
              0.12549019607843137,
              "rgb(47,23,57)"
             ],
             [
              0.18823529411764706,
              "rgb(71,28,72)"
             ],
             [
              0.25098039215686274,
              "rgb(97,30,82)"
             ],
             [
              0.3137254901960784,
              "rgb(123,30,89)"
             ],
             [
              0.3764705882352941,
              "rgb(150,27,91)"
             ],
             [
              0.4392156862745098,
              "rgb(177,22,88)"
             ],
             [
              0.5019607843137255,
              "rgb(203,26,79)"
             ],
             [
              0.5647058823529412,
              "rgb(223,47,67)"
             ],
             [
              0.6274509803921569,
              "rgb(236,76,61)"
             ],
             [
              0.6901960784313725,
              "rgb(242,107,73)"
             ],
             [
              0.7529411764705882,
              "rgb(244,135,95)"
             ],
             [
              0.8156862745098039,
              "rgb(245,162,122)"
             ],
             [
              0.8784313725490196,
              "rgb(246,188,153)"
             ],
             [
              0.9411764705882353,
              "rgb(247,212,187)"
             ],
             [
              1.0,
              "rgb(250,234,220)"
             ]
            ],
            "type": "histogram2d"
           }
          ],
          "histogram": [
           {
            "marker": {
             "pattern": {
              "fillmode": "overlay",
              "size": 10,
              "solidity": 0.2
             }
            },
            "type": "histogram"
           }
          ],
          "mesh3d": [
           {
            "colorbar": {
             "outlinewidth": 0,
             "tickcolor": "rgb(36,36,36)",
             "ticklen": 8,
             "ticks": "outside",
             "tickwidth": 2
            },
            "type": "mesh3d"
           }
          ],
          "parcoords": [
           {
            "line": {
             "colorbar": {
              "outlinewidth": 0,
              "tickcolor": "rgb(36,36,36)",
              "ticklen": 8,
              "ticks": "outside",
              "tickwidth": 2
             }
            },
            "type": "parcoords"
           }
          ],
          "pie": [
           {
            "automargin": true,
            "type": "pie"
           }
          ],
          "scatter3d": [
           {
            "line": {
             "colorbar": {
              "outlinewidth": 0,
              "tickcolor": "rgb(36,36,36)",
              "ticklen": 8,
              "ticks": "outside",
              "tickwidth": 2
             }
            },
            "marker": {
             "colorbar": {
              "outlinewidth": 0,
              "tickcolor": "rgb(36,36,36)",
              "ticklen": 8,
              "ticks": "outside",
              "tickwidth": 2
             }
            },
            "type": "scatter3d"
           }
          ],
          "scattercarpet": [
           {
            "marker": {
             "colorbar": {
              "outlinewidth": 0,
              "tickcolor": "rgb(36,36,36)",
              "ticklen": 8,
              "ticks": "outside",
              "tickwidth": 2
             }
            },
            "type": "scattercarpet"
           }
          ],
          "scattergeo": [
           {
            "marker": {
             "colorbar": {
              "outlinewidth": 0,
              "tickcolor": "rgb(36,36,36)",
              "ticklen": 8,
              "ticks": "outside",
              "tickwidth": 2
             }
            },
            "type": "scattergeo"
           }
          ],
          "scattergl": [
           {
            "marker": {
             "colorbar": {
              "outlinewidth": 0,
              "tickcolor": "rgb(36,36,36)",
              "ticklen": 8,
              "ticks": "outside",
              "tickwidth": 2
             }
            },
            "type": "scattergl"
           }
          ],
          "scattermapbox": [
           {
            "marker": {
             "colorbar": {
              "outlinewidth": 0,
              "tickcolor": "rgb(36,36,36)",
              "ticklen": 8,
              "ticks": "outside",
              "tickwidth": 2
             }
            },
            "type": "scattermapbox"
           }
          ],
          "scattermap": [
           {
            "marker": {
             "colorbar": {
              "outlinewidth": 0,
              "tickcolor": "rgb(36,36,36)",
              "ticklen": 8,
              "ticks": "outside",
              "tickwidth": 2
             }
            },
            "type": "scattermap"
           }
          ],
          "scatterpolargl": [
           {
            "marker": {
             "colorbar": {
              "outlinewidth": 0,
              "tickcolor": "rgb(36,36,36)",
              "ticklen": 8,
              "ticks": "outside",
              "tickwidth": 2
             }
            },
            "type": "scatterpolargl"
           }
          ],
          "scatterpolar": [
           {
            "marker": {
             "colorbar": {
              "outlinewidth": 0,
              "tickcolor": "rgb(36,36,36)",
              "ticklen": 8,
              "ticks": "outside",
              "tickwidth": 2
             }
            },
            "type": "scatterpolar"
           }
          ],
          "scatter": [
           {
            "fillpattern": {
             "fillmode": "overlay",
             "size": 10,
             "solidity": 0.2
            },
            "type": "scatter"
           }
          ],
          "scatterternary": [
           {
            "marker": {
             "colorbar": {
              "outlinewidth": 0,
              "tickcolor": "rgb(36,36,36)",
              "ticklen": 8,
              "ticks": "outside",
              "tickwidth": 2
             }
            },
            "type": "scatterternary"
           }
          ],
          "surface": [
           {
            "colorbar": {
             "outlinewidth": 0,
             "tickcolor": "rgb(36,36,36)",
             "ticklen": 8,
             "ticks": "outside",
             "tickwidth": 2
            },
            "colorscale": [
             [
              0.0,
              "rgb(2,4,25)"
             ],
             [
              0.06274509803921569,
              "rgb(24,15,41)"
             ],
             [
              0.12549019607843137,
              "rgb(47,23,57)"
             ],
             [
              0.18823529411764706,
              "rgb(71,28,72)"
             ],
             [
              0.25098039215686274,
              "rgb(97,30,82)"
             ],
             [
              0.3137254901960784,
              "rgb(123,30,89)"
             ],
             [
              0.3764705882352941,
              "rgb(150,27,91)"
             ],
             [
              0.4392156862745098,
              "rgb(177,22,88)"
             ],
             [
              0.5019607843137255,
              "rgb(203,26,79)"
             ],
             [
              0.5647058823529412,
              "rgb(223,47,67)"
             ],
             [
              0.6274509803921569,
              "rgb(236,76,61)"
             ],
             [
              0.6901960784313725,
              "rgb(242,107,73)"
             ],
             [
              0.7529411764705882,
              "rgb(244,135,95)"
             ],
             [
              0.8156862745098039,
              "rgb(245,162,122)"
             ],
             [
              0.8784313725490196,
              "rgb(246,188,153)"
             ],
             [
              0.9411764705882353,
              "rgb(247,212,187)"
             ],
             [
              1.0,
              "rgb(250,234,220)"
             ]
            ],
            "type": "surface"
           }
          ],
          "table": [
           {
            "cells": {
             "fill": {
              "color": "rgb(231,231,240)"
             },
             "line": {
              "color": "white"
             }
            },
            "header": {
             "fill": {
              "color": "rgb(183,183,191)"
             },
             "line": {
              "color": "white"
             }
            },
            "type": "table"
           }
          ]
         },
         "layout": {
          "annotationdefaults": {
           "arrowcolor": "rgb(67,103,167)"
          },
          "autotypenumbers": "strict",
          "coloraxis": {
           "colorbar": {
            "outlinewidth": 0,
            "tickcolor": "rgb(36,36,36)",
            "ticklen": 8,
            "ticks": "outside",
            "tickwidth": 2
           }
          },
          "colorscale": {
           "sequential": [
            [
             0.0,
             "rgb(2,4,25)"
            ],
            [
             0.06274509803921569,
             "rgb(24,15,41)"
            ],
            [
             0.12549019607843137,
             "rgb(47,23,57)"
            ],
            [
             0.18823529411764706,
             "rgb(71,28,72)"
            ],
            [
             0.25098039215686274,
             "rgb(97,30,82)"
            ],
            [
             0.3137254901960784,
             "rgb(123,30,89)"
            ],
            [
             0.3764705882352941,
             "rgb(150,27,91)"
            ],
            [
             0.4392156862745098,
             "rgb(177,22,88)"
            ],
            [
             0.5019607843137255,
             "rgb(203,26,79)"
            ],
            [
             0.5647058823529412,
             "rgb(223,47,67)"
            ],
            [
             0.6274509803921569,
             "rgb(236,76,61)"
            ],
            [
             0.6901960784313725,
             "rgb(242,107,73)"
            ],
            [
             0.7529411764705882,
             "rgb(244,135,95)"
            ],
            [
             0.8156862745098039,
             "rgb(245,162,122)"
            ],
            [
             0.8784313725490196,
             "rgb(246,188,153)"
            ],
            [
             0.9411764705882353,
             "rgb(247,212,187)"
            ],
            [
             1.0,
             "rgb(250,234,220)"
            ]
           ],
           "sequentialminus": [
            [
             0.0,
             "rgb(2,4,25)"
            ],
            [
             0.06274509803921569,
             "rgb(24,15,41)"
            ],
            [
             0.12549019607843137,
             "rgb(47,23,57)"
            ],
            [
             0.18823529411764706,
             "rgb(71,28,72)"
            ],
            [
             0.25098039215686274,
             "rgb(97,30,82)"
            ],
            [
             0.3137254901960784,
             "rgb(123,30,89)"
            ],
            [
             0.3764705882352941,
             "rgb(150,27,91)"
            ],
            [
             0.4392156862745098,
             "rgb(177,22,88)"
            ],
            [
             0.5019607843137255,
             "rgb(203,26,79)"
            ],
            [
             0.5647058823529412,
             "rgb(223,47,67)"
            ],
            [
             0.6274509803921569,
             "rgb(236,76,61)"
            ],
            [
             0.6901960784313725,
             "rgb(242,107,73)"
            ],
            [
             0.7529411764705882,
             "rgb(244,135,95)"
            ],
            [
             0.8156862745098039,
             "rgb(245,162,122)"
            ],
            [
             0.8784313725490196,
             "rgb(246,188,153)"
            ],
            [
             0.9411764705882353,
             "rgb(247,212,187)"
            ],
            [
             1.0,
             "rgb(250,234,220)"
            ]
           ]
          },
          "colorway": [
           "rgb(76,114,176)",
           "rgb(221,132,82)",
           "rgb(85,168,104)",
           "rgb(196,78,82)",
           "rgb(129,114,179)",
           "rgb(147,120,96)",
           "rgb(218,139,195)",
           "rgb(140,140,140)",
           "rgb(204,185,116)",
           "rgb(100,181,205)"
          ],
          "font": {
           "color": "rgb(36,36,36)"
          },
          "geo": {
           "bgcolor": "white",
           "lakecolor": "white",
           "landcolor": "rgb(234,234,242)",
           "showlakes": true,
           "showland": true,
           "subunitcolor": "white"
          },
          "hoverlabel": {
           "align": "left"
          },
          "hovermode": "closest",
          "paper_bgcolor": "white",
          "plot_bgcolor": "rgb(234,234,242)",
          "polar": {
           "angularaxis": {
            "gridcolor": "white",
            "linecolor": "white",
            "showgrid": true,
            "ticks": ""
           },
           "bgcolor": "rgb(234,234,242)",
           "radialaxis": {
            "gridcolor": "white",
            "linecolor": "white",
            "showgrid": true,
            "ticks": ""
           }
          },
          "scene": {
           "xaxis": {
            "backgroundcolor": "rgb(234,234,242)",
            "gridcolor": "white",
            "gridwidth": 2,
            "linecolor": "white",
            "showbackground": true,
            "showgrid": true,
            "ticks": "",
            "zerolinecolor": "white"
           },
           "yaxis": {
            "backgroundcolor": "rgb(234,234,242)",
            "gridcolor": "white",
            "gridwidth": 2,
            "linecolor": "white",
            "showbackground": true,
            "showgrid": true,
            "ticks": "",
            "zerolinecolor": "white"
           },
           "zaxis": {
            "backgroundcolor": "rgb(234,234,242)",
            "gridcolor": "white",
            "gridwidth": 2,
            "linecolor": "white",
            "showbackground": true,
            "showgrid": true,
            "ticks": "",
            "zerolinecolor": "white"
           }
          },
          "shapedefaults": {
           "fillcolor": "rgb(67,103,167)",
           "line": {
            "width": 0
           },
           "opacity": 0.5
          },
          "ternary": {
           "aaxis": {
            "gridcolor": "white",
            "linecolor": "white",
            "showgrid": true,
            "ticks": ""
           },
           "baxis": {
            "gridcolor": "white",
            "linecolor": "white",
            "showgrid": true,
            "ticks": ""
           },
           "bgcolor": "rgb(234,234,242)",
           "caxis": {
            "gridcolor": "white",
            "linecolor": "white",
            "showgrid": true,
            "ticks": ""
           }
          },
          "xaxis": {
           "automargin": true,
           "gridcolor": "white",
           "linecolor": "white",
           "showgrid": true,
           "ticks": "",
           "title": {
            "standoff": 15
           },
           "zerolinecolor": "white"
          },
          "yaxis": {
           "automargin": true,
           "gridcolor": "white",
           "linecolor": "white",
           "showgrid": true,
           "ticks": "",
           "title": {
            "standoff": 15
           },
           "zerolinecolor": "white"
          }
         }
        },
        "title": {
         "font": {
          "size": 32
         },
         "text": "Peak CPU Usage: Boxplot and Usecase Strips by Database",
         "x": 0.45
        },
        "xaxis": {
         "title": {
          "font": {
           "size": 24
          },
          "text": "Database"
         },
         "tickfont": {
          "size": 20
         },
         "tickmode": "array",
         "tickvals": [
          0,
          1,
          2
         ],
         "ticktext": [
          "clickhouse",
          "mongodb",
          "postgres"
         ]
        },
        "yaxis": {
         "title": {
          "font": {
           "size": 24
          },
          "text": "Peak CPU Percent (%)"
         },
         "tickfont": {
          "size": 20
         }
        },
        "legend": {
         "title": {
          "font": {
           "size": 24
          },
          "text": "Legend"
         },
         "grouptitlefont": {
          "size": 16
         },
         "font": {
          "size": 16
         },
         "traceorder": "grouped"
        },
        "boxmode": "overlay"
       },
       "config": {
        "plotlyServerURL": "https://plot.ly"
       }
      }
     },
     "metadata": {},
     "output_type": "display_data"
    }
   ],
   "execution_count": 12
  },
  {
   "cell_type": "markdown",
   "metadata": {},
   "source": [
    "### Plot6: Box‐Plot of Average Memory (MB) by Database"
   ]
  },
  {
   "cell_type": "code",
   "metadata": {
    "ExecuteTime": {
     "end_time": "2025-06-23T11:53:35.325310Z",
     "start_time": "2025-06-23T11:53:35.072943Z"
    }
   },
   "source": [
    "fig = go.Figure()\n",
    "db_names = df['database'].unique()\n",
    "db_colors = px.colors.qualitative.Vivid\n",
    "uc_colors = px.colors.qualitative.D3\n",
    "db_color_map = {name: db_colors[i % len(db_colors)] for i, name in enumerate(db_names)}\n",
    "uc_color_map = {name: uc_colors[i % len(uc_colors)] for i, name in enumerate(ordered_uc_full_names)}\n",
    "\n",
    "# --- Spacing definition ---\n",
    "BOX_WIDTH = 0.3\n",
    "BOX_START_X_REL = -0.45\n",
    "STRIPS_START_X_REL = BOX_START_X_REL + BOX_WIDTH + 0.05\n",
    "STRIPS_END_X_REL = 0.45\n",
    "STRIPS_TOTAL_WIDTH = STRIPS_END_X_REL - STRIPS_START_X_REL\n",
    "STRIP_SPACING = STRIPS_TOTAL_WIDTH / len(ordered_uc_full_names) if ordered_uc_full_names else 0\n",
    "\n",
    "# --- Add Traces ---\n",
    "for i, db_name in enumerate(db_names):\n",
    "    df_db = df[df['database'] == db_name]\n",
    "    fig.add_trace(go.Box(\n",
    "        y=df_db['avg_mem_mb'], x0=i + BOX_START_X_REL + (BOX_WIDTH / 2), name=db_name,\n",
    "        marker_color=db_color_map[db_name], width=BOX_WIDTH, boxpoints=False, showlegend=True,\n",
    "        legendgroup=\"1-databases\", legendgrouptitle_text=\"Databases\"\n",
    "    ))\n",
    "    for j, uc_full_name in enumerate(ordered_uc_full_names):\n",
    "        df_uc = df_db[df_db['usecase_full_name'] == uc_full_name]\n",
    "        if df_uc.empty: continue\n",
    "        strip_x_pos = i + STRIPS_START_X_REL + (j * STRIP_SPACING) + (STRIP_SPACING / 2)\n",
    "        fig.add_trace(go.Scatter(\n",
    "            x=[strip_x_pos] * len(df_uc), y=df_uc['avg_mem_mb'], mode='markers',\n",
    "            name=short_name_map[uc_full_name],\n",
    "            marker_color=uc_color_map[uc_full_name], showlegend=(i == 0),\n",
    "            legendgroup=\"2-usecases\", legendgrouptitle_text=\"Usecases\"\n",
    "        ))\n",
    "\n",
    "# --- Finalize Layout with Larger Fonts ---\n",
    "fig.update_layout(\n",
    "    title=dict(\n",
    "        text=\"Average Memory Usage: Boxplot and Usecase Strips by Database\",\n",
    "        x=0.45,\n",
    "        font=dict(size=32)\n",
    "    ),\n",
    "    xaxis=dict(\n",
    "        title=dict(text=\"Database\", font=dict(size=24)),\n",
    "        tickmode='array',\n",
    "        tickvals=list(range(len(db_names))),\n",
    "        ticktext=db_names,\n",
    "        tickfont=dict(size=20),\n",
    "    ),\n",
    "    yaxis=dict(\n",
    "        title=dict(text=\"Average Memory (MB)\", font=dict(size=24)),\n",
    "        tickfont=dict(size=20),\n",
    "    ),\n",
    "    legend=dict(\n",
    "        traceorder=\"grouped\",\n",
    "        title=dict(\n",
    "            text=\"Legend\",\n",
    "            font=dict(size=24)\n",
    "        ),\n",
    "        grouptitlefont=dict(\n",
    "            size=16\n",
    "        ),\n",
    "        font=dict(\n",
    "            size=16\n",
    "        )\n",
    "    ),\n",
    "    boxmode='overlay',\n",
    "    template='seaborn',\n",
    ")\n",
    "fig.show()\n",
    "\n",
    "fig.write_image(f\"{OUTPUT_PATH}Average-Memory-Usage-Per-Usecase.png\", width=1350, height=750, scale=2)"
   ],
   "outputs": [
    {
     "data": {
      "application/vnd.plotly.v1+json": {
       "data": [
        {
         "boxpoints": false,
         "legendgroup": "1-databases",
         "legendgrouptitle": {
          "text": "Databases"
         },
         "marker": {
          "color": "rgb(229, 134, 6)"
         },
         "name": "clickhouse",
         "showlegend": true,
         "width": 0.3,
         "x0": -0.30000000000000004,
         "y": {
          "dtype": "f8",
          "bdata": "7FG4HoVjhUDhehSuR/WEQDMzMzMz0YRAuB6F61F8iECuR+F6FDyHQHsUrkfhXoZA16NwPQpOkECuR+F6FDmQQOxRuB6FKJBAcT0K16PLkUBmZmZmZueQQEjhehSuQ5FAPQrXo3A7j0AUrkfhej6QQKRwPQrXd5FAzczMzMyOjkDhehSuR+2NQHE9CtejrI1ArkfhehTuj0ApXI/C9YiPQEjhehSu+41AKVyPwvWYjkAAAAAAALySQI/C9ShcDJFAcT0K16PGjEA9CtejcP2MQFK4HoXr4pBAAAAAAABOj0CamZmZmR2OQGZmZmZm5I1AH4XrUbj+jkDNzMzMzDyRQI/C9ShcoY1AAAAAAACajUAzMzMzM0yQQB+F61G45o5AUrgehetTj0AfhetRuLmQQBSuR+F6C5JArkfhehRaj0DNzMzMzPKPQM3MzMzMqI9ASOF6FK4kkECuR+F6FCyRQKRwPQrXRJBA4XoUrkc/kUAUrkfheh6SQFK4HoXrLJFAXI/C9SgAkUDD9Shcj0OQQOF6FK5HIpBAUrgeheuokkCuR+F6FPaRQAAAAAAALJFAj8L1KFwnkECkcD0K14GPQMP1KFyP0JFAcT0K16O8kEA9CtejcBSQQD0K16Nw745ACtejcD05kUBI4XoUrheQQNejcD0KKJJAhetRuB7bj0Bcj8L1KNyPQKRwPQrX2Y9AH4XrUbgRkUD2KFyPwgiSQPYoXI/CU49AH4XrUbi2jkAUrkfhek2QQOF6FK5HA49ApHA9CtdNj0BI4XoUrmuOQK5H4XoUOI9AH4XrUbg4kUDsUbgehS+QQHsUrkfhCZBAH4XrUbiqjUDD9Shcj2iNQMP1KFyPuIxArkfhehQyj0CPwvUoXDaRQBSuR+F6VI1AuB6F61F2jkCF61G4Hi+RQGZmZmZmU5FApHA9Ctc5jkCPwvUoXI+NQLgehetRGpBAXI/C9ShOjkCPwvUoXBmOQMP1KFyPso5A4XoUrkcJjkCkcD0K13SRQI/C9ShcLJBAAAAAAADKjkCkcD0K1/OOQFyPwvUoEJBAhetRuB6vjkC4HoXrUTKRQGZmZmZmHI5ACtejcD1+j0CPwvUoXKaQQM3MzMzMRJFA4XoUrkfjjkDhehSuR1OOQAAAAAAAMI5AFK5H4XoHkEDhehSuRwmQQD0K16Nwl49AXI/C9SgEj0B7FK5H4VyOQArXo3A9DpBAuB6F61EOjUAUrkfheiaNQClcj8L18o1AhetRuB6rjkAfhetRuCqPQNejcD0Kx4xAPQrXo3BhjUA9CtejcBOMQOF6FK5H6YtApHA9CteRjECPwvUoXLONQK5H4XoUjI1APQrXo3A/jUD2KFyPwiWPQB+F61G4GI5AUrgehetXjEB7FK5H4bqOQB+F61G42IxAhetRuB74kEBmZmZmZkSRQKRwPQrXH5BAAAAAAAB/kUBxPQrXo6uQQB+F61G4bZBA4XoUrkdbkEA9CtejcGuQQOF6FK5H2pBAAAAAAADVkEBxPQrXo4KRQOF6FK5HLJFAmpmZmZlllEBxPQrXowmRQGZmZmZmZZFAj8L1KFzOkECuR+F6FP6QQEjhehSuR5JAzczMzMwzkEAzMzMzM0iQQJqZmZmZtpBAMzMzMzPJj0BmZmZmZu2RQOxRuB6F4pBAMzMzMzMxjkDNzMzMzGqNQGZmZmZmpoxAZmZmZmaWjUBI4XoUrm2MQAAAAAAAEI1AuB6F61FMj0DsUbgehWOPQKRwPQrXh49ApHA9CtfDjkAzMzMzM6yQQGZmZmZmFJBAhetRuB7Nj0D2KFyPwv+PQDMzMzMzVJFA4XoUrkfTkEAUrkfhermQQB+F61G4cJBApHA9Ctdzj0B7FK5H4QWQQDMzMzMzrpBAUrgeheujjUAUrkfheq6OQJqZmZmZY45AMzMzMzM1kUAUrkfhenSOQFK4HoXrk45AFK5H4Xr0kkAzMzMzM2mOQIXrUbgey5RAw/UoXI/RkECPwvUoXDuQQFyPwvUo6I5AZmZmZmZWjkCamZmZmQmQQD0K16NwUpBArkfhehTKkEDD9Shcj2CRQJqZmZmZlY9AFK5H4XoskEDsUbgehbWQQAAAAAAAjZBAw/UoXI8TlEAAAAAAAJiSQLgehetRwZFArkfhehS4kUBcj8L1KAmRQBSuR+F6uZJAKVyPwvV3kUAAAAAAAFWUQDMzMzMzvpBAUrgeheu8kEAAAAAAAPmQQOF6FK5HK5FASOF6FK6OkUCuR+F6FKuRQOxRuB6FKJBAUrgehesxkEAfhetRuOCQQAAAAAAA+ZFAw/UoXI+ojkAUrkfhelCNQAAAAAAAfI1Aj8L1KFx9jUDXo3A9Ch+NQM3MzMzMtIxAZmZmZmbCjECuR+F6FKyOQClcj8L1vo5ASOF6FK5HkECamZmZmc2NQHE9CtejTo1AhetRuB6BjkCamZmZmUmOQI/C9Shcz45Aw/UoXI/qjkBmZmZmZu6PQJqZmZmZNZBAuB6F61F6jkAfhetRuMSPQI/C9Shcy45AhetRuB73j0DsUbgehQmQQNejcD0KNJBA4XoUrkdakEA9CtejcMeRQFyPwvUoRZJAcT0K16Pgj0Bcj8L1KOWQQM3MzMzMp5BAhetRuB4kkkDNzMzMzASXQDMzMzMzP49AuB6F61E2j0AK16NwPXiQQI/C9ShcW5BAKVyPwvXvkEB7FK5H4eOQQClcj8L1YJBA16NwPQpEkkCuR+F6FIiRQM3MzMzMwpBAMzMzMzNdkUBcj8L1KNaPQPYoXI/CMJBAzczMzMySkEBmZmZmZq+QQFK4HoXrFpJA9ihcj8KwkEA9CtejcMyQQEjhehSuk49AKVyPwvVyj0CuR+F6FKKQQD0K16Nw/JFAexSuR+EskEBxPQrXo7aOQHsUrkfhvo9AH4XrUbhOjkBSuB6F61WQQHsUrkfhno9AUrgehesGkEDNzMzMzNSPQGZmZmZmlo9A7FG4HoVokUAK16NwPZaQQJqZmZmZJpBAXI/C9SghkUDXo3A9CkuTQOxRuB6Ff5BAzczMzMy0j0DhehSuR+OOQMP1KFyPJJBAhetRuB51j0AzMzMzM0+PQD0K16NwVY9AZmZmZma3kEAzMzMzMx6RQEjhehSuG5BArkfhehQvkUCkcD0K1xaQQHE9CtejMZBAFK5H4Xr2jkCF61G4Hv2PQGZmZmZmHZFAj8L1KFzFjEDNzMzMzFqMQFyPwvUoCZBAUrgehet8kUBI4XoUrtWMQFyPwvUonIxAMzMzMzNdjUCF61G4HneOQHE9Ctejfo5A7FG4HoUJj0CamZmZmSGNQFK4HoXrYYxAUrgeheunjkB7FK5H4WSLQK5H4XoUsI1AzczMzMyGjEBcj8L1KPyQQAAAAAAArIxACtejcD2KjkCF61G4HmGOQI/C9ShctY5A7FG4HoX7kEB7FK5H4fyPQAAAAAAA1I5AXI/C9ShSjkAK16NwPaqPQHsUrkfheo5A9ihcj8JtjkD2KFyPwp2OQEjhehSuEZBAcT0K16N8jkAAAAAAAJaOQPYoXI/CU45AzczMzMywjUCuR+F6FB6PQPYoXI/C5Y1ArkfhehRjkECF61G4HiSQQEjhehSucJBAzczMzMzoj0CkcD0K18WQQPYoXI/CJ5JAFK5H4Xq4kEDD9Shcj9qOQD0K16NwOpBA4XoUrkdfj0DNzMzMzA+QQFK4HoXrK49Aw/UoXI+lkEDD9Shcj1iQQDMzMzMz+JBAAAAAAADrkEAzMzMzM0yQQMP1KFyPM5BAZmZmZmZyjkCamZmZmXWOQI/C9Shce45Aj8L1KFxhj0BI4XoUrpWPQLgehetRKZBAmpmZmZmPjEDXo3A9CpeMQHsUrkfh3oxAKVyPwvXejUDXo3A9Cm+NQBSuR+F6noxAFK5H4XpojkAAAAAAAJCMQAAAAAAA+otAUrgeheuPjUDD9Shcj5yNQD0K16Nwu4xAZmZmZmb6jUAUrkfhekyNQEjhehSu14xAXI/C9Si4jEDXo3A9CgmNQGZmZmZm3oxA9ihcj8JjjUCamZmZmQWNQOF6FK5HYY5ASOF6FK79jEDhehSuRwONQB+F61G4Wo5ACtejcD3gjUDXo3A9CuuOQFyPwvUo7I1Aw/UoXI+WjUA9CtejcD+PQBSuR+F6nI1ASOF6FK7VjkApXI/C9cqNQJqZmZmZxY9A7FG4HoUWkECamZmZmVWPQFyPwvUoRI5AuB6F61Euj0CF61G4Hv2NQBSuR+F6UJBAw/UoXI9+j0B7FK5H4TaOQD0K16NwEY5A9ihcj8KDjUCuR+F6FMiMQD0K16Nwr4xAKVyPwvXcjEB7FK5H4U+QQIXrUbgev45AZmZmZmb4j0A9CtejcASRQFK4HoXrEY5AUrgeheudjkCamZmZmamOQClcj8L1jpBAw/UoXI/rkECkcD0K1wqQQFyPwvUomI9ApHA9CtcjkEBcj8L1KDqPQM3MzMzMPo9A16NwPQrTj0DD9Shcj+uQQFK4HoXro45AcT0K16OojkAzMzMzM/WOQJqZmZmZjY9APQrXo3A0kEBcj8L1KM6QQAAAAAAAJpFAexSuR+HsjkAzMzMzM0GPQOF6FK5HaJBAuB6F61FWkEAUrkfhemCPQDMzMzMzd45AMzMzMzODkEDhehSuR6mQQFyPwvUoyo9A"
         },
         "type": "box"
        },
        {
         "legendgroup": "2-usecases",
         "legendgrouptitle": {
          "text": "Usecases"
         },
         "marker": {
          "color": "#1F77B4"
         },
         "mode": "markers",
         "name": "uc1: Filtering Query Properties",
         "showlegend": true,
         "x": [
          -0.05416666666666668,
          -0.05416666666666668,
          -0.05416666666666668,
          -0.05416666666666668,
          -0.05416666666666668,
          -0.05416666666666668,
          -0.05416666666666668,
          -0.05416666666666668,
          -0.05416666666666668,
          -0.05416666666666668,
          -0.05416666666666668,
          -0.05416666666666668,
          -0.05416666666666668,
          -0.05416666666666668,
          -0.05416666666666668,
          -0.05416666666666668,
          -0.05416666666666668,
          -0.05416666666666668,
          -0.05416666666666668,
          -0.05416666666666668,
          -0.05416666666666668,
          -0.05416666666666668,
          -0.05416666666666668,
          -0.05416666666666668,
          -0.05416666666666668,
          -0.05416666666666668,
          -0.05416666666666668,
          -0.05416666666666668,
          -0.05416666666666668,
          -0.05416666666666668,
          -0.05416666666666668,
          -0.05416666666666668,
          -0.05416666666666668,
          -0.05416666666666668,
          -0.05416666666666668,
          -0.05416666666666668,
          -0.05416666666666668,
          -0.05416666666666668,
          -0.05416666666666668,
          -0.05416666666666668,
          -0.05416666666666668,
          -0.05416666666666668,
          -0.05416666666666668,
          -0.05416666666666668,
          -0.05416666666666668,
          -0.05416666666666668,
          -0.05416666666666668,
          -0.05416666666666668,
          -0.05416666666666668,
          -0.05416666666666668,
          -0.05416666666666668,
          -0.05416666666666668,
          -0.05416666666666668,
          -0.05416666666666668,
          -0.05416666666666668,
          -0.05416666666666668,
          -0.05416666666666668,
          -0.05416666666666668,
          -0.05416666666666668,
          -0.05416666666666668,
          -0.05416666666666668,
          -0.05416666666666668,
          -0.05416666666666668,
          -0.05416666666666668,
          -0.05416666666666668,
          -0.05416666666666668,
          -0.05416666666666668,
          -0.05416666666666668,
          -0.05416666666666668,
          -0.05416666666666668,
          -0.05416666666666668,
          -0.05416666666666668,
          -0.05416666666666668
         ],
         "y": {
          "dtype": "f8",
          "bdata": "7FG4HoVjhUDXo3A9Ck6QQHE9CtejrI1AKVyPwvWIj0BmZmZmZuSNQDMzMzMzTJBAUrgehetTj0BSuB6F6yyRQFyPwvUoAJFAj8L1KFwnkEBcj8L1KNyPQOF6FK5HA49ASOF6FK5rjkDD9Shcj7iMQI/C9Shcj41AXI/C9ShOjkBmZmZmZhyOQAAAAAAAMI5AexSuR+FcjkDXo3A9CseMQD0K16NwE4xAUrgehetXjECF61G4HviQQAAAAAAA1ZBAcT0K16MJkUCamZmZmbaQQEjhehSubYxApHA9CteHj0AfhetRuHCQQJqZmZmZY45AUrgeheuTjkCamZmZmQmQQOxRuB6FtZBAFK5H4Xq5kkDhehSuRyuRQEjhehSujpFAzczMzMy0jEBmZmZmZsKMQIXrUbgegY5AhetRuB73j0DNzMzMzKeQQI/C9ShcW5BAKVyPwvXvkEBmZmZmZq+QQPYoXI/CsJBAexSuR+G+j0BSuB6F6waQQOF6FK5H445AMzMzMzNPj0AUrkfhevaOQM3MzMzMWoxAUrgehethjEB7FK5H4WSLQArXo3A9io5AXI/C9ShSjkDNzMzMzLCNQPYoXI/CJ5JAw/UoXI/ajkDD9ShcjzOQQI/C9Shce45AmpmZmZmPjEAAAAAAAJCMQNejcD0KCY1A9ihcj8JjjUAK16NwPeCNQEjhehSu1Y5AuB6F61Euj0D2KFyPwoONQJqZmZmZqY5AzczMzMw+j0CamZmZmY2PQOF6FK5HaJBAuB6F61FWkEA="
         },
         "type": "scatter"
        },
        {
         "legendgroup": "2-usecases",
         "legendgrouptitle": {
          "text": "Usecases"
         },
         "marker": {
          "color": "#FF7F0E"
         },
         "mode": "markers",
         "name": "uc2: Bulk Update",
         "showlegend": true,
         "x": [
          0.03749999999999999,
          0.03749999999999999,
          0.03749999999999999,
          0.03749999999999999,
          0.03749999999999999,
          0.03749999999999999,
          0.03749999999999999,
          0.03749999999999999,
          0.03749999999999999,
          0.03749999999999999,
          0.03749999999999999,
          0.03749999999999999,
          0.03749999999999999,
          0.03749999999999999,
          0.03749999999999999,
          0.03749999999999999,
          0.03749999999999999,
          0.03749999999999999,
          0.03749999999999999,
          0.03749999999999999,
          0.03749999999999999,
          0.03749999999999999,
          0.03749999999999999,
          0.03749999999999999,
          0.03749999999999999,
          0.03749999999999999,
          0.03749999999999999,
          0.03749999999999999,
          0.03749999999999999,
          0.03749999999999999,
          0.03749999999999999,
          0.03749999999999999,
          0.03749999999999999,
          0.03749999999999999,
          0.03749999999999999,
          0.03749999999999999,
          0.03749999999999999,
          0.03749999999999999,
          0.03749999999999999,
          0.03749999999999999,
          0.03749999999999999,
          0.03749999999999999,
          0.03749999999999999,
          0.03749999999999999,
          0.03749999999999999,
          0.03749999999999999,
          0.03749999999999999,
          0.03749999999999999,
          0.03749999999999999,
          0.03749999999999999,
          0.03749999999999999,
          0.03749999999999999,
          0.03749999999999999,
          0.03749999999999999,
          0.03749999999999999,
          0.03749999999999999,
          0.03749999999999999,
          0.03749999999999999,
          0.03749999999999999,
          0.03749999999999999,
          0.03749999999999999,
          0.03749999999999999,
          0.03749999999999999,
          0.03749999999999999,
          0.03749999999999999,
          0.03749999999999999,
          0.03749999999999999,
          0.03749999999999999,
          0.03749999999999999,
          0.03749999999999999,
          0.03749999999999999,
          0.03749999999999999,
          0.03749999999999999
         ],
         "y": {
          "dtype": "f8",
          "bdata": "4XoUrkf1hECuR+F6FDmQQOF6FK5H7Y1ASOF6FK77jUBxPQrXo8aMQAAAAAAAmo1ArkfhehRaj0CuR+F6FCyRQMP1KFyPQ5BApHA9CteBj0CF61G4HtuPQB+F61G4to5ApHA9CtdNj0AfhetRuKqNQKRwPQrXOY5Aj8L1KFwZjkCF61G4Hq+OQOF6FK5HU45AXI/C9SgEj0C4HoXrUQ6NQOF6FK5H6YtAPQrXo3A/jUBmZmZmZkSRQOF6FK5H2pBAZmZmZmZlkUAzMzMzM0iQQAAAAAAAEI1AuB6F61FMj0CF61G4Hs2PQBSuR+F6ro5AFK5H4Xp0jkCPwvUoXDuQQBSuR+F6LJBAw/UoXI8TlEAzMzMzM76QQK5H4XoUq5FA16NwPQofjUBxPQrXo06NQJqZmZmZSY5AuB6F61F6jkBcj8L1KOWQQArXo3A9eJBAexSuR+HjkEDNzMzMzJKQQD0K16NwzJBAcT0K16O2jkDNzMzMzNSPQM3MzMzMtI9APQrXo3BVj0CF61G4Hv2PQI/C9ShcxYxAMzMzMzNdjUDNzMzMzIaMQIXrUbgeYY5AexSuR+F6jkD2KFyPwlOOQKRwPQrXxZBAUrgehesrj0AzMzMzM0yQQGZmZmZmco5A16NwPQqXjEAAAAAAAPqLQFyPwvUouIxAmpmZmZkFjUBcj8L1KOyNQFyPwvUoRI5AexSuR+E2jkCuR+F6FMiMQFK4HoXrnY5AXI/C9Sg6j0AzMzMzM/WOQDMzMzMzQY9AFK5H4Xpgj0A="
         },
         "type": "scatter"
        },
        {
         "legendgroup": "2-usecases",
         "legendgrouptitle": {
          "text": "Usecases"
         },
         "marker": {
          "color": "#2CA02C"
         },
         "mode": "markers",
         "name": "uc3: Schema Evolution",
         "showlegend": true,
         "x": [
          0.12916666666666665,
          0.12916666666666665,
          0.12916666666666665,
          0.12916666666666665,
          0.12916666666666665,
          0.12916666666666665,
          0.12916666666666665,
          0.12916666666666665,
          0.12916666666666665,
          0.12916666666666665,
          0.12916666666666665,
          0.12916666666666665,
          0.12916666666666665,
          0.12916666666666665,
          0.12916666666666665,
          0.12916666666666665,
          0.12916666666666665,
          0.12916666666666665,
          0.12916666666666665,
          0.12916666666666665,
          0.12916666666666665,
          0.12916666666666665,
          0.12916666666666665,
          0.12916666666666665,
          0.12916666666666665,
          0.12916666666666665,
          0.12916666666666665,
          0.12916666666666665,
          0.12916666666666665,
          0.12916666666666665,
          0.12916666666666665,
          0.12916666666666665,
          0.12916666666666665,
          0.12916666666666665,
          0.12916666666666665,
          0.12916666666666665,
          0.12916666666666665,
          0.12916666666666665,
          0.12916666666666665,
          0.12916666666666665,
          0.12916666666666665,
          0.12916666666666665,
          0.12916666666666665,
          0.12916666666666665,
          0.12916666666666665,
          0.12916666666666665,
          0.12916666666666665,
          0.12916666666666665,
          0.12916666666666665,
          0.12916666666666665,
          0.12916666666666665,
          0.12916666666666665,
          0.12916666666666665,
          0.12916666666666665,
          0.12916666666666665,
          0.12916666666666665,
          0.12916666666666665,
          0.12916666666666665,
          0.12916666666666665,
          0.12916666666666665,
          0.12916666666666665,
          0.12916666666666665,
          0.12916666666666665,
          0.12916666666666665,
          0.12916666666666665,
          0.12916666666666665,
          0.12916666666666665,
          0.12916666666666665,
          0.12916666666666665,
          0.12916666666666665,
          0.12916666666666665,
          0.12916666666666665,
          0.12916666666666665
         ],
         "y": {
          "dtype": "f8",
          "bdata": "MzMzMzPRhEDsUbgehSiQQM3MzMzMjo5AKVyPwvWYjkA9CtejcP2MQI/C9ShcoY1AzczMzMzyj0CkcD0K10SQQOF6FK5HIpBAPQrXo3DvjkCkcD0K19mPQPYoXI/CU49ArkfhehQ4j0DD9Shcj2iNQLgehetRdo5Aw/UoXI+yjkAAAAAAAMqOQOF6FK5H445APQrXo3CXj0AUrkfheiaNQKRwPQrXkYxA9ihcj8Ilj0AfhetRuG2QQD0K16Nwa5BAj8L1KFzOkEDNzMzMzDOQQGZmZmZmpoxApHA9CtfDjkD2KFyPwv+PQFK4HoXro41AMzMzMzNpjkBcj8L1KOiOQJqZmZmZlY9AuB6F61HBkUAAAAAAAPmQQOxRuB6FKJBAj8L1KFx9jUCamZmZmc2NQI/C9Shcz45Aj8L1KFzLjkBxPQrXo+CPQLgehetRNo9AKVyPwvVgkED2KFyPwjCQQEjhehSuk49AH4XrUbhOjkBmZmZmZpaPQMP1KFyPJJBAhetRuB51j0BxPQrXozGQQFyPwvUonIxAmpmZmZkhjUAAAAAAAKyMQI/C9ShctY5A9ihcj8JtjkD2KFyPwuWNQM3MzMzM6I9A4XoUrkdfj0AAAAAAAOuQQJqZmZmZdY5AexSuR+HejEAUrkfhemiOQGZmZmZm3oxASOF6FK79jEDD9Shcj5aNQClcj8L1yo1APQrXo3ARjkA9CtejcK+MQFK4HoXrEY5Aw/UoXI/rkEBxPQrXo6iOQHsUrkfh7I5AMzMzMzN3jkA="
         },
         "type": "scatter"
        },
        {
         "legendgroup": "2-usecases",
         "legendgrouptitle": {
          "text": "Usecases"
         },
         "marker": {
          "color": "#D62728"
         },
         "mode": "markers",
         "name": "uc4: Analytical Query",
         "showlegend": true,
         "x": [
          0.22083333333333333,
          0.22083333333333333,
          0.22083333333333333,
          0.22083333333333333,
          0.22083333333333333,
          0.22083333333333333,
          0.22083333333333333,
          0.22083333333333333,
          0.22083333333333333,
          0.22083333333333333,
          0.22083333333333333,
          0.22083333333333333,
          0.22083333333333333,
          0.22083333333333333,
          0.22083333333333333,
          0.22083333333333333,
          0.22083333333333333,
          0.22083333333333333,
          0.22083333333333333,
          0.22083333333333333,
          0.22083333333333333,
          0.22083333333333333,
          0.22083333333333333,
          0.22083333333333333,
          0.22083333333333333,
          0.22083333333333333,
          0.22083333333333333,
          0.22083333333333333,
          0.22083333333333333,
          0.22083333333333333,
          0.22083333333333333,
          0.22083333333333333,
          0.22083333333333333,
          0.22083333333333333,
          0.22083333333333333,
          0.22083333333333333,
          0.22083333333333333,
          0.22083333333333333,
          0.22083333333333333,
          0.22083333333333333,
          0.22083333333333333,
          0.22083333333333333,
          0.22083333333333333,
          0.22083333333333333,
          0.22083333333333333,
          0.22083333333333333,
          0.22083333333333333,
          0.22083333333333333,
          0.22083333333333333,
          0.22083333333333333,
          0.22083333333333333,
          0.22083333333333333,
          0.22083333333333333,
          0.22083333333333333,
          0.22083333333333333,
          0.22083333333333333,
          0.22083333333333333,
          0.22083333333333333,
          0.22083333333333333,
          0.22083333333333333,
          0.22083333333333333,
          0.22083333333333333,
          0.22083333333333333,
          0.22083333333333333,
          0.22083333333333333,
          0.22083333333333333,
          0.22083333333333333,
          0.22083333333333333,
          0.22083333333333333,
          0.22083333333333333,
          0.22083333333333333,
          0.22083333333333333,
          0.22083333333333333
         ],
         "y": {
          "dtype": "f8",
          "bdata": "uB6F61F8iEBxPQrXo8uRQKRwPQrXd5FAAAAAAAC8kkBSuB6F6+KQQM3MzMzMPJFAzczMzMyoj0BI4XoUriSQQFK4HoXrqJJAw/UoXI/QkUDXo3A9CiiSQPYoXI/CCJJAH4XrUbg4kUAUrkfhelSNQGZmZmZmU5FA4XoUrkcJjkCkcD0K1/OOQM3MzMzMRJFAFK5H4XoHkEApXI/C9fKNQI/C9Shcs41AH4XrUbgYjkCkcD0K1x+QQOF6FK5HW5BArkfhehT+kEAzMzMzM8mPQGZmZmZmlo1AMzMzMzOskEAzMzMzM1SRQDMzMzMzrpBAMzMzMzM1kUBmZmZmZlaOQMP1KFyPYJFAAAAAAACYkkBSuB6F67yQQFK4HoXrMZBAAAAAAAB8jUBI4XoUrkeQQMP1KFyP6o5A16NwPQo0kEBcj8L1KEWSQDMzMzMzP49A16NwPQpEkkBcj8L1KNaPQClcj8L1co9AUrgehetVkEDsUbgehWiRQOxRuB6Ff5BAZmZmZma3kECkcD0K1xaQQEjhehSu1YxA7FG4HoUJj0Bcj8L1KPyQQAAAAAAA1I5A9ihcj8KdjkAAAAAAAJaOQK5H4XoUY5BAPQrXo3A6kEDD9Shcj6WQQLgehetRKZBAKVyPwvXejUBSuB6F64+NQEjhehSu14xA4XoUrkcDjUAUrkfhepyNQJqZmZmZxY9AhetRuB79jUApXI/C9dyMQClcj8L1jpBApHA9CtcKkEBSuB6F66OOQAAAAAAAJpFAMzMzMzODkEA="
         },
         "type": "scatter"
        },
        {
         "legendgroup": "2-usecases",
         "legendgrouptitle": {
          "text": "Usecases"
         },
         "marker": {
          "color": "#9467BD"
         },
         "mode": "markers",
         "name": "uc5: Aggregation",
         "showlegend": true,
         "x": [
          0.3125,
          0.3125,
          0.3125,
          0.3125,
          0.3125,
          0.3125,
          0.3125,
          0.3125,
          0.3125,
          0.3125,
          0.3125,
          0.3125,
          0.3125,
          0.3125,
          0.3125,
          0.3125,
          0.3125,
          0.3125,
          0.3125,
          0.3125,
          0.3125,
          0.3125,
          0.3125,
          0.3125,
          0.3125,
          0.3125,
          0.3125,
          0.3125,
          0.3125,
          0.3125,
          0.3125,
          0.3125,
          0.3125,
          0.3125,
          0.3125,
          0.3125,
          0.3125,
          0.3125,
          0.3125,
          0.3125,
          0.3125,
          0.3125,
          0.3125,
          0.3125,
          0.3125,
          0.3125,
          0.3125,
          0.3125,
          0.3125,
          0.3125,
          0.3125,
          0.3125,
          0.3125,
          0.3125,
          0.3125,
          0.3125,
          0.3125,
          0.3125,
          0.3125,
          0.3125,
          0.3125,
          0.3125,
          0.3125,
          0.3125,
          0.3125,
          0.3125,
          0.3125,
          0.3125,
          0.3125,
          0.3125,
          0.3125,
          0.3125,
          0.3125
         ],
         "y": {
          "dtype": "f8",
          "bdata": "rkfhehQ8h0BI4XoUrkORQBSuR+F6PpBAj8L1KFwMkUAAAAAAAE6PQB+F61G4/o5AFK5H4XoLkkAUrkfheh6SQK5H4XoU9pFAcT0K16O8kEAK16NwPTmRQB+F61G4EZFA7FG4HoUvkECPwvUoXDaRQIXrUbgeL5FApHA9Ctd0kUC4HoXrUTKRQI/C9ShcppBA4XoUrkcJkECF61G4HquOQK5H4XoUjI1AH4XrUbjYjEAAAAAAAH+RQHE9CtejgpFAmpmZmZlllEBmZmZmZu2RQM3MzMzMao1AZmZmZmYUkEDhehSuR9OQQHsUrkfhBZBAhetRuB7LlEDD9Shcj9GQQK5H4XoUypBArkfhehS4kUAAAAAAAFWUQAAAAAAA+ZFAFK5H4XpQjUApXI/C9b6OQGZmZmZm7o9AH4XrUbjEj0A9CtejcMeRQM3MzMzMBJdArkfhehSIkUBSuB6F6xaSQD0K16Nw/JFAexSuR+EskEAK16NwPZaQQNejcD0KS5NAMzMzMzMekUCuR+F6FC+RQFK4HoXrfJFAcT0K16N+jkBSuB6F66eOQOxRuB6F+5BASOF6FK4RkEBxPQrXo3yOQIXrUbgeJJBAzczMzMwPkEDD9Shcj1iQQEjhehSulY9AFK5H4XqejEA9CtejcLuMQBSuR+F6TI1A4XoUrkdhjkA9CtejcD+PQOxRuB6FFpBAFK5H4XpQkEB7FK5H4U+QQD0K16NwBJFAXI/C9SiYj0DD9Shcj+uQQFyPwvUozpBA4XoUrkepkEA="
         },
         "type": "scatter"
        },
        {
         "legendgroup": "2-usecases",
         "legendgrouptitle": {
          "text": "Usecases"
         },
         "marker": {
          "color": "#8C564B"
         },
         "mode": "markers",
         "name": "uc6: Filtering Query Bedrooms and Size",
         "showlegend": true,
         "x": [
          0.4041666666666667,
          0.4041666666666667,
          0.4041666666666667,
          0.4041666666666667,
          0.4041666666666667,
          0.4041666666666667,
          0.4041666666666667,
          0.4041666666666667,
          0.4041666666666667,
          0.4041666666666667,
          0.4041666666666667,
          0.4041666666666667,
          0.4041666666666667,
          0.4041666666666667,
          0.4041666666666667,
          0.4041666666666667,
          0.4041666666666667,
          0.4041666666666667,
          0.4041666666666667,
          0.4041666666666667,
          0.4041666666666667,
          0.4041666666666667,
          0.4041666666666667,
          0.4041666666666667,
          0.4041666666666667,
          0.4041666666666667,
          0.4041666666666667,
          0.4041666666666667,
          0.4041666666666667,
          0.4041666666666667,
          0.4041666666666667,
          0.4041666666666667,
          0.4041666666666667,
          0.4041666666666667,
          0.4041666666666667,
          0.4041666666666667,
          0.4041666666666667,
          0.4041666666666667,
          0.4041666666666667,
          0.4041666666666667,
          0.4041666666666667,
          0.4041666666666667,
          0.4041666666666667,
          0.4041666666666667,
          0.4041666666666667,
          0.4041666666666667,
          0.4041666666666667,
          0.4041666666666667,
          0.4041666666666667,
          0.4041666666666667,
          0.4041666666666667,
          0.4041666666666667,
          0.4041666666666667,
          0.4041666666666667,
          0.4041666666666667,
          0.4041666666666667,
          0.4041666666666667,
          0.4041666666666667,
          0.4041666666666667,
          0.4041666666666667,
          0.4041666666666667,
          0.4041666666666667,
          0.4041666666666667,
          0.4041666666666667,
          0.4041666666666667,
          0.4041666666666667,
          0.4041666666666667,
          0.4041666666666667,
          0.4041666666666667,
          0.4041666666666667,
          0.4041666666666667,
          0.4041666666666667,
          0.4041666666666667
         ],
         "y": {
          "dtype": "f8",
          "bdata": "exSuR+FehkBmZmZmZueQQD0K16NwO49ArkfhehTuj0CamZmZmR2OQB+F61G45o5AH4XrUbi5kEDhehSuRz+RQAAAAAAALJFAPQrXo3AUkEBI4XoUrheQQBSuR+F6TZBAexSuR+EJkECuR+F6FDKPQLgehetRGpBAj8L1KFwskEBcj8L1KBCQQArXo3A9fo9ACtejcD0OkEAfhetRuCqPQD0K16NwYY1AexSuR+G6jkBxPQrXo6uQQOF6FK5HLJFASOF6FK5HkkDsUbgeheKQQDMzMzMzMY5A7FG4HoVjj0AUrkfhermQQKRwPQrXc49AFK5H4Xr0kkA9CtejcFKQQAAAAAAAjZBAXI/C9SgJkUApXI/C9XeRQB+F61G44JBAw/UoXI+ojkCuR+F6FKyOQJqZmZmZNZBA7FG4HoUJkEDhehSuR1qQQIXrUbgeJJJAzczMzMzCkEAzMzMzM12RQK5H4XoUopBAexSuR+Gej0CamZmZmSaQQFyPwvUoIZFASOF6FK4bkEBmZmZmZh2RQFyPwvUoCZBAhetRuB53jkCuR+F6FLCNQHsUrkfh/I9ACtejcD2qj0CuR+F6FB6PQEjhehSucJBAFK5H4Xq4kEAzMzMzM/iQQI/C9ShcYY9A16NwPQpvjUDD9Shcj5yNQGZmZmZm+o1AH4XrUbhajkDXo3A9CuuOQJqZmZmZVY9Aw/UoXI9+j0CF61G4Hr+OQGZmZmZm+I9ApHA9CtcjkEDXo3A9CtOPQD0K16NwNJBAXI/C9SjKj0A="
         },
         "type": "scatter"
        },
        {
         "boxpoints": false,
         "legendgroup": "1-databases",
         "legendgrouptitle": {
          "text": "Databases"
         },
         "marker": {
          "color": "rgb(93, 105, 177)"
         },
         "name": "mongodb",
         "showlegend": true,
         "width": 0.3,
         "x0": 0.7000000000000001,
         "y": {
          "dtype": "f8",
          "bdata": "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"
         },
         "type": "box"
        },
        {
         "legendgroup": "2-usecases",
         "legendgrouptitle": {
          "text": "Usecases"
         },
         "marker": {
          "color": "#1F77B4"
         },
         "mode": "markers",
         "name": "uc1: Filtering Query Properties",
         "showlegend": false,
         "x": [
          0.9458333333333333,
          0.9458333333333333,
          0.9458333333333333,
          0.9458333333333333,
          0.9458333333333333,
          0.9458333333333333,
          0.9458333333333333,
          0.9458333333333333,
          0.9458333333333333,
          0.9458333333333333,
          0.9458333333333333,
          0.9458333333333333,
          0.9458333333333333,
          0.9458333333333333,
          0.9458333333333333,
          0.9458333333333333,
          0.9458333333333333,
          0.9458333333333333,
          0.9458333333333333,
          0.9458333333333333,
          0.9458333333333333,
          0.9458333333333333,
          0.9458333333333333,
          0.9458333333333333,
          0.9458333333333333,
          0.9458333333333333,
          0.9458333333333333,
          0.9458333333333333,
          0.9458333333333333,
          0.9458333333333333,
          0.9458333333333333,
          0.9458333333333333,
          0.9458333333333333,
          0.9458333333333333,
          0.9458333333333333,
          0.9458333333333333,
          0.9458333333333333,
          0.9458333333333333,
          0.9458333333333333,
          0.9458333333333333,
          0.9458333333333333,
          0.9458333333333333,
          0.9458333333333333,
          0.9458333333333333,
          0.9458333333333333,
          0.9458333333333333,
          0.9458333333333333,
          0.9458333333333333,
          0.9458333333333333,
          0.9458333333333333,
          0.9458333333333333,
          0.9458333333333333,
          0.9458333333333333,
          0.9458333333333333,
          0.9458333333333333,
          0.9458333333333333,
          0.9458333333333333,
          0.9458333333333333,
          0.9458333333333333,
          0.9458333333333333,
          0.9458333333333333,
          0.9458333333333333,
          0.9458333333333333,
          0.9458333333333333,
          0.9458333333333333,
          0.9458333333333333,
          0.9458333333333333,
          0.9458333333333333,
          0.9458333333333333,
          0.9458333333333333,
          0.9458333333333333,
          0.9458333333333333,
          0.9458333333333333
         ],
         "y": {
          "dtype": "f8",
          "bdata": "16NwPQqdmEDXo3A9CoyWQKRwPQrXcJdAKVyPwvVwlkDNzMzMzGqWQDMzMzMzj5ZA4XoUrkeslkDD9Shcj+WWQHE9CtejK5ZAUrgeheu1lUCuR+F6FMWWQEjhehSu4JdAexSuR+FRl0AzMzMzMxeXQDMzMzMznZZAuB6F61HNlUAK16NwPZyXQJqZmZmZX5ZAuB6F61FJl0CkcD0K19WWQClcj8L1H5dAhetRuB7slkDXo3A9CgyXQJqZmZmZU5dAzczMzMwelkAK16NwPbGWQBSuR+F6qZdApHA9CteclkAzMzMzM4+WQIXrUbgefJdAcT0K16OklkC4HoXrUeKWQD0K16NwEZhAH4XrUbi+lkBSuB6F62uWQArXo3A9oJZAUrgeheuGlUApXI/C9QiXQKRwPQrXBpdA7FG4HoX5lkAzMzMzM/qWQClcj8L1Z5ZArkfhehRql0AzMzMzMzOXQHE9Ctej9JZAexSuR+FIl0AUrkfheiyXQFyPwvUozpZAXI/C9Shol0AAAAAAANSWQHE9Ctej25ZA9ihcj8J+lkCF61G4Hg6WQDMzMzMzIZdAH4XrUbhml0AK16NwPfKWQHsUrkfhNpdAH4XrUbh/lkA9CtejcN+WQPYoXI/CMpdAhetRuB5+lkCF61G4HpuXQLgehetR5pZAj8L1KFw+l0DD9Shcj1qXQK5H4XoUt5dAPQrXo3Ctl0CuR+F6FPKWQB+F61G425ZAhetRuB5al0DNzMzMzIWWQI/C9ShcS5dA4XoUrkcEl0A="
         },
         "type": "scatter"
        },
        {
         "legendgroup": "2-usecases",
         "legendgrouptitle": {
          "text": "Usecases"
         },
         "marker": {
          "color": "#FF7F0E"
         },
         "mode": "markers",
         "name": "uc2: Bulk Update",
         "showlegend": false,
         "x": [
          1.0375,
          1.0375,
          1.0375,
          1.0375,
          1.0375,
          1.0375,
          1.0375,
          1.0375,
          1.0375,
          1.0375,
          1.0375,
          1.0375,
          1.0375,
          1.0375,
          1.0375,
          1.0375,
          1.0375,
          1.0375,
          1.0375,
          1.0375,
          1.0375,
          1.0375,
          1.0375,
          1.0375,
          1.0375,
          1.0375,
          1.0375,
          1.0375,
          1.0375,
          1.0375,
          1.0375,
          1.0375,
          1.0375,
          1.0375,
          1.0375,
          1.0375,
          1.0375,
          1.0375,
          1.0375,
          1.0375,
          1.0375,
          1.0375,
          1.0375,
          1.0375,
          1.0375,
          1.0375,
          1.0375,
          1.0375,
          1.0375,
          1.0375,
          1.0375,
          1.0375,
          1.0375,
          1.0375,
          1.0375,
          1.0375,
          1.0375,
          1.0375,
          1.0375,
          1.0375,
          1.0375,
          1.0375,
          1.0375,
          1.0375,
          1.0375,
          1.0375,
          1.0375,
          1.0375,
          1.0375,
          1.0375,
          1.0375,
          1.0375,
          1.0375
         ],
         "y": {
          "dtype": "f8",
          "bdata": "4XoUrkcykkDNzMzMzPCQQAAAAAAAx5FAcT0K16NIkUDhehSuR0ORQEjhehSuh5FAexSuR+FikUAK16NwPXWRQMP1KFyPfpFAUrgehevxkEBmZmZmZleRQB+F61G4ipFAH4XrUbiukUDD9Shcj6GRQI/C9ShccZFA4XoUrkdhkUDD9Shcj8mRQHE9CtejCJFAzczMzMwFkkCF61G4HhiRQFyPwvUoVJFAH4XrUbiKkUDsUbgehfSQQOF6FK5HdZFAUrgehes8kUCPwvUoXAKRQB+F61G4uZFAFK5H4Xp6kUBcj8L1KAORQEjhehSuXZFAUrgeheuQkUB7FK5H4dyQQEjhehSuKZJAuB6F61FpkUCkcD0K10aRQBSuR+F6XpFACtejcD0YkUDNzMzMzDiRQM3MzMzMfJFAuB6F61HkkEBxPQrXo7aRQK5H4XoU+JBAXI/C9SiFkUAzMzMzM3aRQDMzMzMzcZFA16NwPQqQkUApXI/C9SeRQKRwPQrXpJFA4XoUrkcdkUCF61G4Hj+RQDMzMzMzK5FAexSuR+FskUCamZmZmR+RQJqZmZmZ65FAPQrXo3DKkUCF61G4HoGRQIXrUbge0ZBAH4XrUbgukUBxPQrXo4aRQKRwPQrXtpFAMzMzMzMTkUBmZmZmZjeRQHsUrkfhZpFACtejcD0/kUAK16NwPdqRQArXo3A92JFA16NwPQoVkkAfhetRuD2RQHsUrkfhJpFA4XoUrkfFkUCuR+F6FIyRQMP1KFyP55FAj8L1KFzKkUA="
         },
         "type": "scatter"
        },
        {
         "legendgroup": "2-usecases",
         "legendgrouptitle": {
          "text": "Usecases"
         },
         "marker": {
          "color": "#2CA02C"
         },
         "mode": "markers",
         "name": "uc3: Schema Evolution",
         "showlegend": false,
         "x": [
          1.1291666666666669,
          1.1291666666666669,
          1.1291666666666669,
          1.1291666666666669,
          1.1291666666666669,
          1.1291666666666669,
          1.1291666666666669,
          1.1291666666666669,
          1.1291666666666669,
          1.1291666666666669,
          1.1291666666666669,
          1.1291666666666669,
          1.1291666666666669,
          1.1291666666666669,
          1.1291666666666669,
          1.1291666666666669,
          1.1291666666666669,
          1.1291666666666669,
          1.1291666666666669,
          1.1291666666666669,
          1.1291666666666669,
          1.1291666666666669,
          1.1291666666666669,
          1.1291666666666669,
          1.1291666666666669,
          1.1291666666666669,
          1.1291666666666669,
          1.1291666666666669,
          1.1291666666666669,
          1.1291666666666669,
          1.1291666666666669,
          1.1291666666666669,
          1.1291666666666669,
          1.1291666666666669,
          1.1291666666666669,
          1.1291666666666669,
          1.1291666666666669,
          1.1291666666666669,
          1.1291666666666669,
          1.1291666666666669,
          1.1291666666666669,
          1.1291666666666669,
          1.1291666666666669,
          1.1291666666666669,
          1.1291666666666669,
          1.1291666666666669,
          1.1291666666666669,
          1.1291666666666669,
          1.1291666666666669,
          1.1291666666666669,
          1.1291666666666669,
          1.1291666666666669,
          1.1291666666666669,
          1.1291666666666669,
          1.1291666666666669,
          1.1291666666666669,
          1.1291666666666669,
          1.1291666666666669,
          1.1291666666666669,
          1.1291666666666669,
          1.1291666666666669,
          1.1291666666666669,
          1.1291666666666669,
          1.1291666666666669,
          1.1291666666666669,
          1.1291666666666669,
          1.1291666666666669,
          1.1291666666666669,
          1.1291666666666669,
          1.1291666666666669,
          1.1291666666666669,
          1.1291666666666669,
          1.1291666666666669
         ],
         "y": {
          "dtype": "f8",
          "bdata": "AAAAAACFmECPwvUoXA2XQGZmZmZmBJhASOF6FK5El0BxPQrXo2qXQFK4HoXrwJdAmpmZmZmjl0A9CtejcNOXQI/C9ShcxZdAH4XrUbgjl0DhehSuR0eXQPYoXI/C6pdA16NwPQqNl0AfhetRuFaXQFK4HoXrv5dA16NwPQqKl0DD9Shcj/uXQK5H4XoUbpdACtejcD1FmEAzMzMzM5GXQBSuR+F6kZdAAAAAAADtl0CamZmZmQ6XQGZmZmZm+pdA4XoUrkcsl0Bcj8L1KO+WQEjhehSu0pdAzczMzMz+l0BSuB6F6x6XQJqZmZmZ2ZdAhetRuB6Ul0AAAAAAAESXQM3MzMzMpphAMzMzMzOCl0BI4XoUrr6XQFK4HoXrcpdAH4XrUbi3lkBxPQrXo1iXQOF6FK5Hk5dAH4XrUbj7lkAzMzMzMxyYQGZmZmZmQpdA16NwPQo6l0CPwvUoXFCXQOF6FK5HkpdACtejcD3Kl0DhehSuR4GXQFyPwvUo+5dA7FG4HoWUl0AAAAAAAJWXQI/C9ShcdJdAKVyPwvXml0CuR+F6FD2XQM3MzMzMN5hAPQrXo3C/l0CkcD0K17SXQJqZmZmZPpdAH4XrUbhXl0CPwvUoXE+XQBSuR+F6+5dAMzMzMzMgl0CF61G4HmmXQOF6FK5HspdAhetRuB51l0DNzMzMzGSYQOF6FK5HJZhAj8L1KFylmEBmZmZmZoGXQArXo3A9jJdApHA9Ctd/l0A9CtejcPeXQArXo3A9O5hAKVyPwvXjl0A="
         },
         "type": "scatter"
        },
        {
         "legendgroup": "2-usecases",
         "legendgrouptitle": {
          "text": "Usecases"
         },
         "marker": {
          "color": "#D62728"
         },
         "mode": "markers",
         "name": "uc4: Analytical Query",
         "showlegend": false,
         "x": [
          1.2208333333333334,
          1.2208333333333334,
          1.2208333333333334,
          1.2208333333333334,
          1.2208333333333334,
          1.2208333333333334,
          1.2208333333333334,
          1.2208333333333334,
          1.2208333333333334,
          1.2208333333333334,
          1.2208333333333334,
          1.2208333333333334,
          1.2208333333333334,
          1.2208333333333334,
          1.2208333333333334,
          1.2208333333333334,
          1.2208333333333334,
          1.2208333333333334,
          1.2208333333333334,
          1.2208333333333334,
          1.2208333333333334,
          1.2208333333333334,
          1.2208333333333334,
          1.2208333333333334,
          1.2208333333333334,
          1.2208333333333334,
          1.2208333333333334,
          1.2208333333333334,
          1.2208333333333334,
          1.2208333333333334,
          1.2208333333333334,
          1.2208333333333334,
          1.2208333333333334,
          1.2208333333333334,
          1.2208333333333334,
          1.2208333333333334,
          1.2208333333333334,
          1.2208333333333334,
          1.2208333333333334,
          1.2208333333333334,
          1.2208333333333334,
          1.2208333333333334,
          1.2208333333333334,
          1.2208333333333334,
          1.2208333333333334,
          1.2208333333333334,
          1.2208333333333334,
          1.2208333333333334,
          1.2208333333333334,
          1.2208333333333334,
          1.2208333333333334,
          1.2208333333333334,
          1.2208333333333334,
          1.2208333333333334,
          1.2208333333333334,
          1.2208333333333334,
          1.2208333333333334,
          1.2208333333333334,
          1.2208333333333334,
          1.2208333333333334,
          1.2208333333333334,
          1.2208333333333334,
          1.2208333333333334,
          1.2208333333333334,
          1.2208333333333334,
          1.2208333333333334,
          1.2208333333333334,
          1.2208333333333334,
          1.2208333333333334,
          1.2208333333333334,
          1.2208333333333334,
          1.2208333333333334,
          1.2208333333333334
         ],
         "y": {
          "dtype": "f8",
          "bdata": "UrgehevSnkCPwvUoXI6dQNejcD0KWJ5Aw/UoXI+knUBSuB6F67adQKRwPQrXDJ5AZmZmZmbbnUAUrkfhegKeQB+F61G4EJ5A4XoUrkefnUCuR+F6FNqdQB+F61G4D55ApHA9CtdnnkC4HoXrUQ2eQGZmZmZmAJ5A7FG4HoUenkB7FK5H4WyeQD0K16NwjZ1AuB6F61GxnkCF61G4HpudQHE9Ctej3J1AXI/C9ShHnkDNzMzMzIedQFK4HoXrH55AAAAAAADDnUCF61G4HoudQIXrUbgeTp5ApHA9CtchnkDsUbgehYWdQAAAAAAA451A4XoUrkc5nkD2KFyPwmidQAAAAAAAxp5AhetRuB76nUBcj8L1KNadQIXrUbge9p1AmpmZmZmTnUBSuB6F6/CdQK5H4XoU/J1APQrXo3BnnUBcj8L1KGSeQBSuR+F6yp1A7FG4HoX4nUBxPQrXow+eQMP1KFyPJp5A7FG4HoUJnkBI4XoUrq+dQHE9CtejFp5AAAAAAACnnUCkcD0K1/edQGZmZmZmuZ1ArkfhehQcnkDD9Shcj4GdQBSuR+F6jp5Aw/UoXI9enkBSuB6F6/idQFK4HoXrY51AXI/C9Si2nUCkcD0K1xmeQOF6FK5HUJ5Aj8L1KFyXnUA9CtejcLadQKRwPQrX451Aw/UoXI/TnUAAAAAAAJOeQAAAAAAAXZ5AKVyPwvWGnkDsUbgehcWdQHE9Ctejrp1AKVyPwvVCnkCF61G4Hv+dQOF6FK5HjZ5AUrgehetOnkA="
         },
         "type": "scatter"
        },
        {
         "legendgroup": "2-usecases",
         "legendgrouptitle": {
          "text": "Usecases"
         },
         "marker": {
          "color": "#9467BD"
         },
         "mode": "markers",
         "name": "uc5: Aggregation",
         "showlegend": false,
         "x": [
          1.3125,
          1.3125,
          1.3125,
          1.3125,
          1.3125,
          1.3125,
          1.3125,
          1.3125,
          1.3125,
          1.3125,
          1.3125,
          1.3125,
          1.3125,
          1.3125,
          1.3125,
          1.3125,
          1.3125,
          1.3125,
          1.3125,
          1.3125,
          1.3125,
          1.3125,
          1.3125,
          1.3125,
          1.3125,
          1.3125,
          1.3125,
          1.3125,
          1.3125,
          1.3125,
          1.3125,
          1.3125,
          1.3125,
          1.3125,
          1.3125,
          1.3125,
          1.3125,
          1.3125,
          1.3125,
          1.3125,
          1.3125,
          1.3125,
          1.3125,
          1.3125,
          1.3125,
          1.3125,
          1.3125,
          1.3125,
          1.3125,
          1.3125,
          1.3125,
          1.3125,
          1.3125,
          1.3125,
          1.3125,
          1.3125,
          1.3125,
          1.3125,
          1.3125,
          1.3125,
          1.3125,
          1.3125,
          1.3125,
          1.3125,
          1.3125,
          1.3125,
          1.3125,
          1.3125,
          1.3125,
          1.3125,
          1.3125,
          1.3125,
          1.3125
         ],
         "y": {
          "dtype": "f8",
          "bdata": "hetRuB72nkAUrkfheradQMP1KFyPcp5AH4XrUbjInUAAAAAAAOOdQB+F61G4L55AFK5H4Xr8nUA9CtejcCaeQHE9CtejN55AzczMzMzCnUAK16NwPfidQHsUrkfhMZ5ApHA9CteEnkAzMzMzMzmeQD0K16NwKp5AcT0K16NAnkDNzMzMzIyeQGZmZmZmup1AcT0K16PYnkCPwvUoXLedQFyPwvUoAJ5AAAAAAABonkCPwvUoXK+dQDMzMzMzRJ5A16NwPQrjnUBxPQrXo7adQClcj8L1a55Aj8L1KFxDnkDsUbgehamdQGZmZmZmBJ5A4XoUrkdcnkBcj8L1KI2dQJqZmZmZ455ASOF6FK4dnkAfhetRuPedQK5H4XoUF55AMzMzMzO3nUAK16NwPRWeQArXo3A9G55ArkfhehSRnUAUrkfheoSeQK5H4XoU4p1AAAAAAAAenkA9CtejcDSeQLgehetRUJ5AZmZmZmY0nkBI4XoUrtmdQM3MzMzMPp5AcT0K16PLnUAzMzMzMyOeQBSuR+F63p1AZmZmZmZJnkA9CtejcKydQOxRuB6FqZ5AMzMzMzN5nkC4HoXrURqeQK5H4XoUe51ApHA9CtfZnUC4HoXrUTaeQClcj8L1c55A16NwPQq5nUCF61G4HtOdQI/C9ShcCZ5AZmZmZmb9nUBxPQrXo7yeQNejcD0Kfp5AXI/C9SiinkBmZmZmZu+dQPYoXI/C251AexSuR+FnnkAUrkfhehyeQArXo3A9s55AcT0K16NznkA="
         },
         "type": "scatter"
        },
        {
         "legendgroup": "2-usecases",
         "legendgrouptitle": {
          "text": "Usecases"
         },
         "marker": {
          "color": "#8C564B"
         },
         "mode": "markers",
         "name": "uc6: Filtering Query Bedrooms and Size",
         "showlegend": false,
         "x": [
          1.4041666666666668,
          1.4041666666666668,
          1.4041666666666668,
          1.4041666666666668,
          1.4041666666666668,
          1.4041666666666668,
          1.4041666666666668,
          1.4041666666666668,
          1.4041666666666668,
          1.4041666666666668,
          1.4041666666666668,
          1.4041666666666668,
          1.4041666666666668,
          1.4041666666666668,
          1.4041666666666668,
          1.4041666666666668,
          1.4041666666666668,
          1.4041666666666668,
          1.4041666666666668,
          1.4041666666666668,
          1.4041666666666668,
          1.4041666666666668,
          1.4041666666666668,
          1.4041666666666668,
          1.4041666666666668,
          1.4041666666666668,
          1.4041666666666668,
          1.4041666666666668,
          1.4041666666666668,
          1.4041666666666668,
          1.4041666666666668,
          1.4041666666666668,
          1.4041666666666668,
          1.4041666666666668,
          1.4041666666666668,
          1.4041666666666668,
          1.4041666666666668,
          1.4041666666666668,
          1.4041666666666668,
          1.4041666666666668,
          1.4041666666666668,
          1.4041666666666668,
          1.4041666666666668,
          1.4041666666666668,
          1.4041666666666668,
          1.4041666666666668,
          1.4041666666666668,
          1.4041666666666668,
          1.4041666666666668,
          1.4041666666666668,
          1.4041666666666668,
          1.4041666666666668,
          1.4041666666666668,
          1.4041666666666668,
          1.4041666666666668,
          1.4041666666666668,
          1.4041666666666668,
          1.4041666666666668,
          1.4041666666666668,
          1.4041666666666668,
          1.4041666666666668,
          1.4041666666666668,
          1.4041666666666668,
          1.4041666666666668,
          1.4041666666666668,
          1.4041666666666668,
          1.4041666666666668,
          1.4041666666666668,
          1.4041666666666668,
          1.4041666666666668,
          1.4041666666666668,
          1.4041666666666668,
          1.4041666666666668
         ],
         "y": {
          "dtype": "f8",
          "bdata": "ZmZmZmYHn0AzMzMzM4edQOF6FK5HxJ1AZmZmZmYLnkBxPQrXozSdQD0K16Nwu51AXI/C9Sg+nkA9CtejcJqdQDMzMzMzCp5AzczMzMx5mUDNzMzMzGieQFK4HoXrRJ5A4XoUrkdRnkAK16NwPSieQFyPwvUoYZ5AzczMzMw0nkDNzMzMzL6dQDMzMzMzw51ArkfhehRjnkAUrkfhes2cQBSuR+F6751AAAAAAADVnkCamZmZmbmdQOF6FK5HDp5APQrXo3BpnUCuR+F6FEadQNejcD0K35xASOF6FK6InkA9CtejcCWdQKRwPQrXbJ5AAAAAAADenUDXo3A9Cq6dQHsUrkfhkZ5AH4XrUbjsnUCF61G4Hi6eQFK4HoXrMp1ApHA9CtfanUDNzMzMzMqdQGZmZmZmoJ5AzczMzMzInUBcj8L1KGaeQB+F61G4E55AUrgehetrnUAAAAAAABeeQK5H4XoUZp5AZmZmZmb8nUAUrkfhejueQKRwPQrXWJ5AZmZmZmY9nkAUrkfheu6dQOF6FK5Hup1Aw/UoXI8EnkB7FK5H4ZSbQOxRuB6FHJ5AXI/C9SjrnkBSuB6F67udQFK4HoXrgJ1AKVyPwvWxnUA9CtejcKudQMP1KFyPfp5Aj8L1KFz0nUDsUbgehUOeQM3MzMzM2Z1AmpmZmZnrnUBcj8L1KB+eQHE9CtejEZ5AH4XrUbh2nkBxPQrXo+ydQAAAAAAAEJ5A9ihcj8JInUCF61G4HtWdQFyPwvUojp5ArkfhehTFnkA="
         },
         "type": "scatter"
        },
        {
         "boxpoints": false,
         "legendgroup": "1-databases",
         "legendgrouptitle": {
          "text": "Databases"
         },
         "marker": {
          "color": "rgb(82, 188, 163)"
         },
         "name": "postgres",
         "showlegend": true,
         "width": 0.3,
         "x0": 1.7,
         "y": {
          "dtype": "f8",
          "bdata": "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"
         },
         "type": "box"
        },
        {
         "legendgroup": "2-usecases",
         "legendgrouptitle": {
          "text": "Usecases"
         },
         "marker": {
          "color": "#1F77B4"
         },
         "mode": "markers",
         "name": "uc1: Filtering Query Properties",
         "showlegend": false,
         "x": [
          1.9458333333333333,
          1.9458333333333333,
          1.9458333333333333,
          1.9458333333333333,
          1.9458333333333333,
          1.9458333333333333,
          1.9458333333333333,
          1.9458333333333333,
          1.9458333333333333,
          1.9458333333333333,
          1.9458333333333333,
          1.9458333333333333,
          1.9458333333333333,
          1.9458333333333333,
          1.9458333333333333,
          1.9458333333333333,
          1.9458333333333333,
          1.9458333333333333,
          1.9458333333333333,
          1.9458333333333333,
          1.9458333333333333,
          1.9458333333333333,
          1.9458333333333333,
          1.9458333333333333,
          1.9458333333333333,
          1.9458333333333333,
          1.9458333333333333,
          1.9458333333333333,
          1.9458333333333333,
          1.9458333333333333,
          1.9458333333333333,
          1.9458333333333333,
          1.9458333333333333,
          1.9458333333333333,
          1.9458333333333333,
          1.9458333333333333,
          1.9458333333333333,
          1.9458333333333333,
          1.9458333333333333,
          1.9458333333333333,
          1.9458333333333333,
          1.9458333333333333,
          1.9458333333333333,
          1.9458333333333333,
          1.9458333333333333,
          1.9458333333333333,
          1.9458333333333333,
          1.9458333333333333,
          1.9458333333333333,
          1.9458333333333333,
          1.9458333333333333,
          1.9458333333333333,
          1.9458333333333333,
          1.9458333333333333,
          1.9458333333333333,
          1.9458333333333333,
          1.9458333333333333,
          1.9458333333333333,
          1.9458333333333333,
          1.9458333333333333,
          1.9458333333333333,
          1.9458333333333333,
          1.9458333333333333,
          1.9458333333333333,
          1.9458333333333333,
          1.9458333333333333,
          1.9458333333333333,
          1.9458333333333333,
          1.9458333333333333,
          1.9458333333333333,
          1.9458333333333333,
          1.9458333333333333,
          1.9458333333333333
         ],
         "y": {
          "dtype": "f8",
          "bdata": "cT0K16N8gkDXo3A9ChN0QOxRuB6FW3tAKVyPwvXod0BmZmZmZr59QKRwPQrXo3tASOF6FK7Hd0Bcj8L1KAB6QAAAAAAADHpAcT0K16PgekAAAAAAAAx7QIXrUbgeRXpAPQrXo3A9fUDsUbgehWt5QB+F61G4fnlAzczMzMzceED2KFyPwml7QArXo3A9dnxAFK5H4XogeUC4HoXrUQh7QIXrUbge5XtAPQrXo3ARekCkcD0K1zt5QLgehetRQHpAXI/C9SgsekAzMzMzM2t4QHE9CtejQHxAXI/C9ShMeEDD9Shcjy55QHE9CtejHH9AMzMzMzM7ekD2KFyPwll6QNejcD0KF3pA4XoUrketfUBxPQrXo0B6QFK4HoXrVXtAmpmZmZnJekCkcD0K12N6QNejcD0KO3lAFK5H4Xpce0BSuB6F63F7QLgehetRvHhA16NwPQp/e0AAAAAAANB4QB+F61G4DndApHA9CtereEBSuB6F6015QDMzMzMz93pAKVyPwvXMe0Bcj8L1KKB4QM3MzMzMWH1APQrXo3D9fEBSuB6F6zl8QEjhehSuR31AcT0K16MsfUAUrkfhesx4QEjhehSuZ3pAhetRuB65fUB7FK5H4b58QBSuR+F6nHlAuB6F61HcfEA9CtejcKl+QKRwPQrXL3xAexSuR+GSekDsUbgehbd8QArXo3A9DnxAexSuR+FSfkA9CtejcA16QI/C9ShcD3pAj8L1KFyDfUCamZmZmc15QMP1KFyPLntA9ihcj8LxfEA="
         },
         "type": "scatter"
        },
        {
         "legendgroup": "2-usecases",
         "legendgrouptitle": {
          "text": "Usecases"
         },
         "marker": {
          "color": "#FF7F0E"
         },
         "mode": "markers",
         "name": "uc2: Bulk Update",
         "showlegend": false,
         "x": [
          2.0375,
          2.0375,
          2.0375,
          2.0375,
          2.0375,
          2.0375,
          2.0375,
          2.0375,
          2.0375,
          2.0375,
          2.0375,
          2.0375,
          2.0375,
          2.0375,
          2.0375,
          2.0375,
          2.0375,
          2.0375,
          2.0375,
          2.0375,
          2.0375,
          2.0375,
          2.0375,
          2.0375,
          2.0375,
          2.0375,
          2.0375,
          2.0375,
          2.0375,
          2.0375,
          2.0375,
          2.0375,
          2.0375,
          2.0375,
          2.0375,
          2.0375,
          2.0375,
          2.0375,
          2.0375,
          2.0375,
          2.0375,
          2.0375,
          2.0375,
          2.0375,
          2.0375,
          2.0375,
          2.0375,
          2.0375,
          2.0375,
          2.0375,
          2.0375,
          2.0375,
          2.0375,
          2.0375,
          2.0375,
          2.0375,
          2.0375,
          2.0375,
          2.0375,
          2.0375,
          2.0375,
          2.0375,
          2.0375,
          2.0375,
          2.0375,
          2.0375,
          2.0375,
          2.0375,
          2.0375,
          2.0375,
          2.0375,
          2.0375,
          2.0375
         ],
         "y": {
          "dtype": "f8",
          "bdata": "7FG4HoWXf0CkcD0K1+ttQHE9CtejQHdAuB6F61Fsc0C4HoXrUcx4QFK4HoXr1XZAAAAAAADcdEDXo3A9Cpt0QEjhehSuc3VArkfhehSidkBI4XoUrh91QJqZmZmZfXRACtejcD3+dkBcj8L1KKR1QPYoXI/CkXVAhetRuB7hc0AUrkfherB2QK5H4XoUJnZAcT0K16OQdEAUrkfhelR0QIXrUbgelXhA16NwPQpDdEBcj8L1KIRzQI/C9Shcg3ZAUrgehet9dECF61G4Ho10QHE9CtejUHhASOF6FK6TdUAK16NwPY52QGZmZmZmlnlAPQrXo3BpdUBcj8L1KBh2QAAAAAAA9HVAj8L1KFyHd0AK16NwPe5yQFK4HoXrIXVASOF6FK53dkAUrkfherh3QMP1KFyPsnVAexSuR+FCdkD2KFyPwrFzQM3MzMzMLHRACtejcD2SdUAK16NwPZp0QLgehetRLHRAzczMzMxEc0BmZmZmZoJ0QGZmZmZmQndAFK5H4XrodUDsUbgehXdyQI/C9ShcH3lAH4XrUbj2dUCkcD0K1093QK5H4XoUPnRACtejcD3qdkAAAAAAAPBzQFK4HoXrHXdAzczMzMxwdkA9CtejcPV3QB+F61G4qnVAUrgehesJdUB7FK5H4SZ3QIXrUbgecXVA4XoUrkfZdUDXo3A9ClN1QArXo3A9inVAFK5H4XpAdkCkcD0K19d0QFyPwvUoQHVAPQrXo3Ald0B7FK5H4S51QEjhehSuz3RAMzMzMzNTdUA="
         },
         "type": "scatter"
        },
        {
         "legendgroup": "2-usecases",
         "legendgrouptitle": {
          "text": "Usecases"
         },
         "marker": {
          "color": "#2CA02C"
         },
         "mode": "markers",
         "name": "uc3: Schema Evolution",
         "showlegend": false,
         "x": [
          2.1291666666666664,
          2.1291666666666664,
          2.1291666666666664,
          2.1291666666666664,
          2.1291666666666664,
          2.1291666666666664,
          2.1291666666666664,
          2.1291666666666664,
          2.1291666666666664,
          2.1291666666666664,
          2.1291666666666664,
          2.1291666666666664,
          2.1291666666666664,
          2.1291666666666664,
          2.1291666666666664,
          2.1291666666666664,
          2.1291666666666664,
          2.1291666666666664,
          2.1291666666666664,
          2.1291666666666664,
          2.1291666666666664,
          2.1291666666666664,
          2.1291666666666664,
          2.1291666666666664,
          2.1291666666666664,
          2.1291666666666664,
          2.1291666666666664,
          2.1291666666666664,
          2.1291666666666664,
          2.1291666666666664,
          2.1291666666666664,
          2.1291666666666664,
          2.1291666666666664,
          2.1291666666666664,
          2.1291666666666664,
          2.1291666666666664,
          2.1291666666666664,
          2.1291666666666664,
          2.1291666666666664,
          2.1291666666666664,
          2.1291666666666664,
          2.1291666666666664,
          2.1291666666666664,
          2.1291666666666664,
          2.1291666666666664,
          2.1291666666666664,
          2.1291666666666664,
          2.1291666666666664,
          2.1291666666666664,
          2.1291666666666664,
          2.1291666666666664,
          2.1291666666666664,
          2.1291666666666664,
          2.1291666666666664,
          2.1291666666666664,
          2.1291666666666664,
          2.1291666666666664,
          2.1291666666666664,
          2.1291666666666664,
          2.1291666666666664,
          2.1291666666666664,
          2.1291666666666664,
          2.1291666666666664,
          2.1291666666666664,
          2.1291666666666664,
          2.1291666666666664,
          2.1291666666666664,
          2.1291666666666664,
          2.1291666666666664,
          2.1291666666666664,
          2.1291666666666664,
          2.1291666666666664,
          2.1291666666666664
         ],
         "y": {
          "dtype": "f8",
          "bdata": "SOF6FK6LjkApXI/C9YSHQHE9Ctej8IxAKVyPwvVciUBmZmZmZniMQPYoXI/C7YpAmpmZmZnDikCuR+F6FHKLQI/C9Shc2YlAUrgeheuJiUAUrkfheiCKQJqZmZmZTYpAH4XrUbiyi0CPwvUoXI2JQB+F61G4copAj8L1KFxhiUCPwvUoXNWLQJqZmZmZ5YpACtejcD3oiUApXI/C9QSLQAAAAAAAbo1ApHA9CtfNiUAAAAAAABCLQLgehetRWItAAAAAAAAIikDhehSuRwOJQD0K16NwY4xAw/UoXI+YikAzMzMzMw2MQKRwPQrX8YxAcT0K16M+jkAK16NwPfyLQOxRuB6F84tAuB6F61EOjEBmZmZmZuyJQClcj8L1OotAcT0K16MMjECF61G4HoOKQMP1KFyPbIpAXI/C9SjeikB7FK5H4eSKQDMzMzMzHYxA4XoUrkc9jEAfhetRuA6LQIXrUbgeWYtAKVyPwvUSikDXo3A9CnmKQEjhehSuJYtAcT0K16Pgi0AK16NwPeSIQPYoXI/CEY1A7FG4HoUHi0CPwvUoXBeMQBSuR+F6GopAuB6F61EKjEB7FK5H4YiJQD0K16NwQYtAZmZmZmZoi0C4HoXrUcKMQD0K16NwEYtAXI/C9SjGikD2KFyPwveLQArXo3A9MIxAPQrXo3ATjEBSuB6F6++LQFK4HoXrk4tAPQrXo3DljEBI4XoUrsmKQOF6FK5HZ4xA9ihcj8KLi0CkcD0K14GMQFyPwvUo6opACtejcD1ujEA="
         },
         "type": "scatter"
        },
        {
         "legendgroup": "2-usecases",
         "legendgrouptitle": {
          "text": "Usecases"
         },
         "marker": {
          "color": "#D62728"
         },
         "mode": "markers",
         "name": "uc4: Analytical Query",
         "showlegend": false,
         "x": [
          2.220833333333333,
          2.220833333333333,
          2.220833333333333,
          2.220833333333333,
          2.220833333333333,
          2.220833333333333,
          2.220833333333333,
          2.220833333333333,
          2.220833333333333,
          2.220833333333333,
          2.220833333333333,
          2.220833333333333,
          2.220833333333333,
          2.220833333333333,
          2.220833333333333,
          2.220833333333333,
          2.220833333333333,
          2.220833333333333,
          2.220833333333333,
          2.220833333333333,
          2.220833333333333,
          2.220833333333333,
          2.220833333333333,
          2.220833333333333,
          2.220833333333333,
          2.220833333333333,
          2.220833333333333,
          2.220833333333333,
          2.220833333333333,
          2.220833333333333,
          2.220833333333333,
          2.220833333333333,
          2.220833333333333,
          2.220833333333333,
          2.220833333333333,
          2.220833333333333,
          2.220833333333333,
          2.220833333333333,
          2.220833333333333,
          2.220833333333333,
          2.220833333333333,
          2.220833333333333,
          2.220833333333333,
          2.220833333333333,
          2.220833333333333,
          2.220833333333333,
          2.220833333333333,
          2.220833333333333,
          2.220833333333333,
          2.220833333333333,
          2.220833333333333,
          2.220833333333333,
          2.220833333333333,
          2.220833333333333,
          2.220833333333333,
          2.220833333333333,
          2.220833333333333,
          2.220833333333333,
          2.220833333333333,
          2.220833333333333,
          2.220833333333333,
          2.220833333333333,
          2.220833333333333,
          2.220833333333333,
          2.220833333333333,
          2.220833333333333,
          2.220833333333333,
          2.220833333333333,
          2.220833333333333,
          2.220833333333333,
          2.220833333333333,
          2.220833333333333,
          2.220833333333333
         ],
         "y": {
          "dtype": "f8",
          "bdata": "CtejcD1OkkAK16NwPWmQQBSuR+F6IpNAcT0K16P6kEDsUbgehQmSQAAAAAAAbpFA9ihcj8JikEBmZmZmZt2RQAAAAAAAE5FAhetRuB5bkEApXI/C9fqRQPYoXI/CIpJAAAAAAADukUDNzMzMzLiRQBSuR+F6UJJArkfhehQZkUB7FK5H4WiRQIXrUbgeJ5FAKVyPwvXPkUAzMzMzMyaRQOxRuB6FXpNAzczMzMxVkUDhehSuR8GRQPYoXI/CZpJAj8L1KFz7kUBSuB6F61GQQEjhehSupJJAAAAAAAAjkUAUrkfhem6SQOxRuB6Fy5JAzczMzMwXk0BI4XoUrgOSQNejcD0KbZJAzczMzMyEkUCkcD0K11iQQDMzMzMz3ZFApHA9CtfXkUDsUbgehbSQQD0K16NwmZFACtejcD1vkUAK16NwPReSQBSuR+F68pFAzczMzMyskUBxPQrXo7aRQFK4HoXrXJFAexSuR+EUkkCPwvUoXP2RQDMzMzMzNpBAMzMzMzPJkkDhehSuR9mQQHsUrkfhK5JASOF6FK5mkEDhehSuRxiSQNejcD0KzJFArkfhehS4kkDsUbgehUGRQD0K16NwpZFAXI/C9SjAkEBxPQrXo5WRQFK4HoXrS5JAUrgehevJkUBI4XoUrgWSQKRwPQrXH5JAXI/C9Sgrk0BSuB6F6zeSQFK4HoXrsZFAhetRuB7SkUCF61G4HsGRQPYoXI/Cn5JAzczMzMyQkUD2KFyPwnCSQK5H4XoUiJFAUrgehevekkA="
         },
         "type": "scatter"
        },
        {
         "legendgroup": "2-usecases",
         "legendgrouptitle": {
          "text": "Usecases"
         },
         "marker": {
          "color": "#9467BD"
         },
         "mode": "markers",
         "name": "uc5: Aggregation",
         "showlegend": false,
         "x": [
          2.3125,
          2.3125,
          2.3125,
          2.3125,
          2.3125,
          2.3125,
          2.3125,
          2.3125,
          2.3125,
          2.3125,
          2.3125,
          2.3125,
          2.3125,
          2.3125,
          2.3125,
          2.3125,
          2.3125,
          2.3125,
          2.3125,
          2.3125,
          2.3125,
          2.3125,
          2.3125,
          2.3125,
          2.3125,
          2.3125,
          2.3125,
          2.3125,
          2.3125,
          2.3125,
          2.3125,
          2.3125,
          2.3125,
          2.3125,
          2.3125,
          2.3125,
          2.3125,
          2.3125,
          2.3125,
          2.3125,
          2.3125,
          2.3125,
          2.3125,
          2.3125,
          2.3125,
          2.3125,
          2.3125,
          2.3125,
          2.3125,
          2.3125,
          2.3125,
          2.3125,
          2.3125,
          2.3125,
          2.3125,
          2.3125,
          2.3125,
          2.3125,
          2.3125,
          2.3125,
          2.3125,
          2.3125,
          2.3125,
          2.3125,
          2.3125,
          2.3125,
          2.3125,
          2.3125,
          2.3125,
          2.3125,
          2.3125,
          2.3125,
          2.3125
         ],
         "y": {
          "dtype": "f8",
          "bdata": "7FG4HoV2lkApXI/C9fiTQK5H4XoUXpZAPQrXo3D/lEBcj8L1KPGVQArXo3A9kZVAw/UoXI8JlkB7FK5H4TuVQMP1KFyP3JRAexSuR+GgkUCPwvUoXHuVQB+F61G4NpRAmpmZmZkmlkDsUbgehU6WQHE9CtejFJZAH4XrUbgIlUCamZmZmTCWQGZmZmZmqpVApHA9Cte7lUAAAAAAAE6VQK5H4XoULJVAPQrXo3D0lEBxPQrXoxyWQEjhehSutpRAZmZmZmbJlECuR+F6FCGUQFK4HoXrlZVACtejcD0nlUBxPQrXo9OUQKRwPQrXjpRAMzMzMzNOl0DNzMzMzNWWQMP1KFyPT5VA16NwPQqHlUB7FK5H4aKVQFyPwvUoYpZAAAAAAADBlUDD9Shcj/CUQK5H4XoUaZVAuB6F61H2lEB7FK5H4QmVQNejcD0K5pVAXI/C9Sg3l0AAAAAAABeWQFK4HoXrepZAZmZmZmbblUAfhetRuLmVQClcj8L1eJZAFK5H4XqmlEDNzMzMzJKUQOF6FK5HLJdAexSuR+EDlUCuR+F6FNaVQB+F61G4Y5VASOF6FK7XlkBxPQrXoziVQDMzMzMzdZVAKVyPwvXflUDD9ShcjzSXQBSuR+F6s5FApHA9CtfNlUAfhetRuDiVQFyPwvUo1ZZA7FG4HoW6lkCamZmZmRmWQHE9CtejUJZAexSuR+EHlEAK16NwPTqWQB+F61G4z5ZAH4XrUbjTlUCkcD0K136VQB+F61G405ZA4XoUrkexlkA="
         },
         "type": "scatter"
        },
        {
         "legendgroup": "2-usecases",
         "legendgrouptitle": {
          "text": "Usecases"
         },
         "marker": {
          "color": "#8C564B"
         },
         "mode": "markers",
         "name": "uc6: Filtering Query Bedrooms and Size",
         "showlegend": false,
         "x": [
          2.404166666666667,
          2.404166666666667,
          2.404166666666667,
          2.404166666666667,
          2.404166666666667,
          2.404166666666667,
          2.404166666666667,
          2.404166666666667,
          2.404166666666667,
          2.404166666666667,
          2.404166666666667,
          2.404166666666667,
          2.404166666666667,
          2.404166666666667,
          2.404166666666667,
          2.404166666666667,
          2.404166666666667,
          2.404166666666667,
          2.404166666666667,
          2.404166666666667,
          2.404166666666667,
          2.404166666666667,
          2.404166666666667,
          2.404166666666667,
          2.404166666666667,
          2.404166666666667,
          2.404166666666667,
          2.404166666666667,
          2.404166666666667,
          2.404166666666667,
          2.404166666666667,
          2.404166666666667,
          2.404166666666667,
          2.404166666666667,
          2.404166666666667,
          2.404166666666667,
          2.404166666666667,
          2.404166666666667,
          2.404166666666667,
          2.404166666666667,
          2.404166666666667,
          2.404166666666667,
          2.404166666666667,
          2.404166666666667,
          2.404166666666667,
          2.404166666666667,
          2.404166666666667,
          2.404166666666667,
          2.404166666666667,
          2.404166666666667,
          2.404166666666667,
          2.404166666666667,
          2.404166666666667,
          2.404166666666667,
          2.404166666666667,
          2.404166666666667,
          2.404166666666667,
          2.404166666666667,
          2.404166666666667,
          2.404166666666667,
          2.404166666666667,
          2.404166666666667,
          2.404166666666667,
          2.404166666666667,
          2.404166666666667,
          2.404166666666667,
          2.404166666666667,
          2.404166666666667,
          2.404166666666667,
          2.404166666666667,
          2.404166666666667,
          2.404166666666667,
          2.404166666666667
         ],
         "y": {
          "dtype": "f8",
          "bdata": "9ihcj8KEkkAAAAAAAD6OQGZmZmZmHo9A16NwPQr4kEDhehSuR/ORQIXrUbgeiZFAUrgeheuykEC4HoXrUWuRQPYoXI/CSY9AAAAAAAAkjkCuR+F6FJaPQOxRuB6FzY9A7FG4HoUxkkAzMzMzMzeSQBSuR+F6jo9AH4XrUbgEj0CamZmZmfWOQArXo3A9FpJAmpmZmZnJjUB7FK5H4YSNQClcj8L1Xo1AhetRuB5ukEBSuB6F6+uQQMP1KFyPHpBAAAAAAABaj0C4HoXrUWiQQIXrUbge0Y1AXI/C9Sgsj0B7FK5H4R2RQIXrUbgeUJBAj8L1KFxnkEDsUbgehSWTQAAAAAAAJI1AUrgehetpkUCF61G4Hn+RQGZmZmZmnJJAFK5H4Xq1kEAfhetRuBKRQNejcD0Kv45A9ihcj8IokUCamZmZmSmNQHE9CtejVpJA4XoUrkexkUDNzMzMzNaQQEjhehSuzZBAmpmZmZktj0Bcj8L1KMSQQJqZmZmZupJAZmZmZmauj0BxPQrXo+CQQFK4HoXrMJFAKVyPwvVWkUBcj8L1KIKRQD0K16NwBpJAUrgehetzj0B7FK5H4TGRQFK4HoXrVJFAw/UoXI9ykUB7FK5H4XGQQFK4HoXrs5FAw/UoXI+NkUBxPQrXo82QQNejcD0KLZBAzczMzMxhk0BmZmZmZiaQQB+F61G4e5BAXI/C9ShKjkBI4XoUrsWSQOF6FK5HG5BAUrgeheuEkkBcj8L1KFmRQPYoXI/CH5JAAAAAAABckkA="
         },
         "type": "scatter"
        }
       ],
       "layout": {
        "template": {
         "data": {
          "barpolar": [
           {
            "marker": {
             "line": {
              "color": "rgb(234,234,242)",
              "width": 0.5
             },
             "pattern": {
              "fillmode": "overlay",
              "size": 10,
              "solidity": 0.2
             }
            },
            "type": "barpolar"
           }
          ],
          "bar": [
           {
            "error_x": {
             "color": "rgb(36,36,36)"
            },
            "error_y": {
             "color": "rgb(36,36,36)"
            },
            "marker": {
             "line": {
              "color": "rgb(234,234,242)",
              "width": 0.5
             },
             "pattern": {
              "fillmode": "overlay",
              "size": 10,
              "solidity": 0.2
             }
            },
            "type": "bar"
           }
          ],
          "carpet": [
           {
            "aaxis": {
             "endlinecolor": "rgb(36,36,36)",
             "gridcolor": "white",
             "linecolor": "white",
             "minorgridcolor": "white",
             "startlinecolor": "rgb(36,36,36)"
            },
            "baxis": {
             "endlinecolor": "rgb(36,36,36)",
             "gridcolor": "white",
             "linecolor": "white",
             "minorgridcolor": "white",
             "startlinecolor": "rgb(36,36,36)"
            },
            "type": "carpet"
           }
          ],
          "choropleth": [
           {
            "colorbar": {
             "outlinewidth": 0,
             "tickcolor": "rgb(36,36,36)",
             "ticklen": 8,
             "ticks": "outside",
             "tickwidth": 2
            },
            "type": "choropleth"
           }
          ],
          "contourcarpet": [
           {
            "colorbar": {
             "outlinewidth": 0,
             "tickcolor": "rgb(36,36,36)",
             "ticklen": 8,
             "ticks": "outside",
             "tickwidth": 2
            },
            "type": "contourcarpet"
           }
          ],
          "contour": [
           {
            "colorbar": {
             "outlinewidth": 0,
             "tickcolor": "rgb(36,36,36)",
             "ticklen": 8,
             "ticks": "outside",
             "tickwidth": 2
            },
            "colorscale": [
             [
              0.0,
              "rgb(2,4,25)"
             ],
             [
              0.06274509803921569,
              "rgb(24,15,41)"
             ],
             [
              0.12549019607843137,
              "rgb(47,23,57)"
             ],
             [
              0.18823529411764706,
              "rgb(71,28,72)"
             ],
             [
              0.25098039215686274,
              "rgb(97,30,82)"
             ],
             [
              0.3137254901960784,
              "rgb(123,30,89)"
             ],
             [
              0.3764705882352941,
              "rgb(150,27,91)"
             ],
             [
              0.4392156862745098,
              "rgb(177,22,88)"
             ],
             [
              0.5019607843137255,
              "rgb(203,26,79)"
             ],
             [
              0.5647058823529412,
              "rgb(223,47,67)"
             ],
             [
              0.6274509803921569,
              "rgb(236,76,61)"
             ],
             [
              0.6901960784313725,
              "rgb(242,107,73)"
             ],
             [
              0.7529411764705882,
              "rgb(244,135,95)"
             ],
             [
              0.8156862745098039,
              "rgb(245,162,122)"
             ],
             [
              0.8784313725490196,
              "rgb(246,188,153)"
             ],
             [
              0.9411764705882353,
              "rgb(247,212,187)"
             ],
             [
              1.0,
              "rgb(250,234,220)"
             ]
            ],
            "type": "contour"
           }
          ],
          "heatmap": [
           {
            "colorbar": {
             "outlinewidth": 0,
             "tickcolor": "rgb(36,36,36)",
             "ticklen": 8,
             "ticks": "outside",
             "tickwidth": 2
            },
            "colorscale": [
             [
              0.0,
              "rgb(2,4,25)"
             ],
             [
              0.06274509803921569,
              "rgb(24,15,41)"
             ],
             [
              0.12549019607843137,
              "rgb(47,23,57)"
             ],
             [
              0.18823529411764706,
              "rgb(71,28,72)"
             ],
             [
              0.25098039215686274,
              "rgb(97,30,82)"
             ],
             [
              0.3137254901960784,
              "rgb(123,30,89)"
             ],
             [
              0.3764705882352941,
              "rgb(150,27,91)"
             ],
             [
              0.4392156862745098,
              "rgb(177,22,88)"
             ],
             [
              0.5019607843137255,
              "rgb(203,26,79)"
             ],
             [
              0.5647058823529412,
              "rgb(223,47,67)"
             ],
             [
              0.6274509803921569,
              "rgb(236,76,61)"
             ],
             [
              0.6901960784313725,
              "rgb(242,107,73)"
             ],
             [
              0.7529411764705882,
              "rgb(244,135,95)"
             ],
             [
              0.8156862745098039,
              "rgb(245,162,122)"
             ],
             [
              0.8784313725490196,
              "rgb(246,188,153)"
             ],
             [
              0.9411764705882353,
              "rgb(247,212,187)"
             ],
             [
              1.0,
              "rgb(250,234,220)"
             ]
            ],
            "type": "heatmap"
           }
          ],
          "histogram2dcontour": [
           {
            "colorbar": {
             "outlinewidth": 0,
             "tickcolor": "rgb(36,36,36)",
             "ticklen": 8,
             "ticks": "outside",
             "tickwidth": 2
            },
            "colorscale": [
             [
              0.0,
              "rgb(2,4,25)"
             ],
             [
              0.06274509803921569,
              "rgb(24,15,41)"
             ],
             [
              0.12549019607843137,
              "rgb(47,23,57)"
             ],
             [
              0.18823529411764706,
              "rgb(71,28,72)"
             ],
             [
              0.25098039215686274,
              "rgb(97,30,82)"
             ],
             [
              0.3137254901960784,
              "rgb(123,30,89)"
             ],
             [
              0.3764705882352941,
              "rgb(150,27,91)"
             ],
             [
              0.4392156862745098,
              "rgb(177,22,88)"
             ],
             [
              0.5019607843137255,
              "rgb(203,26,79)"
             ],
             [
              0.5647058823529412,
              "rgb(223,47,67)"
             ],
             [
              0.6274509803921569,
              "rgb(236,76,61)"
             ],
             [
              0.6901960784313725,
              "rgb(242,107,73)"
             ],
             [
              0.7529411764705882,
              "rgb(244,135,95)"
             ],
             [
              0.8156862745098039,
              "rgb(245,162,122)"
             ],
             [
              0.8784313725490196,
              "rgb(246,188,153)"
             ],
             [
              0.9411764705882353,
              "rgb(247,212,187)"
             ],
             [
              1.0,
              "rgb(250,234,220)"
             ]
            ],
            "type": "histogram2dcontour"
           }
          ],
          "histogram2d": [
           {
            "colorbar": {
             "outlinewidth": 0,
             "tickcolor": "rgb(36,36,36)",
             "ticklen": 8,
             "ticks": "outside",
             "tickwidth": 2
            },
            "colorscale": [
             [
              0.0,
              "rgb(2,4,25)"
             ],
             [
              0.06274509803921569,
              "rgb(24,15,41)"
             ],
             [
              0.12549019607843137,
              "rgb(47,23,57)"
             ],
             [
              0.18823529411764706,
              "rgb(71,28,72)"
             ],
             [
              0.25098039215686274,
              "rgb(97,30,82)"
             ],
             [
              0.3137254901960784,
              "rgb(123,30,89)"
             ],
             [
              0.3764705882352941,
              "rgb(150,27,91)"
             ],
             [
              0.4392156862745098,
              "rgb(177,22,88)"
             ],
             [
              0.5019607843137255,
              "rgb(203,26,79)"
             ],
             [
              0.5647058823529412,
              "rgb(223,47,67)"
             ],
             [
              0.6274509803921569,
              "rgb(236,76,61)"
             ],
             [
              0.6901960784313725,
              "rgb(242,107,73)"
             ],
             [
              0.7529411764705882,
              "rgb(244,135,95)"
             ],
             [
              0.8156862745098039,
              "rgb(245,162,122)"
             ],
             [
              0.8784313725490196,
              "rgb(246,188,153)"
             ],
             [
              0.9411764705882353,
              "rgb(247,212,187)"
             ],
             [
              1.0,
              "rgb(250,234,220)"
             ]
            ],
            "type": "histogram2d"
           }
          ],
          "histogram": [
           {
            "marker": {
             "pattern": {
              "fillmode": "overlay",
              "size": 10,
              "solidity": 0.2
             }
            },
            "type": "histogram"
           }
          ],
          "mesh3d": [
           {
            "colorbar": {
             "outlinewidth": 0,
             "tickcolor": "rgb(36,36,36)",
             "ticklen": 8,
             "ticks": "outside",
             "tickwidth": 2
            },
            "type": "mesh3d"
           }
          ],
          "parcoords": [
           {
            "line": {
             "colorbar": {
              "outlinewidth": 0,
              "tickcolor": "rgb(36,36,36)",
              "ticklen": 8,
              "ticks": "outside",
              "tickwidth": 2
             }
            },
            "type": "parcoords"
           }
          ],
          "pie": [
           {
            "automargin": true,
            "type": "pie"
           }
          ],
          "scatter3d": [
           {
            "line": {
             "colorbar": {
              "outlinewidth": 0,
              "tickcolor": "rgb(36,36,36)",
              "ticklen": 8,
              "ticks": "outside",
              "tickwidth": 2
             }
            },
            "marker": {
             "colorbar": {
              "outlinewidth": 0,
              "tickcolor": "rgb(36,36,36)",
              "ticklen": 8,
              "ticks": "outside",
              "tickwidth": 2
             }
            },
            "type": "scatter3d"
           }
          ],
          "scattercarpet": [
           {
            "marker": {
             "colorbar": {
              "outlinewidth": 0,
              "tickcolor": "rgb(36,36,36)",
              "ticklen": 8,
              "ticks": "outside",
              "tickwidth": 2
             }
            },
            "type": "scattercarpet"
           }
          ],
          "scattergeo": [
           {
            "marker": {
             "colorbar": {
              "outlinewidth": 0,
              "tickcolor": "rgb(36,36,36)",
              "ticklen": 8,
              "ticks": "outside",
              "tickwidth": 2
             }
            },
            "type": "scattergeo"
           }
          ],
          "scattergl": [
           {
            "marker": {
             "colorbar": {
              "outlinewidth": 0,
              "tickcolor": "rgb(36,36,36)",
              "ticklen": 8,
              "ticks": "outside",
              "tickwidth": 2
             }
            },
            "type": "scattergl"
           }
          ],
          "scattermapbox": [
           {
            "marker": {
             "colorbar": {
              "outlinewidth": 0,
              "tickcolor": "rgb(36,36,36)",
              "ticklen": 8,
              "ticks": "outside",
              "tickwidth": 2
             }
            },
            "type": "scattermapbox"
           }
          ],
          "scattermap": [
           {
            "marker": {
             "colorbar": {
              "outlinewidth": 0,
              "tickcolor": "rgb(36,36,36)",
              "ticklen": 8,
              "ticks": "outside",
              "tickwidth": 2
             }
            },
            "type": "scattermap"
           }
          ],
          "scatterpolargl": [
           {
            "marker": {
             "colorbar": {
              "outlinewidth": 0,
              "tickcolor": "rgb(36,36,36)",
              "ticklen": 8,
              "ticks": "outside",
              "tickwidth": 2
             }
            },
            "type": "scatterpolargl"
           }
          ],
          "scatterpolar": [
           {
            "marker": {
             "colorbar": {
              "outlinewidth": 0,
              "tickcolor": "rgb(36,36,36)",
              "ticklen": 8,
              "ticks": "outside",
              "tickwidth": 2
             }
            },
            "type": "scatterpolar"
           }
          ],
          "scatter": [
           {
            "fillpattern": {
             "fillmode": "overlay",
             "size": 10,
             "solidity": 0.2
            },
            "type": "scatter"
           }
          ],
          "scatterternary": [
           {
            "marker": {
             "colorbar": {
              "outlinewidth": 0,
              "tickcolor": "rgb(36,36,36)",
              "ticklen": 8,
              "ticks": "outside",
              "tickwidth": 2
             }
            },
            "type": "scatterternary"
           }
          ],
          "surface": [
           {
            "colorbar": {
             "outlinewidth": 0,
             "tickcolor": "rgb(36,36,36)",
             "ticklen": 8,
             "ticks": "outside",
             "tickwidth": 2
            },
            "colorscale": [
             [
              0.0,
              "rgb(2,4,25)"
             ],
             [
              0.06274509803921569,
              "rgb(24,15,41)"
             ],
             [
              0.12549019607843137,
              "rgb(47,23,57)"
             ],
             [
              0.18823529411764706,
              "rgb(71,28,72)"
             ],
             [
              0.25098039215686274,
              "rgb(97,30,82)"
             ],
             [
              0.3137254901960784,
              "rgb(123,30,89)"
             ],
             [
              0.3764705882352941,
              "rgb(150,27,91)"
             ],
             [
              0.4392156862745098,
              "rgb(177,22,88)"
             ],
             [
              0.5019607843137255,
              "rgb(203,26,79)"
             ],
             [
              0.5647058823529412,
              "rgb(223,47,67)"
             ],
             [
              0.6274509803921569,
              "rgb(236,76,61)"
             ],
             [
              0.6901960784313725,
              "rgb(242,107,73)"
             ],
             [
              0.7529411764705882,
              "rgb(244,135,95)"
             ],
             [
              0.8156862745098039,
              "rgb(245,162,122)"
             ],
             [
              0.8784313725490196,
              "rgb(246,188,153)"
             ],
             [
              0.9411764705882353,
              "rgb(247,212,187)"
             ],
             [
              1.0,
              "rgb(250,234,220)"
             ]
            ],
            "type": "surface"
           }
          ],
          "table": [
           {
            "cells": {
             "fill": {
              "color": "rgb(231,231,240)"
             },
             "line": {
              "color": "white"
             }
            },
            "header": {
             "fill": {
              "color": "rgb(183,183,191)"
             },
             "line": {
              "color": "white"
             }
            },
            "type": "table"
           }
          ]
         },
         "layout": {
          "annotationdefaults": {
           "arrowcolor": "rgb(67,103,167)"
          },
          "autotypenumbers": "strict",
          "coloraxis": {
           "colorbar": {
            "outlinewidth": 0,
            "tickcolor": "rgb(36,36,36)",
            "ticklen": 8,
            "ticks": "outside",
            "tickwidth": 2
           }
          },
          "colorscale": {
           "sequential": [
            [
             0.0,
             "rgb(2,4,25)"
            ],
            [
             0.06274509803921569,
             "rgb(24,15,41)"
            ],
            [
             0.12549019607843137,
             "rgb(47,23,57)"
            ],
            [
             0.18823529411764706,
             "rgb(71,28,72)"
            ],
            [
             0.25098039215686274,
             "rgb(97,30,82)"
            ],
            [
             0.3137254901960784,
             "rgb(123,30,89)"
            ],
            [
             0.3764705882352941,
             "rgb(150,27,91)"
            ],
            [
             0.4392156862745098,
             "rgb(177,22,88)"
            ],
            [
             0.5019607843137255,
             "rgb(203,26,79)"
            ],
            [
             0.5647058823529412,
             "rgb(223,47,67)"
            ],
            [
             0.6274509803921569,
             "rgb(236,76,61)"
            ],
            [
             0.6901960784313725,
             "rgb(242,107,73)"
            ],
            [
             0.7529411764705882,
             "rgb(244,135,95)"
            ],
            [
             0.8156862745098039,
             "rgb(245,162,122)"
            ],
            [
             0.8784313725490196,
             "rgb(246,188,153)"
            ],
            [
             0.9411764705882353,
             "rgb(247,212,187)"
            ],
            [
             1.0,
             "rgb(250,234,220)"
            ]
           ],
           "sequentialminus": [
            [
             0.0,
             "rgb(2,4,25)"
            ],
            [
             0.06274509803921569,
             "rgb(24,15,41)"
            ],
            [
             0.12549019607843137,
             "rgb(47,23,57)"
            ],
            [
             0.18823529411764706,
             "rgb(71,28,72)"
            ],
            [
             0.25098039215686274,
             "rgb(97,30,82)"
            ],
            [
             0.3137254901960784,
             "rgb(123,30,89)"
            ],
            [
             0.3764705882352941,
             "rgb(150,27,91)"
            ],
            [
             0.4392156862745098,
             "rgb(177,22,88)"
            ],
            [
             0.5019607843137255,
             "rgb(203,26,79)"
            ],
            [
             0.5647058823529412,
             "rgb(223,47,67)"
            ],
            [
             0.6274509803921569,
             "rgb(236,76,61)"
            ],
            [
             0.6901960784313725,
             "rgb(242,107,73)"
            ],
            [
             0.7529411764705882,
             "rgb(244,135,95)"
            ],
            [
             0.8156862745098039,
             "rgb(245,162,122)"
            ],
            [
             0.8784313725490196,
             "rgb(246,188,153)"
            ],
            [
             0.9411764705882353,
             "rgb(247,212,187)"
            ],
            [
             1.0,
             "rgb(250,234,220)"
            ]
           ]
          },
          "colorway": [
           "rgb(76,114,176)",
           "rgb(221,132,82)",
           "rgb(85,168,104)",
           "rgb(196,78,82)",
           "rgb(129,114,179)",
           "rgb(147,120,96)",
           "rgb(218,139,195)",
           "rgb(140,140,140)",
           "rgb(204,185,116)",
           "rgb(100,181,205)"
          ],
          "font": {
           "color": "rgb(36,36,36)"
          },
          "geo": {
           "bgcolor": "white",
           "lakecolor": "white",
           "landcolor": "rgb(234,234,242)",
           "showlakes": true,
           "showland": true,
           "subunitcolor": "white"
          },
          "hoverlabel": {
           "align": "left"
          },
          "hovermode": "closest",
          "paper_bgcolor": "white",
          "plot_bgcolor": "rgb(234,234,242)",
          "polar": {
           "angularaxis": {
            "gridcolor": "white",
            "linecolor": "white",
            "showgrid": true,
            "ticks": ""
           },
           "bgcolor": "rgb(234,234,242)",
           "radialaxis": {
            "gridcolor": "white",
            "linecolor": "white",
            "showgrid": true,
            "ticks": ""
           }
          },
          "scene": {
           "xaxis": {
            "backgroundcolor": "rgb(234,234,242)",
            "gridcolor": "white",
            "gridwidth": 2,
            "linecolor": "white",
            "showbackground": true,
            "showgrid": true,
            "ticks": "",
            "zerolinecolor": "white"
           },
           "yaxis": {
            "backgroundcolor": "rgb(234,234,242)",
            "gridcolor": "white",
            "gridwidth": 2,
            "linecolor": "white",
            "showbackground": true,
            "showgrid": true,
            "ticks": "",
            "zerolinecolor": "white"
           },
           "zaxis": {
            "backgroundcolor": "rgb(234,234,242)",
            "gridcolor": "white",
            "gridwidth": 2,
            "linecolor": "white",
            "showbackground": true,
            "showgrid": true,
            "ticks": "",
            "zerolinecolor": "white"
           }
          },
          "shapedefaults": {
           "fillcolor": "rgb(67,103,167)",
           "line": {
            "width": 0
           },
           "opacity": 0.5
          },
          "ternary": {
           "aaxis": {
            "gridcolor": "white",
            "linecolor": "white",
            "showgrid": true,
            "ticks": ""
           },
           "baxis": {
            "gridcolor": "white",
            "linecolor": "white",
            "showgrid": true,
            "ticks": ""
           },
           "bgcolor": "rgb(234,234,242)",
           "caxis": {
            "gridcolor": "white",
            "linecolor": "white",
            "showgrid": true,
            "ticks": ""
           }
          },
          "xaxis": {
           "automargin": true,
           "gridcolor": "white",
           "linecolor": "white",
           "showgrid": true,
           "ticks": "",
           "title": {
            "standoff": 15
           },
           "zerolinecolor": "white"
          },
          "yaxis": {
           "automargin": true,
           "gridcolor": "white",
           "linecolor": "white",
           "showgrid": true,
           "ticks": "",
           "title": {
            "standoff": 15
           },
           "zerolinecolor": "white"
          }
         }
        },
        "title": {
         "font": {
          "size": 32
         },
         "text": "Average Memory Usage: Boxplot and Usecase Strips by Database",
         "x": 0.45
        },
        "xaxis": {
         "title": {
          "font": {
           "size": 24
          },
          "text": "Database"
         },
         "tickfont": {
          "size": 20
         },
         "tickmode": "array",
         "tickvals": [
          0,
          1,
          2
         ],
         "ticktext": [
          "clickhouse",
          "mongodb",
          "postgres"
         ]
        },
        "yaxis": {
         "title": {
          "font": {
           "size": 24
          },
          "text": "Average Memory (MB)"
         },
         "tickfont": {
          "size": 20
         }
        },
        "legend": {
         "title": {
          "font": {
           "size": 24
          },
          "text": "Legend"
         },
         "grouptitlefont": {
          "size": 16
         },
         "font": {
          "size": 16
         },
         "traceorder": "grouped"
        },
        "boxmode": "overlay"
       },
       "config": {
        "plotlyServerURL": "https://plot.ly"
       }
      }
     },
     "metadata": {},
     "output_type": "display_data"
    }
   ],
   "execution_count": 13
  },
  {
   "cell_type": "code",
   "metadata": {
    "ExecuteTime": {
     "end_time": "2025-06-23T11:53:35.353845Z",
     "start_time": "2025-06-23T11:53:35.351929Z"
    }
   },
   "source": [],
   "outputs": [],
   "execution_count": null
  }
 ],
 "metadata": {
  "kernelspec": {
   "display_name": "Python 3 (ipykernel)",
   "language": "python",
   "name": "python3"
  },
  "language_info": {
   "codemirror_mode": {
    "name": "ipython",
    "version": 3
   },
   "file_extension": ".py",
   "mimetype": "text/x-python",
   "name": "python",
   "nbconvert_exporter": "python",
   "pygments_lexer": "ipython3",
   "version": "3.12.10"
  }
 },
 "nbformat": 4,
 "nbformat_minor": 4
}
