{
 "cells": [
  {
   "cell_type": "markdown",
   "metadata": {},
   "source": [
    "### Imports"
   ]
  },
  {
   "cell_type": "code",
   "execution_count": 28,
   "metadata": {},
   "outputs": [],
   "source": [
    "import sys\n",
    "sys.path.append(r\"\") # NOTE: Hier sys path\n",
    "import pandas as pd\n",
    "import plotly.express as px\n",
    "import plotly.graph_objects as go\n",
    "from plotly.subplots import make_subplots"
   ]
  },
  {
   "cell_type": "code",
   "execution_count": 14,
   "metadata": {},
   "outputs": [],
   "source": [
    "from visu_script import parse_files as pf"
   ]
  },
  {
   "cell_type": "markdown",
   "metadata": {},
   "source": [
    "### Parameters"
   ]
  },
  {
   "cell_type": "code",
   "execution_count": 15,
   "metadata": {},
   "outputs": [],
   "source": [
    "FILES_PATH = r\"\" #NOTE: Hier Files Path"
   ]
  },
  {
   "cell_type": "markdown",
   "metadata": {},
   "source": [
    "### Code"
   ]
  },
  {
   "cell_type": "code",
   "execution_count": 16,
   "metadata": {},
   "outputs": [],
   "source": [
    "case_db_run_instances = pf.get_usecase_instances(FILES_PATH)"
   ]
  },
  {
   "cell_type": "code",
   "execution_count": 17,
   "metadata": {},
   "outputs": [],
   "source": [
    "records = []\n",
    "for run in case_db_run_instances:\n",
    "    records.append({\n",
    "        \"database\": run.database,\n",
    "        \"timestamp\": run.timestamp,                \n",
    "        \"usecase\": run.usecase,                   \n",
    "        \"usecase_full_name\": run.usecase_full_name,\n",
    "        \"execution_time_s\": run.execution_time,\n",
    "        \"avg_cpu_percent\": run.avg_cpu_percent,\n",
    "        \"peak_cpu_percent\": run.peak_cpu_percent,\n",
    "        \"avg_mem_mb\": run.avg_mem_mb,\n",
    "        \"peak_mem_mb\": run.peak_mem_mb\n",
    "    })\n",
    "\n",
    "df = pd.DataFrame(records)\n",
    "df = df.sort_values(\"timestamp\").reset_index(drop=True)"
   ]
  },
  {
   "cell_type": "code",
   "execution_count": 18,
   "metadata": {},
   "outputs": [
    {
     "data": {
      "text/html": [
       "<div>\n",
       "<style scoped>\n",
       "    .dataframe tbody tr th:only-of-type {\n",
       "        vertical-align: middle;\n",
       "    }\n",
       "\n",
       "    .dataframe tbody tr th {\n",
       "        vertical-align: top;\n",
       "    }\n",
       "\n",
       "    .dataframe thead th {\n",
       "        text-align: right;\n",
       "    }\n",
       "</style>\n",
       "<table border=\"1\" class=\"dataframe\">\n",
       "  <thead>\n",
       "    <tr style=\"text-align: right;\">\n",
       "      <th></th>\n",
       "      <th>database</th>\n",
       "      <th>timestamp</th>\n",
       "      <th>usecase</th>\n",
       "      <th>usecase_full_name</th>\n",
       "      <th>execution_time_s</th>\n",
       "      <th>avg_cpu_percent</th>\n",
       "      <th>peak_cpu_percent</th>\n",
       "      <th>avg_mem_mb</th>\n",
       "      <th>peak_mem_mb</th>\n",
       "    </tr>\n",
       "  </thead>\n",
       "  <tbody>\n",
       "    <tr>\n",
       "      <th>0</th>\n",
       "      <td>mongodb</td>\n",
       "      <td>2025-06-02 14:15:01.310435</td>\n",
       "      <td>6</td>\n",
       "      <td>usecase6_filter_by_bedrooms_and_size</td>\n",
       "      <td>5.0</td>\n",
       "      <td>45.40</td>\n",
       "      <td>86.36</td>\n",
       "      <td>1896.69</td>\n",
       "      <td>1896.69</td>\n",
       "    </tr>\n",
       "    <tr>\n",
       "      <th>1</th>\n",
       "      <td>mongodb</td>\n",
       "      <td>2025-06-02 14:15:01.310435</td>\n",
       "      <td>5</td>\n",
       "      <td>usecase5_average_price_per_city</td>\n",
       "      <td>10.0</td>\n",
       "      <td>102.13</td>\n",
       "      <td>103.20</td>\n",
       "      <td>1839.60</td>\n",
       "      <td>1844.11</td>\n",
       "    </tr>\n",
       "    <tr>\n",
       "      <th>2</th>\n",
       "      <td>postgres</td>\n",
       "      <td>2025-06-02 14:15:01.310435</td>\n",
       "      <td>6</td>\n",
       "      <td>usecase6_filter_by_bedrooms_and_size</td>\n",
       "      <td>3.0</td>\n",
       "      <td>92.26</td>\n",
       "      <td>92.26</td>\n",
       "      <td>1705.26</td>\n",
       "      <td>1705.26</td>\n",
       "    </tr>\n",
       "    <tr>\n",
       "      <th>3</th>\n",
       "      <td>postgres</td>\n",
       "      <td>2025-06-02 14:15:01.310435</td>\n",
       "      <td>5</td>\n",
       "      <td>usecase5_average_price_per_city</td>\n",
       "      <td>2.0</td>\n",
       "      <td>179.17</td>\n",
       "      <td>179.17</td>\n",
       "      <td>1766.34</td>\n",
       "      <td>1766.34</td>\n",
       "    </tr>\n",
       "    <tr>\n",
       "      <th>4</th>\n",
       "      <td>postgres</td>\n",
       "      <td>2025-06-02 14:15:01.310435</td>\n",
       "      <td>4</td>\n",
       "      <td>usecase4_price_analysis</td>\n",
       "      <td>0.0</td>\n",
       "      <td>0.00</td>\n",
       "      <td>0.00</td>\n",
       "      <td>0.00</td>\n",
       "      <td>0.00</td>\n",
       "    </tr>\n",
       "    <tr>\n",
       "      <th>...</th>\n",
       "      <td>...</td>\n",
       "      <td>...</td>\n",
       "      <td>...</td>\n",
       "      <td>...</td>\n",
       "      <td>...</td>\n",
       "      <td>...</td>\n",
       "      <td>...</td>\n",
       "      <td>...</td>\n",
       "      <td>...</td>\n",
       "    </tr>\n",
       "    <tr>\n",
       "      <th>450</th>\n",
       "      <td>clickhouse</td>\n",
       "      <td>2025-06-04 08:00:01.625527</td>\n",
       "      <td>4</td>\n",
       "      <td>usecase4_price_analysis</td>\n",
       "      <td>0.0</td>\n",
       "      <td>2.56</td>\n",
       "      <td>2.56</td>\n",
       "      <td>2254.61</td>\n",
       "      <td>2254.61</td>\n",
       "    </tr>\n",
       "    <tr>\n",
       "      <th>451</th>\n",
       "      <td>clickhouse</td>\n",
       "      <td>2025-06-04 08:00:01.625527</td>\n",
       "      <td>3</td>\n",
       "      <td>usecase3_add_solar_panels</td>\n",
       "      <td>0.0</td>\n",
       "      <td>3.82</td>\n",
       "      <td>3.82</td>\n",
       "      <td>2248.06</td>\n",
       "      <td>2248.06</td>\n",
       "    </tr>\n",
       "    <tr>\n",
       "      <th>452</th>\n",
       "      <td>clickhouse</td>\n",
       "      <td>2025-06-04 08:00:01.625527</td>\n",
       "      <td>1</td>\n",
       "      <td>usecase1_filter_properties</td>\n",
       "      <td>4.0</td>\n",
       "      <td>13.02</td>\n",
       "      <td>23.10</td>\n",
       "      <td>2288.48</td>\n",
       "      <td>2297.78</td>\n",
       "    </tr>\n",
       "    <tr>\n",
       "      <th>453</th>\n",
       "      <td>postgres</td>\n",
       "      <td>2025-06-04 08:00:01.625527</td>\n",
       "      <td>6</td>\n",
       "      <td>usecase6_filter_by_bedrooms_and_size</td>\n",
       "      <td>3.0</td>\n",
       "      <td>83.09</td>\n",
       "      <td>83.09</td>\n",
       "      <td>2220.67</td>\n",
       "      <td>2220.67</td>\n",
       "    </tr>\n",
       "    <tr>\n",
       "      <th>454</th>\n",
       "      <td>clickhouse</td>\n",
       "      <td>2025-06-04 08:00:01.625527</td>\n",
       "      <td>2</td>\n",
       "      <td>usecase2_update_prices</td>\n",
       "      <td>0.0</td>\n",
       "      <td>9.93</td>\n",
       "      <td>9.93</td>\n",
       "      <td>2273.75</td>\n",
       "      <td>2273.75</td>\n",
       "    </tr>\n",
       "  </tbody>\n",
       "</table>\n",
       "<p>455 rows × 9 columns</p>\n",
       "</div>"
      ],
      "text/plain": [
       "       database                  timestamp  usecase  \\\n",
       "0       mongodb 2025-06-02 14:15:01.310435        6   \n",
       "1       mongodb 2025-06-02 14:15:01.310435        5   \n",
       "2      postgres 2025-06-02 14:15:01.310435        6   \n",
       "3      postgres 2025-06-02 14:15:01.310435        5   \n",
       "4      postgres 2025-06-02 14:15:01.310435        4   \n",
       "..          ...                        ...      ...   \n",
       "450  clickhouse 2025-06-04 08:00:01.625527        4   \n",
       "451  clickhouse 2025-06-04 08:00:01.625527        3   \n",
       "452  clickhouse 2025-06-04 08:00:01.625527        1   \n",
       "453    postgres 2025-06-04 08:00:01.625527        6   \n",
       "454  clickhouse 2025-06-04 08:00:01.625527        2   \n",
       "\n",
       "                        usecase_full_name  execution_time_s  avg_cpu_percent  \\\n",
       "0    usecase6_filter_by_bedrooms_and_size               5.0            45.40   \n",
       "1         usecase5_average_price_per_city              10.0           102.13   \n",
       "2    usecase6_filter_by_bedrooms_and_size               3.0            92.26   \n",
       "3         usecase5_average_price_per_city               2.0           179.17   \n",
       "4                 usecase4_price_analysis               0.0             0.00   \n",
       "..                                    ...               ...              ...   \n",
       "450               usecase4_price_analysis               0.0             2.56   \n",
       "451             usecase3_add_solar_panels               0.0             3.82   \n",
       "452            usecase1_filter_properties               4.0            13.02   \n",
       "453  usecase6_filter_by_bedrooms_and_size               3.0            83.09   \n",
       "454                usecase2_update_prices               0.0             9.93   \n",
       "\n",
       "     peak_cpu_percent  avg_mem_mb  peak_mem_mb  \n",
       "0               86.36     1896.69      1896.69  \n",
       "1              103.20     1839.60      1844.11  \n",
       "2               92.26     1705.26      1705.26  \n",
       "3              179.17     1766.34      1766.34  \n",
       "4                0.00        0.00         0.00  \n",
       "..                ...         ...          ...  \n",
       "450              2.56     2254.61      2254.61  \n",
       "451              3.82     2248.06      2248.06  \n",
       "452             23.10     2288.48      2297.78  \n",
       "453             83.09     2220.67      2220.67  \n",
       "454              9.93     2273.75      2273.75  \n",
       "\n",
       "[455 rows x 9 columns]"
      ]
     },
     "execution_count": 18,
     "metadata": {},
     "output_type": "execute_result"
    }
   ],
   "source": [
    "df"
   ]
  },
  {
   "cell_type": "markdown",
   "metadata": {},
   "source": [
    "### Plot1: Box‐Plot: Distribution of Execution Time by Database"
   ]
  },
  {
   "cell_type": "code",
   "execution_count": 26,
   "metadata": {},
   "outputs": [
    {
     "data": {
      "application/vnd.plotly.v1+json": {
       "config": {
        "plotlyServerURL": "https://plot.ly"
       },
       "data": [
        {
         "alignmentgroup": "True",
         "boxpoints": "all",
         "hovertemplate": "database=%{x}<br>execution_time_s=%{y}<extra></extra>",
         "legendgroup": "mongodb",
         "marker": {
          "color": "#636efa"
         },
         "name": "mongodb",
         "notched": false,
         "offsetgroup": "mongodb",
         "orientation": "v",
         "showlegend": true,
         "type": "box",
         "x": [
          "mongodb",
          "mongodb",
          "mongodb",
          "mongodb",
          "mongodb",
          "mongodb",
          "mongodb",
          "mongodb",
          "mongodb",
          "mongodb",
          "mongodb",
          "mongodb",
          "mongodb",
          "mongodb",
          "mongodb",
          "mongodb",
          "mongodb",
          "mongodb",
          "mongodb",
          "mongodb",
          "mongodb",
          "mongodb",
          "mongodb",
          "mongodb",
          "mongodb",
          "mongodb",
          "mongodb",
          "mongodb",
          "mongodb",
          "mongodb",
          "mongodb",
          "mongodb",
          "mongodb",
          "mongodb",
          "mongodb",
          "mongodb",
          "mongodb",
          "mongodb",
          "mongodb",
          "mongodb",
          "mongodb",
          "mongodb",
          "mongodb",
          "mongodb",
          "mongodb",
          "mongodb",
          "mongodb",
          "mongodb",
          "mongodb",
          "mongodb",
          "mongodb",
          "mongodb",
          "mongodb",
          "mongodb",
          "mongodb",
          "mongodb",
          "mongodb",
          "mongodb",
          "mongodb",
          "mongodb",
          "mongodb",
          "mongodb",
          "mongodb",
          "mongodb",
          "mongodb",
          "mongodb",
          "mongodb",
          "mongodb",
          "mongodb",
          "mongodb",
          "mongodb",
          "mongodb",
          "mongodb",
          "mongodb",
          "mongodb",
          "mongodb",
          "mongodb",
          "mongodb",
          "mongodb",
          "mongodb",
          "mongodb",
          "mongodb",
          "mongodb",
          "mongodb",
          "mongodb",
          "mongodb",
          "mongodb",
          "mongodb",
          "mongodb",
          "mongodb",
          "mongodb",
          "mongodb",
          "mongodb",
          "mongodb",
          "mongodb",
          "mongodb",
          "mongodb",
          "mongodb",
          "mongodb",
          "mongodb",
          "mongodb",
          "mongodb",
          "mongodb",
          "mongodb",
          "mongodb",
          "mongodb",
          "mongodb",
          "mongodb",
          "mongodb",
          "mongodb",
          "mongodb",
          "mongodb",
          "mongodb",
          "mongodb",
          "mongodb",
          "mongodb",
          "mongodb",
          "mongodb",
          "mongodb",
          "mongodb",
          "mongodb",
          "mongodb",
          "mongodb",
          "mongodb",
          "mongodb",
          "mongodb",
          "mongodb",
          "mongodb",
          "mongodb",
          "mongodb",
          "mongodb",
          "mongodb",
          "mongodb",
          "mongodb",
          "mongodb",
          "mongodb",
          "mongodb",
          "mongodb",
          "mongodb",
          "mongodb",
          "mongodb",
          "mongodb",
          "mongodb",
          "mongodb",
          "mongodb",
          "mongodb",
          "mongodb",
          "mongodb",
          "mongodb",
          "mongodb",
          "mongodb",
          "mongodb",
          "mongodb",
          "mongodb"
         ],
         "x0": " ",
         "xaxis": "x",
         "y": [
          5,
          0,
          0,
          10,
          113,
          6,
          10,
          106,
          0,
          10,
          0,
          6,
          10,
          5,
          116,
          7,
          0,
          11,
          5,
          11,
          0,
          95,
          9,
          0,
          0,
          9,
          4,
          6,
          9,
          6,
          96,
          0,
          10,
          4,
          0,
          9,
          5,
          0,
          97,
          10,
          6,
          0,
          10,
          5,
          11,
          0,
          111,
          0,
          6,
          5,
          10,
          97,
          0,
          0,
          4,
          9,
          6,
          104,
          9,
          0,
          4,
          10,
          0,
          10,
          112,
          5,
          6,
          0,
          10,
          0,
          10,
          5,
          6,
          0,
          0,
          108,
          10,
          11,
          117,
          0,
          0,
          6,
          5,
          11,
          107,
          10,
          0,
          6,
          0,
          10,
          5,
          10,
          108,
          0,
          5,
          0,
          6,
          10,
          11,
          7,
          118,
          10,
          0,
          0,
          5,
          9,
          5,
          0,
          5,
          0,
          9,
          98,
          9,
          5,
          9,
          0,
          6,
          97,
          0,
          10,
          5,
          9,
          0,
          0,
          6,
          104,
          105,
          0,
          10,
          6,
          10,
          5,
          0,
          6,
          0,
          104,
          10,
          10,
          4,
          0,
          0,
          5,
          10,
          6,
          10,
          104,
          0,
          9,
          103,
          0,
          6,
          10,
          4,
          0
         ],
         "y0": " ",
         "yaxis": "y"
        },
        {
         "alignmentgroup": "True",
         "boxpoints": "all",
         "hovertemplate": "database=%{x}<br>execution_time_s=%{y}<extra></extra>",
         "legendgroup": "postgres",
         "marker": {
          "color": "#EF553B"
         },
         "name": "postgres",
         "notched": false,
         "offsetgroup": "postgres",
         "orientation": "v",
         "showlegend": true,
         "type": "box",
         "x": [
          "postgres",
          "postgres",
          "postgres",
          "postgres",
          "postgres",
          "postgres",
          "postgres",
          "postgres",
          "postgres",
          "postgres",
          "postgres",
          "postgres",
          "postgres",
          "postgres",
          "postgres",
          "postgres",
          "postgres",
          "postgres",
          "postgres",
          "postgres",
          "postgres",
          "postgres",
          "postgres",
          "postgres",
          "postgres",
          "postgres",
          "postgres",
          "postgres",
          "postgres",
          "postgres",
          "postgres",
          "postgres",
          "postgres",
          "postgres",
          "postgres",
          "postgres",
          "postgres",
          "postgres",
          "postgres",
          "postgres",
          "postgres",
          "postgres",
          "postgres",
          "postgres",
          "postgres",
          "postgres",
          "postgres",
          "postgres",
          "postgres",
          "postgres",
          "postgres",
          "postgres",
          "postgres",
          "postgres",
          "postgres",
          "postgres",
          "postgres",
          "postgres",
          "postgres",
          "postgres",
          "postgres",
          "postgres",
          "postgres",
          "postgres",
          "postgres",
          "postgres",
          "postgres",
          "postgres",
          "postgres",
          "postgres",
          "postgres",
          "postgres",
          "postgres",
          "postgres",
          "postgres",
          "postgres",
          "postgres",
          "postgres",
          "postgres",
          "postgres",
          "postgres",
          "postgres",
          "postgres",
          "postgres",
          "postgres",
          "postgres",
          "postgres",
          "postgres",
          "postgres",
          "postgres",
          "postgres",
          "postgres",
          "postgres",
          "postgres",
          "postgres",
          "postgres",
          "postgres",
          "postgres",
          "postgres",
          "postgres",
          "postgres",
          "postgres",
          "postgres",
          "postgres",
          "postgres",
          "postgres",
          "postgres",
          "postgres",
          "postgres",
          "postgres",
          "postgres",
          "postgres",
          "postgres",
          "postgres",
          "postgres",
          "postgres",
          "postgres",
          "postgres",
          "postgres",
          "postgres",
          "postgres",
          "postgres",
          "postgres",
          "postgres",
          "postgres",
          "postgres",
          "postgres",
          "postgres",
          "postgres",
          "postgres",
          "postgres",
          "postgres",
          "postgres",
          "postgres",
          "postgres",
          "postgres",
          "postgres",
          "postgres",
          "postgres",
          "postgres",
          "postgres",
          "postgres",
          "postgres",
          "postgres",
          "postgres",
          "postgres",
          "postgres",
          "postgres",
          "postgres",
          "postgres",
          "postgres",
          "postgres",
          "postgres",
          "postgres"
         ],
         "x0": " ",
         "xaxis": "x",
         "y": [
          478,
          0,
          30,
          0,
          2,
          3,
          8,
          0,
          3,
          8,
          459,
          0,
          2,
          30,
          9,
          3,
          2,
          477,
          0,
          0,
          32,
          3,
          1,
          25,
          0,
          7,
          433,
          0,
          3,
          2,
          475,
          7,
          0,
          26,
          0,
          451,
          0,
          7,
          0,
          1,
          26,
          2,
          2,
          485,
          8,
          3,
          31,
          0,
          0,
          442,
          3,
          1,
          25,
          0,
          7,
          0,
          3,
          1,
          0,
          0,
          7,
          442,
          27,
          3,
          2,
          0,
          32,
          0,
          8,
          485,
          0,
          0,
          3,
          1,
          27,
          7,
          446,
          460,
          2,
          8,
          29,
          3,
          0,
          0,
          2,
          3,
          471,
          8,
          29,
          0,
          0,
          0,
          3,
          2,
          28,
          8,
          452,
          0,
          2,
          0,
          3,
          33,
          0,
          8,
          476,
          7,
          435,
          1,
          0,
          26,
          0,
          2,
          2,
          2,
          426,
          7,
          0,
          26,
          0,
          8,
          435,
          1,
          3,
          27,
          0,
          0,
          29,
          0,
          3,
          2,
          0,
          9,
          464,
          2,
          29,
          436,
          0,
          0,
          1,
          7,
          446,
          7,
          0,
          1,
          0,
          27,
          3,
          8,
          460,
          0,
          31,
          0,
          2,
          3
         ],
         "y0": " ",
         "yaxis": "y"
        },
        {
         "alignmentgroup": "True",
         "boxpoints": "all",
         "hovertemplate": "database=%{x}<br>execution_time_s=%{y}<extra></extra>",
         "legendgroup": "clickhouse",
         "marker": {
          "color": "#00cc96"
         },
         "name": "clickhouse",
         "notched": false,
         "offsetgroup": "clickhouse",
         "orientation": "v",
         "showlegend": true,
         "type": "box",
         "x": [
          "clickhouse",
          "clickhouse",
          "clickhouse",
          "clickhouse",
          "clickhouse",
          "clickhouse",
          "clickhouse",
          "clickhouse",
          "clickhouse",
          "clickhouse",
          "clickhouse",
          "clickhouse",
          "clickhouse",
          "clickhouse",
          "clickhouse",
          "clickhouse",
          "clickhouse",
          "clickhouse",
          "clickhouse",
          "clickhouse",
          "clickhouse",
          "clickhouse",
          "clickhouse",
          "clickhouse",
          "clickhouse",
          "clickhouse",
          "clickhouse",
          "clickhouse",
          "clickhouse",
          "clickhouse",
          "clickhouse",
          "clickhouse",
          "clickhouse",
          "clickhouse",
          "clickhouse",
          "clickhouse",
          "clickhouse",
          "clickhouse",
          "clickhouse",
          "clickhouse",
          "clickhouse",
          "clickhouse",
          "clickhouse",
          "clickhouse",
          "clickhouse",
          "clickhouse",
          "clickhouse",
          "clickhouse",
          "clickhouse",
          "clickhouse",
          "clickhouse",
          "clickhouse",
          "clickhouse",
          "clickhouse",
          "clickhouse",
          "clickhouse",
          "clickhouse",
          "clickhouse",
          "clickhouse",
          "clickhouse",
          "clickhouse",
          "clickhouse",
          "clickhouse",
          "clickhouse",
          "clickhouse",
          "clickhouse",
          "clickhouse",
          "clickhouse",
          "clickhouse",
          "clickhouse",
          "clickhouse",
          "clickhouse",
          "clickhouse",
          "clickhouse",
          "clickhouse",
          "clickhouse",
          "clickhouse",
          "clickhouse",
          "clickhouse",
          "clickhouse",
          "clickhouse",
          "clickhouse",
          "clickhouse",
          "clickhouse",
          "clickhouse",
          "clickhouse",
          "clickhouse",
          "clickhouse",
          "clickhouse",
          "clickhouse",
          "clickhouse",
          "clickhouse",
          "clickhouse",
          "clickhouse",
          "clickhouse",
          "clickhouse",
          "clickhouse",
          "clickhouse",
          "clickhouse",
          "clickhouse",
          "clickhouse",
          "clickhouse",
          "clickhouse",
          "clickhouse",
          "clickhouse",
          "clickhouse",
          "clickhouse",
          "clickhouse",
          "clickhouse",
          "clickhouse",
          "clickhouse",
          "clickhouse",
          "clickhouse",
          "clickhouse",
          "clickhouse",
          "clickhouse",
          "clickhouse",
          "clickhouse",
          "clickhouse",
          "clickhouse",
          "clickhouse",
          "clickhouse",
          "clickhouse",
          "clickhouse",
          "clickhouse",
          "clickhouse",
          "clickhouse",
          "clickhouse",
          "clickhouse",
          "clickhouse",
          "clickhouse",
          "clickhouse",
          "clickhouse",
          "clickhouse",
          "clickhouse",
          "clickhouse",
          "clickhouse",
          "clickhouse",
          "clickhouse",
          "clickhouse",
          "clickhouse",
          "clickhouse",
          "clickhouse",
          "clickhouse",
          "clickhouse",
          "clickhouse",
          "clickhouse"
         ],
         "x0": " ",
         "xaxis": "x",
         "y": [
          3,
          0,
          0,
          0,
          0,
          5,
          26,
          3,
          0,
          0,
          0,
          4,
          26,
          0,
          0,
          0,
          0,
          0,
          4,
          3,
          25,
          3,
          24,
          4,
          0,
          0,
          0,
          0,
          0,
          0,
          0,
          0,
          3,
          24,
          4,
          27,
          4,
          0,
          0,
          0,
          0,
          3,
          26,
          3,
          0,
          0,
          0,
          0,
          4,
          26,
          4,
          0,
          0,
          0,
          3,
          0,
          0,
          30,
          4,
          0,
          0,
          0,
          5,
          0,
          0,
          0,
          5,
          26,
          3,
          0,
          3,
          0,
          0,
          0,
          25,
          0,
          4,
          0,
          0,
          5,
          0,
          4,
          0,
          32,
          3,
          0,
          5,
          0,
          0,
          28,
          0,
          0,
          0,
          28,
          4,
          0,
          0,
          3,
          4,
          26,
          0,
          0,
          0,
          3,
          0,
          25,
          4,
          0,
          0,
          0,
          3,
          0,
          0,
          0,
          0,
          3,
          4,
          25,
          0,
          27,
          4,
          0,
          0,
          0,
          0,
          3,
          0,
          25,
          0,
          0,
          4,
          0,
          3,
          25,
          4,
          3,
          0,
          0,
          0,
          0,
          3,
          4,
          0,
          0,
          0,
          25,
          0
         ],
         "y0": " ",
         "yaxis": "y"
        }
       ],
       "layout": {
        "boxmode": "overlay",
        "legend": {
         "title": {
          "text": "database"
         },
         "tracegroupgap": 0
        },
        "template": {
         "data": {
          "bar": [
           {
            "error_x": {
             "color": "#2a3f5f"
            },
            "error_y": {
             "color": "#2a3f5f"
            },
            "marker": {
             "line": {
              "color": "#E5ECF6",
              "width": 0.5
             },
             "pattern": {
              "fillmode": "overlay",
              "size": 10,
              "solidity": 0.2
             }
            },
            "type": "bar"
           }
          ],
          "barpolar": [
           {
            "marker": {
             "line": {
              "color": "#E5ECF6",
              "width": 0.5
             },
             "pattern": {
              "fillmode": "overlay",
              "size": 10,
              "solidity": 0.2
             }
            },
            "type": "barpolar"
           }
          ],
          "carpet": [
           {
            "aaxis": {
             "endlinecolor": "#2a3f5f",
             "gridcolor": "white",
             "linecolor": "white",
             "minorgridcolor": "white",
             "startlinecolor": "#2a3f5f"
            },
            "baxis": {
             "endlinecolor": "#2a3f5f",
             "gridcolor": "white",
             "linecolor": "white",
             "minorgridcolor": "white",
             "startlinecolor": "#2a3f5f"
            },
            "type": "carpet"
           }
          ],
          "choropleth": [
           {
            "colorbar": {
             "outlinewidth": 0,
             "ticks": ""
            },
            "type": "choropleth"
           }
          ],
          "contour": [
           {
            "colorbar": {
             "outlinewidth": 0,
             "ticks": ""
            },
            "colorscale": [
             [
              0,
              "#0d0887"
             ],
             [
              0.1111111111111111,
              "#46039f"
             ],
             [
              0.2222222222222222,
              "#7201a8"
             ],
             [
              0.3333333333333333,
              "#9c179e"
             ],
             [
              0.4444444444444444,
              "#bd3786"
             ],
             [
              0.5555555555555556,
              "#d8576b"
             ],
             [
              0.6666666666666666,
              "#ed7953"
             ],
             [
              0.7777777777777778,
              "#fb9f3a"
             ],
             [
              0.8888888888888888,
              "#fdca26"
             ],
             [
              1,
              "#f0f921"
             ]
            ],
            "type": "contour"
           }
          ],
          "contourcarpet": [
           {
            "colorbar": {
             "outlinewidth": 0,
             "ticks": ""
            },
            "type": "contourcarpet"
           }
          ],
          "heatmap": [
           {
            "colorbar": {
             "outlinewidth": 0,
             "ticks": ""
            },
            "colorscale": [
             [
              0,
              "#0d0887"
             ],
             [
              0.1111111111111111,
              "#46039f"
             ],
             [
              0.2222222222222222,
              "#7201a8"
             ],
             [
              0.3333333333333333,
              "#9c179e"
             ],
             [
              0.4444444444444444,
              "#bd3786"
             ],
             [
              0.5555555555555556,
              "#d8576b"
             ],
             [
              0.6666666666666666,
              "#ed7953"
             ],
             [
              0.7777777777777778,
              "#fb9f3a"
             ],
             [
              0.8888888888888888,
              "#fdca26"
             ],
             [
              1,
              "#f0f921"
             ]
            ],
            "type": "heatmap"
           }
          ],
          "heatmapgl": [
           {
            "colorbar": {
             "outlinewidth": 0,
             "ticks": ""
            },
            "colorscale": [
             [
              0,
              "#0d0887"
             ],
             [
              0.1111111111111111,
              "#46039f"
             ],
             [
              0.2222222222222222,
              "#7201a8"
             ],
             [
              0.3333333333333333,
              "#9c179e"
             ],
             [
              0.4444444444444444,
              "#bd3786"
             ],
             [
              0.5555555555555556,
              "#d8576b"
             ],
             [
              0.6666666666666666,
              "#ed7953"
             ],
             [
              0.7777777777777778,
              "#fb9f3a"
             ],
             [
              0.8888888888888888,
              "#fdca26"
             ],
             [
              1,
              "#f0f921"
             ]
            ],
            "type": "heatmapgl"
           }
          ],
          "histogram": [
           {
            "marker": {
             "pattern": {
              "fillmode": "overlay",
              "size": 10,
              "solidity": 0.2
             }
            },
            "type": "histogram"
           }
          ],
          "histogram2d": [
           {
            "colorbar": {
             "outlinewidth": 0,
             "ticks": ""
            },
            "colorscale": [
             [
              0,
              "#0d0887"
             ],
             [
              0.1111111111111111,
              "#46039f"
             ],
             [
              0.2222222222222222,
              "#7201a8"
             ],
             [
              0.3333333333333333,
              "#9c179e"
             ],
             [
              0.4444444444444444,
              "#bd3786"
             ],
             [
              0.5555555555555556,
              "#d8576b"
             ],
             [
              0.6666666666666666,
              "#ed7953"
             ],
             [
              0.7777777777777778,
              "#fb9f3a"
             ],
             [
              0.8888888888888888,
              "#fdca26"
             ],
             [
              1,
              "#f0f921"
             ]
            ],
            "type": "histogram2d"
           }
          ],
          "histogram2dcontour": [
           {
            "colorbar": {
             "outlinewidth": 0,
             "ticks": ""
            },
            "colorscale": [
             [
              0,
              "#0d0887"
             ],
             [
              0.1111111111111111,
              "#46039f"
             ],
             [
              0.2222222222222222,
              "#7201a8"
             ],
             [
              0.3333333333333333,
              "#9c179e"
             ],
             [
              0.4444444444444444,
              "#bd3786"
             ],
             [
              0.5555555555555556,
              "#d8576b"
             ],
             [
              0.6666666666666666,
              "#ed7953"
             ],
             [
              0.7777777777777778,
              "#fb9f3a"
             ],
             [
              0.8888888888888888,
              "#fdca26"
             ],
             [
              1,
              "#f0f921"
             ]
            ],
            "type": "histogram2dcontour"
           }
          ],
          "mesh3d": [
           {
            "colorbar": {
             "outlinewidth": 0,
             "ticks": ""
            },
            "type": "mesh3d"
           }
          ],
          "parcoords": [
           {
            "line": {
             "colorbar": {
              "outlinewidth": 0,
              "ticks": ""
             }
            },
            "type": "parcoords"
           }
          ],
          "pie": [
           {
            "automargin": true,
            "type": "pie"
           }
          ],
          "scatter": [
           {
            "fillpattern": {
             "fillmode": "overlay",
             "size": 10,
             "solidity": 0.2
            },
            "type": "scatter"
           }
          ],
          "scatter3d": [
           {
            "line": {
             "colorbar": {
              "outlinewidth": 0,
              "ticks": ""
             }
            },
            "marker": {
             "colorbar": {
              "outlinewidth": 0,
              "ticks": ""
             }
            },
            "type": "scatter3d"
           }
          ],
          "scattercarpet": [
           {
            "marker": {
             "colorbar": {
              "outlinewidth": 0,
              "ticks": ""
             }
            },
            "type": "scattercarpet"
           }
          ],
          "scattergeo": [
           {
            "marker": {
             "colorbar": {
              "outlinewidth": 0,
              "ticks": ""
             }
            },
            "type": "scattergeo"
           }
          ],
          "scattergl": [
           {
            "marker": {
             "colorbar": {
              "outlinewidth": 0,
              "ticks": ""
             }
            },
            "type": "scattergl"
           }
          ],
          "scattermapbox": [
           {
            "marker": {
             "colorbar": {
              "outlinewidth": 0,
              "ticks": ""
             }
            },
            "type": "scattermapbox"
           }
          ],
          "scatterpolar": [
           {
            "marker": {
             "colorbar": {
              "outlinewidth": 0,
              "ticks": ""
             }
            },
            "type": "scatterpolar"
           }
          ],
          "scatterpolargl": [
           {
            "marker": {
             "colorbar": {
              "outlinewidth": 0,
              "ticks": ""
             }
            },
            "type": "scatterpolargl"
           }
          ],
          "scatterternary": [
           {
            "marker": {
             "colorbar": {
              "outlinewidth": 0,
              "ticks": ""
             }
            },
            "type": "scatterternary"
           }
          ],
          "surface": [
           {
            "colorbar": {
             "outlinewidth": 0,
             "ticks": ""
            },
            "colorscale": [
             [
              0,
              "#0d0887"
             ],
             [
              0.1111111111111111,
              "#46039f"
             ],
             [
              0.2222222222222222,
              "#7201a8"
             ],
             [
              0.3333333333333333,
              "#9c179e"
             ],
             [
              0.4444444444444444,
              "#bd3786"
             ],
             [
              0.5555555555555556,
              "#d8576b"
             ],
             [
              0.6666666666666666,
              "#ed7953"
             ],
             [
              0.7777777777777778,
              "#fb9f3a"
             ],
             [
              0.8888888888888888,
              "#fdca26"
             ],
             [
              1,
              "#f0f921"
             ]
            ],
            "type": "surface"
           }
          ],
          "table": [
           {
            "cells": {
             "fill": {
              "color": "#EBF0F8"
             },
             "line": {
              "color": "white"
             }
            },
            "header": {
             "fill": {
              "color": "#C8D4E3"
             },
             "line": {
              "color": "white"
             }
            },
            "type": "table"
           }
          ]
         },
         "layout": {
          "annotationdefaults": {
           "arrowcolor": "#2a3f5f",
           "arrowhead": 0,
           "arrowwidth": 1
          },
          "autotypenumbers": "strict",
          "coloraxis": {
           "colorbar": {
            "outlinewidth": 0,
            "ticks": ""
           }
          },
          "colorscale": {
           "diverging": [
            [
             0,
             "#8e0152"
            ],
            [
             0.1,
             "#c51b7d"
            ],
            [
             0.2,
             "#de77ae"
            ],
            [
             0.3,
             "#f1b6da"
            ],
            [
             0.4,
             "#fde0ef"
            ],
            [
             0.5,
             "#f7f7f7"
            ],
            [
             0.6,
             "#e6f5d0"
            ],
            [
             0.7,
             "#b8e186"
            ],
            [
             0.8,
             "#7fbc41"
            ],
            [
             0.9,
             "#4d9221"
            ],
            [
             1,
             "#276419"
            ]
           ],
           "sequential": [
            [
             0,
             "#0d0887"
            ],
            [
             0.1111111111111111,
             "#46039f"
            ],
            [
             0.2222222222222222,
             "#7201a8"
            ],
            [
             0.3333333333333333,
             "#9c179e"
            ],
            [
             0.4444444444444444,
             "#bd3786"
            ],
            [
             0.5555555555555556,
             "#d8576b"
            ],
            [
             0.6666666666666666,
             "#ed7953"
            ],
            [
             0.7777777777777778,
             "#fb9f3a"
            ],
            [
             0.8888888888888888,
             "#fdca26"
            ],
            [
             1,
             "#f0f921"
            ]
           ],
           "sequentialminus": [
            [
             0,
             "#0d0887"
            ],
            [
             0.1111111111111111,
             "#46039f"
            ],
            [
             0.2222222222222222,
             "#7201a8"
            ],
            [
             0.3333333333333333,
             "#9c179e"
            ],
            [
             0.4444444444444444,
             "#bd3786"
            ],
            [
             0.5555555555555556,
             "#d8576b"
            ],
            [
             0.6666666666666666,
             "#ed7953"
            ],
            [
             0.7777777777777778,
             "#fb9f3a"
            ],
            [
             0.8888888888888888,
             "#fdca26"
            ],
            [
             1,
             "#f0f921"
            ]
           ]
          },
          "colorway": [
           "#636efa",
           "#EF553B",
           "#00cc96",
           "#ab63fa",
           "#FFA15A",
           "#19d3f3",
           "#FF6692",
           "#B6E880",
           "#FF97FF",
           "#FECB52"
          ],
          "font": {
           "color": "#2a3f5f"
          },
          "geo": {
           "bgcolor": "white",
           "lakecolor": "white",
           "landcolor": "#E5ECF6",
           "showlakes": true,
           "showland": true,
           "subunitcolor": "white"
          },
          "hoverlabel": {
           "align": "left"
          },
          "hovermode": "closest",
          "mapbox": {
           "style": "light"
          },
          "paper_bgcolor": "white",
          "plot_bgcolor": "#E5ECF6",
          "polar": {
           "angularaxis": {
            "gridcolor": "white",
            "linecolor": "white",
            "ticks": ""
           },
           "bgcolor": "#E5ECF6",
           "radialaxis": {
            "gridcolor": "white",
            "linecolor": "white",
            "ticks": ""
           }
          },
          "scene": {
           "xaxis": {
            "backgroundcolor": "#E5ECF6",
            "gridcolor": "white",
            "gridwidth": 2,
            "linecolor": "white",
            "showbackground": true,
            "ticks": "",
            "zerolinecolor": "white"
           },
           "yaxis": {
            "backgroundcolor": "#E5ECF6",
            "gridcolor": "white",
            "gridwidth": 2,
            "linecolor": "white",
            "showbackground": true,
            "ticks": "",
            "zerolinecolor": "white"
           },
           "zaxis": {
            "backgroundcolor": "#E5ECF6",
            "gridcolor": "white",
            "gridwidth": 2,
            "linecolor": "white",
            "showbackground": true,
            "ticks": "",
            "zerolinecolor": "white"
           }
          },
          "shapedefaults": {
           "line": {
            "color": "#2a3f5f"
           }
          },
          "ternary": {
           "aaxis": {
            "gridcolor": "white",
            "linecolor": "white",
            "ticks": ""
           },
           "baxis": {
            "gridcolor": "white",
            "linecolor": "white",
            "ticks": ""
           },
           "bgcolor": "#E5ECF6",
           "caxis": {
            "gridcolor": "white",
            "linecolor": "white",
            "ticks": ""
           }
          },
          "title": {
           "x": 0.05
          },
          "xaxis": {
           "automargin": true,
           "gridcolor": "white",
           "linecolor": "white",
           "ticks": "",
           "title": {
            "standoff": 15
           },
           "zerolinecolor": "white",
           "zerolinewidth": 2
          },
          "yaxis": {
           "automargin": true,
           "gridcolor": "white",
           "linecolor": "white",
           "ticks": "",
           "title": {
            "standoff": 15
           },
           "zerolinecolor": "white",
           "zerolinewidth": 2
          }
         }
        },
        "title": {
         "text": "Execution‐Time Distribution by Database"
        },
        "xaxis": {
         "anchor": "y",
         "categoryarray": [
          "mongodb",
          "postgres",
          "clickhouse"
         ],
         "categoryorder": "array",
         "domain": [
          0,
          1
         ],
         "title": {
          "text": "Database System"
         }
        },
        "yaxis": {
         "anchor": "x",
         "domain": [
          0,
          1
         ],
         "title": {
          "text": "Execution Time (seconds)"
         }
        }
       }
      }
     },
     "metadata": {},
     "output_type": "display_data"
    }
   ],
   "source": [
    "fig = px.box(\n",
    "    df,\n",
    "    x=\"database\",\n",
    "    y=\"execution_time_s\",\n",
    "    color=\"database\",\n",
    "    points=\"all\", \n",
    "    title=\"Execution‐Time Distribution by Database\"\n",
    ")\n",
    "fig.update_layout(\n",
    "    xaxis_title=\"Database System\",\n",
    "    yaxis_title=\"Execution Time (seconds)\"\n",
    ")\n",
    "fig.show()"
   ]
  },
  {
   "cell_type": "markdown",
   "metadata": {},
   "source": [
    "### Plot2: Line‐Plot Over Time: How Execution Time Evolves"
   ]
  },
  {
   "cell_type": "code",
   "execution_count": 35,
   "metadata": {},
   "outputs": [
    {
     "data": {
      "application/vnd.plotly.v1+json": {
       "config": {
        "plotlyServerURL": "https://plot.ly"
       },
       "data": [
        {
         "hovertemplate": "database=clickhouse<br>date_only=%{x}<br>mean_exec_time_s=%{y}<extra></extra>",
         "legendgroup": "clickhouse",
         "line": {
          "color": "#636efa",
          "dash": "solid"
         },
         "marker": {
          "symbol": "circle"
         },
         "mode": "lines+markers",
         "name": "clickhouse",
         "orientation": "v",
         "showlegend": true,
         "type": "scatter",
         "x": [
          "2025-06-02",
          "2025-06-03",
          "2025-06-04"
         ],
         "xaxis": "x",
         "y": [
          25.25,
          26.916666666666668,
          25.4
         ],
         "yaxis": "y"
        },
        {
         "hovertemplate": "database=mongodb<br>date_only=%{x}<br>mean_exec_time_s=%{y}<extra></extra>",
         "legendgroup": "mongodb",
         "line": {
          "color": "#EF553B",
          "dash": "solid"
         },
         "marker": {
          "symbol": "circle"
         },
         "mode": "lines+markers",
         "name": "mongodb",
         "orientation": "v",
         "showlegend": true,
         "type": "scatter",
         "x": [
          "2025-06-02",
          "2025-06-03",
          "2025-06-04"
         ],
         "xaxis": "x",
         "y": [
          105.2,
          106.16666666666667,
          104
         ],
         "yaxis": "y"
        },
        {
         "hovertemplate": "database=postgres<br>date_only=%{x}<br>mean_exec_time_s=%{y}<extra></extra>",
         "legendgroup": "postgres",
         "line": {
          "color": "#00cc96",
          "dash": "solid"
         },
         "marker": {
          "symbol": "circle"
         },
         "mode": "lines+markers",
         "name": "postgres",
         "orientation": "v",
         "showlegend": true,
         "type": "scatter",
         "x": [
          "2025-06-02",
          "2025-06-03",
          "2025-06-04"
         ],
         "xaxis": "x",
         "y": [
          464.4,
          455.9166666666667,
          448.2
         ],
         "yaxis": "y"
        }
       ],
       "layout": {
        "legend": {
         "title": {
          "text": "database"
         },
         "tracegroupgap": 0
        },
        "template": {
         "data": {
          "bar": [
           {
            "error_x": {
             "color": "#2a3f5f"
            },
            "error_y": {
             "color": "#2a3f5f"
            },
            "marker": {
             "line": {
              "color": "#E5ECF6",
              "width": 0.5
             },
             "pattern": {
              "fillmode": "overlay",
              "size": 10,
              "solidity": 0.2
             }
            },
            "type": "bar"
           }
          ],
          "barpolar": [
           {
            "marker": {
             "line": {
              "color": "#E5ECF6",
              "width": 0.5
             },
             "pattern": {
              "fillmode": "overlay",
              "size": 10,
              "solidity": 0.2
             }
            },
            "type": "barpolar"
           }
          ],
          "carpet": [
           {
            "aaxis": {
             "endlinecolor": "#2a3f5f",
             "gridcolor": "white",
             "linecolor": "white",
             "minorgridcolor": "white",
             "startlinecolor": "#2a3f5f"
            },
            "baxis": {
             "endlinecolor": "#2a3f5f",
             "gridcolor": "white",
             "linecolor": "white",
             "minorgridcolor": "white",
             "startlinecolor": "#2a3f5f"
            },
            "type": "carpet"
           }
          ],
          "choropleth": [
           {
            "colorbar": {
             "outlinewidth": 0,
             "ticks": ""
            },
            "type": "choropleth"
           }
          ],
          "contour": [
           {
            "colorbar": {
             "outlinewidth": 0,
             "ticks": ""
            },
            "colorscale": [
             [
              0,
              "#0d0887"
             ],
             [
              0.1111111111111111,
              "#46039f"
             ],
             [
              0.2222222222222222,
              "#7201a8"
             ],
             [
              0.3333333333333333,
              "#9c179e"
             ],
             [
              0.4444444444444444,
              "#bd3786"
             ],
             [
              0.5555555555555556,
              "#d8576b"
             ],
             [
              0.6666666666666666,
              "#ed7953"
             ],
             [
              0.7777777777777778,
              "#fb9f3a"
             ],
             [
              0.8888888888888888,
              "#fdca26"
             ],
             [
              1,
              "#f0f921"
             ]
            ],
            "type": "contour"
           }
          ],
          "contourcarpet": [
           {
            "colorbar": {
             "outlinewidth": 0,
             "ticks": ""
            },
            "type": "contourcarpet"
           }
          ],
          "heatmap": [
           {
            "colorbar": {
             "outlinewidth": 0,
             "ticks": ""
            },
            "colorscale": [
             [
              0,
              "#0d0887"
             ],
             [
              0.1111111111111111,
              "#46039f"
             ],
             [
              0.2222222222222222,
              "#7201a8"
             ],
             [
              0.3333333333333333,
              "#9c179e"
             ],
             [
              0.4444444444444444,
              "#bd3786"
             ],
             [
              0.5555555555555556,
              "#d8576b"
             ],
             [
              0.6666666666666666,
              "#ed7953"
             ],
             [
              0.7777777777777778,
              "#fb9f3a"
             ],
             [
              0.8888888888888888,
              "#fdca26"
             ],
             [
              1,
              "#f0f921"
             ]
            ],
            "type": "heatmap"
           }
          ],
          "heatmapgl": [
           {
            "colorbar": {
             "outlinewidth": 0,
             "ticks": ""
            },
            "colorscale": [
             [
              0,
              "#0d0887"
             ],
             [
              0.1111111111111111,
              "#46039f"
             ],
             [
              0.2222222222222222,
              "#7201a8"
             ],
             [
              0.3333333333333333,
              "#9c179e"
             ],
             [
              0.4444444444444444,
              "#bd3786"
             ],
             [
              0.5555555555555556,
              "#d8576b"
             ],
             [
              0.6666666666666666,
              "#ed7953"
             ],
             [
              0.7777777777777778,
              "#fb9f3a"
             ],
             [
              0.8888888888888888,
              "#fdca26"
             ],
             [
              1,
              "#f0f921"
             ]
            ],
            "type": "heatmapgl"
           }
          ],
          "histogram": [
           {
            "marker": {
             "pattern": {
              "fillmode": "overlay",
              "size": 10,
              "solidity": 0.2
             }
            },
            "type": "histogram"
           }
          ],
          "histogram2d": [
           {
            "colorbar": {
             "outlinewidth": 0,
             "ticks": ""
            },
            "colorscale": [
             [
              0,
              "#0d0887"
             ],
             [
              0.1111111111111111,
              "#46039f"
             ],
             [
              0.2222222222222222,
              "#7201a8"
             ],
             [
              0.3333333333333333,
              "#9c179e"
             ],
             [
              0.4444444444444444,
              "#bd3786"
             ],
             [
              0.5555555555555556,
              "#d8576b"
             ],
             [
              0.6666666666666666,
              "#ed7953"
             ],
             [
              0.7777777777777778,
              "#fb9f3a"
             ],
             [
              0.8888888888888888,
              "#fdca26"
             ],
             [
              1,
              "#f0f921"
             ]
            ],
            "type": "histogram2d"
           }
          ],
          "histogram2dcontour": [
           {
            "colorbar": {
             "outlinewidth": 0,
             "ticks": ""
            },
            "colorscale": [
             [
              0,
              "#0d0887"
             ],
             [
              0.1111111111111111,
              "#46039f"
             ],
             [
              0.2222222222222222,
              "#7201a8"
             ],
             [
              0.3333333333333333,
              "#9c179e"
             ],
             [
              0.4444444444444444,
              "#bd3786"
             ],
             [
              0.5555555555555556,
              "#d8576b"
             ],
             [
              0.6666666666666666,
              "#ed7953"
             ],
             [
              0.7777777777777778,
              "#fb9f3a"
             ],
             [
              0.8888888888888888,
              "#fdca26"
             ],
             [
              1,
              "#f0f921"
             ]
            ],
            "type": "histogram2dcontour"
           }
          ],
          "mesh3d": [
           {
            "colorbar": {
             "outlinewidth": 0,
             "ticks": ""
            },
            "type": "mesh3d"
           }
          ],
          "parcoords": [
           {
            "line": {
             "colorbar": {
              "outlinewidth": 0,
              "ticks": ""
             }
            },
            "type": "parcoords"
           }
          ],
          "pie": [
           {
            "automargin": true,
            "type": "pie"
           }
          ],
          "scatter": [
           {
            "fillpattern": {
             "fillmode": "overlay",
             "size": 10,
             "solidity": 0.2
            },
            "type": "scatter"
           }
          ],
          "scatter3d": [
           {
            "line": {
             "colorbar": {
              "outlinewidth": 0,
              "ticks": ""
             }
            },
            "marker": {
             "colorbar": {
              "outlinewidth": 0,
              "ticks": ""
             }
            },
            "type": "scatter3d"
           }
          ],
          "scattercarpet": [
           {
            "marker": {
             "colorbar": {
              "outlinewidth": 0,
              "ticks": ""
             }
            },
            "type": "scattercarpet"
           }
          ],
          "scattergeo": [
           {
            "marker": {
             "colorbar": {
              "outlinewidth": 0,
              "ticks": ""
             }
            },
            "type": "scattergeo"
           }
          ],
          "scattergl": [
           {
            "marker": {
             "colorbar": {
              "outlinewidth": 0,
              "ticks": ""
             }
            },
            "type": "scattergl"
           }
          ],
          "scattermapbox": [
           {
            "marker": {
             "colorbar": {
              "outlinewidth": 0,
              "ticks": ""
             }
            },
            "type": "scattermapbox"
           }
          ],
          "scatterpolar": [
           {
            "marker": {
             "colorbar": {
              "outlinewidth": 0,
              "ticks": ""
             }
            },
            "type": "scatterpolar"
           }
          ],
          "scatterpolargl": [
           {
            "marker": {
             "colorbar": {
              "outlinewidth": 0,
              "ticks": ""
             }
            },
            "type": "scatterpolargl"
           }
          ],
          "scatterternary": [
           {
            "marker": {
             "colorbar": {
              "outlinewidth": 0,
              "ticks": ""
             }
            },
            "type": "scatterternary"
           }
          ],
          "surface": [
           {
            "colorbar": {
             "outlinewidth": 0,
             "ticks": ""
            },
            "colorscale": [
             [
              0,
              "#0d0887"
             ],
             [
              0.1111111111111111,
              "#46039f"
             ],
             [
              0.2222222222222222,
              "#7201a8"
             ],
             [
              0.3333333333333333,
              "#9c179e"
             ],
             [
              0.4444444444444444,
              "#bd3786"
             ],
             [
              0.5555555555555556,
              "#d8576b"
             ],
             [
              0.6666666666666666,
              "#ed7953"
             ],
             [
              0.7777777777777778,
              "#fb9f3a"
             ],
             [
              0.8888888888888888,
              "#fdca26"
             ],
             [
              1,
              "#f0f921"
             ]
            ],
            "type": "surface"
           }
          ],
          "table": [
           {
            "cells": {
             "fill": {
              "color": "#EBF0F8"
             },
             "line": {
              "color": "white"
             }
            },
            "header": {
             "fill": {
              "color": "#C8D4E3"
             },
             "line": {
              "color": "white"
             }
            },
            "type": "table"
           }
          ]
         },
         "layout": {
          "annotationdefaults": {
           "arrowcolor": "#2a3f5f",
           "arrowhead": 0,
           "arrowwidth": 1
          },
          "autotypenumbers": "strict",
          "coloraxis": {
           "colorbar": {
            "outlinewidth": 0,
            "ticks": ""
           }
          },
          "colorscale": {
           "diverging": [
            [
             0,
             "#8e0152"
            ],
            [
             0.1,
             "#c51b7d"
            ],
            [
             0.2,
             "#de77ae"
            ],
            [
             0.3,
             "#f1b6da"
            ],
            [
             0.4,
             "#fde0ef"
            ],
            [
             0.5,
             "#f7f7f7"
            ],
            [
             0.6,
             "#e6f5d0"
            ],
            [
             0.7,
             "#b8e186"
            ],
            [
             0.8,
             "#7fbc41"
            ],
            [
             0.9,
             "#4d9221"
            ],
            [
             1,
             "#276419"
            ]
           ],
           "sequential": [
            [
             0,
             "#0d0887"
            ],
            [
             0.1111111111111111,
             "#46039f"
            ],
            [
             0.2222222222222222,
             "#7201a8"
            ],
            [
             0.3333333333333333,
             "#9c179e"
            ],
            [
             0.4444444444444444,
             "#bd3786"
            ],
            [
             0.5555555555555556,
             "#d8576b"
            ],
            [
             0.6666666666666666,
             "#ed7953"
            ],
            [
             0.7777777777777778,
             "#fb9f3a"
            ],
            [
             0.8888888888888888,
             "#fdca26"
            ],
            [
             1,
             "#f0f921"
            ]
           ],
           "sequentialminus": [
            [
             0,
             "#0d0887"
            ],
            [
             0.1111111111111111,
             "#46039f"
            ],
            [
             0.2222222222222222,
             "#7201a8"
            ],
            [
             0.3333333333333333,
             "#9c179e"
            ],
            [
             0.4444444444444444,
             "#bd3786"
            ],
            [
             0.5555555555555556,
             "#d8576b"
            ],
            [
             0.6666666666666666,
             "#ed7953"
            ],
            [
             0.7777777777777778,
             "#fb9f3a"
            ],
            [
             0.8888888888888888,
             "#fdca26"
            ],
            [
             1,
             "#f0f921"
            ]
           ]
          },
          "colorway": [
           "#636efa",
           "#EF553B",
           "#00cc96",
           "#ab63fa",
           "#FFA15A",
           "#19d3f3",
           "#FF6692",
           "#B6E880",
           "#FF97FF",
           "#FECB52"
          ],
          "font": {
           "color": "#2a3f5f"
          },
          "geo": {
           "bgcolor": "white",
           "lakecolor": "white",
           "landcolor": "#E5ECF6",
           "showlakes": true,
           "showland": true,
           "subunitcolor": "white"
          },
          "hoverlabel": {
           "align": "left"
          },
          "hovermode": "closest",
          "mapbox": {
           "style": "light"
          },
          "paper_bgcolor": "white",
          "plot_bgcolor": "#E5ECF6",
          "polar": {
           "angularaxis": {
            "gridcolor": "white",
            "linecolor": "white",
            "ticks": ""
           },
           "bgcolor": "#E5ECF6",
           "radialaxis": {
            "gridcolor": "white",
            "linecolor": "white",
            "ticks": ""
           }
          },
          "scene": {
           "xaxis": {
            "backgroundcolor": "#E5ECF6",
            "gridcolor": "white",
            "gridwidth": 2,
            "linecolor": "white",
            "showbackground": true,
            "ticks": "",
            "zerolinecolor": "white"
           },
           "yaxis": {
            "backgroundcolor": "#E5ECF6",
            "gridcolor": "white",
            "gridwidth": 2,
            "linecolor": "white",
            "showbackground": true,
            "ticks": "",
            "zerolinecolor": "white"
           },
           "zaxis": {
            "backgroundcolor": "#E5ECF6",
            "gridcolor": "white",
            "gridwidth": 2,
            "linecolor": "white",
            "showbackground": true,
            "ticks": "",
            "zerolinecolor": "white"
           }
          },
          "shapedefaults": {
           "line": {
            "color": "#2a3f5f"
           }
          },
          "ternary": {
           "aaxis": {
            "gridcolor": "white",
            "linecolor": "white",
            "ticks": ""
           },
           "baxis": {
            "gridcolor": "white",
            "linecolor": "white",
            "ticks": ""
           },
           "bgcolor": "#E5ECF6",
           "caxis": {
            "gridcolor": "white",
            "linecolor": "white",
            "ticks": ""
           }
          },
          "title": {
           "x": 0.05
          },
          "xaxis": {
           "automargin": true,
           "gridcolor": "white",
           "linecolor": "white",
           "ticks": "",
           "title": {
            "standoff": 15
           },
           "zerolinecolor": "white",
           "zerolinewidth": 2
          },
          "yaxis": {
           "automargin": true,
           "gridcolor": "white",
           "linecolor": "white",
           "ticks": "",
           "title": {
            "standoff": 15
           },
           "zerolinecolor": "white",
           "zerolinewidth": 2
          }
         }
        },
        "title": {
         "text": "Average Execution Time for Usecase 7 Over Time"
        },
        "xaxis": {
         "anchor": "y",
         "domain": [
          0,
          1
         ],
         "title": {
          "text": "Date"
         }
        },
        "yaxis": {
         "anchor": "x",
         "domain": [
          0,
          1
         ],
         "title": {
          "text": "Average Execution Time (s)"
         }
        }
       }
      }
     },
     "metadata": {},
     "output_type": "display_data"
    }
   ],
   "source": [
    "uc = 7  #NOTE: Here change the usecase and reexecute\n",
    "df_uc = df[df[\"usecase\"] == uc].copy()\n",
    "\n",
    "# Group by date (or exact timestamp) & database\n",
    "# If you want to aggregate per‐day rather than per‐timestamp, extract date:\n",
    "df_uc[\"date_only\"] = df_uc[\"timestamp\"].dt.date\n",
    "\n",
    "# Compute mean execution_time per database per day:\n",
    "grouped = (\n",
    "    df_uc\n",
    "    .groupby([\"date_only\", \"database\"])\n",
    "    .execution_time_s\n",
    "    .mean()\n",
    "    .reset_index(name=\"mean_exec_time_s\")\n",
    ")\n",
    "\n",
    "fig = px.line(\n",
    "    grouped,\n",
    "    x=\"date_only\",\n",
    "    y=\"mean_exec_time_s\",\n",
    "    color=\"database\",\n",
    "    markers=True,\n",
    "    title=f\"Average Execution Time for Usecase {uc} Over Time\"\n",
    ")\n",
    "fig.update_layout(\n",
    "    xaxis_title=\"Date\",\n",
    "    yaxis_title=\"Average Execution Time (s)\"\n",
    ")\n",
    "fig.show()"
   ]
  },
  {
   "cell_type": "markdown",
   "metadata": {},
   "source": [
    "### Plot3: Line‐Plot Over Time: How Execution Time Evolves per Operation Type"
   ]
  },
  {
   "cell_type": "code",
   "execution_count": 42,
   "metadata": {},
   "outputs": [
    {
     "data": {
      "application/vnd.plotly.v1+json": {
       "config": {
        "plotlyServerURL": "https://plot.ly"
       },
       "data": [
        {
         "hovertemplate": "database=clickhouse<br>usecase_full_name=usecase1_filter_properties<br>date_only=%{x}<br>mean_exec_time_s=%{y}<extra></extra>",
         "legendgroup": "clickhouse, usecase1_filter_properties",
         "line": {
          "color": "#636efa",
          "dash": "solid"
         },
         "marker": {
          "symbol": "circle"
         },
         "mode": "lines+markers",
         "name": "clickhouse, usecase1_filter_properties",
         "orientation": "v",
         "showlegend": true,
         "type": "scatter",
         "x": [
          "2025-06-02",
          "2025-06-03",
          "2025-06-04"
         ],
         "xaxis": "x3",
         "y": [
          4.25,
          4.333333333333333,
          4
         ],
         "yaxis": "y3"
        },
        {
         "hovertemplate": "database=clickhouse<br>usecase_full_name=usecase4_price_analysis<br>date_only=%{x}<br>mean_exec_time_s=%{y}<extra></extra>",
         "legendgroup": "clickhouse, usecase4_price_analysis",
         "line": {
          "color": "#636efa",
          "dash": "dot"
         },
         "marker": {
          "symbol": "circle"
         },
         "mode": "lines+markers",
         "name": "clickhouse, usecase4_price_analysis",
         "orientation": "v",
         "showlegend": true,
         "type": "scatter",
         "x": [
          "2025-06-02",
          "2025-06-03",
          "2025-06-04"
         ],
         "xaxis": "x4",
         "y": [
          0,
          0,
          0
         ],
         "yaxis": "y4"
        },
        {
         "hovertemplate": "database=clickhouse<br>usecase_full_name=usecase5_average_price_per_city<br>date_only=%{x}<br>mean_exec_time_s=%{y}<extra></extra>",
         "legendgroup": "clickhouse, usecase5_average_price_per_city",
         "line": {
          "color": "#636efa",
          "dash": "dash"
         },
         "marker": {
          "symbol": "circle"
         },
         "mode": "lines+markers",
         "name": "clickhouse, usecase5_average_price_per_city",
         "orientation": "v",
         "showlegend": true,
         "type": "scatter",
         "x": [
          "2025-06-02",
          "2025-06-03",
          "2025-06-04"
         ],
         "xaxis": "x",
         "y": [
          0,
          0,
          0
         ],
         "yaxis": "y"
        },
        {
         "hovertemplate": "database=clickhouse<br>usecase_full_name=usecase6_filter_by_bedrooms_and_size<br>date_only=%{x}<br>mean_exec_time_s=%{y}<extra></extra>",
         "legendgroup": "clickhouse, usecase6_filter_by_bedrooms_and_size",
         "line": {
          "color": "#636efa",
          "dash": "longdash"
         },
         "marker": {
          "symbol": "circle"
         },
         "mode": "lines+markers",
         "name": "clickhouse, usecase6_filter_by_bedrooms_and_size",
         "orientation": "v",
         "showlegend": true,
         "type": "scatter",
         "x": [
          "2025-06-02",
          "2025-06-03",
          "2025-06-04"
         ],
         "xaxis": "x2",
         "y": [
          3,
          3.1666666666666665,
          3
         ],
         "yaxis": "y2"
        },
        {
         "hovertemplate": "database=mongodb<br>usecase_full_name=usecase1_filter_properties<br>date_only=%{x}<br>mean_exec_time_s=%{y}<extra></extra>",
         "legendgroup": "mongodb, usecase1_filter_properties",
         "line": {
          "color": "#EF553B",
          "dash": "solid"
         },
         "marker": {
          "symbol": "circle"
         },
         "mode": "lines+markers",
         "name": "mongodb, usecase1_filter_properties",
         "orientation": "v",
         "showlegend": true,
         "type": "scatter",
         "x": [
          "2025-06-02",
          "2025-06-03",
          "2025-06-04"
         ],
         "xaxis": "x3",
         "y": [
          9.8,
          9.916666666666666,
          9.8
         ],
         "yaxis": "y3"
        },
        {
         "hovertemplate": "database=mongodb<br>usecase_full_name=usecase4_price_analysis<br>date_only=%{x}<br>mean_exec_time_s=%{y}<extra></extra>",
         "legendgroup": "mongodb, usecase4_price_analysis",
         "line": {
          "color": "#EF553B",
          "dash": "dot"
         },
         "marker": {
          "symbol": "circle"
         },
         "mode": "lines+markers",
         "name": "mongodb, usecase4_price_analysis",
         "orientation": "v",
         "showlegend": true,
         "type": "scatter",
         "x": [
          "2025-06-02",
          "2025-06-03",
          "2025-06-04"
         ],
         "xaxis": "x4",
         "y": [
          0,
          0,
          0
         ],
         "yaxis": "y4"
        },
        {
         "hovertemplate": "database=mongodb<br>usecase_full_name=usecase5_average_price_per_city<br>date_only=%{x}<br>mean_exec_time_s=%{y}<extra></extra>",
         "legendgroup": "mongodb, usecase5_average_price_per_city",
         "line": {
          "color": "#EF553B",
          "dash": "dash"
         },
         "marker": {
          "symbol": "circle"
         },
         "mode": "lines+markers",
         "name": "mongodb, usecase5_average_price_per_city",
         "orientation": "v",
         "showlegend": true,
         "type": "scatter",
         "x": [
          "2025-06-02",
          "2025-06-03",
          "2025-06-04"
         ],
         "xaxis": "x",
         "y": [
          10,
          9.833333333333334,
          9.8
         ],
         "yaxis": "y"
        },
        {
         "hovertemplate": "database=mongodb<br>usecase_full_name=usecase6_filter_by_bedrooms_and_size<br>date_only=%{x}<br>mean_exec_time_s=%{y}<extra></extra>",
         "legendgroup": "mongodb, usecase6_filter_by_bedrooms_and_size",
         "line": {
          "color": "#EF553B",
          "dash": "longdash"
         },
         "marker": {
          "symbol": "circle"
         },
         "mode": "lines+markers",
         "name": "mongodb, usecase6_filter_by_bedrooms_and_size",
         "orientation": "v",
         "showlegend": true,
         "type": "scatter",
         "x": [
          "2025-06-02",
          "2025-06-03",
          "2025-06-04"
         ],
         "xaxis": "x2",
         "y": [
          4.6,
          4.833333333333333,
          4.6
         ],
         "yaxis": "y2"
        },
        {
         "hovertemplate": "database=postgres<br>usecase_full_name=usecase1_filter_properties<br>date_only=%{x}<br>mean_exec_time_s=%{y}<extra></extra>",
         "legendgroup": "postgres, usecase1_filter_properties",
         "line": {
          "color": "#00cc96",
          "dash": "solid"
         },
         "marker": {
          "symbol": "circle"
         },
         "mode": "lines+markers",
         "name": "postgres, usecase1_filter_properties",
         "orientation": "v",
         "showlegend": true,
         "type": "scatter",
         "x": [
          "2025-06-02",
          "2025-06-03",
          "2025-06-04"
         ],
         "xaxis": "x3",
         "y": [
          7.8,
          7.5,
          7.8
         ],
         "yaxis": "y3"
        },
        {
         "hovertemplate": "database=postgres<br>usecase_full_name=usecase4_price_analysis<br>date_only=%{x}<br>mean_exec_time_s=%{y}<extra></extra>",
         "legendgroup": "postgres, usecase4_price_analysis",
         "line": {
          "color": "#00cc96",
          "dash": "dot"
         },
         "marker": {
          "symbol": "circle"
         },
         "mode": "lines+markers",
         "name": "postgres, usecase4_price_analysis",
         "orientation": "v",
         "showlegend": true,
         "type": "scatter",
         "x": [
          "2025-06-02",
          "2025-06-03",
          "2025-06-04"
         ],
         "xaxis": "x4",
         "y": [
          0,
          0,
          0
         ],
         "yaxis": "y4"
        },
        {
         "hovertemplate": "database=postgres<br>usecase_full_name=usecase5_average_price_per_city<br>date_only=%{x}<br>mean_exec_time_s=%{y}<extra></extra>",
         "legendgroup": "postgres, usecase5_average_price_per_city",
         "line": {
          "color": "#00cc96",
          "dash": "dash"
         },
         "marker": {
          "symbol": "circle"
         },
         "mode": "lines+markers",
         "name": "postgres, usecase5_average_price_per_city",
         "orientation": "v",
         "showlegend": true,
         "type": "scatter",
         "x": [
          "2025-06-02",
          "2025-06-03",
          "2025-06-04"
         ],
         "xaxis": "x",
         "y": [
          1.8,
          1.5833333333333333,
          1.4
         ],
         "yaxis": "y"
        },
        {
         "hovertemplate": "database=postgres<br>usecase_full_name=usecase6_filter_by_bedrooms_and_size<br>date_only=%{x}<br>mean_exec_time_s=%{y}<extra></extra>",
         "legendgroup": "postgres, usecase6_filter_by_bedrooms_and_size",
         "line": {
          "color": "#00cc96",
          "dash": "longdash"
         },
         "marker": {
          "symbol": "circle"
         },
         "mode": "lines+markers",
         "name": "postgres, usecase6_filter_by_bedrooms_and_size",
         "orientation": "v",
         "showlegend": true,
         "type": "scatter",
         "x": [
          "2025-06-02",
          "2025-06-03",
          "2025-06-04"
         ],
         "xaxis": "x2",
         "y": [
          3,
          2.75,
          2.8
         ],
         "yaxis": "y2"
        }
       ],
       "layout": {
        "annotations": [
         {
          "font": {},
          "showarrow": false,
          "text": "usecase5_average_price_per_city",
          "x": 0.245,
          "xanchor": "center",
          "xref": "paper",
          "y": 0.46499999999999997,
          "yanchor": "bottom",
          "yref": "paper"
         },
         {
          "font": {},
          "showarrow": false,
          "text": "usecase6_filter_by_bedrooms_and_size",
          "x": 0.755,
          "xanchor": "center",
          "xref": "paper",
          "y": 0.46499999999999997,
          "yanchor": "bottom",
          "yref": "paper"
         },
         {
          "font": {},
          "showarrow": false,
          "text": "usecase1_filter_properties",
          "x": 0.245,
          "xanchor": "center",
          "xref": "paper",
          "y": 0.9999999999999999,
          "yanchor": "bottom",
          "yref": "paper"
         },
         {
          "font": {},
          "showarrow": false,
          "text": "usecase4_price_analysis",
          "x": 0.755,
          "xanchor": "center",
          "xref": "paper",
          "y": 0.9999999999999999,
          "yanchor": "bottom",
          "yref": "paper"
         }
        ],
        "height": 600,
        "legend": {
         "title": {
          "text": "database, usecase_full_name"
         },
         "tracegroupgap": 0
        },
        "showlegend": true,
        "template": {
         "data": {
          "bar": [
           {
            "error_x": {
             "color": "#2a3f5f"
            },
            "error_y": {
             "color": "#2a3f5f"
            },
            "marker": {
             "line": {
              "color": "#E5ECF6",
              "width": 0.5
             },
             "pattern": {
              "fillmode": "overlay",
              "size": 10,
              "solidity": 0.2
             }
            },
            "type": "bar"
           }
          ],
          "barpolar": [
           {
            "marker": {
             "line": {
              "color": "#E5ECF6",
              "width": 0.5
             },
             "pattern": {
              "fillmode": "overlay",
              "size": 10,
              "solidity": 0.2
             }
            },
            "type": "barpolar"
           }
          ],
          "carpet": [
           {
            "aaxis": {
             "endlinecolor": "#2a3f5f",
             "gridcolor": "white",
             "linecolor": "white",
             "minorgridcolor": "white",
             "startlinecolor": "#2a3f5f"
            },
            "baxis": {
             "endlinecolor": "#2a3f5f",
             "gridcolor": "white",
             "linecolor": "white",
             "minorgridcolor": "white",
             "startlinecolor": "#2a3f5f"
            },
            "type": "carpet"
           }
          ],
          "choropleth": [
           {
            "colorbar": {
             "outlinewidth": 0,
             "ticks": ""
            },
            "type": "choropleth"
           }
          ],
          "contour": [
           {
            "colorbar": {
             "outlinewidth": 0,
             "ticks": ""
            },
            "colorscale": [
             [
              0,
              "#0d0887"
             ],
             [
              0.1111111111111111,
              "#46039f"
             ],
             [
              0.2222222222222222,
              "#7201a8"
             ],
             [
              0.3333333333333333,
              "#9c179e"
             ],
             [
              0.4444444444444444,
              "#bd3786"
             ],
             [
              0.5555555555555556,
              "#d8576b"
             ],
             [
              0.6666666666666666,
              "#ed7953"
             ],
             [
              0.7777777777777778,
              "#fb9f3a"
             ],
             [
              0.8888888888888888,
              "#fdca26"
             ],
             [
              1,
              "#f0f921"
             ]
            ],
            "type": "contour"
           }
          ],
          "contourcarpet": [
           {
            "colorbar": {
             "outlinewidth": 0,
             "ticks": ""
            },
            "type": "contourcarpet"
           }
          ],
          "heatmap": [
           {
            "colorbar": {
             "outlinewidth": 0,
             "ticks": ""
            },
            "colorscale": [
             [
              0,
              "#0d0887"
             ],
             [
              0.1111111111111111,
              "#46039f"
             ],
             [
              0.2222222222222222,
              "#7201a8"
             ],
             [
              0.3333333333333333,
              "#9c179e"
             ],
             [
              0.4444444444444444,
              "#bd3786"
             ],
             [
              0.5555555555555556,
              "#d8576b"
             ],
             [
              0.6666666666666666,
              "#ed7953"
             ],
             [
              0.7777777777777778,
              "#fb9f3a"
             ],
             [
              0.8888888888888888,
              "#fdca26"
             ],
             [
              1,
              "#f0f921"
             ]
            ],
            "type": "heatmap"
           }
          ],
          "heatmapgl": [
           {
            "colorbar": {
             "outlinewidth": 0,
             "ticks": ""
            },
            "colorscale": [
             [
              0,
              "#0d0887"
             ],
             [
              0.1111111111111111,
              "#46039f"
             ],
             [
              0.2222222222222222,
              "#7201a8"
             ],
             [
              0.3333333333333333,
              "#9c179e"
             ],
             [
              0.4444444444444444,
              "#bd3786"
             ],
             [
              0.5555555555555556,
              "#d8576b"
             ],
             [
              0.6666666666666666,
              "#ed7953"
             ],
             [
              0.7777777777777778,
              "#fb9f3a"
             ],
             [
              0.8888888888888888,
              "#fdca26"
             ],
             [
              1,
              "#f0f921"
             ]
            ],
            "type": "heatmapgl"
           }
          ],
          "histogram": [
           {
            "marker": {
             "pattern": {
              "fillmode": "overlay",
              "size": 10,
              "solidity": 0.2
             }
            },
            "type": "histogram"
           }
          ],
          "histogram2d": [
           {
            "colorbar": {
             "outlinewidth": 0,
             "ticks": ""
            },
            "colorscale": [
             [
              0,
              "#0d0887"
             ],
             [
              0.1111111111111111,
              "#46039f"
             ],
             [
              0.2222222222222222,
              "#7201a8"
             ],
             [
              0.3333333333333333,
              "#9c179e"
             ],
             [
              0.4444444444444444,
              "#bd3786"
             ],
             [
              0.5555555555555556,
              "#d8576b"
             ],
             [
              0.6666666666666666,
              "#ed7953"
             ],
             [
              0.7777777777777778,
              "#fb9f3a"
             ],
             [
              0.8888888888888888,
              "#fdca26"
             ],
             [
              1,
              "#f0f921"
             ]
            ],
            "type": "histogram2d"
           }
          ],
          "histogram2dcontour": [
           {
            "colorbar": {
             "outlinewidth": 0,
             "ticks": ""
            },
            "colorscale": [
             [
              0,
              "#0d0887"
             ],
             [
              0.1111111111111111,
              "#46039f"
             ],
             [
              0.2222222222222222,
              "#7201a8"
             ],
             [
              0.3333333333333333,
              "#9c179e"
             ],
             [
              0.4444444444444444,
              "#bd3786"
             ],
             [
              0.5555555555555556,
              "#d8576b"
             ],
             [
              0.6666666666666666,
              "#ed7953"
             ],
             [
              0.7777777777777778,
              "#fb9f3a"
             ],
             [
              0.8888888888888888,
              "#fdca26"
             ],
             [
              1,
              "#f0f921"
             ]
            ],
            "type": "histogram2dcontour"
           }
          ],
          "mesh3d": [
           {
            "colorbar": {
             "outlinewidth": 0,
             "ticks": ""
            },
            "type": "mesh3d"
           }
          ],
          "parcoords": [
           {
            "line": {
             "colorbar": {
              "outlinewidth": 0,
              "ticks": ""
             }
            },
            "type": "parcoords"
           }
          ],
          "pie": [
           {
            "automargin": true,
            "type": "pie"
           }
          ],
          "scatter": [
           {
            "fillpattern": {
             "fillmode": "overlay",
             "size": 10,
             "solidity": 0.2
            },
            "type": "scatter"
           }
          ],
          "scatter3d": [
           {
            "line": {
             "colorbar": {
              "outlinewidth": 0,
              "ticks": ""
             }
            },
            "marker": {
             "colorbar": {
              "outlinewidth": 0,
              "ticks": ""
             }
            },
            "type": "scatter3d"
           }
          ],
          "scattercarpet": [
           {
            "marker": {
             "colorbar": {
              "outlinewidth": 0,
              "ticks": ""
             }
            },
            "type": "scattercarpet"
           }
          ],
          "scattergeo": [
           {
            "marker": {
             "colorbar": {
              "outlinewidth": 0,
              "ticks": ""
             }
            },
            "type": "scattergeo"
           }
          ],
          "scattergl": [
           {
            "marker": {
             "colorbar": {
              "outlinewidth": 0,
              "ticks": ""
             }
            },
            "type": "scattergl"
           }
          ],
          "scattermapbox": [
           {
            "marker": {
             "colorbar": {
              "outlinewidth": 0,
              "ticks": ""
             }
            },
            "type": "scattermapbox"
           }
          ],
          "scatterpolar": [
           {
            "marker": {
             "colorbar": {
              "outlinewidth": 0,
              "ticks": ""
             }
            },
            "type": "scatterpolar"
           }
          ],
          "scatterpolargl": [
           {
            "marker": {
             "colorbar": {
              "outlinewidth": 0,
              "ticks": ""
             }
            },
            "type": "scatterpolargl"
           }
          ],
          "scatterternary": [
           {
            "marker": {
             "colorbar": {
              "outlinewidth": 0,
              "ticks": ""
             }
            },
            "type": "scatterternary"
           }
          ],
          "surface": [
           {
            "colorbar": {
             "outlinewidth": 0,
             "ticks": ""
            },
            "colorscale": [
             [
              0,
              "#0d0887"
             ],
             [
              0.1111111111111111,
              "#46039f"
             ],
             [
              0.2222222222222222,
              "#7201a8"
             ],
             [
              0.3333333333333333,
              "#9c179e"
             ],
             [
              0.4444444444444444,
              "#bd3786"
             ],
             [
              0.5555555555555556,
              "#d8576b"
             ],
             [
              0.6666666666666666,
              "#ed7953"
             ],
             [
              0.7777777777777778,
              "#fb9f3a"
             ],
             [
              0.8888888888888888,
              "#fdca26"
             ],
             [
              1,
              "#f0f921"
             ]
            ],
            "type": "surface"
           }
          ],
          "table": [
           {
            "cells": {
             "fill": {
              "color": "#EBF0F8"
             },
             "line": {
              "color": "white"
             }
            },
            "header": {
             "fill": {
              "color": "#C8D4E3"
             },
             "line": {
              "color": "white"
             }
            },
            "type": "table"
           }
          ]
         },
         "layout": {
          "annotationdefaults": {
           "arrowcolor": "#2a3f5f",
           "arrowhead": 0,
           "arrowwidth": 1
          },
          "autotypenumbers": "strict",
          "coloraxis": {
           "colorbar": {
            "outlinewidth": 0,
            "ticks": ""
           }
          },
          "colorscale": {
           "diverging": [
            [
             0,
             "#8e0152"
            ],
            [
             0.1,
             "#c51b7d"
            ],
            [
             0.2,
             "#de77ae"
            ],
            [
             0.3,
             "#f1b6da"
            ],
            [
             0.4,
             "#fde0ef"
            ],
            [
             0.5,
             "#f7f7f7"
            ],
            [
             0.6,
             "#e6f5d0"
            ],
            [
             0.7,
             "#b8e186"
            ],
            [
             0.8,
             "#7fbc41"
            ],
            [
             0.9,
             "#4d9221"
            ],
            [
             1,
             "#276419"
            ]
           ],
           "sequential": [
            [
             0,
             "#0d0887"
            ],
            [
             0.1111111111111111,
             "#46039f"
            ],
            [
             0.2222222222222222,
             "#7201a8"
            ],
            [
             0.3333333333333333,
             "#9c179e"
            ],
            [
             0.4444444444444444,
             "#bd3786"
            ],
            [
             0.5555555555555556,
             "#d8576b"
            ],
            [
             0.6666666666666666,
             "#ed7953"
            ],
            [
             0.7777777777777778,
             "#fb9f3a"
            ],
            [
             0.8888888888888888,
             "#fdca26"
            ],
            [
             1,
             "#f0f921"
            ]
           ],
           "sequentialminus": [
            [
             0,
             "#0d0887"
            ],
            [
             0.1111111111111111,
             "#46039f"
            ],
            [
             0.2222222222222222,
             "#7201a8"
            ],
            [
             0.3333333333333333,
             "#9c179e"
            ],
            [
             0.4444444444444444,
             "#bd3786"
            ],
            [
             0.5555555555555556,
             "#d8576b"
            ],
            [
             0.6666666666666666,
             "#ed7953"
            ],
            [
             0.7777777777777778,
             "#fb9f3a"
            ],
            [
             0.8888888888888888,
             "#fdca26"
            ],
            [
             1,
             "#f0f921"
            ]
           ]
          },
          "colorway": [
           "#636efa",
           "#EF553B",
           "#00cc96",
           "#ab63fa",
           "#FFA15A",
           "#19d3f3",
           "#FF6692",
           "#B6E880",
           "#FF97FF",
           "#FECB52"
          ],
          "font": {
           "color": "#2a3f5f"
          },
          "geo": {
           "bgcolor": "white",
           "lakecolor": "white",
           "landcolor": "#E5ECF6",
           "showlakes": true,
           "showland": true,
           "subunitcolor": "white"
          },
          "hoverlabel": {
           "align": "left"
          },
          "hovermode": "closest",
          "mapbox": {
           "style": "light"
          },
          "paper_bgcolor": "white",
          "plot_bgcolor": "#E5ECF6",
          "polar": {
           "angularaxis": {
            "gridcolor": "white",
            "linecolor": "white",
            "ticks": ""
           },
           "bgcolor": "#E5ECF6",
           "radialaxis": {
            "gridcolor": "white",
            "linecolor": "white",
            "ticks": ""
           }
          },
          "scene": {
           "xaxis": {
            "backgroundcolor": "#E5ECF6",
            "gridcolor": "white",
            "gridwidth": 2,
            "linecolor": "white",
            "showbackground": true,
            "ticks": "",
            "zerolinecolor": "white"
           },
           "yaxis": {
            "backgroundcolor": "#E5ECF6",
            "gridcolor": "white",
            "gridwidth": 2,
            "linecolor": "white",
            "showbackground": true,
            "ticks": "",
            "zerolinecolor": "white"
           },
           "zaxis": {
            "backgroundcolor": "#E5ECF6",
            "gridcolor": "white",
            "gridwidth": 2,
            "linecolor": "white",
            "showbackground": true,
            "ticks": "",
            "zerolinecolor": "white"
           }
          },
          "shapedefaults": {
           "line": {
            "color": "#2a3f5f"
           }
          },
          "ternary": {
           "aaxis": {
            "gridcolor": "white",
            "linecolor": "white",
            "ticks": ""
           },
           "baxis": {
            "gridcolor": "white",
            "linecolor": "white",
            "ticks": ""
           },
           "bgcolor": "#E5ECF6",
           "caxis": {
            "gridcolor": "white",
            "linecolor": "white",
            "ticks": ""
           }
          },
          "title": {
           "x": 0.05
          },
          "xaxis": {
           "automargin": true,
           "gridcolor": "white",
           "linecolor": "white",
           "ticks": "",
           "title": {
            "standoff": 15
           },
           "zerolinecolor": "white",
           "zerolinewidth": 2
          },
          "yaxis": {
           "automargin": true,
           "gridcolor": "white",
           "linecolor": "white",
           "ticks": "",
           "title": {
            "standoff": 15
           },
           "zerolinecolor": "white",
           "zerolinewidth": 2
          }
         }
        },
        "title": {
         "text": "Daily Mean Execution Time for Read Operations"
        },
        "xaxis": {
         "anchor": "y",
         "domain": [
          0,
          0.49
         ],
         "title": {
          "text": "Date"
         }
        },
        "xaxis2": {
         "anchor": "y2",
         "domain": [
          0.51,
          1
         ],
         "matches": "x",
         "title": {
          "text": "date_only"
         }
        },
        "xaxis3": {
         "anchor": "y3",
         "domain": [
          0,
          0.49
         ],
         "matches": "x",
         "showticklabels": false
        },
        "xaxis4": {
         "anchor": "y4",
         "domain": [
          0.51,
          1
         ],
         "matches": "x",
         "showticklabels": false
        },
        "yaxis": {
         "anchor": "x",
         "domain": [
          0,
          0.46499999999999997
         ],
         "title": {
          "text": "Mean Execution Time (s)"
         }
        },
        "yaxis2": {
         "anchor": "x2",
         "domain": [
          0,
          0.46499999999999997
         ],
         "matches": "y",
         "showticklabels": false
        },
        "yaxis3": {
         "anchor": "x3",
         "domain": [
          0.5349999999999999,
          0.9999999999999999
         ],
         "matches": "y",
         "title": {
          "text": "mean_exec_time_s"
         }
        },
        "yaxis4": {
         "anchor": "x4",
         "domain": [
          0.5349999999999999,
          0.9999999999999999
         ],
         "matches": "y",
         "showticklabels": false
        }
       }
      }
     },
     "metadata": {},
     "output_type": "display_data"
    },
    {
     "data": {
      "application/vnd.plotly.v1+json": {
       "config": {
        "plotlyServerURL": "https://plot.ly"
       },
       "data": [
        {
         "hovertemplate": "database=clickhouse<br>usecase_full_name=usecase2_update_prices<br>date_only=%{x}<br>mean_exec_time_s=%{y}<extra></extra>",
         "legendgroup": "clickhouse, usecase2_update_prices",
         "line": {
          "color": "#636efa",
          "dash": "solid"
         },
         "marker": {
          "symbol": "circle"
         },
         "mode": "lines+markers",
         "name": "clickhouse, usecase2_update_prices",
         "orientation": "v",
         "showlegend": true,
         "type": "scatter",
         "x": [
          "2025-06-02",
          "2025-06-03",
          "2025-06-04"
         ],
         "xaxis": "x",
         "y": [
          0,
          0,
          0
         ],
         "yaxis": "y"
        },
        {
         "hovertemplate": "database=clickhouse<br>usecase_full_name=usecase3_add_solar_panels<br>date_only=%{x}<br>mean_exec_time_s=%{y}<extra></extra>",
         "legendgroup": "clickhouse, usecase3_add_solar_panels",
         "line": {
          "color": "#636efa",
          "dash": "dot"
         },
         "marker": {
          "symbol": "circle"
         },
         "mode": "lines+markers",
         "name": "clickhouse, usecase3_add_solar_panels",
         "orientation": "v",
         "showlegend": true,
         "type": "scatter",
         "x": [
          "2025-06-02",
          "2025-06-03",
          "2025-06-04"
         ],
         "xaxis": "x2",
         "y": [
          0,
          0,
          0
         ],
         "yaxis": "y2"
        },
        {
         "hovertemplate": "database=mongodb<br>usecase_full_name=usecase2_update_prices<br>date_only=%{x}<br>mean_exec_time_s=%{y}<extra></extra>",
         "legendgroup": "mongodb, usecase2_update_prices",
         "line": {
          "color": "#EF553B",
          "dash": "solid"
         },
         "marker": {
          "symbol": "circle"
         },
         "mode": "lines+markers",
         "name": "mongodb, usecase2_update_prices",
         "orientation": "v",
         "showlegend": true,
         "type": "scatter",
         "x": [
          "2025-06-02",
          "2025-06-03",
          "2025-06-04"
         ],
         "xaxis": "x",
         "y": [
          0,
          0,
          0
         ],
         "yaxis": "y"
        },
        {
         "hovertemplate": "database=mongodb<br>usecase_full_name=usecase3_add_solar_panels<br>date_only=%{x}<br>mean_exec_time_s=%{y}<extra></extra>",
         "legendgroup": "mongodb, usecase3_add_solar_panels",
         "line": {
          "color": "#EF553B",
          "dash": "dot"
         },
         "marker": {
          "symbol": "circle"
         },
         "mode": "lines+markers",
         "name": "mongodb, usecase3_add_solar_panels",
         "orientation": "v",
         "showlegend": true,
         "type": "scatter",
         "x": [
          "2025-06-02",
          "2025-06-03",
          "2025-06-04"
         ],
         "xaxis": "x2",
         "y": [
          6.2,
          5.916666666666667,
          6
         ],
         "yaxis": "y2"
        },
        {
         "hovertemplate": "database=postgres<br>usecase_full_name=usecase2_update_prices<br>date_only=%{x}<br>mean_exec_time_s=%{y}<extra></extra>",
         "legendgroup": "postgres, usecase2_update_prices",
         "line": {
          "color": "#00cc96",
          "dash": "solid"
         },
         "marker": {
          "symbol": "circle"
         },
         "mode": "lines+markers",
         "name": "postgres, usecase2_update_prices",
         "orientation": "v",
         "showlegend": true,
         "type": "scatter",
         "x": [
          "2025-06-02",
          "2025-06-03",
          "2025-06-04"
         ],
         "xaxis": "x",
         "y": [
          0,
          0,
          0
         ],
         "yaxis": "y"
        },
        {
         "hovertemplate": "database=postgres<br>usecase_full_name=usecase3_add_solar_panels<br>date_only=%{x}<br>mean_exec_time_s=%{y}<extra></extra>",
         "legendgroup": "postgres, usecase3_add_solar_panels",
         "line": {
          "color": "#00cc96",
          "dash": "dot"
         },
         "marker": {
          "symbol": "circle"
         },
         "mode": "lines+markers",
         "name": "postgres, usecase3_add_solar_panels",
         "orientation": "v",
         "showlegend": true,
         "type": "scatter",
         "x": [
          "2025-06-02",
          "2025-06-03",
          "2025-06-04"
         ],
         "xaxis": "x2",
         "y": [
          28.6,
          28.25,
          28.6
         ],
         "yaxis": "y2"
        }
       ],
       "layout": {
        "annotations": [
         {
          "font": {},
          "showarrow": false,
          "text": "usecase2_update_prices",
          "x": 0.245,
          "xanchor": "center",
          "xref": "paper",
          "y": 1,
          "yanchor": "bottom",
          "yref": "paper"
         },
         {
          "font": {},
          "showarrow": false,
          "text": "usecase3_add_solar_panels",
          "x": 0.755,
          "xanchor": "center",
          "xref": "paper",
          "y": 1,
          "yanchor": "bottom",
          "yref": "paper"
         }
        ],
        "height": 600,
        "legend": {
         "title": {
          "text": "database, usecase_full_name"
         },
         "tracegroupgap": 0
        },
        "showlegend": true,
        "template": {
         "data": {
          "bar": [
           {
            "error_x": {
             "color": "#2a3f5f"
            },
            "error_y": {
             "color": "#2a3f5f"
            },
            "marker": {
             "line": {
              "color": "#E5ECF6",
              "width": 0.5
             },
             "pattern": {
              "fillmode": "overlay",
              "size": 10,
              "solidity": 0.2
             }
            },
            "type": "bar"
           }
          ],
          "barpolar": [
           {
            "marker": {
             "line": {
              "color": "#E5ECF6",
              "width": 0.5
             },
             "pattern": {
              "fillmode": "overlay",
              "size": 10,
              "solidity": 0.2
             }
            },
            "type": "barpolar"
           }
          ],
          "carpet": [
           {
            "aaxis": {
             "endlinecolor": "#2a3f5f",
             "gridcolor": "white",
             "linecolor": "white",
             "minorgridcolor": "white",
             "startlinecolor": "#2a3f5f"
            },
            "baxis": {
             "endlinecolor": "#2a3f5f",
             "gridcolor": "white",
             "linecolor": "white",
             "minorgridcolor": "white",
             "startlinecolor": "#2a3f5f"
            },
            "type": "carpet"
           }
          ],
          "choropleth": [
           {
            "colorbar": {
             "outlinewidth": 0,
             "ticks": ""
            },
            "type": "choropleth"
           }
          ],
          "contour": [
           {
            "colorbar": {
             "outlinewidth": 0,
             "ticks": ""
            },
            "colorscale": [
             [
              0,
              "#0d0887"
             ],
             [
              0.1111111111111111,
              "#46039f"
             ],
             [
              0.2222222222222222,
              "#7201a8"
             ],
             [
              0.3333333333333333,
              "#9c179e"
             ],
             [
              0.4444444444444444,
              "#bd3786"
             ],
             [
              0.5555555555555556,
              "#d8576b"
             ],
             [
              0.6666666666666666,
              "#ed7953"
             ],
             [
              0.7777777777777778,
              "#fb9f3a"
             ],
             [
              0.8888888888888888,
              "#fdca26"
             ],
             [
              1,
              "#f0f921"
             ]
            ],
            "type": "contour"
           }
          ],
          "contourcarpet": [
           {
            "colorbar": {
             "outlinewidth": 0,
             "ticks": ""
            },
            "type": "contourcarpet"
           }
          ],
          "heatmap": [
           {
            "colorbar": {
             "outlinewidth": 0,
             "ticks": ""
            },
            "colorscale": [
             [
              0,
              "#0d0887"
             ],
             [
              0.1111111111111111,
              "#46039f"
             ],
             [
              0.2222222222222222,
              "#7201a8"
             ],
             [
              0.3333333333333333,
              "#9c179e"
             ],
             [
              0.4444444444444444,
              "#bd3786"
             ],
             [
              0.5555555555555556,
              "#d8576b"
             ],
             [
              0.6666666666666666,
              "#ed7953"
             ],
             [
              0.7777777777777778,
              "#fb9f3a"
             ],
             [
              0.8888888888888888,
              "#fdca26"
             ],
             [
              1,
              "#f0f921"
             ]
            ],
            "type": "heatmap"
           }
          ],
          "heatmapgl": [
           {
            "colorbar": {
             "outlinewidth": 0,
             "ticks": ""
            },
            "colorscale": [
             [
              0,
              "#0d0887"
             ],
             [
              0.1111111111111111,
              "#46039f"
             ],
             [
              0.2222222222222222,
              "#7201a8"
             ],
             [
              0.3333333333333333,
              "#9c179e"
             ],
             [
              0.4444444444444444,
              "#bd3786"
             ],
             [
              0.5555555555555556,
              "#d8576b"
             ],
             [
              0.6666666666666666,
              "#ed7953"
             ],
             [
              0.7777777777777778,
              "#fb9f3a"
             ],
             [
              0.8888888888888888,
              "#fdca26"
             ],
             [
              1,
              "#f0f921"
             ]
            ],
            "type": "heatmapgl"
           }
          ],
          "histogram": [
           {
            "marker": {
             "pattern": {
              "fillmode": "overlay",
              "size": 10,
              "solidity": 0.2
             }
            },
            "type": "histogram"
           }
          ],
          "histogram2d": [
           {
            "colorbar": {
             "outlinewidth": 0,
             "ticks": ""
            },
            "colorscale": [
             [
              0,
              "#0d0887"
             ],
             [
              0.1111111111111111,
              "#46039f"
             ],
             [
              0.2222222222222222,
              "#7201a8"
             ],
             [
              0.3333333333333333,
              "#9c179e"
             ],
             [
              0.4444444444444444,
              "#bd3786"
             ],
             [
              0.5555555555555556,
              "#d8576b"
             ],
             [
              0.6666666666666666,
              "#ed7953"
             ],
             [
              0.7777777777777778,
              "#fb9f3a"
             ],
             [
              0.8888888888888888,
              "#fdca26"
             ],
             [
              1,
              "#f0f921"
             ]
            ],
            "type": "histogram2d"
           }
          ],
          "histogram2dcontour": [
           {
            "colorbar": {
             "outlinewidth": 0,
             "ticks": ""
            },
            "colorscale": [
             [
              0,
              "#0d0887"
             ],
             [
              0.1111111111111111,
              "#46039f"
             ],
             [
              0.2222222222222222,
              "#7201a8"
             ],
             [
              0.3333333333333333,
              "#9c179e"
             ],
             [
              0.4444444444444444,
              "#bd3786"
             ],
             [
              0.5555555555555556,
              "#d8576b"
             ],
             [
              0.6666666666666666,
              "#ed7953"
             ],
             [
              0.7777777777777778,
              "#fb9f3a"
             ],
             [
              0.8888888888888888,
              "#fdca26"
             ],
             [
              1,
              "#f0f921"
             ]
            ],
            "type": "histogram2dcontour"
           }
          ],
          "mesh3d": [
           {
            "colorbar": {
             "outlinewidth": 0,
             "ticks": ""
            },
            "type": "mesh3d"
           }
          ],
          "parcoords": [
           {
            "line": {
             "colorbar": {
              "outlinewidth": 0,
              "ticks": ""
             }
            },
            "type": "parcoords"
           }
          ],
          "pie": [
           {
            "automargin": true,
            "type": "pie"
           }
          ],
          "scatter": [
           {
            "fillpattern": {
             "fillmode": "overlay",
             "size": 10,
             "solidity": 0.2
            },
            "type": "scatter"
           }
          ],
          "scatter3d": [
           {
            "line": {
             "colorbar": {
              "outlinewidth": 0,
              "ticks": ""
             }
            },
            "marker": {
             "colorbar": {
              "outlinewidth": 0,
              "ticks": ""
             }
            },
            "type": "scatter3d"
           }
          ],
          "scattercarpet": [
           {
            "marker": {
             "colorbar": {
              "outlinewidth": 0,
              "ticks": ""
             }
            },
            "type": "scattercarpet"
           }
          ],
          "scattergeo": [
           {
            "marker": {
             "colorbar": {
              "outlinewidth": 0,
              "ticks": ""
             }
            },
            "type": "scattergeo"
           }
          ],
          "scattergl": [
           {
            "marker": {
             "colorbar": {
              "outlinewidth": 0,
              "ticks": ""
             }
            },
            "type": "scattergl"
           }
          ],
          "scattermapbox": [
           {
            "marker": {
             "colorbar": {
              "outlinewidth": 0,
              "ticks": ""
             }
            },
            "type": "scattermapbox"
           }
          ],
          "scatterpolar": [
           {
            "marker": {
             "colorbar": {
              "outlinewidth": 0,
              "ticks": ""
             }
            },
            "type": "scatterpolar"
           }
          ],
          "scatterpolargl": [
           {
            "marker": {
             "colorbar": {
              "outlinewidth": 0,
              "ticks": ""
             }
            },
            "type": "scatterpolargl"
           }
          ],
          "scatterternary": [
           {
            "marker": {
             "colorbar": {
              "outlinewidth": 0,
              "ticks": ""
             }
            },
            "type": "scatterternary"
           }
          ],
          "surface": [
           {
            "colorbar": {
             "outlinewidth": 0,
             "ticks": ""
            },
            "colorscale": [
             [
              0,
              "#0d0887"
             ],
             [
              0.1111111111111111,
              "#46039f"
             ],
             [
              0.2222222222222222,
              "#7201a8"
             ],
             [
              0.3333333333333333,
              "#9c179e"
             ],
             [
              0.4444444444444444,
              "#bd3786"
             ],
             [
              0.5555555555555556,
              "#d8576b"
             ],
             [
              0.6666666666666666,
              "#ed7953"
             ],
             [
              0.7777777777777778,
              "#fb9f3a"
             ],
             [
              0.8888888888888888,
              "#fdca26"
             ],
             [
              1,
              "#f0f921"
             ]
            ],
            "type": "surface"
           }
          ],
          "table": [
           {
            "cells": {
             "fill": {
              "color": "#EBF0F8"
             },
             "line": {
              "color": "white"
             }
            },
            "header": {
             "fill": {
              "color": "#C8D4E3"
             },
             "line": {
              "color": "white"
             }
            },
            "type": "table"
           }
          ]
         },
         "layout": {
          "annotationdefaults": {
           "arrowcolor": "#2a3f5f",
           "arrowhead": 0,
           "arrowwidth": 1
          },
          "autotypenumbers": "strict",
          "coloraxis": {
           "colorbar": {
            "outlinewidth": 0,
            "ticks": ""
           }
          },
          "colorscale": {
           "diverging": [
            [
             0,
             "#8e0152"
            ],
            [
             0.1,
             "#c51b7d"
            ],
            [
             0.2,
             "#de77ae"
            ],
            [
             0.3,
             "#f1b6da"
            ],
            [
             0.4,
             "#fde0ef"
            ],
            [
             0.5,
             "#f7f7f7"
            ],
            [
             0.6,
             "#e6f5d0"
            ],
            [
             0.7,
             "#b8e186"
            ],
            [
             0.8,
             "#7fbc41"
            ],
            [
             0.9,
             "#4d9221"
            ],
            [
             1,
             "#276419"
            ]
           ],
           "sequential": [
            [
             0,
             "#0d0887"
            ],
            [
             0.1111111111111111,
             "#46039f"
            ],
            [
             0.2222222222222222,
             "#7201a8"
            ],
            [
             0.3333333333333333,
             "#9c179e"
            ],
            [
             0.4444444444444444,
             "#bd3786"
            ],
            [
             0.5555555555555556,
             "#d8576b"
            ],
            [
             0.6666666666666666,
             "#ed7953"
            ],
            [
             0.7777777777777778,
             "#fb9f3a"
            ],
            [
             0.8888888888888888,
             "#fdca26"
            ],
            [
             1,
             "#f0f921"
            ]
           ],
           "sequentialminus": [
            [
             0,
             "#0d0887"
            ],
            [
             0.1111111111111111,
             "#46039f"
            ],
            [
             0.2222222222222222,
             "#7201a8"
            ],
            [
             0.3333333333333333,
             "#9c179e"
            ],
            [
             0.4444444444444444,
             "#bd3786"
            ],
            [
             0.5555555555555556,
             "#d8576b"
            ],
            [
             0.6666666666666666,
             "#ed7953"
            ],
            [
             0.7777777777777778,
             "#fb9f3a"
            ],
            [
             0.8888888888888888,
             "#fdca26"
            ],
            [
             1,
             "#f0f921"
            ]
           ]
          },
          "colorway": [
           "#636efa",
           "#EF553B",
           "#00cc96",
           "#ab63fa",
           "#FFA15A",
           "#19d3f3",
           "#FF6692",
           "#B6E880",
           "#FF97FF",
           "#FECB52"
          ],
          "font": {
           "color": "#2a3f5f"
          },
          "geo": {
           "bgcolor": "white",
           "lakecolor": "white",
           "landcolor": "#E5ECF6",
           "showlakes": true,
           "showland": true,
           "subunitcolor": "white"
          },
          "hoverlabel": {
           "align": "left"
          },
          "hovermode": "closest",
          "mapbox": {
           "style": "light"
          },
          "paper_bgcolor": "white",
          "plot_bgcolor": "#E5ECF6",
          "polar": {
           "angularaxis": {
            "gridcolor": "white",
            "linecolor": "white",
            "ticks": ""
           },
           "bgcolor": "#E5ECF6",
           "radialaxis": {
            "gridcolor": "white",
            "linecolor": "white",
            "ticks": ""
           }
          },
          "scene": {
           "xaxis": {
            "backgroundcolor": "#E5ECF6",
            "gridcolor": "white",
            "gridwidth": 2,
            "linecolor": "white",
            "showbackground": true,
            "ticks": "",
            "zerolinecolor": "white"
           },
           "yaxis": {
            "backgroundcolor": "#E5ECF6",
            "gridcolor": "white",
            "gridwidth": 2,
            "linecolor": "white",
            "showbackground": true,
            "ticks": "",
            "zerolinecolor": "white"
           },
           "zaxis": {
            "backgroundcolor": "#E5ECF6",
            "gridcolor": "white",
            "gridwidth": 2,
            "linecolor": "white",
            "showbackground": true,
            "ticks": "",
            "zerolinecolor": "white"
           }
          },
          "shapedefaults": {
           "line": {
            "color": "#2a3f5f"
           }
          },
          "ternary": {
           "aaxis": {
            "gridcolor": "white",
            "linecolor": "white",
            "ticks": ""
           },
           "baxis": {
            "gridcolor": "white",
            "linecolor": "white",
            "ticks": ""
           },
           "bgcolor": "#E5ECF6",
           "caxis": {
            "gridcolor": "white",
            "linecolor": "white",
            "ticks": ""
           }
          },
          "title": {
           "x": 0.05
          },
          "xaxis": {
           "automargin": true,
           "gridcolor": "white",
           "linecolor": "white",
           "ticks": "",
           "title": {
            "standoff": 15
           },
           "zerolinecolor": "white",
           "zerolinewidth": 2
          },
          "yaxis": {
           "automargin": true,
           "gridcolor": "white",
           "linecolor": "white",
           "ticks": "",
           "title": {
            "standoff": 15
           },
           "zerolinecolor": "white",
           "zerolinewidth": 2
          }
         }
        },
        "title": {
         "text": "Daily Mean Execution Time for Update Operations"
        },
        "xaxis": {
         "anchor": "y",
         "domain": [
          0,
          0.49
         ],
         "title": {
          "text": "Date"
         }
        },
        "xaxis2": {
         "anchor": "y2",
         "domain": [
          0.51,
          1
         ],
         "matches": "x",
         "title": {
          "text": "date_only"
         }
        },
        "yaxis": {
         "anchor": "x",
         "domain": [
          0,
          1
         ],
         "title": {
          "text": "Mean Execution Time (s)"
         }
        },
        "yaxis2": {
         "anchor": "x2",
         "domain": [
          0,
          1
         ],
         "matches": "y",
         "showticklabels": false
        }
       }
      }
     },
     "metadata": {},
     "output_type": "display_data"
    },
    {
     "data": {
      "application/vnd.plotly.v1+json": {
       "config": {
        "plotlyServerURL": "https://plot.ly"
       },
       "data": [
        {
         "hovertemplate": "database=clickhouse<br>usecase_full_name=usecase7_bulk_import<br>date_only=%{x}<br>mean_exec_time_s=%{y}<extra></extra>",
         "legendgroup": "clickhouse, usecase7_bulk_import",
         "line": {
          "color": "#636efa",
          "dash": "solid"
         },
         "marker": {
          "symbol": "circle"
         },
         "mode": "lines+markers",
         "name": "clickhouse, usecase7_bulk_import",
         "orientation": "v",
         "showlegend": true,
         "type": "scatter",
         "x": [
          "2025-06-02",
          "2025-06-03",
          "2025-06-04"
         ],
         "xaxis": "x",
         "y": [
          25.25,
          26.916666666666668,
          25.4
         ],
         "yaxis": "y"
        },
        {
         "hovertemplate": "database=mongodb<br>usecase_full_name=usecase7_bulk_import<br>date_only=%{x}<br>mean_exec_time_s=%{y}<extra></extra>",
         "legendgroup": "mongodb, usecase7_bulk_import",
         "line": {
          "color": "#EF553B",
          "dash": "solid"
         },
         "marker": {
          "symbol": "circle"
         },
         "mode": "lines+markers",
         "name": "mongodb, usecase7_bulk_import",
         "orientation": "v",
         "showlegend": true,
         "type": "scatter",
         "x": [
          "2025-06-02",
          "2025-06-03",
          "2025-06-04"
         ],
         "xaxis": "x",
         "y": [
          105.2,
          106.16666666666667,
          104
         ],
         "yaxis": "y"
        },
        {
         "hovertemplate": "database=postgres<br>usecase_full_name=usecase7_bulk_import<br>date_only=%{x}<br>mean_exec_time_s=%{y}<extra></extra>",
         "legendgroup": "postgres, usecase7_bulk_import",
         "line": {
          "color": "#00cc96",
          "dash": "solid"
         },
         "marker": {
          "symbol": "circle"
         },
         "mode": "lines+markers",
         "name": "postgres, usecase7_bulk_import",
         "orientation": "v",
         "showlegend": true,
         "type": "scatter",
         "x": [
          "2025-06-02",
          "2025-06-03",
          "2025-06-04"
         ],
         "xaxis": "x",
         "y": [
          464.4,
          455.9166666666667,
          448.2
         ],
         "yaxis": "y"
        }
       ],
       "layout": {
        "annotations": [
         {
          "font": {},
          "showarrow": false,
          "text": "usecase7_bulk_import",
          "x": 0.5,
          "xanchor": "center",
          "xref": "paper",
          "y": 1,
          "yanchor": "bottom",
          "yref": "paper"
         }
        ],
        "height": 600,
        "legend": {
         "title": {
          "text": "database, usecase_full_name"
         },
         "tracegroupgap": 0
        },
        "showlegend": true,
        "template": {
         "data": {
          "bar": [
           {
            "error_x": {
             "color": "#2a3f5f"
            },
            "error_y": {
             "color": "#2a3f5f"
            },
            "marker": {
             "line": {
              "color": "#E5ECF6",
              "width": 0.5
             },
             "pattern": {
              "fillmode": "overlay",
              "size": 10,
              "solidity": 0.2
             }
            },
            "type": "bar"
           }
          ],
          "barpolar": [
           {
            "marker": {
             "line": {
              "color": "#E5ECF6",
              "width": 0.5
             },
             "pattern": {
              "fillmode": "overlay",
              "size": 10,
              "solidity": 0.2
             }
            },
            "type": "barpolar"
           }
          ],
          "carpet": [
           {
            "aaxis": {
             "endlinecolor": "#2a3f5f",
             "gridcolor": "white",
             "linecolor": "white",
             "minorgridcolor": "white",
             "startlinecolor": "#2a3f5f"
            },
            "baxis": {
             "endlinecolor": "#2a3f5f",
             "gridcolor": "white",
             "linecolor": "white",
             "minorgridcolor": "white",
             "startlinecolor": "#2a3f5f"
            },
            "type": "carpet"
           }
          ],
          "choropleth": [
           {
            "colorbar": {
             "outlinewidth": 0,
             "ticks": ""
            },
            "type": "choropleth"
           }
          ],
          "contour": [
           {
            "colorbar": {
             "outlinewidth": 0,
             "ticks": ""
            },
            "colorscale": [
             [
              0,
              "#0d0887"
             ],
             [
              0.1111111111111111,
              "#46039f"
             ],
             [
              0.2222222222222222,
              "#7201a8"
             ],
             [
              0.3333333333333333,
              "#9c179e"
             ],
             [
              0.4444444444444444,
              "#bd3786"
             ],
             [
              0.5555555555555556,
              "#d8576b"
             ],
             [
              0.6666666666666666,
              "#ed7953"
             ],
             [
              0.7777777777777778,
              "#fb9f3a"
             ],
             [
              0.8888888888888888,
              "#fdca26"
             ],
             [
              1,
              "#f0f921"
             ]
            ],
            "type": "contour"
           }
          ],
          "contourcarpet": [
           {
            "colorbar": {
             "outlinewidth": 0,
             "ticks": ""
            },
            "type": "contourcarpet"
           }
          ],
          "heatmap": [
           {
            "colorbar": {
             "outlinewidth": 0,
             "ticks": ""
            },
            "colorscale": [
             [
              0,
              "#0d0887"
             ],
             [
              0.1111111111111111,
              "#46039f"
             ],
             [
              0.2222222222222222,
              "#7201a8"
             ],
             [
              0.3333333333333333,
              "#9c179e"
             ],
             [
              0.4444444444444444,
              "#bd3786"
             ],
             [
              0.5555555555555556,
              "#d8576b"
             ],
             [
              0.6666666666666666,
              "#ed7953"
             ],
             [
              0.7777777777777778,
              "#fb9f3a"
             ],
             [
              0.8888888888888888,
              "#fdca26"
             ],
             [
              1,
              "#f0f921"
             ]
            ],
            "type": "heatmap"
           }
          ],
          "heatmapgl": [
           {
            "colorbar": {
             "outlinewidth": 0,
             "ticks": ""
            },
            "colorscale": [
             [
              0,
              "#0d0887"
             ],
             [
              0.1111111111111111,
              "#46039f"
             ],
             [
              0.2222222222222222,
              "#7201a8"
             ],
             [
              0.3333333333333333,
              "#9c179e"
             ],
             [
              0.4444444444444444,
              "#bd3786"
             ],
             [
              0.5555555555555556,
              "#d8576b"
             ],
             [
              0.6666666666666666,
              "#ed7953"
             ],
             [
              0.7777777777777778,
              "#fb9f3a"
             ],
             [
              0.8888888888888888,
              "#fdca26"
             ],
             [
              1,
              "#f0f921"
             ]
            ],
            "type": "heatmapgl"
           }
          ],
          "histogram": [
           {
            "marker": {
             "pattern": {
              "fillmode": "overlay",
              "size": 10,
              "solidity": 0.2
             }
            },
            "type": "histogram"
           }
          ],
          "histogram2d": [
           {
            "colorbar": {
             "outlinewidth": 0,
             "ticks": ""
            },
            "colorscale": [
             [
              0,
              "#0d0887"
             ],
             [
              0.1111111111111111,
              "#46039f"
             ],
             [
              0.2222222222222222,
              "#7201a8"
             ],
             [
              0.3333333333333333,
              "#9c179e"
             ],
             [
              0.4444444444444444,
              "#bd3786"
             ],
             [
              0.5555555555555556,
              "#d8576b"
             ],
             [
              0.6666666666666666,
              "#ed7953"
             ],
             [
              0.7777777777777778,
              "#fb9f3a"
             ],
             [
              0.8888888888888888,
              "#fdca26"
             ],
             [
              1,
              "#f0f921"
             ]
            ],
            "type": "histogram2d"
           }
          ],
          "histogram2dcontour": [
           {
            "colorbar": {
             "outlinewidth": 0,
             "ticks": ""
            },
            "colorscale": [
             [
              0,
              "#0d0887"
             ],
             [
              0.1111111111111111,
              "#46039f"
             ],
             [
              0.2222222222222222,
              "#7201a8"
             ],
             [
              0.3333333333333333,
              "#9c179e"
             ],
             [
              0.4444444444444444,
              "#bd3786"
             ],
             [
              0.5555555555555556,
              "#d8576b"
             ],
             [
              0.6666666666666666,
              "#ed7953"
             ],
             [
              0.7777777777777778,
              "#fb9f3a"
             ],
             [
              0.8888888888888888,
              "#fdca26"
             ],
             [
              1,
              "#f0f921"
             ]
            ],
            "type": "histogram2dcontour"
           }
          ],
          "mesh3d": [
           {
            "colorbar": {
             "outlinewidth": 0,
             "ticks": ""
            },
            "type": "mesh3d"
           }
          ],
          "parcoords": [
           {
            "line": {
             "colorbar": {
              "outlinewidth": 0,
              "ticks": ""
             }
            },
            "type": "parcoords"
           }
          ],
          "pie": [
           {
            "automargin": true,
            "type": "pie"
           }
          ],
          "scatter": [
           {
            "fillpattern": {
             "fillmode": "overlay",
             "size": 10,
             "solidity": 0.2
            },
            "type": "scatter"
           }
          ],
          "scatter3d": [
           {
            "line": {
             "colorbar": {
              "outlinewidth": 0,
              "ticks": ""
             }
            },
            "marker": {
             "colorbar": {
              "outlinewidth": 0,
              "ticks": ""
             }
            },
            "type": "scatter3d"
           }
          ],
          "scattercarpet": [
           {
            "marker": {
             "colorbar": {
              "outlinewidth": 0,
              "ticks": ""
             }
            },
            "type": "scattercarpet"
           }
          ],
          "scattergeo": [
           {
            "marker": {
             "colorbar": {
              "outlinewidth": 0,
              "ticks": ""
             }
            },
            "type": "scattergeo"
           }
          ],
          "scattergl": [
           {
            "marker": {
             "colorbar": {
              "outlinewidth": 0,
              "ticks": ""
             }
            },
            "type": "scattergl"
           }
          ],
          "scattermapbox": [
           {
            "marker": {
             "colorbar": {
              "outlinewidth": 0,
              "ticks": ""
             }
            },
            "type": "scattermapbox"
           }
          ],
          "scatterpolar": [
           {
            "marker": {
             "colorbar": {
              "outlinewidth": 0,
              "ticks": ""
             }
            },
            "type": "scatterpolar"
           }
          ],
          "scatterpolargl": [
           {
            "marker": {
             "colorbar": {
              "outlinewidth": 0,
              "ticks": ""
             }
            },
            "type": "scatterpolargl"
           }
          ],
          "scatterternary": [
           {
            "marker": {
             "colorbar": {
              "outlinewidth": 0,
              "ticks": ""
             }
            },
            "type": "scatterternary"
           }
          ],
          "surface": [
           {
            "colorbar": {
             "outlinewidth": 0,
             "ticks": ""
            },
            "colorscale": [
             [
              0,
              "#0d0887"
             ],
             [
              0.1111111111111111,
              "#46039f"
             ],
             [
              0.2222222222222222,
              "#7201a8"
             ],
             [
              0.3333333333333333,
              "#9c179e"
             ],
             [
              0.4444444444444444,
              "#bd3786"
             ],
             [
              0.5555555555555556,
              "#d8576b"
             ],
             [
              0.6666666666666666,
              "#ed7953"
             ],
             [
              0.7777777777777778,
              "#fb9f3a"
             ],
             [
              0.8888888888888888,
              "#fdca26"
             ],
             [
              1,
              "#f0f921"
             ]
            ],
            "type": "surface"
           }
          ],
          "table": [
           {
            "cells": {
             "fill": {
              "color": "#EBF0F8"
             },
             "line": {
              "color": "white"
             }
            },
            "header": {
             "fill": {
              "color": "#C8D4E3"
             },
             "line": {
              "color": "white"
             }
            },
            "type": "table"
           }
          ]
         },
         "layout": {
          "annotationdefaults": {
           "arrowcolor": "#2a3f5f",
           "arrowhead": 0,
           "arrowwidth": 1
          },
          "autotypenumbers": "strict",
          "coloraxis": {
           "colorbar": {
            "outlinewidth": 0,
            "ticks": ""
           }
          },
          "colorscale": {
           "diverging": [
            [
             0,
             "#8e0152"
            ],
            [
             0.1,
             "#c51b7d"
            ],
            [
             0.2,
             "#de77ae"
            ],
            [
             0.3,
             "#f1b6da"
            ],
            [
             0.4,
             "#fde0ef"
            ],
            [
             0.5,
             "#f7f7f7"
            ],
            [
             0.6,
             "#e6f5d0"
            ],
            [
             0.7,
             "#b8e186"
            ],
            [
             0.8,
             "#7fbc41"
            ],
            [
             0.9,
             "#4d9221"
            ],
            [
             1,
             "#276419"
            ]
           ],
           "sequential": [
            [
             0,
             "#0d0887"
            ],
            [
             0.1111111111111111,
             "#46039f"
            ],
            [
             0.2222222222222222,
             "#7201a8"
            ],
            [
             0.3333333333333333,
             "#9c179e"
            ],
            [
             0.4444444444444444,
             "#bd3786"
            ],
            [
             0.5555555555555556,
             "#d8576b"
            ],
            [
             0.6666666666666666,
             "#ed7953"
            ],
            [
             0.7777777777777778,
             "#fb9f3a"
            ],
            [
             0.8888888888888888,
             "#fdca26"
            ],
            [
             1,
             "#f0f921"
            ]
           ],
           "sequentialminus": [
            [
             0,
             "#0d0887"
            ],
            [
             0.1111111111111111,
             "#46039f"
            ],
            [
             0.2222222222222222,
             "#7201a8"
            ],
            [
             0.3333333333333333,
             "#9c179e"
            ],
            [
             0.4444444444444444,
             "#bd3786"
            ],
            [
             0.5555555555555556,
             "#d8576b"
            ],
            [
             0.6666666666666666,
             "#ed7953"
            ],
            [
             0.7777777777777778,
             "#fb9f3a"
            ],
            [
             0.8888888888888888,
             "#fdca26"
            ],
            [
             1,
             "#f0f921"
            ]
           ]
          },
          "colorway": [
           "#636efa",
           "#EF553B",
           "#00cc96",
           "#ab63fa",
           "#FFA15A",
           "#19d3f3",
           "#FF6692",
           "#B6E880",
           "#FF97FF",
           "#FECB52"
          ],
          "font": {
           "color": "#2a3f5f"
          },
          "geo": {
           "bgcolor": "white",
           "lakecolor": "white",
           "landcolor": "#E5ECF6",
           "showlakes": true,
           "showland": true,
           "subunitcolor": "white"
          },
          "hoverlabel": {
           "align": "left"
          },
          "hovermode": "closest",
          "mapbox": {
           "style": "light"
          },
          "paper_bgcolor": "white",
          "plot_bgcolor": "#E5ECF6",
          "polar": {
           "angularaxis": {
            "gridcolor": "white",
            "linecolor": "white",
            "ticks": ""
           },
           "bgcolor": "#E5ECF6",
           "radialaxis": {
            "gridcolor": "white",
            "linecolor": "white",
            "ticks": ""
           }
          },
          "scene": {
           "xaxis": {
            "backgroundcolor": "#E5ECF6",
            "gridcolor": "white",
            "gridwidth": 2,
            "linecolor": "white",
            "showbackground": true,
            "ticks": "",
            "zerolinecolor": "white"
           },
           "yaxis": {
            "backgroundcolor": "#E5ECF6",
            "gridcolor": "white",
            "gridwidth": 2,
            "linecolor": "white",
            "showbackground": true,
            "ticks": "",
            "zerolinecolor": "white"
           },
           "zaxis": {
            "backgroundcolor": "#E5ECF6",
            "gridcolor": "white",
            "gridwidth": 2,
            "linecolor": "white",
            "showbackground": true,
            "ticks": "",
            "zerolinecolor": "white"
           }
          },
          "shapedefaults": {
           "line": {
            "color": "#2a3f5f"
           }
          },
          "ternary": {
           "aaxis": {
            "gridcolor": "white",
            "linecolor": "white",
            "ticks": ""
           },
           "baxis": {
            "gridcolor": "white",
            "linecolor": "white",
            "ticks": ""
           },
           "bgcolor": "#E5ECF6",
           "caxis": {
            "gridcolor": "white",
            "linecolor": "white",
            "ticks": ""
           }
          },
          "title": {
           "x": 0.05
          },
          "xaxis": {
           "automargin": true,
           "gridcolor": "white",
           "linecolor": "white",
           "ticks": "",
           "title": {
            "standoff": 15
           },
           "zerolinecolor": "white",
           "zerolinewidth": 2
          },
          "yaxis": {
           "automargin": true,
           "gridcolor": "white",
           "linecolor": "white",
           "ticks": "",
           "title": {
            "standoff": 15
           },
           "zerolinecolor": "white",
           "zerolinewidth": 2
          }
         }
        },
        "title": {
         "text": "Daily Mean Execution Time for BulkInsert Operations"
        },
        "xaxis": {
         "anchor": "y",
         "domain": [
          0,
          1
         ],
         "title": {
          "text": "Date"
         }
        },
        "yaxis": {
         "anchor": "x",
         "domain": [
          0,
          1
         ],
         "title": {
          "text": "Mean Execution Time (s)"
         }
        }
       }
      }
     },
     "metadata": {},
     "output_type": "display_data"
    }
   ],
   "source": [
    "records = []\n",
    "for run in case_db_run_instances:\n",
    "    records.append({\n",
    "        \"database\": run.database,\n",
    "        \"timestamp\": run.timestamp,\n",
    "        \"usecase_id\": run.usecase,                     #\n",
    "        \"usecase_full_name\": run.usecase_full_name,    \n",
    "        \"execution_time_s\": run.execution_time\n",
    "    })\n",
    "df = pd.DataFrame(records)\n",
    "df = df.sort_values(\"timestamp\").reset_index(drop=True)\n",
    "\n",
    "# Extract a \"date only\" column so we can aggregate per day\n",
    "df[\"date_only\"] = df[\"timestamp\"].dt.date\n",
    "\n",
    "# Group usecases into operation types \n",
    "# Read operations:     usecases 1, 4, 5, 6\n",
    "# Update operations:   usecases 2, 3\n",
    "# Bulk Insert:         usecase 7\n",
    "operation_map = {\n",
    "    \"Read\":       [1, 4, 5, 6],\n",
    "    \"Update\":     [2, 3],\n",
    "    \"BulkInsert\": [7]\n",
    "}\n",
    "\n",
    "def categorize_usecase(uid: int) -> str:\n",
    "    for category, ids in operation_map.items():\n",
    "        if uid in ids:\n",
    "            return category\n",
    "    return \"Other\"\n",
    "\n",
    "df[\"operation_type\"] = df[\"usecase_id\"].apply(categorize_usecase)\n",
    "\n",
    "#Produce one line‐plot per operation type \n",
    "for op_type in [\"Read\", \"Update\", \"BulkInsert\"]:\n",
    "    df_op = df[df[\"operation_type\"] == op_type]\n",
    "    if df_op.empty:\n",
    "        print(f\"[!] No data for operation type = {op_type}\")\n",
    "        continue\n",
    "\n",
    "    # Compute daily mean execution_time, grouped by date, database, and full usecase name\n",
    "    grouped = (\n",
    "        df_op\n",
    "        .groupby([\"date_only\", \"database\", \"usecase_full_name\"])\n",
    "        .execution_time_s\n",
    "        .mean()\n",
    "        .reset_index(name=\"mean_exec_time_s\")\n",
    "    )\n",
    "\n",
    "    # Create a faceted line‐plot: one facet per usecase_full_name (within this category)\n",
    "    fig = px.line(\n",
    "        grouped,\n",
    "        x=\"date_only\",\n",
    "        y=\"mean_exec_time_s\",\n",
    "        color=\"database\",\n",
    "        line_dash=\"usecase_full_name\",\n",
    "        markers=True,\n",
    "        facet_col=\"usecase_full_name\",\n",
    "        facet_col_wrap=2,\n",
    "        title=f\"Daily Mean Execution Time for {op_type} Operations\"\n",
    "    )\n",
    "\n",
    "    # Tidy up axis labels and facet titles\n",
    "    fig.update_layout(\n",
    "        xaxis_title=\"Date\",\n",
    "        yaxis_title=\"Mean Execution Time (s)\",\n",
    "        showlegend=True,\n",
    "        height=600\n",
    "    )\n",
    "    # Shorten facet annotation to show only the usecase_full_name itself:\n",
    "    fig.for_each_annotation(lambda a: a.update(text=a.text.split(\"=\")[-1]))\n",
    "    fig.show()"
   ]
  },
  {
   "cell_type": "markdown",
   "metadata": {},
   "source": [
    "### Plot4: Faceted Bar‐Chart: Execution Time by Usecase & Database"
   ]
  },
  {
   "cell_type": "code",
   "execution_count": null,
   "metadata": {},
   "outputs": [
    {
     "data": {
      "application/vnd.plotly.v1+json": {
       "config": {
        "plotlyServerURL": "https://plot.ly"
       },
       "data": [
        {
         "alignmentgroup": "True",
         "hovertemplate": "database=clickhouse<br>usecase_full_name=%{x}<br>mean_execution_time_s=%{y}<extra></extra>",
         "legendgroup": "clickhouse",
         "marker": {
          "color": "#636efa",
          "pattern": {
           "shape": ""
          }
         },
         "name": "clickhouse",
         "offsetgroup": "clickhouse",
         "orientation": "v",
         "showlegend": true,
         "textposition": "auto",
         "type": "bar",
         "x": [
          "usecase1_filter_properties",
          "usecase2_update_prices",
          "usecase3_add_solar_panels",
          "usecase4_price_analysis",
          "usecase5_average_price_per_city",
          "usecase6_filter_by_bedrooms_and_size",
          "usecase7_bulk_import"
         ],
         "xaxis": "x",
         "y": [
          4.238095238095238,
          0,
          0,
          0,
          0,
          3.0952380952380953,
          26.238095238095237
         ],
         "yaxis": "y"
        },
        {
         "alignmentgroup": "True",
         "hovertemplate": "database=mongodb<br>usecase_full_name=%{x}<br>mean_execution_time_s=%{y}<extra></extra>",
         "legendgroup": "mongodb",
         "marker": {
          "color": "#EF553B",
          "pattern": {
           "shape": ""
          }
         },
         "name": "mongodb",
         "offsetgroup": "mongodb",
         "orientation": "v",
         "showlegend": true,
         "textposition": "auto",
         "type": "bar",
         "x": [
          "usecase1_filter_properties",
          "usecase2_update_prices",
          "usecase3_add_solar_panels",
          "usecase4_price_analysis",
          "usecase5_average_price_per_city",
          "usecase6_filter_by_bedrooms_and_size",
          "usecase7_bulk_import"
         ],
         "xaxis": "x",
         "y": [
          9.863636363636363,
          0,
          6,
          0,
          9.863636363636363,
          4.7272727272727275,
          105.45454545454545
         ],
         "yaxis": "y"
        },
        {
         "alignmentgroup": "True",
         "hovertemplate": "database=postgres<br>usecase_full_name=%{x}<br>mean_execution_time_s=%{y}<extra></extra>",
         "legendgroup": "postgres",
         "marker": {
          "color": "#00cc96",
          "pattern": {
           "shape": ""
          }
         },
         "name": "postgres",
         "offsetgroup": "postgres",
         "orientation": "v",
         "showlegend": true,
         "textposition": "auto",
         "type": "bar",
         "x": [
          "usecase1_filter_properties",
          "usecase2_update_prices",
          "usecase3_add_solar_panels",
          "usecase4_price_analysis",
          "usecase5_average_price_per_city",
          "usecase6_filter_by_bedrooms_and_size",
          "usecase7_bulk_import"
         ],
         "xaxis": "x",
         "y": [
          7.636363636363637,
          0,
          28.40909090909091,
          0,
          1.5909090909090908,
          2.8181818181818183,
          456.09090909090907
         ],
         "yaxis": "y"
        }
       ],
       "layout": {
        "barmode": "group",
        "legend": {
         "title": {
          "text": "database"
         },
         "tracegroupgap": 0
        },
        "template": {
         "data": {
          "bar": [
           {
            "error_x": {
             "color": "#2a3f5f"
            },
            "error_y": {
             "color": "#2a3f5f"
            },
            "marker": {
             "line": {
              "color": "#E5ECF6",
              "width": 0.5
             },
             "pattern": {
              "fillmode": "overlay",
              "size": 10,
              "solidity": 0.2
             }
            },
            "type": "bar"
           }
          ],
          "barpolar": [
           {
            "marker": {
             "line": {
              "color": "#E5ECF6",
              "width": 0.5
             },
             "pattern": {
              "fillmode": "overlay",
              "size": 10,
              "solidity": 0.2
             }
            },
            "type": "barpolar"
           }
          ],
          "carpet": [
           {
            "aaxis": {
             "endlinecolor": "#2a3f5f",
             "gridcolor": "white",
             "linecolor": "white",
             "minorgridcolor": "white",
             "startlinecolor": "#2a3f5f"
            },
            "baxis": {
             "endlinecolor": "#2a3f5f",
             "gridcolor": "white",
             "linecolor": "white",
             "minorgridcolor": "white",
             "startlinecolor": "#2a3f5f"
            },
            "type": "carpet"
           }
          ],
          "choropleth": [
           {
            "colorbar": {
             "outlinewidth": 0,
             "ticks": ""
            },
            "type": "choropleth"
           }
          ],
          "contour": [
           {
            "colorbar": {
             "outlinewidth": 0,
             "ticks": ""
            },
            "colorscale": [
             [
              0,
              "#0d0887"
             ],
             [
              0.1111111111111111,
              "#46039f"
             ],
             [
              0.2222222222222222,
              "#7201a8"
             ],
             [
              0.3333333333333333,
              "#9c179e"
             ],
             [
              0.4444444444444444,
              "#bd3786"
             ],
             [
              0.5555555555555556,
              "#d8576b"
             ],
             [
              0.6666666666666666,
              "#ed7953"
             ],
             [
              0.7777777777777778,
              "#fb9f3a"
             ],
             [
              0.8888888888888888,
              "#fdca26"
             ],
             [
              1,
              "#f0f921"
             ]
            ],
            "type": "contour"
           }
          ],
          "contourcarpet": [
           {
            "colorbar": {
             "outlinewidth": 0,
             "ticks": ""
            },
            "type": "contourcarpet"
           }
          ],
          "heatmap": [
           {
            "colorbar": {
             "outlinewidth": 0,
             "ticks": ""
            },
            "colorscale": [
             [
              0,
              "#0d0887"
             ],
             [
              0.1111111111111111,
              "#46039f"
             ],
             [
              0.2222222222222222,
              "#7201a8"
             ],
             [
              0.3333333333333333,
              "#9c179e"
             ],
             [
              0.4444444444444444,
              "#bd3786"
             ],
             [
              0.5555555555555556,
              "#d8576b"
             ],
             [
              0.6666666666666666,
              "#ed7953"
             ],
             [
              0.7777777777777778,
              "#fb9f3a"
             ],
             [
              0.8888888888888888,
              "#fdca26"
             ],
             [
              1,
              "#f0f921"
             ]
            ],
            "type": "heatmap"
           }
          ],
          "heatmapgl": [
           {
            "colorbar": {
             "outlinewidth": 0,
             "ticks": ""
            },
            "colorscale": [
             [
              0,
              "#0d0887"
             ],
             [
              0.1111111111111111,
              "#46039f"
             ],
             [
              0.2222222222222222,
              "#7201a8"
             ],
             [
              0.3333333333333333,
              "#9c179e"
             ],
             [
              0.4444444444444444,
              "#bd3786"
             ],
             [
              0.5555555555555556,
              "#d8576b"
             ],
             [
              0.6666666666666666,
              "#ed7953"
             ],
             [
              0.7777777777777778,
              "#fb9f3a"
             ],
             [
              0.8888888888888888,
              "#fdca26"
             ],
             [
              1,
              "#f0f921"
             ]
            ],
            "type": "heatmapgl"
           }
          ],
          "histogram": [
           {
            "marker": {
             "pattern": {
              "fillmode": "overlay",
              "size": 10,
              "solidity": 0.2
             }
            },
            "type": "histogram"
           }
          ],
          "histogram2d": [
           {
            "colorbar": {
             "outlinewidth": 0,
             "ticks": ""
            },
            "colorscale": [
             [
              0,
              "#0d0887"
             ],
             [
              0.1111111111111111,
              "#46039f"
             ],
             [
              0.2222222222222222,
              "#7201a8"
             ],
             [
              0.3333333333333333,
              "#9c179e"
             ],
             [
              0.4444444444444444,
              "#bd3786"
             ],
             [
              0.5555555555555556,
              "#d8576b"
             ],
             [
              0.6666666666666666,
              "#ed7953"
             ],
             [
              0.7777777777777778,
              "#fb9f3a"
             ],
             [
              0.8888888888888888,
              "#fdca26"
             ],
             [
              1,
              "#f0f921"
             ]
            ],
            "type": "histogram2d"
           }
          ],
          "histogram2dcontour": [
           {
            "colorbar": {
             "outlinewidth": 0,
             "ticks": ""
            },
            "colorscale": [
             [
              0,
              "#0d0887"
             ],
             [
              0.1111111111111111,
              "#46039f"
             ],
             [
              0.2222222222222222,
              "#7201a8"
             ],
             [
              0.3333333333333333,
              "#9c179e"
             ],
             [
              0.4444444444444444,
              "#bd3786"
             ],
             [
              0.5555555555555556,
              "#d8576b"
             ],
             [
              0.6666666666666666,
              "#ed7953"
             ],
             [
              0.7777777777777778,
              "#fb9f3a"
             ],
             [
              0.8888888888888888,
              "#fdca26"
             ],
             [
              1,
              "#f0f921"
             ]
            ],
            "type": "histogram2dcontour"
           }
          ],
          "mesh3d": [
           {
            "colorbar": {
             "outlinewidth": 0,
             "ticks": ""
            },
            "type": "mesh3d"
           }
          ],
          "parcoords": [
           {
            "line": {
             "colorbar": {
              "outlinewidth": 0,
              "ticks": ""
             }
            },
            "type": "parcoords"
           }
          ],
          "pie": [
           {
            "automargin": true,
            "type": "pie"
           }
          ],
          "scatter": [
           {
            "fillpattern": {
             "fillmode": "overlay",
             "size": 10,
             "solidity": 0.2
            },
            "type": "scatter"
           }
          ],
          "scatter3d": [
           {
            "line": {
             "colorbar": {
              "outlinewidth": 0,
              "ticks": ""
             }
            },
            "marker": {
             "colorbar": {
              "outlinewidth": 0,
              "ticks": ""
             }
            },
            "type": "scatter3d"
           }
          ],
          "scattercarpet": [
           {
            "marker": {
             "colorbar": {
              "outlinewidth": 0,
              "ticks": ""
             }
            },
            "type": "scattercarpet"
           }
          ],
          "scattergeo": [
           {
            "marker": {
             "colorbar": {
              "outlinewidth": 0,
              "ticks": ""
             }
            },
            "type": "scattergeo"
           }
          ],
          "scattergl": [
           {
            "marker": {
             "colorbar": {
              "outlinewidth": 0,
              "ticks": ""
             }
            },
            "type": "scattergl"
           }
          ],
          "scattermapbox": [
           {
            "marker": {
             "colorbar": {
              "outlinewidth": 0,
              "ticks": ""
             }
            },
            "type": "scattermapbox"
           }
          ],
          "scatterpolar": [
           {
            "marker": {
             "colorbar": {
              "outlinewidth": 0,
              "ticks": ""
             }
            },
            "type": "scatterpolar"
           }
          ],
          "scatterpolargl": [
           {
            "marker": {
             "colorbar": {
              "outlinewidth": 0,
              "ticks": ""
             }
            },
            "type": "scatterpolargl"
           }
          ],
          "scatterternary": [
           {
            "marker": {
             "colorbar": {
              "outlinewidth": 0,
              "ticks": ""
             }
            },
            "type": "scatterternary"
           }
          ],
          "surface": [
           {
            "colorbar": {
             "outlinewidth": 0,
             "ticks": ""
            },
            "colorscale": [
             [
              0,
              "#0d0887"
             ],
             [
              0.1111111111111111,
              "#46039f"
             ],
             [
              0.2222222222222222,
              "#7201a8"
             ],
             [
              0.3333333333333333,
              "#9c179e"
             ],
             [
              0.4444444444444444,
              "#bd3786"
             ],
             [
              0.5555555555555556,
              "#d8576b"
             ],
             [
              0.6666666666666666,
              "#ed7953"
             ],
             [
              0.7777777777777778,
              "#fb9f3a"
             ],
             [
              0.8888888888888888,
              "#fdca26"
             ],
             [
              1,
              "#f0f921"
             ]
            ],
            "type": "surface"
           }
          ],
          "table": [
           {
            "cells": {
             "fill": {
              "color": "#EBF0F8"
             },
             "line": {
              "color": "white"
             }
            },
            "header": {
             "fill": {
              "color": "#C8D4E3"
             },
             "line": {
              "color": "white"
             }
            },
            "type": "table"
           }
          ]
         },
         "layout": {
          "annotationdefaults": {
           "arrowcolor": "#2a3f5f",
           "arrowhead": 0,
           "arrowwidth": 1
          },
          "autotypenumbers": "strict",
          "coloraxis": {
           "colorbar": {
            "outlinewidth": 0,
            "ticks": ""
           }
          },
          "colorscale": {
           "diverging": [
            [
             0,
             "#8e0152"
            ],
            [
             0.1,
             "#c51b7d"
            ],
            [
             0.2,
             "#de77ae"
            ],
            [
             0.3,
             "#f1b6da"
            ],
            [
             0.4,
             "#fde0ef"
            ],
            [
             0.5,
             "#f7f7f7"
            ],
            [
             0.6,
             "#e6f5d0"
            ],
            [
             0.7,
             "#b8e186"
            ],
            [
             0.8,
             "#7fbc41"
            ],
            [
             0.9,
             "#4d9221"
            ],
            [
             1,
             "#276419"
            ]
           ],
           "sequential": [
            [
             0,
             "#0d0887"
            ],
            [
             0.1111111111111111,
             "#46039f"
            ],
            [
             0.2222222222222222,
             "#7201a8"
            ],
            [
             0.3333333333333333,
             "#9c179e"
            ],
            [
             0.4444444444444444,
             "#bd3786"
            ],
            [
             0.5555555555555556,
             "#d8576b"
            ],
            [
             0.6666666666666666,
             "#ed7953"
            ],
            [
             0.7777777777777778,
             "#fb9f3a"
            ],
            [
             0.8888888888888888,
             "#fdca26"
            ],
            [
             1,
             "#f0f921"
            ]
           ],
           "sequentialminus": [
            [
             0,
             "#0d0887"
            ],
            [
             0.1111111111111111,
             "#46039f"
            ],
            [
             0.2222222222222222,
             "#7201a8"
            ],
            [
             0.3333333333333333,
             "#9c179e"
            ],
            [
             0.4444444444444444,
             "#bd3786"
            ],
            [
             0.5555555555555556,
             "#d8576b"
            ],
            [
             0.6666666666666666,
             "#ed7953"
            ],
            [
             0.7777777777777778,
             "#fb9f3a"
            ],
            [
             0.8888888888888888,
             "#fdca26"
            ],
            [
             1,
             "#f0f921"
            ]
           ]
          },
          "colorway": [
           "#636efa",
           "#EF553B",
           "#00cc96",
           "#ab63fa",
           "#FFA15A",
           "#19d3f3",
           "#FF6692",
           "#B6E880",
           "#FF97FF",
           "#FECB52"
          ],
          "font": {
           "color": "#2a3f5f"
          },
          "geo": {
           "bgcolor": "white",
           "lakecolor": "white",
           "landcolor": "#E5ECF6",
           "showlakes": true,
           "showland": true,
           "subunitcolor": "white"
          },
          "hoverlabel": {
           "align": "left"
          },
          "hovermode": "closest",
          "mapbox": {
           "style": "light"
          },
          "paper_bgcolor": "white",
          "plot_bgcolor": "#E5ECF6",
          "polar": {
           "angularaxis": {
            "gridcolor": "white",
            "linecolor": "white",
            "ticks": ""
           },
           "bgcolor": "#E5ECF6",
           "radialaxis": {
            "gridcolor": "white",
            "linecolor": "white",
            "ticks": ""
           }
          },
          "scene": {
           "xaxis": {
            "backgroundcolor": "#E5ECF6",
            "gridcolor": "white",
            "gridwidth": 2,
            "linecolor": "white",
            "showbackground": true,
            "ticks": "",
            "zerolinecolor": "white"
           },
           "yaxis": {
            "backgroundcolor": "#E5ECF6",
            "gridcolor": "white",
            "gridwidth": 2,
            "linecolor": "white",
            "showbackground": true,
            "ticks": "",
            "zerolinecolor": "white"
           },
           "zaxis": {
            "backgroundcolor": "#E5ECF6",
            "gridcolor": "white",
            "gridwidth": 2,
            "linecolor": "white",
            "showbackground": true,
            "ticks": "",
            "zerolinecolor": "white"
           }
          },
          "shapedefaults": {
           "line": {
            "color": "#2a3f5f"
           }
          },
          "ternary": {
           "aaxis": {
            "gridcolor": "white",
            "linecolor": "white",
            "ticks": ""
           },
           "baxis": {
            "gridcolor": "white",
            "linecolor": "white",
            "ticks": ""
           },
           "bgcolor": "#E5ECF6",
           "caxis": {
            "gridcolor": "white",
            "linecolor": "white",
            "ticks": ""
           }
          },
          "title": {
           "x": 0.05
          },
          "xaxis": {
           "automargin": true,
           "gridcolor": "white",
           "linecolor": "white",
           "ticks": "",
           "title": {
            "standoff": 15
           },
           "zerolinecolor": "white",
           "zerolinewidth": 2
          },
          "yaxis": {
           "automargin": true,
           "gridcolor": "white",
           "linecolor": "white",
           "ticks": "",
           "title": {
            "standoff": 15
           },
           "zerolinecolor": "white",
           "zerolinewidth": 2
          }
         }
        },
        "title": {
         "text": "Average Execution Time per Usecase by Database"
        },
        "xaxis": {
         "anchor": "y",
         "domain": [
          0,
          1
         ],
         "tickangle": -45,
         "title": {
          "text": "Usecase"
         }
        },
        "yaxis": {
         "anchor": "x",
         "domain": [
          0,
          1
         ],
         "title": {
          "text": "Avg. Execution Time (s)"
         }
        }
       }
      }
     },
     "metadata": {},
     "output_type": "display_data"
    }
   ],
   "source": [
    "# Compute average exec_time over all runs, grouped by database & usecase:\n",
    "agg_exec = (\n",
    "    df\n",
    "    .groupby([\"usecase_full_name\", \"database\"])\n",
    "    .execution_time_s\n",
    "    .mean()\n",
    "    .reset_index(name=\"mean_execution_time_s\")\n",
    ")\n",
    "\n",
    "fig = px.bar(\n",
    "    agg_exec,\n",
    "    x=\"usecase_full_name\",\n",
    "    y=\"mean_execution_time_s\",\n",
    "    color=\"database\",\n",
    "    barmode=\"group\", \n",
    "    title=\"Average Execution Time per Usecase by Database\"\n",
    ")\n",
    "fig.update_layout(\n",
    "    xaxis_title=\"Usecase\",\n",
    "    yaxis_title=\"Avg. Execution Time (s)\",\n",
    "    xaxis_tickangle=-45\n",
    ")\n",
    "fig.show()\n"
   ]
  },
  {
   "cell_type": "markdown",
   "metadata": {},
   "source": [
    "### Plot5: Box‐Plot of Peak CPU Usage by Database"
   ]
  },
  {
   "cell_type": "code",
   "execution_count": 37,
   "metadata": {},
   "outputs": [
    {
     "data": {
      "application/vnd.plotly.v1+json": {
       "config": {
        "plotlyServerURL": "https://plot.ly"
       },
       "data": [
        {
         "alignmentgroup": "True",
         "boxpoints": "all",
         "hovertemplate": "database=%{x}<br>peak_cpu_percent=%{y}<extra></extra>",
         "legendgroup": "mongodb",
         "marker": {
          "color": "#636efa"
         },
         "name": "mongodb",
         "notched": false,
         "offsetgroup": "mongodb",
         "orientation": "v",
         "showlegend": true,
         "type": "box",
         "x": [
          "mongodb",
          "mongodb",
          "mongodb",
          "mongodb",
          "mongodb",
          "mongodb",
          "mongodb",
          "mongodb",
          "mongodb",
          "mongodb",
          "mongodb",
          "mongodb",
          "mongodb",
          "mongodb",
          "mongodb",
          "mongodb",
          "mongodb",
          "mongodb",
          "mongodb",
          "mongodb",
          "mongodb",
          "mongodb",
          "mongodb",
          "mongodb",
          "mongodb",
          "mongodb",
          "mongodb",
          "mongodb",
          "mongodb",
          "mongodb",
          "mongodb",
          "mongodb",
          "mongodb",
          "mongodb",
          "mongodb",
          "mongodb",
          "mongodb",
          "mongodb",
          "mongodb",
          "mongodb",
          "mongodb",
          "mongodb",
          "mongodb",
          "mongodb",
          "mongodb",
          "mongodb",
          "mongodb",
          "mongodb",
          "mongodb",
          "mongodb",
          "mongodb",
          "mongodb",
          "mongodb",
          "mongodb",
          "mongodb",
          "mongodb",
          "mongodb",
          "mongodb",
          "mongodb",
          "mongodb",
          "mongodb",
          "mongodb",
          "mongodb",
          "mongodb",
          "mongodb",
          "mongodb",
          "mongodb",
          "mongodb",
          "mongodb",
          "mongodb",
          "mongodb",
          "mongodb",
          "mongodb",
          "mongodb",
          "mongodb",
          "mongodb",
          "mongodb",
          "mongodb",
          "mongodb",
          "mongodb",
          "mongodb",
          "mongodb",
          "mongodb",
          "mongodb",
          "mongodb",
          "mongodb",
          "mongodb",
          "mongodb",
          "mongodb",
          "mongodb",
          "mongodb",
          "mongodb",
          "mongodb",
          "mongodb",
          "mongodb",
          "mongodb",
          "mongodb",
          "mongodb",
          "mongodb",
          "mongodb",
          "mongodb",
          "mongodb",
          "mongodb",
          "mongodb",
          "mongodb",
          "mongodb",
          "mongodb",
          "mongodb",
          "mongodb",
          "mongodb",
          "mongodb",
          "mongodb",
          "mongodb",
          "mongodb",
          "mongodb",
          "mongodb",
          "mongodb",
          "mongodb",
          "mongodb",
          "mongodb",
          "mongodb",
          "mongodb",
          "mongodb",
          "mongodb",
          "mongodb",
          "mongodb",
          "mongodb",
          "mongodb",
          "mongodb",
          "mongodb",
          "mongodb",
          "mongodb",
          "mongodb",
          "mongodb",
          "mongodb",
          "mongodb",
          "mongodb",
          "mongodb",
          "mongodb",
          "mongodb",
          "mongodb",
          "mongodb",
          "mongodb",
          "mongodb",
          "mongodb",
          "mongodb",
          "mongodb",
          "mongodb",
          "mongodb",
          "mongodb",
          "mongodb",
          "mongodb",
          "mongodb",
          "mongodb"
         ],
         "x0": " ",
         "xaxis": "x",
         "y": [
          86.36,
          1.79,
          3,
          27.8,
          169.63,
          30.32,
          103.2,
          190.23,
          0.67,
          102.73,
          2.47,
          25.8,
          21.67,
          22.29,
          142.5,
          24.09,
          2.74,
          101.96,
          34.97,
          90.84,
          2.44,
          138.89,
          56.21,
          2.69,
          0.61,
          103.5,
          35,
          27.2,
          26.49,
          25.23,
          153.98,
          0.53,
          122.17,
          37.59,
          4.29,
          101.88,
          35.56,
          0.65,
          163.74,
          34.51,
          23.61,
          8.86,
          183.84,
          39.39,
          102.8,
          0.67,
          146.24,
          0.67,
          32.19,
          62.01,
          25.71,
          216.06,
          2.95,
          0.61,
          19.62,
          102.75,
          29.53,
          154.23,
          80.12,
          0.6,
          32.68,
          102.33,
          1.64,
          102.81,
          168.21,
          24.82,
          67.87,
          3.11,
          100.03,
          2.41,
          25.69,
          28.89,
          115.36,
          3.6,
          2.8,
          152.61,
          101.61,
          21.73,
          198.43,
          0.83,
          0.69,
          32.91,
          39.36,
          103.47,
          173.09,
          103.51,
          1.64,
          29.39,
          0.65,
          20.38,
          17.4,
          127.57,
          163.97,
          0.61,
          19.67,
          1.67,
          33.94,
          102.57,
          57.9,
          35.21,
          176.12,
          102.38,
          2.3,
          0.82,
          38.39,
          101.59,
          27.39,
          0.59,
          87.72,
          0.62,
          143.57,
          210.3,
          28.52,
          41.46,
          101.81,
          2.83,
          28.42,
          207.9,
          3.17,
          87.78,
          34.34,
          102.27,
          10.63,
          5.58,
          30.17,
          165.64,
          209.43,
          1.67,
          27.57,
          18.15,
          102.02,
          35.91,
          4.36,
          14.06,
          3.16,
          235.38,
          28.84,
          142.32,
          30.62,
          0.57,
          1.6,
          18.27,
          163.34,
          31.59,
          25.58,
          179.27,
          2.86,
          24.1,
          161.33,
          30.31,
          28.3,
          102.24,
          24.66,
          1.94
         ],
         "y0": " ",
         "yaxis": "y"
        },
        {
         "alignmentgroup": "True",
         "boxpoints": "all",
         "hovertemplate": "database=%{x}<br>peak_cpu_percent=%{y}<extra></extra>",
         "legendgroup": "postgres",
         "marker": {
          "color": "#EF553B"
         },
         "name": "postgres",
         "notched": false,
         "offsetgroup": "postgres",
         "orientation": "v",
         "showlegend": true,
         "type": "box",
         "x": [
          "postgres",
          "postgres",
          "postgres",
          "postgres",
          "postgres",
          "postgres",
          "postgres",
          "postgres",
          "postgres",
          "postgres",
          "postgres",
          "postgres",
          "postgres",
          "postgres",
          "postgres",
          "postgres",
          "postgres",
          "postgres",
          "postgres",
          "postgres",
          "postgres",
          "postgres",
          "postgres",
          "postgres",
          "postgres",
          "postgres",
          "postgres",
          "postgres",
          "postgres",
          "postgres",
          "postgres",
          "postgres",
          "postgres",
          "postgres",
          "postgres",
          "postgres",
          "postgres",
          "postgres",
          "postgres",
          "postgres",
          "postgres",
          "postgres",
          "postgres",
          "postgres",
          "postgres",
          "postgres",
          "postgres",
          "postgres",
          "postgres",
          "postgres",
          "postgres",
          "postgres",
          "postgres",
          "postgres",
          "postgres",
          "postgres",
          "postgres",
          "postgres",
          "postgres",
          "postgres",
          "postgres",
          "postgres",
          "postgres",
          "postgres",
          "postgres",
          "postgres",
          "postgres",
          "postgres",
          "postgres",
          "postgres",
          "postgres",
          "postgres",
          "postgres",
          "postgres",
          "postgres",
          "postgres",
          "postgres",
          "postgres",
          "postgres",
          "postgres",
          "postgres",
          "postgres",
          "postgres",
          "postgres",
          "postgres",
          "postgres",
          "postgres",
          "postgres",
          "postgres",
          "postgres",
          "postgres",
          "postgres",
          "postgres",
          "postgres",
          "postgres",
          "postgres",
          "postgres",
          "postgres",
          "postgres",
          "postgres",
          "postgres",
          "postgres",
          "postgres",
          "postgres",
          "postgres",
          "postgres",
          "postgres",
          "postgres",
          "postgres",
          "postgres",
          "postgres",
          "postgres",
          "postgres",
          "postgres",
          "postgres",
          "postgres",
          "postgres",
          "postgres",
          "postgres",
          "postgres",
          "postgres",
          "postgres",
          "postgres",
          "postgres",
          "postgres",
          "postgres",
          "postgres",
          "postgres",
          "postgres",
          "postgres",
          "postgres",
          "postgres",
          "postgres",
          "postgres",
          "postgres",
          "postgres",
          "postgres",
          "postgres",
          "postgres",
          "postgres",
          "postgres",
          "postgres",
          "postgres",
          "postgres",
          "postgres",
          "postgres",
          "postgres",
          "postgres",
          "postgres",
          "postgres",
          "postgres",
          "postgres",
          "postgres",
          "postgres"
         ],
         "x0": " ",
         "xaxis": "x",
         "y": [
          125.96,
          27.5,
          97.68,
          0,
          179.17,
          92.26,
          303.63,
          0.39,
          119.13,
          306.46,
          125.59,
          0.78,
          194.16,
          99.57,
          306.96,
          254.1,
          210.99,
          135.87,
          0,
          0,
          98.8,
          55.06,
          95.65,
          96.92,
          0.35,
          308.37,
          127.14,
          0.71,
          73.92,
          165.81,
          120.64,
          307.49,
          0.32,
          98.52,
          0,
          126.57,
          0,
          305.62,
          0.34,
          88.12,
          98.84,
          65.82,
          285.9,
          129.01,
          306.43,
          169.85,
          101.72,
          0.32,
          0,
          126.69,
          72.24,
          252.18,
          98.67,
          0,
          283.18,
          0.34,
          170.44,
          307.52,
          0,
          0,
          307.22,
          125.32,
          100.01,
          111.62,
          165.64,
          0.78,
          98.39,
          0,
          303.04,
          123.78,
          0.28,
          9.7,
          123.27,
          105.06,
          97.77,
          308.88,
          120.14,
          126.85,
          159.54,
          303.13,
          104.08,
          130.98,
          0.38,
          0.85,
          296.43,
          149.09,
          128.21,
          309.66,
          100.29,
          0,
          21.9,
          0,
          143.99,
          288.38,
          106.3,
          293.66,
          123.79,
          0.29,
          297.87,
          0,
          201.85,
          105.24,
          0,
          303.06,
          129.17,
          305.22,
          122.32,
          109.94,
          0,
          113.68,
          0.33,
          58.33,
          40.16,
          237.28,
          122.65,
          285.98,
          0,
          114.71,
          0,
          305.28,
          124.33,
          296.52,
          119.38,
          104.88,
          0.39,
          0,
          97.72,
          0,
          85.78,
          152.37,
          0.25,
          304.77,
          129.26,
          110.38,
          107.52,
          117.2,
          0.33,
          0,
          255.97,
          306.42,
          124.3,
          306.38,
          0.29,
          112.06,
          0,
          123.72,
          93.04,
          341.28,
          122.51,
          0,
          102.47,
          0.72,
          137.73,
          83.09
         ],
         "y0": " ",
         "yaxis": "y"
        },
        {
         "alignmentgroup": "True",
         "boxpoints": "all",
         "hovertemplate": "database=%{x}<br>peak_cpu_percent=%{y}<extra></extra>",
         "legendgroup": "clickhouse",
         "marker": {
          "color": "#00cc96"
         },
         "name": "clickhouse",
         "notched": false,
         "offsetgroup": "clickhouse",
         "orientation": "v",
         "showlegend": true,
         "type": "box",
         "x": [
          "clickhouse",
          "clickhouse",
          "clickhouse",
          "clickhouse",
          "clickhouse",
          "clickhouse",
          "clickhouse",
          "clickhouse",
          "clickhouse",
          "clickhouse",
          "clickhouse",
          "clickhouse",
          "clickhouse",
          "clickhouse",
          "clickhouse",
          "clickhouse",
          "clickhouse",
          "clickhouse",
          "clickhouse",
          "clickhouse",
          "clickhouse",
          "clickhouse",
          "clickhouse",
          "clickhouse",
          "clickhouse",
          "clickhouse",
          "clickhouse",
          "clickhouse",
          "clickhouse",
          "clickhouse",
          "clickhouse",
          "clickhouse",
          "clickhouse",
          "clickhouse",
          "clickhouse",
          "clickhouse",
          "clickhouse",
          "clickhouse",
          "clickhouse",
          "clickhouse",
          "clickhouse",
          "clickhouse",
          "clickhouse",
          "clickhouse",
          "clickhouse",
          "clickhouse",
          "clickhouse",
          "clickhouse",
          "clickhouse",
          "clickhouse",
          "clickhouse",
          "clickhouse",
          "clickhouse",
          "clickhouse",
          "clickhouse",
          "clickhouse",
          "clickhouse",
          "clickhouse",
          "clickhouse",
          "clickhouse",
          "clickhouse",
          "clickhouse",
          "clickhouse",
          "clickhouse",
          "clickhouse",
          "clickhouse",
          "clickhouse",
          "clickhouse",
          "clickhouse",
          "clickhouse",
          "clickhouse",
          "clickhouse",
          "clickhouse",
          "clickhouse",
          "clickhouse",
          "clickhouse",
          "clickhouse",
          "clickhouse",
          "clickhouse",
          "clickhouse",
          "clickhouse",
          "clickhouse",
          "clickhouse",
          "clickhouse",
          "clickhouse",
          "clickhouse",
          "clickhouse",
          "clickhouse",
          "clickhouse",
          "clickhouse",
          "clickhouse",
          "clickhouse",
          "clickhouse",
          "clickhouse",
          "clickhouse",
          "clickhouse",
          "clickhouse",
          "clickhouse",
          "clickhouse",
          "clickhouse",
          "clickhouse",
          "clickhouse",
          "clickhouse",
          "clickhouse",
          "clickhouse",
          "clickhouse",
          "clickhouse",
          "clickhouse",
          "clickhouse",
          "clickhouse",
          "clickhouse",
          "clickhouse",
          "clickhouse",
          "clickhouse",
          "clickhouse",
          "clickhouse",
          "clickhouse",
          "clickhouse",
          "clickhouse",
          "clickhouse",
          "clickhouse",
          "clickhouse",
          "clickhouse",
          "clickhouse",
          "clickhouse",
          "clickhouse",
          "clickhouse",
          "clickhouse",
          "clickhouse",
          "clickhouse",
          "clickhouse",
          "clickhouse",
          "clickhouse",
          "clickhouse",
          "clickhouse",
          "clickhouse",
          "clickhouse",
          "clickhouse",
          "clickhouse",
          "clickhouse",
          "clickhouse",
          "clickhouse",
          "clickhouse",
          "clickhouse",
          "clickhouse",
          "clickhouse",
          "clickhouse"
         ],
         "x0": " ",
         "xaxis": "x",
         "y": [
          28.06,
          3.52,
          4.72,
          3.87,
          7.57,
          4.65,
          53.72,
          4.2,
          7.88,
          10,
          46.32,
          100.16,
          66.57,
          3.3,
          4.65,
          3.78,
          8.49,
          48.07,
          16.31,
          19.51,
          88.18,
          3.72,
          77.64,
          16.16,
          2.88,
          2.47,
          3.61,
          12.96,
          4.62,
          25.57,
          2.86,
          13.87,
          3.18,
          59.45,
          8.89,
          76.55,
          26.62,
          18.91,
          23.01,
          3.58,
          3.88,
          4.9,
          124.02,
          3.17,
          32.93,
          3.59,
          5.75,
          53.5,
          82.14,
          46.15,
          3.54,
          16.78,
          4.17,
          3.86,
          71.46,
          2.74,
          4.19,
          86.82,
          44.85,
          4.65,
          13.36,
          22.09,
          30.47,
          5.99,
          16.96,
          5.14,
          22.29,
          62.69,
          3.35,
          3.64,
          4.27,
          3.84,
          3.08,
          5.57,
          102.07,
          3.41,
          53.56,
          19.28,
          5.64,
          23.09,
          11.78,
          4.79,
          4.63,
          139.3,
          3.49,
          3.91,
          78.99,
          24.72,
          24.41,
          66.77,
          3.99,
          3.65,
          15.64,
          69.51,
          141.17,
          28.99,
          20.87,
          39.8,
          15.34,
          86.23,
          3.86,
          3.71,
          3.17,
          3.57,
          4.02,
          84.06,
          17.62,
          3.89,
          9.09,
          15.23,
          3.44,
          3.66,
          3.69,
          9.34,
          3.95,
          7.71,
          9.55,
          42.75,
          3.45,
          53.47,
          9.87,
          3.19,
          25.08,
          3.7,
          26.37,
          4.31,
          36.87,
          78.57,
          22.36,
          3.17,
          9.78,
          3.22,
          4.53,
          97.18,
          21.02,
          14.4,
          5.28,
          39.97,
          49.75,
          3.42,
          3.49,
          23.1,
          2.56,
          3.82,
          14.35,
          53.29,
          9.93
         ],
         "y0": " ",
         "yaxis": "y"
        }
       ],
       "layout": {
        "boxmode": "overlay",
        "legend": {
         "title": {
          "text": "database"
         },
         "tracegroupgap": 0
        },
        "template": {
         "data": {
          "bar": [
           {
            "error_x": {
             "color": "#2a3f5f"
            },
            "error_y": {
             "color": "#2a3f5f"
            },
            "marker": {
             "line": {
              "color": "#E5ECF6",
              "width": 0.5
             },
             "pattern": {
              "fillmode": "overlay",
              "size": 10,
              "solidity": 0.2
             }
            },
            "type": "bar"
           }
          ],
          "barpolar": [
           {
            "marker": {
             "line": {
              "color": "#E5ECF6",
              "width": 0.5
             },
             "pattern": {
              "fillmode": "overlay",
              "size": 10,
              "solidity": 0.2
             }
            },
            "type": "barpolar"
           }
          ],
          "carpet": [
           {
            "aaxis": {
             "endlinecolor": "#2a3f5f",
             "gridcolor": "white",
             "linecolor": "white",
             "minorgridcolor": "white",
             "startlinecolor": "#2a3f5f"
            },
            "baxis": {
             "endlinecolor": "#2a3f5f",
             "gridcolor": "white",
             "linecolor": "white",
             "minorgridcolor": "white",
             "startlinecolor": "#2a3f5f"
            },
            "type": "carpet"
           }
          ],
          "choropleth": [
           {
            "colorbar": {
             "outlinewidth": 0,
             "ticks": ""
            },
            "type": "choropleth"
           }
          ],
          "contour": [
           {
            "colorbar": {
             "outlinewidth": 0,
             "ticks": ""
            },
            "colorscale": [
             [
              0,
              "#0d0887"
             ],
             [
              0.1111111111111111,
              "#46039f"
             ],
             [
              0.2222222222222222,
              "#7201a8"
             ],
             [
              0.3333333333333333,
              "#9c179e"
             ],
             [
              0.4444444444444444,
              "#bd3786"
             ],
             [
              0.5555555555555556,
              "#d8576b"
             ],
             [
              0.6666666666666666,
              "#ed7953"
             ],
             [
              0.7777777777777778,
              "#fb9f3a"
             ],
             [
              0.8888888888888888,
              "#fdca26"
             ],
             [
              1,
              "#f0f921"
             ]
            ],
            "type": "contour"
           }
          ],
          "contourcarpet": [
           {
            "colorbar": {
             "outlinewidth": 0,
             "ticks": ""
            },
            "type": "contourcarpet"
           }
          ],
          "heatmap": [
           {
            "colorbar": {
             "outlinewidth": 0,
             "ticks": ""
            },
            "colorscale": [
             [
              0,
              "#0d0887"
             ],
             [
              0.1111111111111111,
              "#46039f"
             ],
             [
              0.2222222222222222,
              "#7201a8"
             ],
             [
              0.3333333333333333,
              "#9c179e"
             ],
             [
              0.4444444444444444,
              "#bd3786"
             ],
             [
              0.5555555555555556,
              "#d8576b"
             ],
             [
              0.6666666666666666,
              "#ed7953"
             ],
             [
              0.7777777777777778,
              "#fb9f3a"
             ],
             [
              0.8888888888888888,
              "#fdca26"
             ],
             [
              1,
              "#f0f921"
             ]
            ],
            "type": "heatmap"
           }
          ],
          "heatmapgl": [
           {
            "colorbar": {
             "outlinewidth": 0,
             "ticks": ""
            },
            "colorscale": [
             [
              0,
              "#0d0887"
             ],
             [
              0.1111111111111111,
              "#46039f"
             ],
             [
              0.2222222222222222,
              "#7201a8"
             ],
             [
              0.3333333333333333,
              "#9c179e"
             ],
             [
              0.4444444444444444,
              "#bd3786"
             ],
             [
              0.5555555555555556,
              "#d8576b"
             ],
             [
              0.6666666666666666,
              "#ed7953"
             ],
             [
              0.7777777777777778,
              "#fb9f3a"
             ],
             [
              0.8888888888888888,
              "#fdca26"
             ],
             [
              1,
              "#f0f921"
             ]
            ],
            "type": "heatmapgl"
           }
          ],
          "histogram": [
           {
            "marker": {
             "pattern": {
              "fillmode": "overlay",
              "size": 10,
              "solidity": 0.2
             }
            },
            "type": "histogram"
           }
          ],
          "histogram2d": [
           {
            "colorbar": {
             "outlinewidth": 0,
             "ticks": ""
            },
            "colorscale": [
             [
              0,
              "#0d0887"
             ],
             [
              0.1111111111111111,
              "#46039f"
             ],
             [
              0.2222222222222222,
              "#7201a8"
             ],
             [
              0.3333333333333333,
              "#9c179e"
             ],
             [
              0.4444444444444444,
              "#bd3786"
             ],
             [
              0.5555555555555556,
              "#d8576b"
             ],
             [
              0.6666666666666666,
              "#ed7953"
             ],
             [
              0.7777777777777778,
              "#fb9f3a"
             ],
             [
              0.8888888888888888,
              "#fdca26"
             ],
             [
              1,
              "#f0f921"
             ]
            ],
            "type": "histogram2d"
           }
          ],
          "histogram2dcontour": [
           {
            "colorbar": {
             "outlinewidth": 0,
             "ticks": ""
            },
            "colorscale": [
             [
              0,
              "#0d0887"
             ],
             [
              0.1111111111111111,
              "#46039f"
             ],
             [
              0.2222222222222222,
              "#7201a8"
             ],
             [
              0.3333333333333333,
              "#9c179e"
             ],
             [
              0.4444444444444444,
              "#bd3786"
             ],
             [
              0.5555555555555556,
              "#d8576b"
             ],
             [
              0.6666666666666666,
              "#ed7953"
             ],
             [
              0.7777777777777778,
              "#fb9f3a"
             ],
             [
              0.8888888888888888,
              "#fdca26"
             ],
             [
              1,
              "#f0f921"
             ]
            ],
            "type": "histogram2dcontour"
           }
          ],
          "mesh3d": [
           {
            "colorbar": {
             "outlinewidth": 0,
             "ticks": ""
            },
            "type": "mesh3d"
           }
          ],
          "parcoords": [
           {
            "line": {
             "colorbar": {
              "outlinewidth": 0,
              "ticks": ""
             }
            },
            "type": "parcoords"
           }
          ],
          "pie": [
           {
            "automargin": true,
            "type": "pie"
           }
          ],
          "scatter": [
           {
            "fillpattern": {
             "fillmode": "overlay",
             "size": 10,
             "solidity": 0.2
            },
            "type": "scatter"
           }
          ],
          "scatter3d": [
           {
            "line": {
             "colorbar": {
              "outlinewidth": 0,
              "ticks": ""
             }
            },
            "marker": {
             "colorbar": {
              "outlinewidth": 0,
              "ticks": ""
             }
            },
            "type": "scatter3d"
           }
          ],
          "scattercarpet": [
           {
            "marker": {
             "colorbar": {
              "outlinewidth": 0,
              "ticks": ""
             }
            },
            "type": "scattercarpet"
           }
          ],
          "scattergeo": [
           {
            "marker": {
             "colorbar": {
              "outlinewidth": 0,
              "ticks": ""
             }
            },
            "type": "scattergeo"
           }
          ],
          "scattergl": [
           {
            "marker": {
             "colorbar": {
              "outlinewidth": 0,
              "ticks": ""
             }
            },
            "type": "scattergl"
           }
          ],
          "scattermapbox": [
           {
            "marker": {
             "colorbar": {
              "outlinewidth": 0,
              "ticks": ""
             }
            },
            "type": "scattermapbox"
           }
          ],
          "scatterpolar": [
           {
            "marker": {
             "colorbar": {
              "outlinewidth": 0,
              "ticks": ""
             }
            },
            "type": "scatterpolar"
           }
          ],
          "scatterpolargl": [
           {
            "marker": {
             "colorbar": {
              "outlinewidth": 0,
              "ticks": ""
             }
            },
            "type": "scatterpolargl"
           }
          ],
          "scatterternary": [
           {
            "marker": {
             "colorbar": {
              "outlinewidth": 0,
              "ticks": ""
             }
            },
            "type": "scatterternary"
           }
          ],
          "surface": [
           {
            "colorbar": {
             "outlinewidth": 0,
             "ticks": ""
            },
            "colorscale": [
             [
              0,
              "#0d0887"
             ],
             [
              0.1111111111111111,
              "#46039f"
             ],
             [
              0.2222222222222222,
              "#7201a8"
             ],
             [
              0.3333333333333333,
              "#9c179e"
             ],
             [
              0.4444444444444444,
              "#bd3786"
             ],
             [
              0.5555555555555556,
              "#d8576b"
             ],
             [
              0.6666666666666666,
              "#ed7953"
             ],
             [
              0.7777777777777778,
              "#fb9f3a"
             ],
             [
              0.8888888888888888,
              "#fdca26"
             ],
             [
              1,
              "#f0f921"
             ]
            ],
            "type": "surface"
           }
          ],
          "table": [
           {
            "cells": {
             "fill": {
              "color": "#EBF0F8"
             },
             "line": {
              "color": "white"
             }
            },
            "header": {
             "fill": {
              "color": "#C8D4E3"
             },
             "line": {
              "color": "white"
             }
            },
            "type": "table"
           }
          ]
         },
         "layout": {
          "annotationdefaults": {
           "arrowcolor": "#2a3f5f",
           "arrowhead": 0,
           "arrowwidth": 1
          },
          "autotypenumbers": "strict",
          "coloraxis": {
           "colorbar": {
            "outlinewidth": 0,
            "ticks": ""
           }
          },
          "colorscale": {
           "diverging": [
            [
             0,
             "#8e0152"
            ],
            [
             0.1,
             "#c51b7d"
            ],
            [
             0.2,
             "#de77ae"
            ],
            [
             0.3,
             "#f1b6da"
            ],
            [
             0.4,
             "#fde0ef"
            ],
            [
             0.5,
             "#f7f7f7"
            ],
            [
             0.6,
             "#e6f5d0"
            ],
            [
             0.7,
             "#b8e186"
            ],
            [
             0.8,
             "#7fbc41"
            ],
            [
             0.9,
             "#4d9221"
            ],
            [
             1,
             "#276419"
            ]
           ],
           "sequential": [
            [
             0,
             "#0d0887"
            ],
            [
             0.1111111111111111,
             "#46039f"
            ],
            [
             0.2222222222222222,
             "#7201a8"
            ],
            [
             0.3333333333333333,
             "#9c179e"
            ],
            [
             0.4444444444444444,
             "#bd3786"
            ],
            [
             0.5555555555555556,
             "#d8576b"
            ],
            [
             0.6666666666666666,
             "#ed7953"
            ],
            [
             0.7777777777777778,
             "#fb9f3a"
            ],
            [
             0.8888888888888888,
             "#fdca26"
            ],
            [
             1,
             "#f0f921"
            ]
           ],
           "sequentialminus": [
            [
             0,
             "#0d0887"
            ],
            [
             0.1111111111111111,
             "#46039f"
            ],
            [
             0.2222222222222222,
             "#7201a8"
            ],
            [
             0.3333333333333333,
             "#9c179e"
            ],
            [
             0.4444444444444444,
             "#bd3786"
            ],
            [
             0.5555555555555556,
             "#d8576b"
            ],
            [
             0.6666666666666666,
             "#ed7953"
            ],
            [
             0.7777777777777778,
             "#fb9f3a"
            ],
            [
             0.8888888888888888,
             "#fdca26"
            ],
            [
             1,
             "#f0f921"
            ]
           ]
          },
          "colorway": [
           "#636efa",
           "#EF553B",
           "#00cc96",
           "#ab63fa",
           "#FFA15A",
           "#19d3f3",
           "#FF6692",
           "#B6E880",
           "#FF97FF",
           "#FECB52"
          ],
          "font": {
           "color": "#2a3f5f"
          },
          "geo": {
           "bgcolor": "white",
           "lakecolor": "white",
           "landcolor": "#E5ECF6",
           "showlakes": true,
           "showland": true,
           "subunitcolor": "white"
          },
          "hoverlabel": {
           "align": "left"
          },
          "hovermode": "closest",
          "mapbox": {
           "style": "light"
          },
          "paper_bgcolor": "white",
          "plot_bgcolor": "#E5ECF6",
          "polar": {
           "angularaxis": {
            "gridcolor": "white",
            "linecolor": "white",
            "ticks": ""
           },
           "bgcolor": "#E5ECF6",
           "radialaxis": {
            "gridcolor": "white",
            "linecolor": "white",
            "ticks": ""
           }
          },
          "scene": {
           "xaxis": {
            "backgroundcolor": "#E5ECF6",
            "gridcolor": "white",
            "gridwidth": 2,
            "linecolor": "white",
            "showbackground": true,
            "ticks": "",
            "zerolinecolor": "white"
           },
           "yaxis": {
            "backgroundcolor": "#E5ECF6",
            "gridcolor": "white",
            "gridwidth": 2,
            "linecolor": "white",
            "showbackground": true,
            "ticks": "",
            "zerolinecolor": "white"
           },
           "zaxis": {
            "backgroundcolor": "#E5ECF6",
            "gridcolor": "white",
            "gridwidth": 2,
            "linecolor": "white",
            "showbackground": true,
            "ticks": "",
            "zerolinecolor": "white"
           }
          },
          "shapedefaults": {
           "line": {
            "color": "#2a3f5f"
           }
          },
          "ternary": {
           "aaxis": {
            "gridcolor": "white",
            "linecolor": "white",
            "ticks": ""
           },
           "baxis": {
            "gridcolor": "white",
            "linecolor": "white",
            "ticks": ""
           },
           "bgcolor": "#E5ECF6",
           "caxis": {
            "gridcolor": "white",
            "linecolor": "white",
            "ticks": ""
           }
          },
          "title": {
           "x": 0.05
          },
          "xaxis": {
           "automargin": true,
           "gridcolor": "white",
           "linecolor": "white",
           "ticks": "",
           "title": {
            "standoff": 15
           },
           "zerolinecolor": "white",
           "zerolinewidth": 2
          },
          "yaxis": {
           "automargin": true,
           "gridcolor": "white",
           "linecolor": "white",
           "ticks": "",
           "title": {
            "standoff": 15
           },
           "zerolinecolor": "white",
           "zerolinewidth": 2
          }
         }
        },
        "title": {
         "text": "Peak CPU (%) Distribution by Database"
        },
        "xaxis": {
         "anchor": "y",
         "categoryarray": [
          "mongodb",
          "postgres",
          "clickhouse"
         ],
         "categoryorder": "array",
         "domain": [
          0,
          1
         ],
         "title": {
          "text": "Database"
         }
        },
        "yaxis": {
         "anchor": "x",
         "domain": [
          0,
          1
         ],
         "title": {
          "text": "Peak CPU Percent (%)"
         }
        }
       }
      }
     },
     "metadata": {},
     "output_type": "display_data"
    }
   ],
   "source": [
    "fig = px.box(\n",
    "    df,\n",
    "    x=\"database\",\n",
    "    y=\"peak_cpu_percent\",\n",
    "    color=\"database\",\n",
    "    points=\"all\",\n",
    "    title=\"Peak CPU (%) Distribution by Database\"\n",
    ")\n",
    "fig.update_layout(\n",
    "    xaxis_title=\"Database\",\n",
    "    yaxis_title=\"Peak CPU Percent (%)\"\n",
    ")\n",
    "fig.show()"
   ]
  },
  {
   "cell_type": "markdown",
   "metadata": {},
   "source": [
    "### Plot6: Box‐Plot of Average Memory (MB) by Database"
   ]
  },
  {
   "cell_type": "code",
   "execution_count": 38,
   "metadata": {},
   "outputs": [
    {
     "data": {
      "application/vnd.plotly.v1+json": {
       "config": {
        "plotlyServerURL": "https://plot.ly"
       },
       "data": [
        {
         "alignmentgroup": "True",
         "boxpoints": "all",
         "hovertemplate": "database=%{x}<br>avg_mem_mb=%{y}<extra></extra>",
         "legendgroup": "mongodb",
         "marker": {
          "color": "#636efa"
         },
         "name": "mongodb",
         "notched": false,
         "offsetgroup": "mongodb",
         "orientation": "v",
         "showlegend": true,
         "type": "box",
         "x": [
          "mongodb",
          "mongodb",
          "mongodb",
          "mongodb",
          "mongodb",
          "mongodb",
          "mongodb",
          "mongodb",
          "mongodb",
          "mongodb",
          "mongodb",
          "mongodb",
          "mongodb",
          "mongodb",
          "mongodb",
          "mongodb",
          "mongodb",
          "mongodb",
          "mongodb",
          "mongodb",
          "mongodb",
          "mongodb",
          "mongodb",
          "mongodb",
          "mongodb",
          "mongodb",
          "mongodb",
          "mongodb",
          "mongodb",
          "mongodb",
          "mongodb",
          "mongodb",
          "mongodb",
          "mongodb",
          "mongodb",
          "mongodb",
          "mongodb",
          "mongodb",
          "mongodb",
          "mongodb",
          "mongodb",
          "mongodb",
          "mongodb",
          "mongodb",
          "mongodb",
          "mongodb",
          "mongodb",
          "mongodb",
          "mongodb",
          "mongodb",
          "mongodb",
          "mongodb",
          "mongodb",
          "mongodb",
          "mongodb",
          "mongodb",
          "mongodb",
          "mongodb",
          "mongodb",
          "mongodb",
          "mongodb",
          "mongodb",
          "mongodb",
          "mongodb",
          "mongodb",
          "mongodb",
          "mongodb",
          "mongodb",
          "mongodb",
          "mongodb",
          "mongodb",
          "mongodb",
          "mongodb",
          "mongodb",
          "mongodb",
          "mongodb",
          "mongodb",
          "mongodb",
          "mongodb",
          "mongodb",
          "mongodb",
          "mongodb",
          "mongodb",
          "mongodb",
          "mongodb",
          "mongodb",
          "mongodb",
          "mongodb",
          "mongodb",
          "mongodb",
          "mongodb",
          "mongodb",
          "mongodb",
          "mongodb",
          "mongodb",
          "mongodb",
          "mongodb",
          "mongodb",
          "mongodb",
          "mongodb",
          "mongodb",
          "mongodb",
          "mongodb",
          "mongodb",
          "mongodb",
          "mongodb",
          "mongodb",
          "mongodb",
          "mongodb",
          "mongodb",
          "mongodb",
          "mongodb",
          "mongodb",
          "mongodb",
          "mongodb",
          "mongodb",
          "mongodb",
          "mongodb",
          "mongodb",
          "mongodb",
          "mongodb",
          "mongodb",
          "mongodb",
          "mongodb",
          "mongodb",
          "mongodb",
          "mongodb",
          "mongodb",
          "mongodb",
          "mongodb",
          "mongodb",
          "mongodb",
          "mongodb",
          "mongodb",
          "mongodb",
          "mongodb",
          "mongodb",
          "mongodb",
          "mongodb",
          "mongodb",
          "mongodb",
          "mongodb",
          "mongodb",
          "mongodb",
          "mongodb",
          "mongodb",
          "mongodb",
          "mongodb",
          "mongodb",
          "mongodb",
          "mongodb",
          "mongodb",
          "mongodb",
          "mongodb"
         ],
         "x0": " ",
         "xaxis": "x",
         "y": [
          1896.69,
          1847.97,
          1846.12,
          2048.1,
          2077.99,
          1848.88,
          1839.6,
          1969.82,
          1765.63,
          1760.94,
          1770.16,
          1771.87,
          1871.01,
          1771.25,
          1917.79,
          1702.66,
          1701.64,
          1691.51,
          1703.96,
          1901.57,
          1697.54,
          1862.06,
          1819.48,
          1667.55,
          1667.61,
          1661.81,
          1670.93,
          1670.59,
          1616.72,
          1450.55,
          1380.67,
          1448.51,
          1463.72,
          1510.84,
          1448.32,
          1582.51,
          1594.23,
          1589.04,
          1662.29,
          1729.47,
          1592.06,
          1586.32,
          1854.15,
          1703.07,
          1690.65,
          1696.88,
          1808.48,
          1701.14,
          1702.07,
          1743.86,
          1896.61,
          1835.64,
          1734.43,
          1745.28,
          1748.25,
          1736.28,
          1770.36,
          1845.13,
          1883.96,
          1767.61,
          1769.65,
          1760.72,
          1769.66,
          1790.59,
          1857.55,
          1802.19,
          1790.07,
          1775.32,
          1952.07,
          1801.04,
          1777.09,
          1613.93,
          1616.52,
          1585.99,
          1611.7,
          1400.47,
          1605.87,
          1818.62,
          1794.41,
          1695.84,
          1699.81,
          1700.71,
          1701.9,
          1690.39,
          1795.88,
          1631.19,
          1640.79,
          1641.69,
          1636.79,
          1800.1,
          1641.78,
          1756.94,
          1709.29,
          1607.49,
          1610.76,
          1609.74,
          1611.62,
          1599.98,
          1938.08,
          1806.76,
          1871.67,
          1796.5,
          1806.01,
          1802.5,
          1808.15,
          1780.89,
          1791.06,
          1789.46,
          1764.41,
          1742.29,
          1903.91,
          1914.71,
          1750.21,
          1584.31,
          1575.54,
          1580.99,
          1582.15,
          1689.9,
          1582.99,
          1752.71,
          1631.94,
          1622.76,
          1599.4,
          1592.13,
          1595.95,
          1635.85,
          1775.8,
          1678,
          1844.74,
          1679,
          1666.63,
          1677.24,
          1676.23,
          1609.71,
          1605.8,
          1670.39,
          1777.24,
          1607.09,
          1640.65,
          1607.6,
          1551.96,
          1578.58,
          1555.1,
          1552.29,
          1735.39,
          1620.22,
          1552.19,
          1997.49,
          1862.6,
          1820.23,
          1852.35,
          1841.53,
          1852.27,
          1851.07
         ],
         "y0": " ",
         "yaxis": "y"
        },
        {
         "alignmentgroup": "True",
         "boxpoints": "all",
         "hovertemplate": "database=%{x}<br>avg_mem_mb=%{y}<extra></extra>",
         "legendgroup": "postgres",
         "marker": {
          "color": "#EF553B"
         },
         "name": "postgres",
         "notched": false,
         "offsetgroup": "postgres",
         "orientation": "v",
         "showlegend": true,
         "type": "box",
         "x": [
          "postgres",
          "postgres",
          "postgres",
          "postgres",
          "postgres",
          "postgres",
          "postgres",
          "postgres",
          "postgres",
          "postgres",
          "postgres",
          "postgres",
          "postgres",
          "postgres",
          "postgres",
          "postgres",
          "postgres",
          "postgres",
          "postgres",
          "postgres",
          "postgres",
          "postgres",
          "postgres",
          "postgres",
          "postgres",
          "postgres",
          "postgres",
          "postgres",
          "postgres",
          "postgres",
          "postgres",
          "postgres",
          "postgres",
          "postgres",
          "postgres",
          "postgres",
          "postgres",
          "postgres",
          "postgres",
          "postgres",
          "postgres",
          "postgres",
          "postgres",
          "postgres",
          "postgres",
          "postgres",
          "postgres",
          "postgres",
          "postgres",
          "postgres",
          "postgres",
          "postgres",
          "postgres",
          "postgres",
          "postgres",
          "postgres",
          "postgres",
          "postgres",
          "postgres",
          "postgres",
          "postgres",
          "postgres",
          "postgres",
          "postgres",
          "postgres",
          "postgres",
          "postgres",
          "postgres",
          "postgres",
          "postgres",
          "postgres",
          "postgres",
          "postgres",
          "postgres",
          "postgres",
          "postgres",
          "postgres",
          "postgres",
          "postgres",
          "postgres",
          "postgres",
          "postgres",
          "postgres",
          "postgres",
          "postgres",
          "postgres",
          "postgres",
          "postgres",
          "postgres",
          "postgres",
          "postgres",
          "postgres",
          "postgres",
          "postgres",
          "postgres",
          "postgres",
          "postgres",
          "postgres",
          "postgres",
          "postgres",
          "postgres",
          "postgres",
          "postgres",
          "postgres",
          "postgres",
          "postgres",
          "postgres",
          "postgres",
          "postgres",
          "postgres",
          "postgres",
          "postgres",
          "postgres",
          "postgres",
          "postgres",
          "postgres",
          "postgres",
          "postgres",
          "postgres",
          "postgres",
          "postgres",
          "postgres",
          "postgres",
          "postgres",
          "postgres",
          "postgres",
          "postgres",
          "postgres",
          "postgres",
          "postgres",
          "postgres",
          "postgres",
          "postgres",
          "postgres",
          "postgres",
          "postgres",
          "postgres",
          "postgres",
          "postgres",
          "postgres",
          "postgres",
          "postgres",
          "postgres",
          "postgres",
          "postgres",
          "postgres",
          "postgres",
          "postgres",
          "postgres",
          "postgres",
          "postgres",
          "postgres",
          "postgres",
          "postgres"
         ],
         "x0": " ",
         "xaxis": "x",
         "y": [
          817.87,
          1125.46,
          1799.98,
          0,
          1766.34,
          1705.26,
          1378.96,
          1009.18,
          1540.02,
          1362.27,
          775.77,
          1854.45,
          1659.23,
          1686.4,
          1271.71,
          1901.89,
          1913.77,
          733.22,
          0,
          0,
          1649.11,
          1624.22,
          1829.33,
          1748.1,
          1029.93,
          1489.84,
          717.44,
          1944.32,
          1572.86,
          1768.13,
          732.01,
          1308.88,
          873.43,
          1650.63,
          0,
          900.9,
          0,
          1914.9,
          1570.28,
          2253.63,
          2016.99,
          2159.84,
          2627.15,
          1262.51,
          1950.78,
          2247.07,
          2093.65,
          1707.26,
          0,
          1294.26,
          2267.49,
          2336.69,
          2085.75,
          0,
          1976.71,
          1736.77,
          2233.66,
          2587.33,
          0,
          0,
          1993.19,
          1222.2,
          2027.32,
          2212.82,
          2318.25,
          2317.83,
          2074.23,
          0,
          1966.83,
          1236.09,
          1565.42,
          2319.7,
          2211.29,
          2319.89,
          2009.51,
          1995.66,
          1230.68,
          1275.76,
          2302.81,
          1909.77,
          2052.23,
          2293.81,
          1591.12,
          2331.88,
          2348.39,
          2034.6,
          1096.73,
          1774.31,
          1976.61,
          0,
          1459.54,
          0,
          2300.9,
          2599.11,
          2079.67,
          2004.2,
          1244.96,
          1694.17,
          2608.89,
          0,
          2248.06,
          2051.71,
          0,
          1914.28,
          1250.63,
          1942.65,
          1194.33,
          2296.35,
          0,
          2050.33,
          1644.15,
          2220.7,
          2223.87,
          2223.67,
          1178.73,
          1930.15,
          0,
          2040.34,
          0,
          2022.35,
          1230.45,
          2533.07,
          2251.68,
          2063.59,
          1673.04,
          0,
          2086.44,
          0,
          2236.45,
          2330.92,
          1670.45,
          2007.78,
          1297.52,
          2315.4,
          1994.31,
          1233.11,
          1600.7,
          0,
          2599.69,
          1899.92,
          1269.58,
          1950.65,
          1675.52,
          2338,
          0,
          2095.07,
          2276.73,
          1937.9,
          1283.36,
          0,
          2115.92,
          2338.21,
          2338.7,
          2220.67
         ],
         "y0": " ",
         "yaxis": "y"
        },
        {
         "alignmentgroup": "True",
         "boxpoints": "all",
         "hovertemplate": "database=%{x}<br>avg_mem_mb=%{y}<extra></extra>",
         "legendgroup": "clickhouse",
         "marker": {
          "color": "#00cc96"
         },
         "name": "clickhouse",
         "notched": false,
         "offsetgroup": "clickhouse",
         "orientation": "v",
         "showlegend": true,
         "type": "box",
         "x": [
          "clickhouse",
          "clickhouse",
          "clickhouse",
          "clickhouse",
          "clickhouse",
          "clickhouse",
          "clickhouse",
          "clickhouse",
          "clickhouse",
          "clickhouse",
          "clickhouse",
          "clickhouse",
          "clickhouse",
          "clickhouse",
          "clickhouse",
          "clickhouse",
          "clickhouse",
          "clickhouse",
          "clickhouse",
          "clickhouse",
          "clickhouse",
          "clickhouse",
          "clickhouse",
          "clickhouse",
          "clickhouse",
          "clickhouse",
          "clickhouse",
          "clickhouse",
          "clickhouse",
          "clickhouse",
          "clickhouse",
          "clickhouse",
          "clickhouse",
          "clickhouse",
          "clickhouse",
          "clickhouse",
          "clickhouse",
          "clickhouse",
          "clickhouse",
          "clickhouse",
          "clickhouse",
          "clickhouse",
          "clickhouse",
          "clickhouse",
          "clickhouse",
          "clickhouse",
          "clickhouse",
          "clickhouse",
          "clickhouse",
          "clickhouse",
          "clickhouse",
          "clickhouse",
          "clickhouse",
          "clickhouse",
          "clickhouse",
          "clickhouse",
          "clickhouse",
          "clickhouse",
          "clickhouse",
          "clickhouse",
          "clickhouse",
          "clickhouse",
          "clickhouse",
          "clickhouse",
          "clickhouse",
          "clickhouse",
          "clickhouse",
          "clickhouse",
          "clickhouse",
          "clickhouse",
          "clickhouse",
          "clickhouse",
          "clickhouse",
          "clickhouse",
          "clickhouse",
          "clickhouse",
          "clickhouse",
          "clickhouse",
          "clickhouse",
          "clickhouse",
          "clickhouse",
          "clickhouse",
          "clickhouse",
          "clickhouse",
          "clickhouse",
          "clickhouse",
          "clickhouse",
          "clickhouse",
          "clickhouse",
          "clickhouse",
          "clickhouse",
          "clickhouse",
          "clickhouse",
          "clickhouse",
          "clickhouse",
          "clickhouse",
          "clickhouse",
          "clickhouse",
          "clickhouse",
          "clickhouse",
          "clickhouse",
          "clickhouse",
          "clickhouse",
          "clickhouse",
          "clickhouse",
          "clickhouse",
          "clickhouse",
          "clickhouse",
          "clickhouse",
          "clickhouse",
          "clickhouse",
          "clickhouse",
          "clickhouse",
          "clickhouse",
          "clickhouse",
          "clickhouse",
          "clickhouse",
          "clickhouse",
          "clickhouse",
          "clickhouse",
          "clickhouse",
          "clickhouse",
          "clickhouse",
          "clickhouse",
          "clickhouse",
          "clickhouse",
          "clickhouse",
          "clickhouse",
          "clickhouse",
          "clickhouse",
          "clickhouse",
          "clickhouse",
          "clickhouse",
          "clickhouse",
          "clickhouse",
          "clickhouse",
          "clickhouse",
          "clickhouse",
          "clickhouse",
          "clickhouse",
          "clickhouse",
          "clickhouse",
          "clickhouse",
          "clickhouse",
          "clickhouse",
          "clickhouse",
          "clickhouse"
         ],
         "x0": " ",
         "xaxis": "x",
         "y": [
          1958.08,
          1909.78,
          1918.92,
          1968.34,
          1908.25,
          1953.92,
          1932.53,
          2000.42,
          1977.6,
          1957.48,
          1987.09,
          2019.96,
          1836.3,
          1965.33,
          1846.71,
          1827.91,
          1866.3,
          1828.82,
          1890.91,
          1853.96,
          1908.29,
          1791.85,
          1722.91,
          1783.7,
          1749.46,
          1793.45,
          1746.18,
          1783.14,
          1948.84,
          1927.27,
          1944.95,
          1996.27,
          1953.67,
          1923.25,
          2010.97,
          1925.71,
          2131.46,
          2135.97,
          2109.13,
          2059.54,
          2093.44,
          2092.73,
          1835.5,
          2007.68,
          2009.48,
          1983.73,
          1988.98,
          1972.43,
          2002.22,
          1940.65,
          2106.77,
          2114.32,
          2138,
          2066.28,
          2336.73,
          2066.19,
          2164.27,
          2062.37,
          2224.16,
          2177.86,
          2226.07,
          2168.06,
          2220.56,
          2169.86,
          2208.19,
          2135.97,
          2178.24,
          2037.91,
          2150.07,
          2139.7,
          2179.79,
          2141.18,
          2055.07,
          2050.77,
          1927.27,
          2084.23,
          2109.21,
          2515.02,
          2441.2,
          2447.68,
          2389.45,
          2403.8,
          2402.18,
          2303.32,
          2127.09,
          2114.59,
          2238.61,
          2213.5,
          2110.6,
          1983.09,
          2165.15,
          2224.05,
          2250.18,
          2132.61,
          2336.11,
          2261.87,
          2236.58,
          2314.61,
          2068.17,
          1866.12,
          2002.26,
          2052.98,
          2024.26,
          1997.03,
          1982.07,
          2255.4,
          2466.37,
          2415.7,
          2340.66,
          2437.54,
          2374.16,
          2335.08,
          2531.01,
          2454.95,
          2487.68,
          2529.98,
          2487.28,
          2397.17,
          2465.05,
          2115.73,
          2251.46,
          2219.35,
          2265.27,
          2255.82,
          2229.61,
          2256.02,
          2235.79,
          2118.52,
          2316.07,
          2209.3,
          2247.86,
          2212.57,
          2317.85,
          2169.14,
          2368.71,
          2314.27,
          2362.68,
          2390.9,
          2284.74,
          2299.03,
          2343.66,
          2288.48,
          2254.61,
          2248.06,
          2407.76,
          2155.47,
          2273.75
         ],
         "y0": " ",
         "yaxis": "y"
        }
       ],
       "layout": {
        "boxmode": "overlay",
        "legend": {
         "title": {
          "text": "database"
         },
         "tracegroupgap": 0
        },
        "template": {
         "data": {
          "bar": [
           {
            "error_x": {
             "color": "#2a3f5f"
            },
            "error_y": {
             "color": "#2a3f5f"
            },
            "marker": {
             "line": {
              "color": "#E5ECF6",
              "width": 0.5
             },
             "pattern": {
              "fillmode": "overlay",
              "size": 10,
              "solidity": 0.2
             }
            },
            "type": "bar"
           }
          ],
          "barpolar": [
           {
            "marker": {
             "line": {
              "color": "#E5ECF6",
              "width": 0.5
             },
             "pattern": {
              "fillmode": "overlay",
              "size": 10,
              "solidity": 0.2
             }
            },
            "type": "barpolar"
           }
          ],
          "carpet": [
           {
            "aaxis": {
             "endlinecolor": "#2a3f5f",
             "gridcolor": "white",
             "linecolor": "white",
             "minorgridcolor": "white",
             "startlinecolor": "#2a3f5f"
            },
            "baxis": {
             "endlinecolor": "#2a3f5f",
             "gridcolor": "white",
             "linecolor": "white",
             "minorgridcolor": "white",
             "startlinecolor": "#2a3f5f"
            },
            "type": "carpet"
           }
          ],
          "choropleth": [
           {
            "colorbar": {
             "outlinewidth": 0,
             "ticks": ""
            },
            "type": "choropleth"
           }
          ],
          "contour": [
           {
            "colorbar": {
             "outlinewidth": 0,
             "ticks": ""
            },
            "colorscale": [
             [
              0,
              "#0d0887"
             ],
             [
              0.1111111111111111,
              "#46039f"
             ],
             [
              0.2222222222222222,
              "#7201a8"
             ],
             [
              0.3333333333333333,
              "#9c179e"
             ],
             [
              0.4444444444444444,
              "#bd3786"
             ],
             [
              0.5555555555555556,
              "#d8576b"
             ],
             [
              0.6666666666666666,
              "#ed7953"
             ],
             [
              0.7777777777777778,
              "#fb9f3a"
             ],
             [
              0.8888888888888888,
              "#fdca26"
             ],
             [
              1,
              "#f0f921"
             ]
            ],
            "type": "contour"
           }
          ],
          "contourcarpet": [
           {
            "colorbar": {
             "outlinewidth": 0,
             "ticks": ""
            },
            "type": "contourcarpet"
           }
          ],
          "heatmap": [
           {
            "colorbar": {
             "outlinewidth": 0,
             "ticks": ""
            },
            "colorscale": [
             [
              0,
              "#0d0887"
             ],
             [
              0.1111111111111111,
              "#46039f"
             ],
             [
              0.2222222222222222,
              "#7201a8"
             ],
             [
              0.3333333333333333,
              "#9c179e"
             ],
             [
              0.4444444444444444,
              "#bd3786"
             ],
             [
              0.5555555555555556,
              "#d8576b"
             ],
             [
              0.6666666666666666,
              "#ed7953"
             ],
             [
              0.7777777777777778,
              "#fb9f3a"
             ],
             [
              0.8888888888888888,
              "#fdca26"
             ],
             [
              1,
              "#f0f921"
             ]
            ],
            "type": "heatmap"
           }
          ],
          "heatmapgl": [
           {
            "colorbar": {
             "outlinewidth": 0,
             "ticks": ""
            },
            "colorscale": [
             [
              0,
              "#0d0887"
             ],
             [
              0.1111111111111111,
              "#46039f"
             ],
             [
              0.2222222222222222,
              "#7201a8"
             ],
             [
              0.3333333333333333,
              "#9c179e"
             ],
             [
              0.4444444444444444,
              "#bd3786"
             ],
             [
              0.5555555555555556,
              "#d8576b"
             ],
             [
              0.6666666666666666,
              "#ed7953"
             ],
             [
              0.7777777777777778,
              "#fb9f3a"
             ],
             [
              0.8888888888888888,
              "#fdca26"
             ],
             [
              1,
              "#f0f921"
             ]
            ],
            "type": "heatmapgl"
           }
          ],
          "histogram": [
           {
            "marker": {
             "pattern": {
              "fillmode": "overlay",
              "size": 10,
              "solidity": 0.2
             }
            },
            "type": "histogram"
           }
          ],
          "histogram2d": [
           {
            "colorbar": {
             "outlinewidth": 0,
             "ticks": ""
            },
            "colorscale": [
             [
              0,
              "#0d0887"
             ],
             [
              0.1111111111111111,
              "#46039f"
             ],
             [
              0.2222222222222222,
              "#7201a8"
             ],
             [
              0.3333333333333333,
              "#9c179e"
             ],
             [
              0.4444444444444444,
              "#bd3786"
             ],
             [
              0.5555555555555556,
              "#d8576b"
             ],
             [
              0.6666666666666666,
              "#ed7953"
             ],
             [
              0.7777777777777778,
              "#fb9f3a"
             ],
             [
              0.8888888888888888,
              "#fdca26"
             ],
             [
              1,
              "#f0f921"
             ]
            ],
            "type": "histogram2d"
           }
          ],
          "histogram2dcontour": [
           {
            "colorbar": {
             "outlinewidth": 0,
             "ticks": ""
            },
            "colorscale": [
             [
              0,
              "#0d0887"
             ],
             [
              0.1111111111111111,
              "#46039f"
             ],
             [
              0.2222222222222222,
              "#7201a8"
             ],
             [
              0.3333333333333333,
              "#9c179e"
             ],
             [
              0.4444444444444444,
              "#bd3786"
             ],
             [
              0.5555555555555556,
              "#d8576b"
             ],
             [
              0.6666666666666666,
              "#ed7953"
             ],
             [
              0.7777777777777778,
              "#fb9f3a"
             ],
             [
              0.8888888888888888,
              "#fdca26"
             ],
             [
              1,
              "#f0f921"
             ]
            ],
            "type": "histogram2dcontour"
           }
          ],
          "mesh3d": [
           {
            "colorbar": {
             "outlinewidth": 0,
             "ticks": ""
            },
            "type": "mesh3d"
           }
          ],
          "parcoords": [
           {
            "line": {
             "colorbar": {
              "outlinewidth": 0,
              "ticks": ""
             }
            },
            "type": "parcoords"
           }
          ],
          "pie": [
           {
            "automargin": true,
            "type": "pie"
           }
          ],
          "scatter": [
           {
            "fillpattern": {
             "fillmode": "overlay",
             "size": 10,
             "solidity": 0.2
            },
            "type": "scatter"
           }
          ],
          "scatter3d": [
           {
            "line": {
             "colorbar": {
              "outlinewidth": 0,
              "ticks": ""
             }
            },
            "marker": {
             "colorbar": {
              "outlinewidth": 0,
              "ticks": ""
             }
            },
            "type": "scatter3d"
           }
          ],
          "scattercarpet": [
           {
            "marker": {
             "colorbar": {
              "outlinewidth": 0,
              "ticks": ""
             }
            },
            "type": "scattercarpet"
           }
          ],
          "scattergeo": [
           {
            "marker": {
             "colorbar": {
              "outlinewidth": 0,
              "ticks": ""
             }
            },
            "type": "scattergeo"
           }
          ],
          "scattergl": [
           {
            "marker": {
             "colorbar": {
              "outlinewidth": 0,
              "ticks": ""
             }
            },
            "type": "scattergl"
           }
          ],
          "scattermapbox": [
           {
            "marker": {
             "colorbar": {
              "outlinewidth": 0,
              "ticks": ""
             }
            },
            "type": "scattermapbox"
           }
          ],
          "scatterpolar": [
           {
            "marker": {
             "colorbar": {
              "outlinewidth": 0,
              "ticks": ""
             }
            },
            "type": "scatterpolar"
           }
          ],
          "scatterpolargl": [
           {
            "marker": {
             "colorbar": {
              "outlinewidth": 0,
              "ticks": ""
             }
            },
            "type": "scatterpolargl"
           }
          ],
          "scatterternary": [
           {
            "marker": {
             "colorbar": {
              "outlinewidth": 0,
              "ticks": ""
             }
            },
            "type": "scatterternary"
           }
          ],
          "surface": [
           {
            "colorbar": {
             "outlinewidth": 0,
             "ticks": ""
            },
            "colorscale": [
             [
              0,
              "#0d0887"
             ],
             [
              0.1111111111111111,
              "#46039f"
             ],
             [
              0.2222222222222222,
              "#7201a8"
             ],
             [
              0.3333333333333333,
              "#9c179e"
             ],
             [
              0.4444444444444444,
              "#bd3786"
             ],
             [
              0.5555555555555556,
              "#d8576b"
             ],
             [
              0.6666666666666666,
              "#ed7953"
             ],
             [
              0.7777777777777778,
              "#fb9f3a"
             ],
             [
              0.8888888888888888,
              "#fdca26"
             ],
             [
              1,
              "#f0f921"
             ]
            ],
            "type": "surface"
           }
          ],
          "table": [
           {
            "cells": {
             "fill": {
              "color": "#EBF0F8"
             },
             "line": {
              "color": "white"
             }
            },
            "header": {
             "fill": {
              "color": "#C8D4E3"
             },
             "line": {
              "color": "white"
             }
            },
            "type": "table"
           }
          ]
         },
         "layout": {
          "annotationdefaults": {
           "arrowcolor": "#2a3f5f",
           "arrowhead": 0,
           "arrowwidth": 1
          },
          "autotypenumbers": "strict",
          "coloraxis": {
           "colorbar": {
            "outlinewidth": 0,
            "ticks": ""
           }
          },
          "colorscale": {
           "diverging": [
            [
             0,
             "#8e0152"
            ],
            [
             0.1,
             "#c51b7d"
            ],
            [
             0.2,
             "#de77ae"
            ],
            [
             0.3,
             "#f1b6da"
            ],
            [
             0.4,
             "#fde0ef"
            ],
            [
             0.5,
             "#f7f7f7"
            ],
            [
             0.6,
             "#e6f5d0"
            ],
            [
             0.7,
             "#b8e186"
            ],
            [
             0.8,
             "#7fbc41"
            ],
            [
             0.9,
             "#4d9221"
            ],
            [
             1,
             "#276419"
            ]
           ],
           "sequential": [
            [
             0,
             "#0d0887"
            ],
            [
             0.1111111111111111,
             "#46039f"
            ],
            [
             0.2222222222222222,
             "#7201a8"
            ],
            [
             0.3333333333333333,
             "#9c179e"
            ],
            [
             0.4444444444444444,
             "#bd3786"
            ],
            [
             0.5555555555555556,
             "#d8576b"
            ],
            [
             0.6666666666666666,
             "#ed7953"
            ],
            [
             0.7777777777777778,
             "#fb9f3a"
            ],
            [
             0.8888888888888888,
             "#fdca26"
            ],
            [
             1,
             "#f0f921"
            ]
           ],
           "sequentialminus": [
            [
             0,
             "#0d0887"
            ],
            [
             0.1111111111111111,
             "#46039f"
            ],
            [
             0.2222222222222222,
             "#7201a8"
            ],
            [
             0.3333333333333333,
             "#9c179e"
            ],
            [
             0.4444444444444444,
             "#bd3786"
            ],
            [
             0.5555555555555556,
             "#d8576b"
            ],
            [
             0.6666666666666666,
             "#ed7953"
            ],
            [
             0.7777777777777778,
             "#fb9f3a"
            ],
            [
             0.8888888888888888,
             "#fdca26"
            ],
            [
             1,
             "#f0f921"
            ]
           ]
          },
          "colorway": [
           "#636efa",
           "#EF553B",
           "#00cc96",
           "#ab63fa",
           "#FFA15A",
           "#19d3f3",
           "#FF6692",
           "#B6E880",
           "#FF97FF",
           "#FECB52"
          ],
          "font": {
           "color": "#2a3f5f"
          },
          "geo": {
           "bgcolor": "white",
           "lakecolor": "white",
           "landcolor": "#E5ECF6",
           "showlakes": true,
           "showland": true,
           "subunitcolor": "white"
          },
          "hoverlabel": {
           "align": "left"
          },
          "hovermode": "closest",
          "mapbox": {
           "style": "light"
          },
          "paper_bgcolor": "white",
          "plot_bgcolor": "#E5ECF6",
          "polar": {
           "angularaxis": {
            "gridcolor": "white",
            "linecolor": "white",
            "ticks": ""
           },
           "bgcolor": "#E5ECF6",
           "radialaxis": {
            "gridcolor": "white",
            "linecolor": "white",
            "ticks": ""
           }
          },
          "scene": {
           "xaxis": {
            "backgroundcolor": "#E5ECF6",
            "gridcolor": "white",
            "gridwidth": 2,
            "linecolor": "white",
            "showbackground": true,
            "ticks": "",
            "zerolinecolor": "white"
           },
           "yaxis": {
            "backgroundcolor": "#E5ECF6",
            "gridcolor": "white",
            "gridwidth": 2,
            "linecolor": "white",
            "showbackground": true,
            "ticks": "",
            "zerolinecolor": "white"
           },
           "zaxis": {
            "backgroundcolor": "#E5ECF6",
            "gridcolor": "white",
            "gridwidth": 2,
            "linecolor": "white",
            "showbackground": true,
            "ticks": "",
            "zerolinecolor": "white"
           }
          },
          "shapedefaults": {
           "line": {
            "color": "#2a3f5f"
           }
          },
          "ternary": {
           "aaxis": {
            "gridcolor": "white",
            "linecolor": "white",
            "ticks": ""
           },
           "baxis": {
            "gridcolor": "white",
            "linecolor": "white",
            "ticks": ""
           },
           "bgcolor": "#E5ECF6",
           "caxis": {
            "gridcolor": "white",
            "linecolor": "white",
            "ticks": ""
           }
          },
          "title": {
           "x": 0.05
          },
          "xaxis": {
           "automargin": true,
           "gridcolor": "white",
           "linecolor": "white",
           "ticks": "",
           "title": {
            "standoff": 15
           },
           "zerolinecolor": "white",
           "zerolinewidth": 2
          },
          "yaxis": {
           "automargin": true,
           "gridcolor": "white",
           "linecolor": "white",
           "ticks": "",
           "title": {
            "standoff": 15
           },
           "zerolinecolor": "white",
           "zerolinewidth": 2
          }
         }
        },
        "title": {
         "text": "Average Memory Usage (MB) by Database"
        },
        "xaxis": {
         "anchor": "y",
         "categoryarray": [
          "mongodb",
          "postgres",
          "clickhouse"
         ],
         "categoryorder": "array",
         "domain": [
          0,
          1
         ],
         "title": {
          "text": "Database"
         }
        },
        "yaxis": {
         "anchor": "x",
         "domain": [
          0,
          1
         ],
         "title": {
          "text": "Average Memory (MB)"
         }
        }
       }
      }
     },
     "metadata": {},
     "output_type": "display_data"
    }
   ],
   "source": [
    "fig = px.box(\n",
    "    df,\n",
    "    x=\"database\",\n",
    "    y=\"avg_mem_mb\",\n",
    "    color=\"database\",\n",
    "    points=\"all\",\n",
    "    title=\"Average Memory Usage (MB) by Database\"\n",
    ")\n",
    "fig.update_layout(\n",
    "    xaxis_title=\"Database\",\n",
    "    yaxis_title=\"Average Memory (MB)\"\n",
    ")\n",
    "fig.show()"
   ]
  }
 ],
 "metadata": {
  "kernelspec": {
   "display_name": ".venv",
   "language": "python",
   "name": "python3"
  },
  "language_info": {
   "codemirror_mode": {
    "name": "ipython",
    "version": 3
   },
   "file_extension": ".py",
   "mimetype": "text/x-python",
   "name": "python",
   "nbconvert_exporter": "python",
   "pygments_lexer": "ipython3",
   "version": "3.11.3"
  }
 },
 "nbformat": 4,
 "nbformat_minor": 2
}
